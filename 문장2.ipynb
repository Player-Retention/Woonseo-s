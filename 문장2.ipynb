{
 "cells": [
  {
   "cell_type": "markdown",
   "metadata": {},
   "source": [
    "# 1. (문장 단위)전처리"
   ]
  },
  {
   "cell_type": "code",
   "execution_count": 22,
   "metadata": {},
   "outputs": [
    {
     "name": "stdout",
     "output_type": "stream",
     "text": [
      "                                            sentence  \\\n",
      "0  Dealing 5 billion damage to a 100 health point...   \n",
      "1                               Welcome to Warframe.   \n",
      "2  Play the same mission 231 times for the peepee...   \n",
      "3  The best part of this game is figuring out wha...   \n",
      "4  I hope you guys from The First Descendant, Des...   \n",
      "\n",
      "                                    cleaned_sentence  \n",
      "0  dealing  billion damage to a  health points en...  \n",
      "1                                welcome to warframe  \n",
      "2  play the same mission  times for the peepeepoo...  \n",
      "3  the best part of this game is figuring out wha...  \n",
      "4  i hope you guys from the first descendant dest...  \n"
     ]
    }
   ],
   "source": [
    "import pandas as pd\n",
    "from nltk.tokenize import sent_tokenize\n",
    "import nltk\n",
    "import re\n",
    "\n",
    "# nltk.download('punkt')\n",
    "\n",
    "# 문장 단위 토큰화 함수\n",
    "def split_into_sentences(text):\n",
    "    if not isinstance(text, str):  # 문자열이 아닌 경우 빈 문자열 반환\n",
    "        return []\n",
    "    return sent_tokenize(text)\n",
    "\n",
    "def preprocess_sentence(sentence):\n",
    "    if not isinstance(sentence, str):  # 문자열이 아닌 경우 빈 문자열 반환\n",
    "        return \"\"\n",
    "    sentence = sentence.lower()  # 소문자 변환\n",
    "    sentence = re.sub(r'[^a-zA-Z\\s]', '', sentence)  # 특수문자 제거\n",
    "    return sentence.strip()\n",
    "\n",
    "# CSV 파일 로드\n",
    "df = pd.read_csv('Warframe_reviews.csv')\n",
    "\n",
    "# NaN 값을 빈 문자열로 대체 후 문자열 타입 변환\n",
    "df['review_text'] = df['review_text'].fillna('').astype(str)\n",
    "\n",
    "# 문장 단위로 분리\n",
    "df['sentences'] = df['review_text'].apply(split_into_sentences)\n",
    "\n",
    "# 문장 단위 데이터 펼치기\n",
    "sentence_df = df.explode('sentences').reset_index(drop=True)\n",
    "sentence_df.rename(columns={'sentences': 'sentence'}, inplace=True)\n",
    "\n",
    "# 전처리 적용\n",
    "sentence_df['cleaned_sentence'] = sentence_df['sentence'].apply(preprocess_sentence)\n",
    "\n",
    "# 결과 확인\n",
    "print(sentence_df[['sentence', 'cleaned_sentence']].head())\n"
   ]
  },
  {
   "cell_type": "markdown",
   "metadata": {},
   "source": [
    "# 2. 임베딩"
   ]
  },
  {
   "cell_type": "code",
   "execution_count": 23,
   "metadata": {},
   "outputs": [
    {
     "name": "stderr",
     "output_type": "stream",
     "text": [
      "Batches:   0%|          | 0/1 [00:05<?, ?it/s]\n"
     ]
    },
    {
     "ename": "KeyboardInterrupt",
     "evalue": "",
     "output_type": "error",
     "traceback": [
      "\u001b[1;31m---------------------------------------------------------------------------\u001b[0m",
      "\u001b[1;31mKeyboardInterrupt\u001b[0m                         Traceback (most recent call last)",
      "Cell \u001b[1;32mIn[23], line 23\u001b[0m\n\u001b[0;32m     20\u001b[0m     \u001b[38;5;28;01mreturn\u001b[39;00m np\u001b[38;5;241m.\u001b[39mvstack(all_embeddings)\n\u001b[0;32m     22\u001b[0m \u001b[38;5;66;03m# 문장 데이터 임베딩\u001b[39;00m\n\u001b[1;32m---> 23\u001b[0m embeddings \u001b[38;5;241m=\u001b[39m \u001b[43mget_embeddings_in_batches\u001b[49m\u001b[43m(\u001b[49m\u001b[43msentence_df\u001b[49m\u001b[43m[\u001b[49m\u001b[38;5;124;43m'\u001b[39;49m\u001b[38;5;124;43mcleaned_sentence\u001b[39;49m\u001b[38;5;124;43m'\u001b[39;49m\u001b[43m]\u001b[49m\u001b[38;5;241;43m.\u001b[39;49m\u001b[43mtolist\u001b[49m\u001b[43m(\u001b[49m\u001b[43m)\u001b[49m\u001b[43m,\u001b[49m\u001b[43m \u001b[49m\u001b[43mmodel\u001b[49m\u001b[43m,\u001b[49m\u001b[43m \u001b[49m\u001b[43mbatch_size\u001b[49m\u001b[38;5;241;43m=\u001b[39;49m\u001b[38;5;241;43m16\u001b[39;49m\u001b[43m)\u001b[49m\n\u001b[0;32m     25\u001b[0m \u001b[38;5;66;03m# 임베딩 추가\u001b[39;00m\n\u001b[0;32m     26\u001b[0m sentence_df[\u001b[38;5;124m'\u001b[39m\u001b[38;5;124membedding\u001b[39m\u001b[38;5;124m'\u001b[39m] \u001b[38;5;241m=\u001b[39m \u001b[38;5;28mlist\u001b[39m(embeddings)\n",
      "Cell \u001b[1;32mIn[23], line 13\u001b[0m, in \u001b[0;36mget_embeddings_in_batches\u001b[1;34m(texts, model, batch_size)\u001b[0m\n\u001b[0;32m     11\u001b[0m \u001b[38;5;28;01mfor\u001b[39;00m i \u001b[38;5;129;01min\u001b[39;00m \u001b[38;5;28mrange\u001b[39m(\u001b[38;5;241m0\u001b[39m, \u001b[38;5;28mlen\u001b[39m(texts), batch_size):\n\u001b[0;32m     12\u001b[0m     batch_texts \u001b[38;5;241m=\u001b[39m texts[i:i\u001b[38;5;241m+\u001b[39mbatch_size]\n\u001b[1;32m---> 13\u001b[0m     embeddings \u001b[38;5;241m=\u001b[39m \u001b[43mmodel\u001b[49m\u001b[38;5;241;43m.\u001b[39;49m\u001b[43mencode\u001b[49m\u001b[43m(\u001b[49m\n\u001b[0;32m     14\u001b[0m \u001b[43m        \u001b[49m\u001b[43mbatch_texts\u001b[49m\u001b[43m,\u001b[49m\n\u001b[0;32m     15\u001b[0m \u001b[43m        \u001b[49m\u001b[43mbatch_size\u001b[49m\u001b[38;5;241;43m=\u001b[39;49m\u001b[43mbatch_size\u001b[49m\u001b[43m,\u001b[49m\n\u001b[0;32m     16\u001b[0m \u001b[43m        \u001b[49m\u001b[43mconvert_to_numpy\u001b[49m\u001b[38;5;241;43m=\u001b[39;49m\u001b[38;5;28;43;01mTrue\u001b[39;49;00m\u001b[43m,\u001b[49m\u001b[43m  \u001b[49m\u001b[38;5;66;43;03m# NumPy 배열로 반환\u001b[39;49;00m\n\u001b[0;32m     17\u001b[0m \u001b[43m        \u001b[49m\u001b[43mshow_progress_bar\u001b[49m\u001b[38;5;241;43m=\u001b[39;49m\u001b[38;5;28;43;01mTrue\u001b[39;49;00m\u001b[43m  \u001b[49m\u001b[38;5;66;43;03m# 진행 상태 표시\u001b[39;49;00m\n\u001b[0;32m     18\u001b[0m \u001b[43m    \u001b[49m\u001b[43m)\u001b[49m\n\u001b[0;32m     19\u001b[0m     all_embeddings\u001b[38;5;241m.\u001b[39mappend(embeddings)\n\u001b[0;32m     20\u001b[0m \u001b[38;5;28;01mreturn\u001b[39;00m np\u001b[38;5;241m.\u001b[39mvstack(all_embeddings)\n",
      "File \u001b[1;32md:\\Anaconda\\envs\\sesac\\lib\\site-packages\\sentence_transformers\\SentenceTransformer.py:623\u001b[0m, in \u001b[0;36mSentenceTransformer.encode\u001b[1;34m(self, sentences, prompt_name, prompt, batch_size, show_progress_bar, output_value, precision, convert_to_numpy, convert_to_tensor, device, normalize_embeddings, **kwargs)\u001b[0m\n\u001b[0;32m    620\u001b[0m features\u001b[38;5;241m.\u001b[39mupdate(extra_features)\n\u001b[0;32m    622\u001b[0m \u001b[38;5;28;01mwith\u001b[39;00m torch\u001b[38;5;241m.\u001b[39mno_grad():\n\u001b[1;32m--> 623\u001b[0m     out_features \u001b[38;5;241m=\u001b[39m \u001b[38;5;28mself\u001b[39m\u001b[38;5;241m.\u001b[39mforward(features, \u001b[38;5;241m*\u001b[39m\u001b[38;5;241m*\u001b[39mkwargs)\n\u001b[0;32m    624\u001b[0m     \u001b[38;5;28;01mif\u001b[39;00m \u001b[38;5;28mself\u001b[39m\u001b[38;5;241m.\u001b[39mdevice\u001b[38;5;241m.\u001b[39mtype \u001b[38;5;241m==\u001b[39m \u001b[38;5;124m\"\u001b[39m\u001b[38;5;124mhpu\u001b[39m\u001b[38;5;124m\"\u001b[39m:\n\u001b[0;32m    625\u001b[0m         out_features \u001b[38;5;241m=\u001b[39m copy\u001b[38;5;241m.\u001b[39mdeepcopy(out_features)\n",
      "File \u001b[1;32md:\\Anaconda\\envs\\sesac\\lib\\site-packages\\sentence_transformers\\SentenceTransformer.py:690\u001b[0m, in \u001b[0;36mSentenceTransformer.forward\u001b[1;34m(self, input, **kwargs)\u001b[0m\n\u001b[0;32m    688\u001b[0m     module_kwarg_keys \u001b[38;5;241m=\u001b[39m \u001b[38;5;28mself\u001b[39m\u001b[38;5;241m.\u001b[39mmodule_kwargs\u001b[38;5;241m.\u001b[39mget(module_name, [])\n\u001b[0;32m    689\u001b[0m     module_kwargs \u001b[38;5;241m=\u001b[39m {key: value \u001b[38;5;28;01mfor\u001b[39;00m key, value \u001b[38;5;129;01min\u001b[39;00m kwargs\u001b[38;5;241m.\u001b[39mitems() \u001b[38;5;28;01mif\u001b[39;00m key \u001b[38;5;129;01min\u001b[39;00m module_kwarg_keys}\n\u001b[1;32m--> 690\u001b[0m     \u001b[38;5;28minput\u001b[39m \u001b[38;5;241m=\u001b[39m module(\u001b[38;5;28minput\u001b[39m, \u001b[38;5;241m*\u001b[39m\u001b[38;5;241m*\u001b[39mmodule_kwargs)\n\u001b[0;32m    691\u001b[0m \u001b[38;5;28;01mreturn\u001b[39;00m \u001b[38;5;28minput\u001b[39m\n",
      "File \u001b[1;32md:\\Anaconda\\envs\\sesac\\lib\\site-packages\\torch\\nn\\modules\\module.py:1736\u001b[0m, in \u001b[0;36mModule._wrapped_call_impl\u001b[1;34m(self, *args, **kwargs)\u001b[0m\n\u001b[0;32m   1734\u001b[0m     \u001b[38;5;28;01mreturn\u001b[39;00m \u001b[38;5;28mself\u001b[39m\u001b[38;5;241m.\u001b[39m_compiled_call_impl(\u001b[38;5;241m*\u001b[39margs, \u001b[38;5;241m*\u001b[39m\u001b[38;5;241m*\u001b[39mkwargs)  \u001b[38;5;66;03m# type: ignore[misc]\u001b[39;00m\n\u001b[0;32m   1735\u001b[0m \u001b[38;5;28;01melse\u001b[39;00m:\n\u001b[1;32m-> 1736\u001b[0m     \u001b[38;5;28;01mreturn\u001b[39;00m \u001b[38;5;28mself\u001b[39m\u001b[38;5;241m.\u001b[39m_call_impl(\u001b[38;5;241m*\u001b[39margs, \u001b[38;5;241m*\u001b[39m\u001b[38;5;241m*\u001b[39mkwargs)\n",
      "File \u001b[1;32md:\\Anaconda\\envs\\sesac\\lib\\site-packages\\torch\\nn\\modules\\module.py:1747\u001b[0m, in \u001b[0;36mModule._call_impl\u001b[1;34m(self, *args, **kwargs)\u001b[0m\n\u001b[0;32m   1742\u001b[0m \u001b[38;5;66;03m# If we don't have any hooks, we want to skip the rest of the logic in\u001b[39;00m\n\u001b[0;32m   1743\u001b[0m \u001b[38;5;66;03m# this function, and just call forward.\u001b[39;00m\n\u001b[0;32m   1744\u001b[0m \u001b[38;5;28;01mif\u001b[39;00m \u001b[38;5;129;01mnot\u001b[39;00m (\u001b[38;5;28mself\u001b[39m\u001b[38;5;241m.\u001b[39m_backward_hooks \u001b[38;5;129;01mor\u001b[39;00m \u001b[38;5;28mself\u001b[39m\u001b[38;5;241m.\u001b[39m_backward_pre_hooks \u001b[38;5;129;01mor\u001b[39;00m \u001b[38;5;28mself\u001b[39m\u001b[38;5;241m.\u001b[39m_forward_hooks \u001b[38;5;129;01mor\u001b[39;00m \u001b[38;5;28mself\u001b[39m\u001b[38;5;241m.\u001b[39m_forward_pre_hooks\n\u001b[0;32m   1745\u001b[0m         \u001b[38;5;129;01mor\u001b[39;00m _global_backward_pre_hooks \u001b[38;5;129;01mor\u001b[39;00m _global_backward_hooks\n\u001b[0;32m   1746\u001b[0m         \u001b[38;5;129;01mor\u001b[39;00m _global_forward_hooks \u001b[38;5;129;01mor\u001b[39;00m _global_forward_pre_hooks):\n\u001b[1;32m-> 1747\u001b[0m     \u001b[38;5;28;01mreturn\u001b[39;00m forward_call(\u001b[38;5;241m*\u001b[39margs, \u001b[38;5;241m*\u001b[39m\u001b[38;5;241m*\u001b[39mkwargs)\n\u001b[0;32m   1749\u001b[0m result \u001b[38;5;241m=\u001b[39m \u001b[38;5;28;01mNone\u001b[39;00m\n\u001b[0;32m   1750\u001b[0m called_always_called_hooks \u001b[38;5;241m=\u001b[39m \u001b[38;5;28mset\u001b[39m()\n",
      "File \u001b[1;32md:\\Anaconda\\envs\\sesac\\lib\\site-packages\\sentence_transformers\\models\\Transformer.py:442\u001b[0m, in \u001b[0;36mTransformer.forward\u001b[1;34m(self, features, **kwargs)\u001b[0m\n\u001b[0;32m    435\u001b[0m \u001b[38;5;250m\u001b[39m\u001b[38;5;124;03m\"\"\"Returns token_embeddings, cls_token\"\"\"\u001b[39;00m\n\u001b[0;32m    436\u001b[0m trans_features \u001b[38;5;241m=\u001b[39m {\n\u001b[0;32m    437\u001b[0m     key: value\n\u001b[0;32m    438\u001b[0m     \u001b[38;5;28;01mfor\u001b[39;00m key, value \u001b[38;5;129;01min\u001b[39;00m features\u001b[38;5;241m.\u001b[39mitems()\n\u001b[0;32m    439\u001b[0m     \u001b[38;5;28;01mif\u001b[39;00m key \u001b[38;5;129;01min\u001b[39;00m [\u001b[38;5;124m\"\u001b[39m\u001b[38;5;124minput_ids\u001b[39m\u001b[38;5;124m\"\u001b[39m, \u001b[38;5;124m\"\u001b[39m\u001b[38;5;124mattention_mask\u001b[39m\u001b[38;5;124m\"\u001b[39m, \u001b[38;5;124m\"\u001b[39m\u001b[38;5;124mtoken_type_ids\u001b[39m\u001b[38;5;124m\"\u001b[39m, \u001b[38;5;124m\"\u001b[39m\u001b[38;5;124minputs_embeds\u001b[39m\u001b[38;5;124m\"\u001b[39m]\n\u001b[0;32m    440\u001b[0m }\n\u001b[1;32m--> 442\u001b[0m output_states \u001b[38;5;241m=\u001b[39m \u001b[38;5;28mself\u001b[39m\u001b[38;5;241m.\u001b[39mauto_model(\u001b[38;5;241m*\u001b[39m\u001b[38;5;241m*\u001b[39mtrans_features, \u001b[38;5;241m*\u001b[39m\u001b[38;5;241m*\u001b[39mkwargs, return_dict\u001b[38;5;241m=\u001b[39m\u001b[38;5;28;01mFalse\u001b[39;00m)\n\u001b[0;32m    443\u001b[0m output_tokens \u001b[38;5;241m=\u001b[39m output_states[\u001b[38;5;241m0\u001b[39m]\n\u001b[0;32m    445\u001b[0m \u001b[38;5;66;03m# If the AutoModel is wrapped with a PeftModelForFeatureExtraction, then it may have added virtual tokens\u001b[39;00m\n\u001b[0;32m    446\u001b[0m \u001b[38;5;66;03m# We need to extend the attention mask to include these virtual tokens, or the pooling will fail\u001b[39;00m\n",
      "File \u001b[1;32md:\\Anaconda\\envs\\sesac\\lib\\site-packages\\torch\\nn\\modules\\module.py:1736\u001b[0m, in \u001b[0;36mModule._wrapped_call_impl\u001b[1;34m(self, *args, **kwargs)\u001b[0m\n\u001b[0;32m   1734\u001b[0m     \u001b[38;5;28;01mreturn\u001b[39;00m \u001b[38;5;28mself\u001b[39m\u001b[38;5;241m.\u001b[39m_compiled_call_impl(\u001b[38;5;241m*\u001b[39margs, \u001b[38;5;241m*\u001b[39m\u001b[38;5;241m*\u001b[39mkwargs)  \u001b[38;5;66;03m# type: ignore[misc]\u001b[39;00m\n\u001b[0;32m   1735\u001b[0m \u001b[38;5;28;01melse\u001b[39;00m:\n\u001b[1;32m-> 1736\u001b[0m     \u001b[38;5;28;01mreturn\u001b[39;00m \u001b[38;5;28mself\u001b[39m\u001b[38;5;241m.\u001b[39m_call_impl(\u001b[38;5;241m*\u001b[39margs, \u001b[38;5;241m*\u001b[39m\u001b[38;5;241m*\u001b[39mkwargs)\n",
      "File \u001b[1;32md:\\Anaconda\\envs\\sesac\\lib\\site-packages\\torch\\nn\\modules\\module.py:1747\u001b[0m, in \u001b[0;36mModule._call_impl\u001b[1;34m(self, *args, **kwargs)\u001b[0m\n\u001b[0;32m   1742\u001b[0m \u001b[38;5;66;03m# If we don't have any hooks, we want to skip the rest of the logic in\u001b[39;00m\n\u001b[0;32m   1743\u001b[0m \u001b[38;5;66;03m# this function, and just call forward.\u001b[39;00m\n\u001b[0;32m   1744\u001b[0m \u001b[38;5;28;01mif\u001b[39;00m \u001b[38;5;129;01mnot\u001b[39;00m (\u001b[38;5;28mself\u001b[39m\u001b[38;5;241m.\u001b[39m_backward_hooks \u001b[38;5;129;01mor\u001b[39;00m \u001b[38;5;28mself\u001b[39m\u001b[38;5;241m.\u001b[39m_backward_pre_hooks \u001b[38;5;129;01mor\u001b[39;00m \u001b[38;5;28mself\u001b[39m\u001b[38;5;241m.\u001b[39m_forward_hooks \u001b[38;5;129;01mor\u001b[39;00m \u001b[38;5;28mself\u001b[39m\u001b[38;5;241m.\u001b[39m_forward_pre_hooks\n\u001b[0;32m   1745\u001b[0m         \u001b[38;5;129;01mor\u001b[39;00m _global_backward_pre_hooks \u001b[38;5;129;01mor\u001b[39;00m _global_backward_hooks\n\u001b[0;32m   1746\u001b[0m         \u001b[38;5;129;01mor\u001b[39;00m _global_forward_hooks \u001b[38;5;129;01mor\u001b[39;00m _global_forward_pre_hooks):\n\u001b[1;32m-> 1747\u001b[0m     \u001b[38;5;28;01mreturn\u001b[39;00m forward_call(\u001b[38;5;241m*\u001b[39margs, \u001b[38;5;241m*\u001b[39m\u001b[38;5;241m*\u001b[39mkwargs)\n\u001b[0;32m   1749\u001b[0m result \u001b[38;5;241m=\u001b[39m \u001b[38;5;28;01mNone\u001b[39;00m\n\u001b[0;32m   1750\u001b[0m called_always_called_hooks \u001b[38;5;241m=\u001b[39m \u001b[38;5;28mset\u001b[39m()\n",
      "File \u001b[1;32md:\\Anaconda\\envs\\sesac\\lib\\site-packages\\transformers\\models\\xlm_roberta\\modeling_xlm_roberta.py:977\u001b[0m, in \u001b[0;36mXLMRobertaModel.forward\u001b[1;34m(self, input_ids, attention_mask, token_type_ids, position_ids, head_mask, inputs_embeds, encoder_hidden_states, encoder_attention_mask, past_key_values, use_cache, output_attentions, output_hidden_states, return_dict)\u001b[0m\n\u001b[0;32m    970\u001b[0m \u001b[38;5;66;03m# Prepare head mask if needed\u001b[39;00m\n\u001b[0;32m    971\u001b[0m \u001b[38;5;66;03m# 1.0 in head_mask indicate we keep the head\u001b[39;00m\n\u001b[0;32m    972\u001b[0m \u001b[38;5;66;03m# attention_probs has shape bsz x n_heads x N x N\u001b[39;00m\n\u001b[0;32m    973\u001b[0m \u001b[38;5;66;03m# input head_mask has shape [num_heads] or [num_hidden_layers x num_heads]\u001b[39;00m\n\u001b[0;32m    974\u001b[0m \u001b[38;5;66;03m# and head_mask is converted to shape [num_hidden_layers x batch x num_heads x seq_length x seq_length]\u001b[39;00m\n\u001b[0;32m    975\u001b[0m head_mask \u001b[38;5;241m=\u001b[39m \u001b[38;5;28mself\u001b[39m\u001b[38;5;241m.\u001b[39mget_head_mask(head_mask, \u001b[38;5;28mself\u001b[39m\u001b[38;5;241m.\u001b[39mconfig\u001b[38;5;241m.\u001b[39mnum_hidden_layers)\n\u001b[1;32m--> 977\u001b[0m encoder_outputs \u001b[38;5;241m=\u001b[39m \u001b[38;5;28;43mself\u001b[39;49m\u001b[38;5;241;43m.\u001b[39;49m\u001b[43mencoder\u001b[49m\u001b[43m(\u001b[49m\n\u001b[0;32m    978\u001b[0m \u001b[43m    \u001b[49m\u001b[43membedding_output\u001b[49m\u001b[43m,\u001b[49m\n\u001b[0;32m    979\u001b[0m \u001b[43m    \u001b[49m\u001b[43mattention_mask\u001b[49m\u001b[38;5;241;43m=\u001b[39;49m\u001b[43mextended_attention_mask\u001b[49m\u001b[43m,\u001b[49m\n\u001b[0;32m    980\u001b[0m \u001b[43m    \u001b[49m\u001b[43mhead_mask\u001b[49m\u001b[38;5;241;43m=\u001b[39;49m\u001b[43mhead_mask\u001b[49m\u001b[43m,\u001b[49m\n\u001b[0;32m    981\u001b[0m \u001b[43m    \u001b[49m\u001b[43mencoder_hidden_states\u001b[49m\u001b[38;5;241;43m=\u001b[39;49m\u001b[43mencoder_hidden_states\u001b[49m\u001b[43m,\u001b[49m\n\u001b[0;32m    982\u001b[0m \u001b[43m    \u001b[49m\u001b[43mencoder_attention_mask\u001b[49m\u001b[38;5;241;43m=\u001b[39;49m\u001b[43mencoder_extended_attention_mask\u001b[49m\u001b[43m,\u001b[49m\n\u001b[0;32m    983\u001b[0m \u001b[43m    \u001b[49m\u001b[43mpast_key_values\u001b[49m\u001b[38;5;241;43m=\u001b[39;49m\u001b[43mpast_key_values\u001b[49m\u001b[43m,\u001b[49m\n\u001b[0;32m    984\u001b[0m \u001b[43m    \u001b[49m\u001b[43muse_cache\u001b[49m\u001b[38;5;241;43m=\u001b[39;49m\u001b[43muse_cache\u001b[49m\u001b[43m,\u001b[49m\n\u001b[0;32m    985\u001b[0m \u001b[43m    \u001b[49m\u001b[43moutput_attentions\u001b[49m\u001b[38;5;241;43m=\u001b[39;49m\u001b[43moutput_attentions\u001b[49m\u001b[43m,\u001b[49m\n\u001b[0;32m    986\u001b[0m \u001b[43m    \u001b[49m\u001b[43moutput_hidden_states\u001b[49m\u001b[38;5;241;43m=\u001b[39;49m\u001b[43moutput_hidden_states\u001b[49m\u001b[43m,\u001b[49m\n\u001b[0;32m    987\u001b[0m \u001b[43m    \u001b[49m\u001b[43mreturn_dict\u001b[49m\u001b[38;5;241;43m=\u001b[39;49m\u001b[43mreturn_dict\u001b[49m\u001b[43m,\u001b[49m\n\u001b[0;32m    988\u001b[0m \u001b[43m\u001b[49m\u001b[43m)\u001b[49m\n\u001b[0;32m    989\u001b[0m sequence_output \u001b[38;5;241m=\u001b[39m encoder_outputs[\u001b[38;5;241m0\u001b[39m]\n\u001b[0;32m    990\u001b[0m pooled_output \u001b[38;5;241m=\u001b[39m \u001b[38;5;28mself\u001b[39m\u001b[38;5;241m.\u001b[39mpooler(sequence_output) \u001b[38;5;28;01mif\u001b[39;00m \u001b[38;5;28mself\u001b[39m\u001b[38;5;241m.\u001b[39mpooler \u001b[38;5;129;01mis\u001b[39;00m \u001b[38;5;129;01mnot\u001b[39;00m \u001b[38;5;28;01mNone\u001b[39;00m \u001b[38;5;28;01melse\u001b[39;00m \u001b[38;5;28;01mNone\u001b[39;00m\n",
      "File \u001b[1;32md:\\Anaconda\\envs\\sesac\\lib\\site-packages\\torch\\nn\\modules\\module.py:1736\u001b[0m, in \u001b[0;36mModule._wrapped_call_impl\u001b[1;34m(self, *args, **kwargs)\u001b[0m\n\u001b[0;32m   1734\u001b[0m     \u001b[38;5;28;01mreturn\u001b[39;00m \u001b[38;5;28mself\u001b[39m\u001b[38;5;241m.\u001b[39m_compiled_call_impl(\u001b[38;5;241m*\u001b[39margs, \u001b[38;5;241m*\u001b[39m\u001b[38;5;241m*\u001b[39mkwargs)  \u001b[38;5;66;03m# type: ignore[misc]\u001b[39;00m\n\u001b[0;32m   1735\u001b[0m \u001b[38;5;28;01melse\u001b[39;00m:\n\u001b[1;32m-> 1736\u001b[0m     \u001b[38;5;28;01mreturn\u001b[39;00m \u001b[38;5;28mself\u001b[39m\u001b[38;5;241m.\u001b[39m_call_impl(\u001b[38;5;241m*\u001b[39margs, \u001b[38;5;241m*\u001b[39m\u001b[38;5;241m*\u001b[39mkwargs)\n",
      "File \u001b[1;32md:\\Anaconda\\envs\\sesac\\lib\\site-packages\\torch\\nn\\modules\\module.py:1747\u001b[0m, in \u001b[0;36mModule._call_impl\u001b[1;34m(self, *args, **kwargs)\u001b[0m\n\u001b[0;32m   1742\u001b[0m \u001b[38;5;66;03m# If we don't have any hooks, we want to skip the rest of the logic in\u001b[39;00m\n\u001b[0;32m   1743\u001b[0m \u001b[38;5;66;03m# this function, and just call forward.\u001b[39;00m\n\u001b[0;32m   1744\u001b[0m \u001b[38;5;28;01mif\u001b[39;00m \u001b[38;5;129;01mnot\u001b[39;00m (\u001b[38;5;28mself\u001b[39m\u001b[38;5;241m.\u001b[39m_backward_hooks \u001b[38;5;129;01mor\u001b[39;00m \u001b[38;5;28mself\u001b[39m\u001b[38;5;241m.\u001b[39m_backward_pre_hooks \u001b[38;5;129;01mor\u001b[39;00m \u001b[38;5;28mself\u001b[39m\u001b[38;5;241m.\u001b[39m_forward_hooks \u001b[38;5;129;01mor\u001b[39;00m \u001b[38;5;28mself\u001b[39m\u001b[38;5;241m.\u001b[39m_forward_pre_hooks\n\u001b[0;32m   1745\u001b[0m         \u001b[38;5;129;01mor\u001b[39;00m _global_backward_pre_hooks \u001b[38;5;129;01mor\u001b[39;00m _global_backward_hooks\n\u001b[0;32m   1746\u001b[0m         \u001b[38;5;129;01mor\u001b[39;00m _global_forward_hooks \u001b[38;5;129;01mor\u001b[39;00m _global_forward_pre_hooks):\n\u001b[1;32m-> 1747\u001b[0m     \u001b[38;5;28;01mreturn\u001b[39;00m forward_call(\u001b[38;5;241m*\u001b[39margs, \u001b[38;5;241m*\u001b[39m\u001b[38;5;241m*\u001b[39mkwargs)\n\u001b[0;32m   1749\u001b[0m result \u001b[38;5;241m=\u001b[39m \u001b[38;5;28;01mNone\u001b[39;00m\n\u001b[0;32m   1750\u001b[0m called_always_called_hooks \u001b[38;5;241m=\u001b[39m \u001b[38;5;28mset\u001b[39m()\n",
      "File \u001b[1;32md:\\Anaconda\\envs\\sesac\\lib\\site-packages\\transformers\\models\\xlm_roberta\\modeling_xlm_roberta.py:632\u001b[0m, in \u001b[0;36mXLMRobertaEncoder.forward\u001b[1;34m(self, hidden_states, attention_mask, head_mask, encoder_hidden_states, encoder_attention_mask, past_key_values, use_cache, output_attentions, output_hidden_states, return_dict)\u001b[0m\n\u001b[0;32m    621\u001b[0m     layer_outputs \u001b[38;5;241m=\u001b[39m \u001b[38;5;28mself\u001b[39m\u001b[38;5;241m.\u001b[39m_gradient_checkpointing_func(\n\u001b[0;32m    622\u001b[0m         layer_module\u001b[38;5;241m.\u001b[39m\u001b[38;5;21m__call__\u001b[39m,\n\u001b[0;32m    623\u001b[0m         hidden_states,\n\u001b[1;32m   (...)\u001b[0m\n\u001b[0;32m    629\u001b[0m         output_attentions,\n\u001b[0;32m    630\u001b[0m     )\n\u001b[0;32m    631\u001b[0m \u001b[38;5;28;01melse\u001b[39;00m:\n\u001b[1;32m--> 632\u001b[0m     layer_outputs \u001b[38;5;241m=\u001b[39m \u001b[43mlayer_module\u001b[49m\u001b[43m(\u001b[49m\n\u001b[0;32m    633\u001b[0m \u001b[43m        \u001b[49m\u001b[43mhidden_states\u001b[49m\u001b[43m,\u001b[49m\n\u001b[0;32m    634\u001b[0m \u001b[43m        \u001b[49m\u001b[43mattention_mask\u001b[49m\u001b[43m,\u001b[49m\n\u001b[0;32m    635\u001b[0m \u001b[43m        \u001b[49m\u001b[43mlayer_head_mask\u001b[49m\u001b[43m,\u001b[49m\n\u001b[0;32m    636\u001b[0m \u001b[43m        \u001b[49m\u001b[43mencoder_hidden_states\u001b[49m\u001b[43m,\u001b[49m\n\u001b[0;32m    637\u001b[0m \u001b[43m        \u001b[49m\u001b[43mencoder_attention_mask\u001b[49m\u001b[43m,\u001b[49m\n\u001b[0;32m    638\u001b[0m \u001b[43m        \u001b[49m\u001b[43mpast_key_value\u001b[49m\u001b[43m,\u001b[49m\n\u001b[0;32m    639\u001b[0m \u001b[43m        \u001b[49m\u001b[43moutput_attentions\u001b[49m\u001b[43m,\u001b[49m\n\u001b[0;32m    640\u001b[0m \u001b[43m    \u001b[49m\u001b[43m)\u001b[49m\n\u001b[0;32m    642\u001b[0m hidden_states \u001b[38;5;241m=\u001b[39m layer_outputs[\u001b[38;5;241m0\u001b[39m]\n\u001b[0;32m    643\u001b[0m \u001b[38;5;28;01mif\u001b[39;00m use_cache:\n",
      "File \u001b[1;32md:\\Anaconda\\envs\\sesac\\lib\\site-packages\\torch\\nn\\modules\\module.py:1736\u001b[0m, in \u001b[0;36mModule._wrapped_call_impl\u001b[1;34m(self, *args, **kwargs)\u001b[0m\n\u001b[0;32m   1734\u001b[0m     \u001b[38;5;28;01mreturn\u001b[39;00m \u001b[38;5;28mself\u001b[39m\u001b[38;5;241m.\u001b[39m_compiled_call_impl(\u001b[38;5;241m*\u001b[39margs, \u001b[38;5;241m*\u001b[39m\u001b[38;5;241m*\u001b[39mkwargs)  \u001b[38;5;66;03m# type: ignore[misc]\u001b[39;00m\n\u001b[0;32m   1735\u001b[0m \u001b[38;5;28;01melse\u001b[39;00m:\n\u001b[1;32m-> 1736\u001b[0m     \u001b[38;5;28;01mreturn\u001b[39;00m \u001b[38;5;28mself\u001b[39m\u001b[38;5;241m.\u001b[39m_call_impl(\u001b[38;5;241m*\u001b[39margs, \u001b[38;5;241m*\u001b[39m\u001b[38;5;241m*\u001b[39mkwargs)\n",
      "File \u001b[1;32md:\\Anaconda\\envs\\sesac\\lib\\site-packages\\torch\\nn\\modules\\module.py:1747\u001b[0m, in \u001b[0;36mModule._call_impl\u001b[1;34m(self, *args, **kwargs)\u001b[0m\n\u001b[0;32m   1742\u001b[0m \u001b[38;5;66;03m# If we don't have any hooks, we want to skip the rest of the logic in\u001b[39;00m\n\u001b[0;32m   1743\u001b[0m \u001b[38;5;66;03m# this function, and just call forward.\u001b[39;00m\n\u001b[0;32m   1744\u001b[0m \u001b[38;5;28;01mif\u001b[39;00m \u001b[38;5;129;01mnot\u001b[39;00m (\u001b[38;5;28mself\u001b[39m\u001b[38;5;241m.\u001b[39m_backward_hooks \u001b[38;5;129;01mor\u001b[39;00m \u001b[38;5;28mself\u001b[39m\u001b[38;5;241m.\u001b[39m_backward_pre_hooks \u001b[38;5;129;01mor\u001b[39;00m \u001b[38;5;28mself\u001b[39m\u001b[38;5;241m.\u001b[39m_forward_hooks \u001b[38;5;129;01mor\u001b[39;00m \u001b[38;5;28mself\u001b[39m\u001b[38;5;241m.\u001b[39m_forward_pre_hooks\n\u001b[0;32m   1745\u001b[0m         \u001b[38;5;129;01mor\u001b[39;00m _global_backward_pre_hooks \u001b[38;5;129;01mor\u001b[39;00m _global_backward_hooks\n\u001b[0;32m   1746\u001b[0m         \u001b[38;5;129;01mor\u001b[39;00m _global_forward_hooks \u001b[38;5;129;01mor\u001b[39;00m _global_forward_pre_hooks):\n\u001b[1;32m-> 1747\u001b[0m     \u001b[38;5;28;01mreturn\u001b[39;00m forward_call(\u001b[38;5;241m*\u001b[39margs, \u001b[38;5;241m*\u001b[39m\u001b[38;5;241m*\u001b[39mkwargs)\n\u001b[0;32m   1749\u001b[0m result \u001b[38;5;241m=\u001b[39m \u001b[38;5;28;01mNone\u001b[39;00m\n\u001b[0;32m   1750\u001b[0m called_always_called_hooks \u001b[38;5;241m=\u001b[39m \u001b[38;5;28mset\u001b[39m()\n",
      "File \u001b[1;32md:\\Anaconda\\envs\\sesac\\lib\\site-packages\\transformers\\models\\xlm_roberta\\modeling_xlm_roberta.py:563\u001b[0m, in \u001b[0;36mXLMRobertaLayer.forward\u001b[1;34m(self, hidden_states, attention_mask, head_mask, encoder_hidden_states, encoder_attention_mask, past_key_value, output_attentions)\u001b[0m\n\u001b[0;32m    560\u001b[0m     cross_attn_present_key_value \u001b[38;5;241m=\u001b[39m cross_attention_outputs[\u001b[38;5;241m-\u001b[39m\u001b[38;5;241m1\u001b[39m]\n\u001b[0;32m    561\u001b[0m     present_key_value \u001b[38;5;241m=\u001b[39m present_key_value \u001b[38;5;241m+\u001b[39m cross_attn_present_key_value\n\u001b[1;32m--> 563\u001b[0m layer_output \u001b[38;5;241m=\u001b[39m \u001b[43mapply_chunking_to_forward\u001b[49m\u001b[43m(\u001b[49m\n\u001b[0;32m    564\u001b[0m \u001b[43m    \u001b[49m\u001b[38;5;28;43mself\u001b[39;49m\u001b[38;5;241;43m.\u001b[39;49m\u001b[43mfeed_forward_chunk\u001b[49m\u001b[43m,\u001b[49m\u001b[43m \u001b[49m\u001b[38;5;28;43mself\u001b[39;49m\u001b[38;5;241;43m.\u001b[39;49m\u001b[43mchunk_size_feed_forward\u001b[49m\u001b[43m,\u001b[49m\u001b[43m \u001b[49m\u001b[38;5;28;43mself\u001b[39;49m\u001b[38;5;241;43m.\u001b[39;49m\u001b[43mseq_len_dim\u001b[49m\u001b[43m,\u001b[49m\u001b[43m \u001b[49m\u001b[43mattention_output\u001b[49m\n\u001b[0;32m    565\u001b[0m \u001b[43m\u001b[49m\u001b[43m)\u001b[49m\n\u001b[0;32m    566\u001b[0m outputs \u001b[38;5;241m=\u001b[39m (layer_output,) \u001b[38;5;241m+\u001b[39m outputs\n\u001b[0;32m    568\u001b[0m \u001b[38;5;66;03m# if decoder, return the attn key/values as the last output\u001b[39;00m\n",
      "File \u001b[1;32md:\\Anaconda\\envs\\sesac\\lib\\site-packages\\transformers\\pytorch_utils.py:255\u001b[0m, in \u001b[0;36mapply_chunking_to_forward\u001b[1;34m(forward_fn, chunk_size, chunk_dim, *input_tensors)\u001b[0m\n\u001b[0;32m    252\u001b[0m     \u001b[38;5;66;03m# concatenate output at same dimension\u001b[39;00m\n\u001b[0;32m    253\u001b[0m     \u001b[38;5;28;01mreturn\u001b[39;00m torch\u001b[38;5;241m.\u001b[39mcat(output_chunks, dim\u001b[38;5;241m=\u001b[39mchunk_dim)\n\u001b[1;32m--> 255\u001b[0m \u001b[38;5;28;01mreturn\u001b[39;00m \u001b[43mforward_fn\u001b[49m\u001b[43m(\u001b[49m\u001b[38;5;241;43m*\u001b[39;49m\u001b[43minput_tensors\u001b[49m\u001b[43m)\u001b[49m\n",
      "File \u001b[1;32md:\\Anaconda\\envs\\sesac\\lib\\site-packages\\transformers\\models\\xlm_roberta\\modeling_xlm_roberta.py:575\u001b[0m, in \u001b[0;36mXLMRobertaLayer.feed_forward_chunk\u001b[1;34m(self, attention_output)\u001b[0m\n\u001b[0;32m    574\u001b[0m \u001b[38;5;28;01mdef\u001b[39;00m \u001b[38;5;21mfeed_forward_chunk\u001b[39m(\u001b[38;5;28mself\u001b[39m, attention_output):\n\u001b[1;32m--> 575\u001b[0m     intermediate_output \u001b[38;5;241m=\u001b[39m \u001b[38;5;28;43mself\u001b[39;49m\u001b[38;5;241;43m.\u001b[39;49m\u001b[43mintermediate\u001b[49m\u001b[43m(\u001b[49m\u001b[43mattention_output\u001b[49m\u001b[43m)\u001b[49m\n\u001b[0;32m    576\u001b[0m     layer_output \u001b[38;5;241m=\u001b[39m \u001b[38;5;28mself\u001b[39m\u001b[38;5;241m.\u001b[39moutput(intermediate_output, attention_output)\n\u001b[0;32m    577\u001b[0m     \u001b[38;5;28;01mreturn\u001b[39;00m layer_output\n",
      "File \u001b[1;32md:\\Anaconda\\envs\\sesac\\lib\\site-packages\\torch\\nn\\modules\\module.py:1736\u001b[0m, in \u001b[0;36mModule._wrapped_call_impl\u001b[1;34m(self, *args, **kwargs)\u001b[0m\n\u001b[0;32m   1734\u001b[0m     \u001b[38;5;28;01mreturn\u001b[39;00m \u001b[38;5;28mself\u001b[39m\u001b[38;5;241m.\u001b[39m_compiled_call_impl(\u001b[38;5;241m*\u001b[39margs, \u001b[38;5;241m*\u001b[39m\u001b[38;5;241m*\u001b[39mkwargs)  \u001b[38;5;66;03m# type: ignore[misc]\u001b[39;00m\n\u001b[0;32m   1735\u001b[0m \u001b[38;5;28;01melse\u001b[39;00m:\n\u001b[1;32m-> 1736\u001b[0m     \u001b[38;5;28;01mreturn\u001b[39;00m \u001b[38;5;28mself\u001b[39m\u001b[38;5;241m.\u001b[39m_call_impl(\u001b[38;5;241m*\u001b[39margs, \u001b[38;5;241m*\u001b[39m\u001b[38;5;241m*\u001b[39mkwargs)\n",
      "File \u001b[1;32md:\\Anaconda\\envs\\sesac\\lib\\site-packages\\torch\\nn\\modules\\module.py:1747\u001b[0m, in \u001b[0;36mModule._call_impl\u001b[1;34m(self, *args, **kwargs)\u001b[0m\n\u001b[0;32m   1742\u001b[0m \u001b[38;5;66;03m# If we don't have any hooks, we want to skip the rest of the logic in\u001b[39;00m\n\u001b[0;32m   1743\u001b[0m \u001b[38;5;66;03m# this function, and just call forward.\u001b[39;00m\n\u001b[0;32m   1744\u001b[0m \u001b[38;5;28;01mif\u001b[39;00m \u001b[38;5;129;01mnot\u001b[39;00m (\u001b[38;5;28mself\u001b[39m\u001b[38;5;241m.\u001b[39m_backward_hooks \u001b[38;5;129;01mor\u001b[39;00m \u001b[38;5;28mself\u001b[39m\u001b[38;5;241m.\u001b[39m_backward_pre_hooks \u001b[38;5;129;01mor\u001b[39;00m \u001b[38;5;28mself\u001b[39m\u001b[38;5;241m.\u001b[39m_forward_hooks \u001b[38;5;129;01mor\u001b[39;00m \u001b[38;5;28mself\u001b[39m\u001b[38;5;241m.\u001b[39m_forward_pre_hooks\n\u001b[0;32m   1745\u001b[0m         \u001b[38;5;129;01mor\u001b[39;00m _global_backward_pre_hooks \u001b[38;5;129;01mor\u001b[39;00m _global_backward_hooks\n\u001b[0;32m   1746\u001b[0m         \u001b[38;5;129;01mor\u001b[39;00m _global_forward_hooks \u001b[38;5;129;01mor\u001b[39;00m _global_forward_pre_hooks):\n\u001b[1;32m-> 1747\u001b[0m     \u001b[38;5;28;01mreturn\u001b[39;00m forward_call(\u001b[38;5;241m*\u001b[39margs, \u001b[38;5;241m*\u001b[39m\u001b[38;5;241m*\u001b[39mkwargs)\n\u001b[0;32m   1749\u001b[0m result \u001b[38;5;241m=\u001b[39m \u001b[38;5;28;01mNone\u001b[39;00m\n\u001b[0;32m   1750\u001b[0m called_always_called_hooks \u001b[38;5;241m=\u001b[39m \u001b[38;5;28mset\u001b[39m()\n",
      "File \u001b[1;32md:\\Anaconda\\envs\\sesac\\lib\\site-packages\\transformers\\models\\xlm_roberta\\modeling_xlm_roberta.py:473\u001b[0m, in \u001b[0;36mXLMRobertaIntermediate.forward\u001b[1;34m(self, hidden_states)\u001b[0m\n\u001b[0;32m    472\u001b[0m \u001b[38;5;28;01mdef\u001b[39;00m \u001b[38;5;21mforward\u001b[39m(\u001b[38;5;28mself\u001b[39m, hidden_states: torch\u001b[38;5;241m.\u001b[39mTensor) \u001b[38;5;241m-\u001b[39m\u001b[38;5;241m>\u001b[39m torch\u001b[38;5;241m.\u001b[39mTensor:\n\u001b[1;32m--> 473\u001b[0m     hidden_states \u001b[38;5;241m=\u001b[39m \u001b[38;5;28;43mself\u001b[39;49m\u001b[38;5;241;43m.\u001b[39;49m\u001b[43mdense\u001b[49m\u001b[43m(\u001b[49m\u001b[43mhidden_states\u001b[49m\u001b[43m)\u001b[49m\n\u001b[0;32m    474\u001b[0m     hidden_states \u001b[38;5;241m=\u001b[39m \u001b[38;5;28mself\u001b[39m\u001b[38;5;241m.\u001b[39mintermediate_act_fn(hidden_states)\n\u001b[0;32m    475\u001b[0m     \u001b[38;5;28;01mreturn\u001b[39;00m hidden_states\n",
      "File \u001b[1;32md:\\Anaconda\\envs\\sesac\\lib\\site-packages\\torch\\nn\\modules\\module.py:1736\u001b[0m, in \u001b[0;36mModule._wrapped_call_impl\u001b[1;34m(self, *args, **kwargs)\u001b[0m\n\u001b[0;32m   1734\u001b[0m     \u001b[38;5;28;01mreturn\u001b[39;00m \u001b[38;5;28mself\u001b[39m\u001b[38;5;241m.\u001b[39m_compiled_call_impl(\u001b[38;5;241m*\u001b[39margs, \u001b[38;5;241m*\u001b[39m\u001b[38;5;241m*\u001b[39mkwargs)  \u001b[38;5;66;03m# type: ignore[misc]\u001b[39;00m\n\u001b[0;32m   1735\u001b[0m \u001b[38;5;28;01melse\u001b[39;00m:\n\u001b[1;32m-> 1736\u001b[0m     \u001b[38;5;28;01mreturn\u001b[39;00m \u001b[38;5;28mself\u001b[39m\u001b[38;5;241m.\u001b[39m_call_impl(\u001b[38;5;241m*\u001b[39margs, \u001b[38;5;241m*\u001b[39m\u001b[38;5;241m*\u001b[39mkwargs)\n",
      "File \u001b[1;32md:\\Anaconda\\envs\\sesac\\lib\\site-packages\\torch\\nn\\modules\\module.py:1747\u001b[0m, in \u001b[0;36mModule._call_impl\u001b[1;34m(self, *args, **kwargs)\u001b[0m\n\u001b[0;32m   1742\u001b[0m \u001b[38;5;66;03m# If we don't have any hooks, we want to skip the rest of the logic in\u001b[39;00m\n\u001b[0;32m   1743\u001b[0m \u001b[38;5;66;03m# this function, and just call forward.\u001b[39;00m\n\u001b[0;32m   1744\u001b[0m \u001b[38;5;28;01mif\u001b[39;00m \u001b[38;5;129;01mnot\u001b[39;00m (\u001b[38;5;28mself\u001b[39m\u001b[38;5;241m.\u001b[39m_backward_hooks \u001b[38;5;129;01mor\u001b[39;00m \u001b[38;5;28mself\u001b[39m\u001b[38;5;241m.\u001b[39m_backward_pre_hooks \u001b[38;5;129;01mor\u001b[39;00m \u001b[38;5;28mself\u001b[39m\u001b[38;5;241m.\u001b[39m_forward_hooks \u001b[38;5;129;01mor\u001b[39;00m \u001b[38;5;28mself\u001b[39m\u001b[38;5;241m.\u001b[39m_forward_pre_hooks\n\u001b[0;32m   1745\u001b[0m         \u001b[38;5;129;01mor\u001b[39;00m _global_backward_pre_hooks \u001b[38;5;129;01mor\u001b[39;00m _global_backward_hooks\n\u001b[0;32m   1746\u001b[0m         \u001b[38;5;129;01mor\u001b[39;00m _global_forward_hooks \u001b[38;5;129;01mor\u001b[39;00m _global_forward_pre_hooks):\n\u001b[1;32m-> 1747\u001b[0m     \u001b[38;5;28;01mreturn\u001b[39;00m forward_call(\u001b[38;5;241m*\u001b[39margs, \u001b[38;5;241m*\u001b[39m\u001b[38;5;241m*\u001b[39mkwargs)\n\u001b[0;32m   1749\u001b[0m result \u001b[38;5;241m=\u001b[39m \u001b[38;5;28;01mNone\u001b[39;00m\n\u001b[0;32m   1750\u001b[0m called_always_called_hooks \u001b[38;5;241m=\u001b[39m \u001b[38;5;28mset\u001b[39m()\n",
      "File \u001b[1;32md:\\Anaconda\\envs\\sesac\\lib\\site-packages\\torch\\nn\\modules\\linear.py:125\u001b[0m, in \u001b[0;36mLinear.forward\u001b[1;34m(self, input)\u001b[0m\n\u001b[0;32m    124\u001b[0m \u001b[38;5;28;01mdef\u001b[39;00m \u001b[38;5;21mforward\u001b[39m(\u001b[38;5;28mself\u001b[39m, \u001b[38;5;28minput\u001b[39m: Tensor) \u001b[38;5;241m-\u001b[39m\u001b[38;5;241m>\u001b[39m Tensor:\n\u001b[1;32m--> 125\u001b[0m     \u001b[38;5;28;01mreturn\u001b[39;00m \u001b[43mF\u001b[49m\u001b[38;5;241;43m.\u001b[39;49m\u001b[43mlinear\u001b[49m\u001b[43m(\u001b[49m\u001b[38;5;28;43minput\u001b[39;49m\u001b[43m,\u001b[49m\u001b[43m \u001b[49m\u001b[38;5;28;43mself\u001b[39;49m\u001b[38;5;241;43m.\u001b[39;49m\u001b[43mweight\u001b[49m\u001b[43m,\u001b[49m\u001b[43m \u001b[49m\u001b[38;5;28;43mself\u001b[39;49m\u001b[38;5;241;43m.\u001b[39;49m\u001b[43mbias\u001b[49m\u001b[43m)\u001b[49m\n",
      "\u001b[1;31mKeyboardInterrupt\u001b[0m: "
     ]
    }
   ],
   "source": [
    "from sentence_transformers import SentenceTransformer\n",
    "import numpy as np\n",
    "import pandas as pd\n",
    "\n",
    "# 모델 로드\n",
    "model = SentenceTransformer(\"intfloat/multilingual-e5-large\", trust_remote_code=True)\n",
    "\n",
    "# 임베딩 함수\n",
    "def get_embeddings_in_batches(texts, model, batch_size=16):\n",
    "    all_embeddings = []\n",
    "    for i in range(0, len(texts), batch_size):\n",
    "        batch_texts = texts[i:i+batch_size]\n",
    "        embeddings = model.encode(\n",
    "            batch_texts,\n",
    "            batch_size=batch_size,\n",
    "            convert_to_numpy=True,  # NumPy 배열로 반환\n",
    "            show_progress_bar=True  # 진행 상태 표시\n",
    "        )\n",
    "        all_embeddings.append(embeddings)\n",
    "    return np.vstack(all_embeddings)\n",
    "\n",
    "# 문장 데이터 임베딩\n",
    "embeddings = get_embeddings_in_batches(sentence_df['cleaned_sentence'].tolist(), model, batch_size=16)\n",
    "\n",
    "# 임베딩 추가\n",
    "sentence_df['embedding'] = list(embeddings)\n",
    "print(\"임베딩 크기:\", embeddings.shape)\n",
    "print(sentence_df.head())\n"
   ]
  },
  {
   "cell_type": "markdown",
   "metadata": {},
   "source": [
    "# 3. 감정 분석"
   ]
  },
  {
   "cell_type": "code",
   "execution_count": 4,
   "metadata": {},
   "outputs": [
    {
     "name": "stdout",
     "output_type": "stream",
     "text": [
      "CSV 파일로 저장되었습니다!\n"
     ]
    }
   ],
   "source": [
    "# 데이터프레임을 CSV로 저장\n",
    "\n",
    "\n",
    "sentence_df.to_csv(\"destiny2_sentence_embeddings.csv\", index=False)\n",
    "\n",
    "\n",
    "print(\"CSV 파일로 저장되었습니다!\")\n"
   ]
  },
  {
   "cell_type": "code",
   "execution_count": 25,
   "metadata": {},
   "outputs": [
    {
     "name": "stderr",
     "output_type": "stream",
     "text": [
      "Some weights of the model checkpoint at cardiffnlp/twitter-roberta-base-sentiment-latest were not used when initializing RobertaForSequenceClassification: ['roberta.pooler.dense.bias', 'roberta.pooler.dense.weight']\n",
      "- This IS expected if you are initializing RobertaForSequenceClassification from the checkpoint of a model trained on another task or with another architecture (e.g. initializing a BertForSequenceClassification model from a BertForPreTraining model).\n",
      "- This IS NOT expected if you are initializing RobertaForSequenceClassification from the checkpoint of a model that you expect to be exactly identical (initializing a BertForSequenceClassification model from a BertForSequenceClassification model).\n",
      "Device set to use cpu\n"
     ]
    },
    {
     "ename": "TypeError",
     "evalue": "'float' object is not subscriptable",
     "output_type": "error",
     "traceback": [
      "\u001b[1;31m---------------------------------------------------------------------------\u001b[0m",
      "\u001b[1;31mTypeError\u001b[0m                                 Traceback (most recent call last)",
      "Cell \u001b[1;32mIn[25], line 16\u001b[0m\n\u001b[0;32m     13\u001b[0m     \u001b[38;5;28;01mreturn\u001b[39;00m sentiments\n\u001b[0;32m     15\u001b[0m \u001b[38;5;66;03m# 감정 분석 실행: 문장 단위로 감정 분석\u001b[39;00m\n\u001b[1;32m---> 16\u001b[0m sentence_df[\u001b[38;5;124m'\u001b[39m\u001b[38;5;124msentiment\u001b[39m\u001b[38;5;124m'\u001b[39m] \u001b[38;5;241m=\u001b[39m \u001b[43manalyze_sentiment\u001b[49m\u001b[43m(\u001b[49m\u001b[43msentence_df\u001b[49m\u001b[43m[\u001b[49m\u001b[38;5;124;43m'\u001b[39;49m\u001b[38;5;124;43mcleaned_sentence\u001b[39;49m\u001b[38;5;124;43m'\u001b[39;49m\u001b[43m]\u001b[49m\u001b[38;5;241;43m.\u001b[39;49m\u001b[43mtolist\u001b[49m\u001b[43m(\u001b[49m\u001b[43m)\u001b[49m\u001b[43m)\u001b[49m\n\u001b[0;32m     18\u001b[0m \u001b[38;5;66;03m# 결과 확인\u001b[39;00m\n\u001b[0;32m     19\u001b[0m \u001b[38;5;28mprint\u001b[39m(sentence_df[[\u001b[38;5;124m'\u001b[39m\u001b[38;5;124mcleaned_sentence\u001b[39m\u001b[38;5;124m'\u001b[39m, \u001b[38;5;124m'\u001b[39m\u001b[38;5;124msentiment\u001b[39m\u001b[38;5;124m'\u001b[39m]]\u001b[38;5;241m.\u001b[39mhead())\n",
      "Cell \u001b[1;32mIn[25], line 11\u001b[0m, in \u001b[0;36manalyze_sentiment\u001b[1;34m(texts)\u001b[0m\n\u001b[0;32m      8\u001b[0m sentiments \u001b[38;5;241m=\u001b[39m []\n\u001b[0;32m      9\u001b[0m \u001b[38;5;28;01mfor\u001b[39;00m text \u001b[38;5;129;01min\u001b[39;00m texts:\n\u001b[0;32m     10\u001b[0m     \u001b[38;5;66;03m# 감정 분석 수행 및 결과 추출\u001b[39;00m\n\u001b[1;32m---> 11\u001b[0m     sentiment_result \u001b[38;5;241m=\u001b[39m pipe(\u001b[43mtext\u001b[49m\u001b[43m[\u001b[49m\u001b[43m:\u001b[49m\u001b[38;5;241;43m512\u001b[39;49m\u001b[43m]\u001b[49m)  \u001b[38;5;66;03m# 길이 초과 방지를 위해 512 토큰 제한\u001b[39;00m\n\u001b[0;32m     12\u001b[0m     sentiments\u001b[38;5;241m.\u001b[39mappend(sentiment_result[\u001b[38;5;241m0\u001b[39m][\u001b[38;5;124m'\u001b[39m\u001b[38;5;124mlabel\u001b[39m\u001b[38;5;124m'\u001b[39m])  \u001b[38;5;66;03m# 감정 레이블 추출\u001b[39;00m\n\u001b[0;32m     13\u001b[0m \u001b[38;5;28;01mreturn\u001b[39;00m sentiments\n",
      "\u001b[1;31mTypeError\u001b[0m: 'float' object is not subscriptable"
     ]
    }
   ],
   "source": [
    "from transformers import pipeline\n",
    "\n",
    "# 감정 분석 파이프라인 로드\n",
    "pipe = pipeline(\"text-classification\", model=\"cardiffnlp/twitter-roberta-base-sentiment-latest\")\n",
    "\n",
    "# 감정 분석 수행\n",
    "def analyze_sentiment(texts):\n",
    "    sentiments = []\n",
    "    for text in texts:\n",
    "        # 감정 분석 수행 및 결과 추출\n",
    "        sentiment_result = pipe(text[:512])  # 길이 초과 방지를 위해 512 토큰 제한\n",
    "        sentiments.append(sentiment_result[0]['label'])  # 감정 레이블 추출\n",
    "    return sentiments\n",
    "\n",
    "# 감정 분석 실행: 문장 단위로 감정 분석\n",
    "sentence_df['sentiment'] = analyze_sentiment(sentence_df['cleaned_sentence'].tolist())\n",
    "\n",
    "# 결과 확인\n",
    "print(sentence_df[['cleaned_sentence', 'sentiment']].head())"
   ]
  },
  {
   "cell_type": "code",
   "execution_count": 8,
   "metadata": {},
   "outputs": [
    {
     "name": "stdout",
     "output_type": "stream",
     "text": [
      "긍정 리뷰 개수: 3319\n",
      "부정 리뷰 개수: 1717\n",
      "중립 리뷰 개수: 2265\n"
     ]
    }
   ],
   "source": [
    "# 긍정/부정 리뷰 분리\n",
    "positive_reviews = sentence_df[sentence_df['sentiment'] == 'positive']\n",
    "negative_reviews = sentence_df[sentence_df['sentiment'] == 'negative']\n",
    "neutral_reviews = sentence_df[sentence_df['sentiment'] == 'neutral']\n",
    "\n",
    "print(f\"긍정 리뷰 개수: {len(positive_reviews)}\")\n",
    "print(f\"부정 리뷰 개수: {len(negative_reviews)}\")\n",
    "print(f\"중립 리뷰 개수: {len(neutral_reviews)}\")"
   ]
  },
  {
   "cell_type": "markdown",
   "metadata": {},
   "source": [
    "# 4. 토픽 모델링"
   ]
  },
  {
   "cell_type": "code",
   "execution_count": 9,
   "metadata": {},
   "outputs": [
    {
     "name": "stdout",
     "output_type": "stream",
     "text": [
      "긍정 리뷰 주요 토픽:     Topic  Count                               Name  \\\n",
      "0      -1    814                   -1_and_the_to_it   \n",
      "1       0    289               0_destiny_is_and_the   \n",
      "2       1    115            1_friends_with_play_fun   \n",
      "3       2    114                           2_ooo___   \n",
      "4       3     83                3_pve_pvp_side_both   \n",
      "..    ...    ...                                ...   \n",
      "70     69     12       69_review_write_playtime_not   \n",
      "71     70     12            70_gud_goodd_gmae_trust   \n",
      "72     71     12      71_shape_final_believe_around   \n",
      "73     72     11  72_poggers_jimbo_feet_grasshopper   \n",
      "74     73     10         73_hunter_mara_sov_warlock   \n",
      "\n",
      "                                       Representation  \\\n",
      "0     [and, the, to, it, of, for, its, game, you, is]   \n",
      "1   [destiny, is, and, the, that, since, of, in, t...   \n",
      "2   [friends, with, play, fun, have, to, friend, p...   \n",
      "3                             [ooo, , , , , , , , , ]   \n",
      "4   [pve, pvp, side, both, in, and, fun, raids, yo...   \n",
      "..                                                ...   \n",
      "70  [review, write, playtime, not, postlightfall, ...   \n",
      "71     [gud, goodd, gmae, trust, me, game, its, , , ]   \n",
      "72  [shape, final, believe, around, excelling, pos...   \n",
      "73  [poggers, jimbo, feet, grasshopper, dingdong, ...   \n",
      "74  [hunter, mara, sov, warlock, titan, stayed, ma...   \n",
      "\n",
      "                                  Representative_Docs  \n",
      "0   [honestly the game is great and a blast to pla...  \n",
      "1   [destiny is a great game, if you like destiny ...  \n",
      "2   [fun to play with friends, fun game to play wi...  \n",
      "3                                           [, , ooo]  \n",
      "4   [the pve in the game is great, pvp can be real...  \n",
      "..                                                ...  \n",
      "70  [not a review but im having fun while playing ...  \n",
      "71                                    [gud, gud, gud]  \n",
      "72  [the final shape more like good, final shape g...  \n",
      "73                        [poggers, poggers, poggers]  \n",
      "74  [because i can make an among us hunter i think...  \n",
      "\n",
      "[75 rows x 5 columns]\n",
      "부정 리뷰 주요 토픽:     Topic  Count                                       Name  \\\n",
      "0      -1    629                         -1_the_to_and_this   \n",
      "1       0     64                           0_pvp_pve_is_the   \n",
      "2       1     61                       1_destiny_you_and_is   \n",
      "3       2     56                       2_hate_this_game_god   \n",
      "4       3     47                        3_bungie_will_to_up   \n",
      "5       4     46          4_relationship_toxic_abusive_like   \n",
      "6       5     45                        5_hours_time_of_job   \n",
      "7       6     44                   6_white_whale_holy_grail   \n",
      "8       7     42               7_hate_favorite_favourite_my   \n",
      "9       8     41                     8_friends_solo_with_if   \n",
      "10      9     38           9_dementia_cancer_syndrome_crack   \n",
      "11     10     33                   10_sucks_ass_titans_this   \n",
      "12     11     29              11_grinding_grindy_grind_over   \n",
      "13     12     28        12_review_reviews_tablespoon_nobody   \n",
      "14     13     28                  13_sucks_bad_hell_believe   \n",
      "15     14     27                  14_dont_explain_play_this   \n",
      "16     15     27               15_hate_favorite_destiny_its   \n",
      "17     16     25                  16_worst_ever_played_best   \n",
      "18     17     25                  17_flaws_issues_has_major   \n",
      "19     18     24            18_reskins_crazy_repetitive_put   \n",
      "20     19     24                19_cant_stop_playing_escape   \n",
      "21     20     23        20_sunsetting_sunset_system_weapons   \n",
      "22     21     22                21_new_players_player_start   \n",
      "23     22     21                     22_hate_it_love_thanks   \n",
      "24     23     21                       23_dlcs_dlc_pass_buy   \n",
      "25     24     20                  24_hurts_pain_beaver_face   \n",
      "26     25     19               25_product_received_free_for   \n",
      "27     26     17                     26_life_ruined_my_this   \n",
      "28     27     16              27_cabal_stepped_weve_whether   \n",
      "29     28     16                28_bad_khelne_horrible_game   \n",
      "30     29     15                    29_raids_any_teaming_do   \n",
      "31     30     14           30_shooter_looter_shooting_shoot   \n",
      "32     31     14                  31_content_state_great_of   \n",
      "33     32     14                 32_hand_moment_we_glorious   \n",
      "34     33     14             33_crucible_ammo_osiris_trials   \n",
      "35     34     14          34_season_seasonal_content_months   \n",
      "36     35     14                  35_gambit_bugs_ton_others   \n",
      "37     36     13      36_depression_crippling_mentally_want   \n",
      "38     37     12  37_battlenet_warframe_campaign_motionsick   \n",
      "39     38     12               38_hackers_report_list_sadly   \n",
      "40     39     12              39_loot_gear_grinding_weapons   \n",
      "41     40     11               40_free_expensive_chess_most   \n",
      "\n",
      "                                       Representation  \\\n",
      "0   [the, to, and, this, is, of, you, game, stuck,...   \n",
      "1   [pvp, pve, is, the, be, in, of, and, competiti...   \n",
      "2   [destiny, you, and, is, with, then, of, that, ...   \n",
      "3   [hate, this, game, god, still, nut, fk, yep, g...   \n",
      "4   [bungie, will, to, up, the, you, but, company,...   \n",
      "5   [relationship, toxic, abusive, like, girlfrien...   \n",
      "6   [hours, time, of, job, waste, in, this, after,...   \n",
      "7   [white, whale, holy, grail, lance, rip, dead, ...   \n",
      "8   [hate, favorite, favourite, my, game, its, thi...   \n",
      "9   [friends, solo, with, if, alone, to, me, play,...   \n",
      "10  [dementia, cancer, syndrome, crack, addiction,...   \n",
      "11  [sucks, ass, titans, this, game, suck, hmm, du...   \n",
      "12  [grinding, grindy, grind, over, but, really, a...   \n",
      "13  [review, reviews, tablespoon, nobody, gay, eat...   \n",
      "14  [sucks, bad, hell, believe, kinda, it, disgrac...   \n",
      "15  [dont, explain, play, this, time, not, do, buy...   \n",
      "16  [hate, favorite, destiny, its, my, favourite, ...   \n",
      "17  [worst, ever, played, best, simultaneously, di...   \n",
      "18  [flaws, issues, has, major, about, people, gam...   \n",
      "19  [reskins, crazy, repetitive, put, me, once, ma...   \n",
      "20  [cant, stop, playing, escape, help, pls, end, ...   \n",
      "21  [sunsetting, sunset, system, weapons, content,...   \n",
      "22  [new, players, player, start, the, confusing, ...   \n",
      "23  [hate, it, love, thanks, minute, but, every, s...   \n",
      "24  [dlcs, dlc, pass, buy, the, if, dungeons, you,...   \n",
      "25  [hurts, pain, beaver, face, hurt, then, like, ...   \n",
      "26  [product, received, free, for, depressed, you,...   \n",
      "27  [life, ruined, my, this, has, what, will, lost...   \n",
      "28  [cabal, stepped, weve, whether, mars, war, wan...   \n",
      "29  [bad, khelne, horrible, game, bunky, badhiyaa,...   \n",
      "30  [raids, any, teaming, do, complete, to, raid, ...   \n",
      "31  [shooter, looter, shooting, shoot, hope, my, w...   \n",
      "32  [content, state, great, of, half, that, is, th...   \n",
      "33  [hand, moment, we, glorious, stand, times, cou...   \n",
      "34  [crucible, ammo, osiris, trials, gun, after, d...   \n",
      "35  [season, seasonal, content, months, of, effort...   \n",
      "36  [gambit, bugs, ton, others, of, there, the, fi...   \n",
      "37  [depression, crippling, mentally, want, ill, h...   \n",
      "38  [battlenet, warframe, campaign, motionsick, wo...   \n",
      "39  [hackers, report, list, sadly, cheaters, been,...   \n",
      "40  [loot, gear, grinding, weapons, drops, of, goo...   \n",
      "41  [free, expensive, chess, most, ever, ive, play...   \n",
      "\n",
      "                                  Representative_Docs  \n",
      "0   [this game is bad but perfect at the same time...  \n",
      "1   [this game has some balance issues in both pve...  \n",
      "2   [destiny  sucks, if you dont like destiny this...  \n",
      "3   [hate this game, i hate this game, i hate this...  \n",
      "4   [mostly this is a great game until you get to ...  \n",
      "5   [this game is like a love hate relationship, t...  \n",
      "6   [its like a full time job where your boss humi...  \n",
      "7   [i do not regret spending countless hours figh...  \n",
      "8   [i hate this game so much its my favorite, i h...  \n",
      "9   [i have almost  hours in this game with a lot ...  \n",
      "10  [this game is like my cocaine addiction, this ...  \n",
      "11  [this game sucks, this game sucks, this game s...  \n",
      "12  [the game can be very repetitive especially if...  \n",
      "13  [like this review for no reason, nobody will r...  \n",
      "14                     [it sucks, it sucks, it sucks]  \n",
      "15  [dont play this game, dont play this game, don...  \n",
      "16  [i hate destiny its my favorite game, i hate d...  \n",
      "17  [worst game ive ever played, this is the worst...  \n",
      "18  [a lot of people you will hear complain about ...  \n",
      "19  [i was crazy once they put me in a game a repe...  \n",
      "20  [i hate it but i cant stop playing, i hate thi...  \n",
      "21  [i just wish sunset expansions were able to be...  \n",
      "22  [i really only recommend this to people who ar...  \n",
      "23  [i hate it but i love it, hate it but i love i...  \n",
      "24  [since then there have been three major dlcs c...  \n",
      "25  [everything that happens in this game hurts bu...  \n",
      "26  [product received for free  i hate this game, ...  \n",
      "27  [ruined my life, this game has ruined my life,...  \n",
      "28  [whether we wanted it or not weve stepped into...  \n",
      "29                     [bad game, bad game, bad game]  \n",
      "30  [raids are not just go in and kill everything ...  \n",
      "31  [a looter shooter, tried many other looter sho...  \n",
      "32  [then  months later there is a cloud of dissat...  \n",
      "33  [that caused me to break my th metacarpal in m...  \n",
      "34  [i hate crucible, you dont like crucible, you ...  \n",
      "35  [season of the hunt was pretty rough since the...  \n",
      "36  [some game modes also receive more love than o...  \n",
      "37  [play this game if you either want or already ...  \n",
      "38  [i used to play this game on battlenet but sad...  \n",
      "39  [any small glitch on either your side or their...  \n",
      "40  [it can take hours of grinding to get the loot...  \n",
      "41  [most expensive free game ive ever played, mos...  \n"
     ]
    }
   ],
   "source": [
    "from bertopic import BERTopic\n",
    "\n",
    "# 긍정 리뷰 토픽 모델링\n",
    "positive_texts = positive_reviews['cleaned_sentence'].tolist()\n",
    "topic_model_positive = BERTopic()\n",
    "topics_positive, probs_positive = topic_model_positive.fit_transform(positive_texts)\n",
    "\n",
    "# 부정 리뷰 토픽 모델링\n",
    "negative_texts = negative_reviews['cleaned_sentence'].tolist()\n",
    "topic_model_negative = BERTopic()\n",
    "topics_negative, probs_negative = topic_model_negative.fit_transform(negative_texts)\n",
    "\n",
    "# 긍정 토픽 확인\n",
    "print(\"긍정 리뷰 주요 토픽:\", topic_model_positive.get_topic_info())\n",
    "\n",
    "# 부정 토픽 확인\n",
    "print(\"부정 리뷰 주요 토픽:\", topic_model_negative.get_topic_info())"
   ]
  },
  {
   "cell_type": "code",
   "execution_count": 10,
   "metadata": {},
   "outputs": [
    {
     "name": "stdout",
     "output_type": "stream",
     "text": [
      "Topic 0: [('destiny', 0.04471613442847865), ('is', 0.012255329292324943), ('and', 0.012033344113092564), ('the', 0.011179340759426115), ('that', 0.010902878204841695), ('since', 0.010801934680939734), ('of', 0.010799891764249807), ('in', 0.010244268360286144), ('to', 0.009971452604183079), ('have', 0.009944847255136531)]\n",
      "Topic 1: [('friends', 0.06964247886371094), ('with', 0.04113317418760803), ('play', 0.03328287788049399), ('fun', 0.027216048410687636), ('have', 0.019154884823327386), ('to', 0.017045642016842284), ('friend', 0.016631466235644383), ('playing', 0.015878489099273547), ('game', 0.014610890917057173), ('some', 0.014574077122564323)]\n",
      "Topic 2: [('ooo', 6.3578422665081), ('', 1e-05), ('', 1e-05), ('', 1e-05), ('', 1e-05), ('', 1e-05), ('', 1e-05), ('', 1e-05), ('', 1e-05), ('', 1e-05)]\n",
      "Topic 3: [('pve', 0.08372987069333734), ('pvp', 0.07924447911601182), ('side', 0.016984984825798195), ('both', 0.016557558134275303), ('in', 0.015396826081415748), ('and', 0.015130797232650393), ('fun', 0.014838235016675319), ('raids', 0.014238109913054115), ('you', 0.01388494426601425), ('good', 0.013450342081128445)]\n",
      "Topic 4: [('story', 0.05909578307490741), ('lore', 0.051826824452169), ('the', 0.019497459723649007), ('line', 0.015168558393516121), ('is', 0.01492645320354511), ('and', 0.01400541277070368), ('interesting', 0.01354395493047757), ('of', 0.012961503940308051), ('good', 0.012299340787485366), ('very', 0.011540477467205363)]\n",
      "Topic 5: [('graphics', 0.09049388587088715), ('design', 0.04584558963474573), ('sound', 0.04389677925777354), ('stunning', 0.03607248474046924), ('beautiful', 0.03501396511706961), ('are', 0.029293618563470444), ('excellent', 0.02926451950518236), ('runs', 0.022771766412436556), ('nice', 0.022756605741087385), ('music', 0.02190064716406856)]\n",
      "Topic 6: [('gunplay', 0.08628233608466175), ('guns', 0.03923933398996019), ('gun', 0.038357123119539094), ('shooting', 0.02650217383891301), ('shoot', 0.024000853145499577), ('great', 0.020347508398417664), ('best', 0.020339934272327727), ('and', 0.018050511382571154), ('shooter', 0.017863614449887967), ('the', 0.01772386795750561)]\n",
      "Topic 7: [('free', 0.10538353106053121), ('try', 0.03137890881056228), ('its', 0.030537491766476122), ('play', 0.026453777667433672), ('now', 0.025041973650838684), ('freetoplay', 0.023166627651989152), ('to', 0.021539897716392687), ('shot', 0.02149776994566123), ('content', 0.017568249238324507), ('especially', 0.016745565337434522)]\n",
      "Topic 8: [('dlc', 0.07444653857034254), ('dlcs', 0.047697194344380744), ('buy', 0.032118374845121284), ('if', 0.022924329105015535), ('you', 0.021144114378370025), ('get', 0.01625694861044546), ('are', 0.015654939187620003), ('the', 0.015124338448097914), ('content', 0.014938658213671711), ('but', 0.01466122245273548)]\n",
      "Topic 9: [('bungie', 0.09296966849055426), ('has', 0.028157584582546587), ('activision', 0.016446858638679614), ('they', 0.015566196829398467), ('from', 0.01453475801571592), ('themselves', 0.01439549801539196), ('done', 0.013701345685212345), ('and', 0.013173412565419537), ('to', 0.012478795234041745), ('me', 0.012050068474680155)]\n",
      "Topic 10: [('ever', 0.09869175173853349), ('best', 0.08070361017730034), ('games', 0.06647626915054484), ('one', 0.05573305663067633), ('played', 0.04779390450819258), ('time', 0.04289854354318746), ('all', 0.042112482365757646), ('of', 0.031098569175002404), ('game', 0.02842416496023033), ('greatest', 0.02838816495923114)]\n",
      "Topic 11: [('yes', 2.077551520983859), ('yessssssssssssssssssssssssssssssssssssssssssssssssssssssssssss', 0.127156845330162), ('uh', 0.10525380377809772), ('please', 0.07783640596221253), ('hell', 0.076269536523801), ('definitely', 0.052910596882417525), ('you', 0.012881645067437737), ('', 1e-05), ('', 1e-05), ('', 1e-05)]\n",
      "Topic 12: [('fps', 0.06305510131322904), ('mmo', 0.04894545618898348), ('rpg', 0.030561071295667923), ('shooter', 0.026393088016050684), ('recommend', 0.024232536424384055), ('an', 0.024232536424384055), ('highly', 0.02346215041666743), ('person', 0.023374296084748506), ('offers', 0.02290376472186216), ('best', 0.020660608911756317)]\n",
      "Topic 13: [('product', 0.14634027369643599), ('received', 0.14634027369643599), ('free', 0.08748108450206357), ('for', 0.05184140417050872), ('sexy', 0.021988514325864097), ('very', 0.021260807330130645), ('game', 0.0194264141652594), ('places', 0.015501296579984935), ('friend', 0.014402506843238436), ('lot', 0.014395377359139478)]\n",
      "Topic 14: [('looter', 0.15171949430574122), ('shooter', 0.11801838172106077), ('shooters', 0.030898269025462558), ('mmo', 0.025748557521218796), ('best', 0.025690011770499236), ('if', 0.024317833552981657), ('genre', 0.02409779984954218), ('lootershooter', 0.022537027698662615), ('out', 0.01857424201856468), ('enjoy', 0.018444645962609606)]\n",
      "Topic 15: [('raids', 0.07150547865531486), ('raid', 0.03329160532808128), ('are', 0.026745149822142288), ('with', 0.021219279815766615), ('friends', 0.02069458396751472), ('raiding', 0.01943835748496222), ('do', 0.01856354601207248), ('your', 0.017470112375739286), ('man', 0.01654007476107804), ('some', 0.016371202957414423)]\n",
      "Topic 16: [('grind', 0.07245633737958523), ('grinding', 0.059094135937366565), ('grindy', 0.05367580680957631), ('stops', 0.04183235035279223), ('never', 0.026556931301410687), ('less', 0.02256425551294939), ('but', 0.020921960689309013), ('fun', 0.018021437461131003), ('will', 0.01693427597135578), ('you', 0.016537247046034934)]\n",
      "Topic 17: [('light', 0.11391289992627635), ('guardians', 0.11132623685769358), ('beyond', 0.08111402146464022), ('guardian', 0.06728487101790029), ('luck', 0.045998757794993246), ('lights', 0.04349330734632137), ('happen', 0.03654774410987751), ('see', 0.03456089404832775), ('gym', 0.031219981752685578), ('results', 0.031219981752685578)]\n",
      "Topic 18: [('hooray', 1.589460566627025), ('boop', 1.589460566627025), ('ahhhh', 1.589460566627025), ('rise', 1.3156725472262214), ('', 1e-05), ('', 1e-05), ('', 1e-05), ('', 1e-05), ('', 1e-05), ('', 1e-05)]\n",
      "Topic 19: [('good', 0.4221379187287495), ('wow', 0.2840806819306947), ('niiiice', 0.15137719682162143), ('great', 0.13904130738918735), ('damn', 0.09939017309275325), ('easy', 0.08747061467390209), ('epic', 0.08457097749860736), ('incredible', 0.0766399005921), ('perfect', 0.07481335493541283), ('fantastic', 0.06941215967246231)]\n",
      "Topic 20: [('steam', 0.11968856078565573), ('battlenet', 0.05526915172414629), ('on', 0.051761386465874595), ('it', 0.02312494587490459), ('put', 0.022771392351491015), ('over', 0.0222956456689357), ('before', 0.022175288314192514), ('move', 0.02129789423416141), ('now', 0.021032986485874483), ('hours', 0.020845176966235508)]\n",
      "Topic 21: [('fun', 0.11960415893486047), ('its', 0.05483498703334265), ('totally', 0.03490421792027468), ('another', 0.03490421792027468), ('really', 0.03432659858727814), ('jump', 0.03294857234353263), ('so', 0.029990250464154208), ('worth', 0.029231936363482237), ('get', 0.02886884147863857), ('contest', 0.028510503437256054)]\n",
      "Topic 22: [('love', 0.30661419046534777), ('this', 0.1270087896560081), ('game', 0.07663673913519796), ('lost', 0.05286668437120737), ('absolutely', 0.041295053372298794), ('send', 0.04128469004226039), ('plying', 0.04128469004226039), ('demand', 0.04128469004226039), ('evolved', 0.036794978494236574), ('bet', 0.034173312914966794)]\n",
      "Topic 23: [('good', 0.3570441545059043), ('game', 0.14499922125282055), ('gaem', 0.08047901603174809), ('baked', 0.08047901603174809), ('relax', 0.07172692010268901), ('dry', 0.06661633150512514), ('half', 0.05430961317909355), ('got', 0.03375829312646878), ('people', 0.026496643845723693), ('just', 0.022164491964098514)]\n",
      "Topic 24: [('witness', 0.05379313172418338), ('moon', 0.05283013979335692), ('see', 0.04541395308431846), ('city', 0.04002060667235456), ('dreaming', 0.032275879034510034), ('our', 0.03001545500426592), ('pit', 0.025639939765214628), ('defeating', 0.025639939765214628), ('depths', 0.025639939765214628), ('heresy', 0.025639939765214628)]\n",
      "Topic 25: [('like', 0.1720899653847273), ('love', 0.1691023717111918), ('it', 0.06922347434262348), ('vol', 0.057798566059164544), ('nekopara', 0.057798566059164544), ('muchfun', 0.057798566059164544), ('white', 0.057798566059164544), ('isso', 0.057798566059164544), ('men', 0.0515129698919312), ('pink', 0.0515129698919312)]\n",
      "Topic 26: [('exotic', 0.06398379717988092), ('exotics', 0.04354800430591574), ('triumphs', 0.03295288403349612), ('get', 0.031181360449542925), ('builds', 0.03110571736136838), ('zero', 0.023529166269321396), ('gear', 0.021525591133497612), ('buildcrafting', 0.02126071316431212), ('and', 0.020845516051198786), ('weapons', 0.020733299317591332)]\n",
      "Topic 27: [('clan', 0.08473031871479211), ('solo', 0.05456616256838858), ('hear', 0.024630375299086828), ('streets', 0.024630375299086828), ('clans', 0.023292045596352142), ('people', 0.022859039074391893), ('difference', 0.022255754342049038), ('friends', 0.02178996254836713), ('how', 0.02097362589059534), ('lfg', 0.020697084417918152)]\n",
      "Topic 28: [('shadowkeep', 0.13104807415093347), ('forsaken', 0.054200641548699025), ('campaign', 0.030805499091052343), ('access', 0.02990962216619647), ('was', 0.027046182740898646), ('light', 0.025337244285072495), ('hooked', 0.023394879688410152), ('shadow', 0.022221281129852676), ('still', 0.019981004687654076), ('kept', 0.018648285664383573)]\n",
      "Topic 29: [('good', 0.09050210119561426), ('game', 0.05383134271434321), ('ok', 0.040011392591278144), ('its', 0.036782693507994214), ('know', 0.03630490260439956), ('barristan', 0.033999156505390905), ('vc', 0.033999156505390905), ('femboys', 0.033999156505390905), ('runescape', 0.033999156505390905), ('debate', 0.033999156505390905)]\n",
      "Topic 30: [('good', 0.26863322100920417), ('its', 0.23260167054089098), ('unemployed', 0.09214264154359565), ('ig', 0.09214264154359565), ('great', 0.08463383928037492), ('again', 0.08289127239658498), ('cuz', 0.08212212591467294), ('yea', 0.07627087230296936), ('baby', 0.062180571610846246), ('ok', 0.05421833633745662)]\n",
      "Topic 31: [('great', 0.25954377379314975), ('pow', 0.15740074133645646), ('cool', 0.13286699688282258), ('game', 0.12534865338943327), ('awesome', 0.10687288989423069), ('gamer', 0.08830336481261249), ('ftw', 0.07870037066822823), ('overall', 0.06600243208297145), ('punch', 0.04933307020752096), ('launch', 0.04783503369971096)]\n",
      "Topic 32: [('future', 0.10143620229300543), ('season', 0.08285962149756314), ('bright', 0.06404461743323651), ('next', 0.052415088190042106), ('excited', 0.03851996794131364), ('heres', 0.038157755475504596), ('seasons', 0.036473918309537626), ('hoping', 0.03543899117107667), ('hope', 0.03292694325440707), ('looking', 0.02916261042981006)]\n",
      "Topic 33: [('recommend', 0.1437949567069582), ('this', 0.05952329156124543), ('personally', 0.056280135099477255), ('everyone', 0.055555452437102644), ('game', 0.04420859618814555), ('masterpiece', 0.03938101198014751), ('would', 0.037763773588870266), ('highly', 0.0368532834375012), ('recommended', 0.03529306799325006), ('try', 0.031629393568846885)]\n",
      "Topic 34: [('son', 0.07914603770482674), ('had', 0.07334672433185908), ('memories', 0.055068464898713664), ('my', 0.05402762220446353), ('brought', 0.05252474288595714), ('reminded', 0.0518007935121766), ('died', 0.0518007935121766), ('wife', 0.04673703094932888), ('loved', 0.04107399878806979), ('me', 0.03902489496211776)]\n",
      "Topic 35: [('halo', 0.15462273027622755), ('borderlands', 0.08190884650633302), ('similar', 0.030358881262895963), ('creators', 0.02593330292042303), ('bungie', 0.024326599579512217), ('reach', 0.022776813466455718), ('minute', 0.022776813466455718), ('guns', 0.021084917764940123), ('thought', 0.020239254175263975), ('gameplay', 0.0197805174249177)]\n",
      "Topic 36: [('fun', 0.3743400342803352), ('importantly', 0.09941099452828828), ('lol', 0.0923278980509629), ('have', 0.09084954447361566), ('eyes', 0.07758380767184524), ('wow', 0.06977420257946887), ('helpful', 0.06977420257946887), ('big', 0.06134223792046456), ('hope', 0.0571889014418649), ('really', 0.05371811568395106)]\n",
      "Topic 37: [('expansions', 0.12147127942680903), ('expansion', 0.06109757319725382), ('latest', 0.03812259148752819), ('cost', 0.027648520791225414), ('buy', 0.026497659247225056), ('more', 0.02602059684360371), ('buying', 0.025415060991685463), ('updates', 0.022615192758794263), ('the', 0.020511089128242378), ('plenty', 0.018109818789923886)]\n",
      "Topic 38: [('community', 0.12886947667661114), ('communities', 0.05187421744627776), ('help', 0.05180831048386699), ('helpful', 0.03498940950466035), ('great', 0.02055038678127579), ('out', 0.01970254746166978), ('huge', 0.01963281334703331), ('teambased', 0.018644698728762756), ('angelicaftw', 0.018644698728762756), ('promoting', 0.018644698728762756)]\n",
      "Topic 39: [('loot', 0.10735392069314763), ('grind', 0.05383842721246417), ('grinding', 0.026931276732040803), ('achieve', 0.026172871538625554), ('loots', 0.026172871538625554), ('low', 0.021130304750592993), ('endless', 0.020426221881271033), ('for', 0.019908741159509125), ('always', 0.019643404385843947), ('rewarding', 0.018802469730175367)]\n",
      "Topic 40: [('worth', 0.14754308621321383), ('checking', 0.13649003201528329), ('try', 0.08278310415550048), ('least', 0.06577742694336128), ('definitely', 0.06532172454619446), ('give', 0.06381231894018258), ('sure', 0.055660788970502945), ('your', 0.051463739817421285), ('must', 0.05025598390843169), ('go', 0.04488032784095755)]\n",
      "Topic 41: [('home', 0.22268245281455396), ('let', 0.19403377274918449), ('go', 0.1586840162948142), ('back', 0.1325271076686599), ('we', 0.11100970944284279), ('me', 0.10662158802150029), ('minutes', 0.08887024540036739), ('peace', 0.06745746057276705), ('come', 0.048014622128112895), ('ill', 0.045398533645119636)]\n",
      "Topic 42: [('addicting', 0.19218865669682106), ('addicted', 0.15076795172529509), ('please', 0.0720707462613079), ('heroine', 0.06995588503842509), ('addictive', 0.054596012806113314), ('very', 0.05346699324873595), ('medication', 0.03924593991671666), ('addicts', 0.03924593991671666), ('admit', 0.03924593991671666), ('wowvery', 0.03924593991671666)]\n",
      "Topic 43: [('bungie', 0.38254499300888245), ('thank', 0.30023166369021054), ('thanks', 0.08072684215776157), ('done', 0.07714791803434906), ('bassalue', 0.07224820757395568), ('sincerely', 0.07224820757395568), ('you', 0.06587204864030662), ('yall', 0.064391212364914), ('holds', 0.064391212364914), ('well', 0.06373643031790871)]\n",
      "Topic 44: [('edit', 0.31158822919300405), ('still', 0.17229996795875618), ('good', 0.10511734735142773), ('now', 0.08961881198329129), ('its', 0.049843215115905205), ('actually', 0.0491957738190052), ('green', 0.046071320771797826), ('spears', 0.046071320771797826), ('yep', 0.046071320771797826), ('caca', 0.046071320771797826)]\n",
      "Topic 45: [('favorite', 0.42599982149627386), ('my', 0.21327100556773895), ('favourite', 0.11904124986739202), ('its', 0.10078188550908307), ('mine', 0.06986639853305605), ('game', 0.06103197324794046), ('hate', 0.04370472029702996), ('yeah', 0.04190633874934121), ('become', 0.04037105292641636), ('truly', 0.034132750887064356)]\n",
      "Topic 46: [('amazing', 0.24707806353371994), ('such', 0.09992222912445312), ('powerfantasy', 0.09489316815683731), ('clicked', 0.09489316815683731), ('fulfillment', 0.09489316815683731), ('track', 0.09489316815683731), ('fantasy', 0.08457353265839451), ('game', 0.08289417262033703), ('rate', 0.07854761475977441), ('takes', 0.06600413488500266)]\n",
      "Topic 47: [('bungie', 0.08337822757840657), ('destiny', 0.048842823193992524), ('make', 0.033656502750368134), ('see', 0.029519069504806997), ('history', 0.029274904367179846), ('came', 0.028762653372232053), ('happy', 0.02598034393382153), ('has', 0.023937397579549716), ('their', 0.022464100161403898), ('job', 0.022432216624647353)]\n",
      "Topic 48: [('hrs', 0.031388203593516906), ('will', 0.031018228264364546), ('help', 0.029152861179865746), ('worth', 0.0286852444842972), ('be', 0.026274672092061187), ('wait', 0.02469349971804955), ('when', 0.024681213940488302), ('off', 0.023834441667618642), ('feel', 0.0230812267158386), ('this', 0.022905662693205337)]\n",
      "Topic 49: [('grip', 0.15045491302684266), ('freehold', 0.15045491302684266), ('protected', 0.15045491302684266), ('beast', 0.15045491302684266), ('defenses', 0.15045491302684266), ('punch', 0.14799921062256288), ('hes', 0.14799921062256288), ('break', 0.13947477815288245), ('team', 0.12658052616851528), ('take', 0.1191562040700909)]\n",
      "Topic 50: [('hours', 0.08754974325818915), ('time', 0.061119591583500915), ('spent', 0.05919968424902515), ('sink', 0.05529704158245083), ('way', 0.03682777362432642), ('say', 0.03682777362432642), ('frankly', 0.035321345925045), ('throw', 0.035321345925045), ('amazes', 0.035321345925045), ('payout', 0.035321345925045)]\n",
      "Topic 51: [('content', 0.10862176904517226), ('much', 0.048706049427465786), ('etc', 0.04397537060012007), ('new', 0.04164976352062591), ('ton', 0.03891663758620553), ('coming', 0.037823668651629144), ('hope', 0.036833529742218075), ('views', 0.035920012805130505), ('tips', 0.035920012805130505), ('finger', 0.035920012805130505)]\n",
      "Topic 52: [('recommended', 0.4453649056291079), ('recommend', 0.4269542131915285), ('would', 0.28592571431573205), ('highly', 0.18602133544643462), ('guy', 0.11322173439090026), ('big', 0.08325018003491619), ('said', 0.08200291491379022), ('being', 0.07570759784921445), ('enough', 0.0723317292391516), ('cant', 0.06566811003992551)]\n",
      "Topic 53: [('much', 0.044536380251387536), ('there', 0.0438697335393143), ('content', 0.043658366439955694), ('too', 0.031078749335335644), ('that', 0.030071654683436744), ('things', 0.025969326104046335), ('know', 0.025051722461338438), ('amount', 0.024704019746636007), ('so', 0.0246783241826804), ('variety', 0.02405732385377343)]\n",
      "Topic 54: [('crucible', 0.12708938842727635), ('moments', 0.04308288152889992), ('raid', 0.04221031583294733), ('adrenaline', 0.0418186471447412), ('fierce', 0.0418186471447412), ('battle', 0.0418186471447412), ('skyboxes', 0.0388390419845379), ('clutch', 0.0388390419845379), ('teammates', 0.036728662305686895), ('boss', 0.036728662305686895)]\n",
      "Topic 55: [('enjoy', 0.0725183906480241), ('parts', 0.05185574248317561), ('tons', 0.044856123138437565), ('do', 0.04401956114387925), ('recognition', 0.03948970351868385), ('peoples', 0.03948970351868385), ('lean', 0.03948970351868385), ('women', 0.03948970351868385), ('excites', 0.03948970351868385), ('basics', 0.03948970351868385)]\n",
      "Topic 56: [('makes', 0.11786990605518272), ('hate', 0.11697439844205076), ('love', 0.11222480173895083), ('fills', 0.10319000370401736), ('he', 0.0779829322947005), ('kiss', 0.06233178692655), ('lips', 0.06233178692655), ('butt', 0.06233178692655), ('throat', 0.06233178692655), ('mighty', 0.06233178692655)]\n",
      "Topic 57: [('nice', 0.639640278738301), ('winning', 0.14911649179243242), ('wallet', 0.13849184707644435), ('tbh', 0.13096667743212037), ('game', 0.11875135584262099), ('solid', 0.08690916580506093), ('very', 0.07597941145873004), ('awesome', 0.06749866730161938), ('im', 0.05566282587284816), ('love', 0.03765437426767429)]\n",
      "Topic 58: [('fun', 0.10160658073323385), ('kinda', 0.08423384832943198), ('sometimes', 0.06660014402793296), ('braincells', 0.060550878728648574), ('silly', 0.060550878728648574), ('functioning', 0.060550878728648574), ('crying', 0.053965968458213644), ('dark', 0.047397464213529285), ('depression', 0.047397464213529285), ('cool', 0.045554398931253466)]\n",
      "Topic 59: [('cool', 0.8486343671870604), ('neat', 0.30679437705921364), ('think', 0.18626441500330293), ('yeah', 0.1230153814900016), ('pretty', 0.11908559293537617), ('thats', 0.11279056649891872), ('quite', 0.09907644154063262), ('its', 0.09861453313254363), ('sure', 0.09695750336797287), ('really', 0.04938600958040662)]\n",
      "Topic 60: [('best', 0.3304279888391353), ('kumari', 0.11995928804732263), ('jonah', 0.11995928804732263), ('xd', 0.09929604130009217), ('available', 0.0768063150298673), ('please', 0.07343057166246465), ('game', 0.07204363823253349), ('life', 0.04876224371844141), ('back', 0.046676214021666385), ('ive', 0.03638231381588179)]\n",
      "Topic 61: [('great', 0.13626048124140364), ('this', 0.1261893781098403), ('friggin', 0.105964037775135), ('is', 0.09468240954078544), ('dope', 0.07624518297505638), ('game', 0.07520919203365996), ('all', 0.07071387663916805), ('wonderful', 0.06784557827638278), ('fantastic', 0.04858851177072362), ('awesome', 0.04274915595769228)]\n",
      "Topic 62: [('gunplay', 0.08439810935622873), ('lore', 0.08347293458390699), ('music', 0.07823002475650731), ('expansive', 0.040818136003586365), ('atmosphere', 0.0379594595475981), ('great', 0.030075887950279157), ('art', 0.029137411103101793), ('space', 0.028348054082337475), ('story', 0.02791958712826527), ('design', 0.02729372626323611)]\n",
      "Topic 63: [('product', 0.2879450736726782), ('received', 0.2879450736726782), ('free', 0.1820357220414227), ('for', 0.0924639471838918), ('offline', 0.06294893333176337), ('niicccccccccceeeeeeeeeeeeeeeeeee', 0.06294893333176337), ('package', 0.056103234535766655), ('deliver', 0.056103234535766655), ('addiction', 0.0492745915091146), ('growing', 0.0492745915091146)]\n",
      "Topic 64: [('players', 0.03561385034828914), ('new', 0.03307952371926635), ('confusing', 0.030482774643703917), ('quest', 0.025494420173267474), ('you', 0.02270802816375242), ('things', 0.02255669030191204), ('know', 0.021759669189175376), ('be', 0.02126395738219695), ('spare', 0.020377699572141344), ('catch', 0.020377699572141344)]\n",
      "Topic 65: [('thank', 0.5080843539372794), ('kanye', 0.16302159657713075), ('bingy', 0.16302159657713075), ('ted', 0.16302159657713075), ('boy', 0.14529299200288287), ('reading', 0.14529299200288287), ('welcome', 0.14529299200288287), ('kool', 0.14529299200288287), ('talk', 0.12760855749796343), ('ready', 0.12760855749796343)]\n",
      "Topic 66: [('pretty', 0.21715608123509772), ('its', 0.1798265015946384), ('good', 0.15801954177012012), ('guess', 0.1467084395013532), ('exaggerating', 0.1246635738531), ('nah', 0.1246635738531), ('sayin', 0.1246635738531), ('gosh', 0.1246635738531), ('nam', 0.1246635738531), ('eh', 0.11110640564926337)]\n",
      "Topic 67: [('problems', 0.0884002121449929), ('fix', 0.05474808394311528), ('implemented', 0.05084724820197957), ('anticheat', 0.04808438398473985), ('servers', 0.04420010607249645), ('major', 0.042727314370001726), ('issues', 0.03684518672647391), ('alright', 0.03488809577434033), ('honestly', 0.03072192376489862), ('arbalest', 0.030714213847865216)]\n",
      "Topic 68: [('good', 0.35039115783809244), ('stuff', 0.3396911342934893), ('soup', 0.2764279246307869), ('xxx', 0.2764279246307869), ('very', 0.251062403081021), ('noice', 0.2463663777440188), ('pretty', 0.08025333436949264), ('amazing', 0.07197491415982277), ('really', 0.06656375204315675), ('', 1e-05)]\n",
      "Topic 69: [('review', 0.20004313035904073), ('write', 0.08435141936306058), ('playtime', 0.05169164947461449), ('not', 0.0372768473352807), ('postlightfall', 0.035920012805130505), ('answered', 0.035920012805130505), ('informative', 0.035920012805130505), ('promised', 0.035920012805130505), ('thrown', 0.035920012805130505), ('context', 0.035920012805130505)]\n",
      "Topic 70: [('gud', 2.057585864006479), ('goodd', 0.317892113325405), ('gmae', 0.317892113325405), ('trust', 0.24883668712102872), ('me', 0.07463511161505021), ('game', 0.06942386956953227), ('its', 0.038213131588860666), ('', 1e-05), ('', 1e-05), ('', 1e-05)]\n",
      "Topic 71: [('shape', 0.3162892606931508), ('final', 0.304145747231641), ('believe', 0.0657383822030809), ('around', 0.052008634654997096), ('excelling', 0.05006175012998504), ('positives', 0.05006175012998504), ('exclusivity', 0.05006175012998504), ('corrected', 0.05006175012998504), ('ending', 0.05006175012998504), ('fishing', 0.05006175012998504)]\n",
      "Topic 72: [('poggers', 0.36597687828027065), ('jimbo', 0.15110471168299822), ('feet', 0.14033840503746361), ('grasshopper', 0.084771230220108), ('dingdong', 0.084771230220108), ('sweet', 0.084771230220108), ('town', 0.084771230220108), ('trauma', 0.084771230220108), ('fearing', 0.084771230220108), ('texas', 0.084771230220108)]\n",
      "Topic 73: [('hunter', 0.2434280937960649), ('mara', 0.14484468409829962), ('sov', 0.10397113189197124), ('warlock', 0.10397113189197124), ('titan', 0.07872402644308975), ('stayed', 0.058328828133101834), ('marasovs', 0.058328828133101834), ('emo', 0.058328828133101834), ('thiccc', 0.058328828133101834), ('debiny', 0.058328828133101834)]\n",
      "Topic 74: False\n",
      "Topic 0: [('pvp', 0.10398744681351392), ('pve', 0.029781090542889996), ('is', 0.026248352234331595), ('the', 0.022527962328736523), ('be', 0.020722887035580017), ('in', 0.0203695809952492), ('of', 0.01992742002690204), ('and', 0.018928805377398807), ('competitive', 0.016059944377627502), ('not', 0.015948527736126705)]\n",
      "Topic 1: [('destiny', 0.10925182087559554), ('you', 0.02822146965796348), ('and', 0.019605879230388548), ('is', 0.01776660008356403), ('with', 0.01766842130962229), ('then', 0.01740887136408142), ('of', 0.01728173075557888), ('that', 0.01727966183178564), ('like', 0.017225454713708933), ('the', 0.017211174375289028)]\n",
      "Topic 2: [('hate', 0.3365172509232338), ('this', 0.19613541108956462), ('game', 0.15479075497073175), ('god', 0.03922565315971531), ('still', 0.035257893669064365), ('nut', 0.03389155237889285), ('fk', 0.03389155237889285), ('yep', 0.03389155237889285), ('gms', 0.030213684090516318), ('tldr', 0.030213684090516318)]\n",
      "Topic 3: [('bungie', 0.10993508256238017), ('will', 0.02420862146716552), ('to', 0.02256195297412878), ('up', 0.02176980259102654), ('the', 0.02117527323267883), ('you', 0.021077019321572472), ('but', 0.01997757846606109), ('company', 0.017765698758114432), ('bungo', 0.017765698758114432), ('cant', 0.017167204115429893)]\n",
      "Topic 4: [('relationship', 0.1462505469593634), ('toxic', 0.07489762471166646), ('abusive', 0.05984313884789157), ('like', 0.04362290479445769), ('girlfriend', 0.039414515505532696), ('you', 0.03767062244522804), ('love', 0.03694944126254016), ('an', 0.034997908869331865), ('ex', 0.033614381448144395), ('its', 0.03070015144367497)]\n",
      "Topic 5: [('hours', 0.08485543802268217), ('time', 0.04773470236956659), ('of', 0.03068738126490749), ('job', 0.03043893276664901), ('waste', 0.02961789124230202), ('in', 0.02470856104883411), ('this', 0.02460132988500317), ('after', 0.023314887532578425), ('hrs', 0.02238930352684577), ('some', 0.020956330156553175)]\n",
      "Topic 6: [('white', 0.05370491203641567), ('whale', 0.05370491203641567), ('holy', 0.04907340179328032), ('grail', 0.04907340179328032), ('lance', 0.035582407035855516), ('rip', 0.03162856234118207), ('dead', 0.028453947470568692), ('reddick', 0.028216109792299392), ('my', 0.027223905277091346), ('the', 0.02690505304858016)]\n",
      "Topic 7: [('hate', 0.13454817776034195), ('favorite', 0.08207590107604877), ('favourite', 0.0663636027040069), ('my', 0.061117606822603025), ('game', 0.06007568524875634), ('its', 0.05962572765939185), ('this', 0.05227995906891656), ('it', 0.04852866379091824), ('much', 0.045208915508251096), ('love', 0.04373062484685027)]\n",
      "Topic 8: [('friends', 0.07783370237234553), ('solo', 0.047862512247560066), ('with', 0.029250251768093066), ('if', 0.025177246531650394), ('alone', 0.023931256123780033), ('to', 0.023333491187440505), ('me', 0.022987398315234966), ('play', 0.021052436971840796), ('really', 0.020742670192166746), ('have', 0.020179179817068956)]\n",
      "Topic 9: [('dementia', 0.08879175102085589), ('cancer', 0.0742228090890484), ('syndrome', 0.06597583030137635), ('crack', 0.0486225503139119), ('addiction', 0.045559139951560294), ('disease', 0.04314691586876625), ('addicting', 0.040967527389925984), ('cocaine', 0.03960630239598915), ('disorder', 0.039109723170160135), ('infection', 0.030389093946194934)]\n",
      "Topic 10: [('sucks', 0.42426093408415444), ('ass', 0.16883681276166465), ('titans', 0.116391452893235), ('this', 0.10742821905960061), ('game', 0.1069877277003587), ('suck', 0.09009472558166029), ('hmm', 0.04685008711199894), ('dude', 0.04685008711199894), ('stinks', 0.04685008711199894), ('haters', 0.04685008711199894)]\n",
      "Topic 11: [('grinding', 0.0870303441491263), ('grindy', 0.06255683780535799), ('grind', 0.04218777342120411), ('over', 0.038045558892326865), ('but', 0.028003467755415432), ('really', 0.027688537632564302), ('addict', 0.025996213313579257), ('again', 0.023735548404307173), ('for', 0.02310709505404781), ('light', 0.023071208377396464)]\n",
      "Topic 12: [('review', 0.12850043283102675), ('reviews', 0.038158330050329335), ('tablespoon', 0.03404137116877411), ('nobody', 0.032196339269540235), ('gay', 0.032196339269540235), ('eat', 0.030767666265919265), ('gave', 0.028618747537747), ('this', 0.02842749800819334), ('to', 0.028370746108798625), ('say', 0.027142902530287095)]\n",
      "Topic 13: [('sucks', 0.22538862123220704), ('bad', 0.13365979557796354), ('hell', 0.12204168803991716), ('believe', 0.10396734555789033), ('kinda', 0.08136112535994477), ('it', 0.07870742658589552), ('disgraceful', 0.0663709567419985), ('yeh', 0.0663709567419985), ('lowkey', 0.0663709567419985), ('dogass', 0.0663709567419985)]\n",
      "Topic 14: [('dont', 0.2519334855333619), ('explain', 0.14801171186037773), ('play', 0.13204933584487955), ('this', 0.07293897515260134), ('time', 0.07162231446367483), ('not', 0.0689387973109993), ('do', 0.06344336245026307), ('buy', 0.05845711182219944), ('have', 0.05695736238688818), ('aaaaaaaaaaaaaaaaaaaaaaaaaaaaaaaaaaaaaaaaaaaaaaaaaaaaaaaaaaaaaaaaaaaaaaaaaaaaaaaaaaaaaaaaaaaaaaaaaaaaaaaaaaaaaaaaaaaaaaaaaaaaaaaaaaaaaaaaaaaaaaaaaaaaaaaaaaaaaaaaaaaaaaaaaaaaaaaaaaaaaaaaaaaaaaaaaaaaaaaaaaaaaaaaaaaaaaaaaaaaaaaaaaaa', 0.05138396650993433)]\n",
      "Topic 15: [('hate', 0.18048827722472865), ('favorite', 0.16264754737865333), ('destiny', 0.14683830888228055), ('its', 0.09304994355093238), ('my', 0.0888177211022631), ('favourite', 0.07890655166868175), ('game', 0.07857321582706756), ('this', 0.050207002722012645), ('platform', 0.03903898700355373), ('steam', 0.026302183889560585)]\n",
      "Topic 16: [('worst', 0.2788915678513245), ('ever', 0.16127425184780886), ('played', 0.1489161447850214), ('best', 0.11424176934581934), ('simultaneously', 0.07921321566315453), ('disappointing', 0.07041120425953627), ('game', 0.06323839989545012), ('youve', 0.061989428845672205), ('most', 0.06079909441682926), ('ive', 0.057654594349885575)]\n",
      "Topic 17: [('flaws', 0.06735859140137693), ('issues', 0.06313727994319739), ('has', 0.05023353827975573), ('major', 0.04863350387801322), ('about', 0.04435726140502514), ('people', 0.035876072726116946), ('game', 0.0352308255865588), ('problems', 0.03243193013500903), ('liking', 0.032091370672412814), ('color', 0.032091370672412814)]\n",
      "Topic 18: [('reskins', 0.2693315920035315), ('crazy', 0.26737115252727156), ('repetitive', 0.24982675409286872), ('put', 0.15412428749678458), ('me', 0.15398257244654998), ('once', 0.14844279838364496), ('make', 0.13086724958000218), ('they', 0.10210853574594159), ('was', 0.08834893521564804), ('game', 0.08205073853711721)]\n",
      "Topic 19: [('cant', 0.1618622102311961), ('stop', 0.14872450937648868), ('playing', 0.1201879548070518), ('escape', 0.10472549298381023), ('help', 0.09666611252338561), ('pls', 0.09454388197469844), ('end', 0.07508619134458737), ('want', 0.0680514894681453), ('it', 0.05022924089812136), ('all', 0.04930224952908869)]\n",
      "Topic 20: [('sunsetting', 0.05977868185005791), ('sunset', 0.04731139157953855), ('system', 0.04154731965934033), ('weapons', 0.04116045497096125), ('content', 0.03884413902187135), ('vaulting', 0.03140721744738087), ('be', 0.0275482823687274), ('and', 0.027203559851688545), ('the', 0.027140272076348625), ('weapon', 0.027046364479212884)]\n",
      "Topic 21: [('new', 0.08902795161068273), ('players', 0.056228179964641724), ('player', 0.05327009646775217), ('start', 0.040592579777749424), ('the', 0.030430916855349738), ('confusing', 0.029047193593404668), ('to', 0.026225059428301254), ('all', 0.025539874993247082), ('and', 0.02471549232825138), ('hard', 0.023411975501610036)]\n",
      "Topic 22: [('hate', 0.32421042390367927), ('it', 0.2798486278609619), ('love', 0.21793327855776), ('thanks', 0.07866187465718341), ('minute', 0.0701255877656428), ('but', 0.06867292597708498), ('every', 0.06670816673621556), ('single', 0.05313660608894037), ('absolutely', 0.05170333113162352), ('that', 0.046353378564631315)]\n",
      "Topic 23: [('dlcs', 0.10282463100552401), ('dlc', 0.049793260764902335), ('pass', 0.035457161867787995), ('buy', 0.033683465919854695), ('the', 0.02893199622957508), ('if', 0.026206799363799667), ('dungeons', 0.0247355345818817), ('you', 0.0232709098085763), ('and', 0.021661719406065746), ('are', 0.021443729349083184)]\n",
      "Topic 24: [('hurts', 0.14464910440274298), ('pain', 0.09688536930649433), ('beaver', 0.08602846518195631), ('face', 0.07232455220137149), ('hurt', 0.0573523101213042), ('then', 0.05482172535148622), ('like', 0.04314874278582228), ('it', 0.03650199493838633), ('pile', 0.034628325256694875), ('bumps', 0.034628325256694875)]\n",
      "Topic 25: [('product', 0.22077630790340705), ('received', 0.1989980685769824), ('free', 0.17343436810663318), ('for', 0.08189619252732273), ('depressed', 0.038513960081459755), ('you', 0.03263751167104809), ('life', 0.03225539664128516), ('completely', 0.029128949874067587), ('your', 0.028069893892473854), ('this', 0.025391445589339035)]\n",
      "Topic 26: [('life', 0.20434632785461584), ('ruined', 0.14426399499047943), ('my', 0.08828098763264881), ('this', 0.05227995906891656), ('has', 0.04568445099815934), ('what', 0.041964939695135026), ('will', 0.04156046575576971), ('lost', 0.04057671314927926), ('stolen', 0.03683012628457721), ('friendship', 0.03683012628457721)]\n",
      "Topic 27: [('cabal', 0.2328893772193648), ('stepped', 0.2328893772193648), ('weve', 0.2328893772193648), ('whether', 0.2291008250910195), ('mars', 0.22553482328756022), ('war', 0.22553482328756022), ('wanted', 0.210315474707171), ('we', 0.175047684050255), ('into', 0.1469762326659121), ('or', 0.1241044182770249)]\n",
      "Topic 28: [('bad', 0.2868795612405071), ('khelne', 0.1385407953418797), ('horrible', 0.09961693235045364), ('game', 0.09505878245153823), ('bunky', 0.07770258350282752), ('badhiyaa', 0.07770258350282752), ('apples', 0.07770258350282752), ('shaxxersize', 0.07770258350282752), ('aaegaa', 0.07770258350282752), ('hai', 0.07770258350282752)]\n",
      "Topic 29: [('raids', 0.14305252810539743), ('any', 0.042492716964711054), ('teaming', 0.04161298614664519), ('do', 0.03602095670253032), ('complete', 0.034937643012582315), ('to', 0.03451699879798891), ('raid', 0.03249747888901674), ('end', 0.032179796290537445), ('have', 0.031044892026259936), ('friends', 0.029936039373979054)]\n",
      "Topic 30: [('shooter', 0.085856242613241), ('looter', 0.06808274233754821), ('shooting', 0.0592046847441511), ('shoot', 0.057237495075494), ('hope', 0.05553632378327961), ('my', 0.04547675690456053), ('wielder', 0.04110717320794746), ('achieved', 0.04110717320794746), ('zones', 0.04110717320794746), ('cri', 0.04110717320794746)]\n",
      "Topic 31: [('content', 0.10016367755221152), ('state', 0.05699015199584092), ('great', 0.04755128266577894), ('of', 0.04269333883670583), ('half', 0.04126424063582126), ('that', 0.04074785371495497), ('is', 0.035910961763589225), ('the', 0.035101708744775514), ('theres', 0.03371479937652433), ('edit', 0.03265009941779215)]\n",
      "Topic 32: [('hand', 0.07755072240007514), ('moment', 0.06743827819971265), ('we', 0.06135539601423634), ('glorious', 0.05117272620736097), ('stand', 0.04495885213314177), ('times', 0.043147870849212115), ('couldnt', 0.042963858299256634), ('together', 0.04133660421325865), ('broke', 0.04133660421325865), ('thinking', 0.04133660421325865)]\n",
      "Topic 33: [('crucible', 0.2704772241053028), ('ammo', 0.07834720840023542), ('osiris', 0.06328776645064428), ('trials', 0.06328776645064428), ('gun', 0.06328776645064428), ('after', 0.05684008788114809), ('dont', 0.04787701487530555), ('didnt', 0.04514530448455653), ('crota', 0.04394215067056453), ('inhabit', 0.04394215067056453)]\n",
      "Topic 34: [('season', 0.1106442183240527), ('seasonal', 0.08384542389358773), ('content', 0.05720682292311963), ('months', 0.03657013075651337), ('of', 0.03522074440631428), ('effort', 0.03240540640765413), ('seasons', 0.030967456306607053), ('the', 0.030628520211553305), ('was', 0.027250483264566763), ('amount', 0.026521391080315582)]\n",
      "Topic 35: [('gambit', 0.11495746061411859), ('bugs', 0.08035666702216768), ('ton', 0.0434272636309464), ('others', 0.041073519232746804), ('of', 0.037773941769101864), ('there', 0.03765131886194662), ('the', 0.03688026754691563), ('final', 0.03446888742108235), ('wish', 0.0336155903404823), ('crucible', 0.029344704448386764)]\n",
      "Topic 36: [('depression', 0.2182886688048362), ('crippling', 0.17567612625323142), ('mentally', 0.11592188997994014), ('want', 0.09749417470742447), ('ill', 0.07810138277410336), ('hoes', 0.06501644742073323), ('earth', 0.06501644742073323), ('lite', 0.06501644742073323), ('infected', 0.06501644742073323), ('am', 0.06097214414941574)]\n",
      "Topic 37: [('battlenet', 0.10924673970646928), ('warframe', 0.09505585879578546), ('campaign', 0.05834706037669427), ('motionsick', 0.054096881990638744), ('wow', 0.04752792939789273), ('on', 0.04598394035526001), ('first', 0.04406468246195889), ('mechanics', 0.04369869588258772), ('having', 0.03575746118414641), ('me', 0.03482939138671964)]\n",
      "Topic 38: [('hackers', 0.07821073410804051), ('report', 0.059959233308636214), ('list', 0.059959233308636214), ('sadly', 0.05214048940536035), ('cheaters', 0.04759056615524439), ('been', 0.04426974308234922), ('your', 0.04369972117351043), ('until', 0.04190012951151408), ('good', 0.039702469910955135), ('associated', 0.036202340041090096)]\n",
      "Topic 39: [('loot', 0.11238266458841442), ('gear', 0.06492976467692257), ('grinding', 0.053604313450554185), ('weapons', 0.04020323508791564), ('drops', 0.03438686719651771), ('of', 0.03234343851265593), ('good', 0.027083855443132184), ('need', 0.026417379258766076), ('for', 0.026092507851728407), ('the', 0.025594995959732143)]\n",
      "Topic 40: [('free', 0.1349481209040659), ('expensive', 0.11008734159302784), ('chess', 0.07834720840023542), ('most', 0.05943635609369343), ('ever', 0.057330721503264966), ('ive', 0.056362336200664005), ('played', 0.052937588773107926), ('play', 0.04516997970969673), ('feed', 0.04394215067056453), ('childrens', 0.04394215067056453)]\n",
      "Topic 41: False\n"
     ]
    }
   ],
   "source": [
    "# 긍정 리뷰 토픽 내 주요 단어\n",
    "for topic in range(len(topic_model_positive.get_topic_info())):\n",
    "    print(f\"Topic {topic}: {topic_model_positive.get_topic(topic)}\")\n",
    "\n",
    "# 부정 리뷰 토픽 내 주요 단어\n",
    "for topic in range(len(topic_model_negative.get_topic_info())):\n",
    "    print(f\"Topic {topic}: {topic_model_negative.get_topic(topic)}\")"
   ]
  },
  {
   "cell_type": "code",
   "execution_count": 12,
   "metadata": {},
   "outputs": [
    {
     "name": "stdout",
     "output_type": "stream",
     "text": [
      "CSV 파일이 저장되었습니다: destiny2_positive_topics.csv\n"
     ]
    }
   ],
   "source": [
    "import pandas as pd\n",
    "import re\n",
    "from bertopic import BERTopic\n",
    "\n",
    "# topic_model_positive 파일을 로드 (예제 코드에서는 이미 메모리에 있다고 가정)\n",
    "# topic_model_positive = BERTopic.load(\"path_to_your_model\")\n",
    "\n",
    "# 토픽 정보 추출\n",
    "topics = topic_model_positive.get_topics()\n",
    "\n",
    "# 토픽 데이터 정리\n",
    "data = []\n",
    "for topic_num, words in topics.items():\n",
    "    keywords = [re.sub(r'\\(.*?\\)', '', word[0]).strip() for word in words]  # 숫자 제거\n",
    "    data.append([topic_num, ', '.join(keywords)])\n",
    "\n",
    "# DataFrame 생성\n",
    "df = pd.DataFrame(data, columns=[\"Topic\", \"Keywords\"])\n",
    "\n",
    "# CSV 저장\n",
    "csv_filename = \"destiny2_positive_topics.csv\"\n",
    "df.to_csv(csv_filename, index=False, encoding=\"utf-8\")\n",
    "\n",
    "print(f\"CSV 파일이 저장되었습니다: {csv_filename}\")\n"
   ]
  },
  {
   "cell_type": "code",
   "execution_count": 15,
   "metadata": {},
   "outputs": [
    {
     "data": {
      "application/vnd.plotly.v1+json": {
       "config": {
        "plotlyServerURL": "https://plot.ly"
       },
       "data": [
        {
         "customdata": [
          [
           0,
           "free | play | best | one | to",
           228
          ],
          [
           1,
           "uwu | goooo | aha | ah | lets",
           158
          ],
          [
           2,
           "graphics | design | beautiful | run | art",
           147
          ],
          [
           3,
           "grind | grinding | grindy | but | dont",
           145
          ],
          [
           4,
           "community | friendly | helpful | help | players",
           130
          ],
          [
           5,
           "story | lore | quests | interesting | universe",
           100
          ],
          [
           6,
           "recommend | try | would | this | definitely",
           93
          ],
          [
           7,
           "devs | dev | developers | listen | they",
           88
          ],
          [
           8,
           "hours | played | seems | after | good",
           86
          ],
          [
           9,
           "movement | combat | satisfying | feels | feel",
           82
          ],
          [
           10,
           "fp | best | one | there | out",
           78
          ],
          [
           11,
           "this | game | amazing | is | awesome",
           77
          ],
          [
           12,
           "warframe | is | games | good | that",
           70
          ],
          [
           13,
           "pay | everything | cosmetics | without | can",
           67
          ],
          [
           14,
           "space | ninja | ninjas | pet | you",
           64
          ],
          [
           15,
           "friends | with | friend | fun | play",
           63
          ],
          [
           16,
           "updates | update | updating | updated | new",
           58
          ],
          [
           17,
           "love | loved | had | died | wife",
           58
          ],
          [
           18,
           "warframe | is | grew | feature | love",
           54
          ],
          [
           19,
           "shooter | person | third | thirdperson | rd",
           48
          ],
          [
           20,
           "addictive | addicting | addicted | very | found",
           47
          ],
          [
           21,
           "worth | regret | wont | it | try",
           45
          ],
          [
           22,
           "coop | co | op | pretty | multiplayer",
           43
          ],
          [
           23,
           "highly | recommended | recommend | would | recomended",
           42
          ],
          [
           24,
           "love | this | like | game | absolutely",
           39
          ],
          [
           25,
           "received | product | free | for | homies",
           38
          ],
          [
           26,
           "platinum | currency | premium | trading | sell",
           36
          ],
          [
           27,
           "content | polish | do | theres | things",
           35
          ],
          [
           28,
           "good | pretty | its | yeah | hey",
           34
          ],
          [
           29,
           "warframe | playing | now | on | been",
           34
          ],
          [
           30,
           "free | its | try | all | give",
           33
          ],
          [
           31,
           "weapons | frame | mods | frames | combinations",
           33
          ],
          [
           32,
           "free | warframe | play | received | product",
           32
          ],
          [
           33,
           "weapons | modding | different | enemies | wield",
           32
          ],
          [
           34,
           "farming | farm | simulator | situation | average",
           31
          ],
          [
           35,
           "nice | cheers | amazing | thank | great",
           29
          ],
          [
           36,
           "we | honey | hive | bees | peace",
           29
          ],
          [
           37,
           "yes | yesyesyesyesyes | yesyesyesyes | yesyesyeyesyes | sir",
           29
          ],
          [
           38,
           "ninja | ninjas | badass | called | as",
           28
          ],
          [
           39,
           "customization | options | playstyle | customize | allows",
           27
          ],
          [
           40,
           "solo | friends | public | or | matchmaking",
           25
          ],
          [
           41,
           "mission | missions | variety | under | do",
           24
          ],
          [
           42,
           "destiny | than | better | then | acc",
           24
          ],
          [
           43,
           "digital | extremes | their | extreme | feedback",
           24
          ],
          [
           44,
           "fun | its | damn | pretty | guess",
           23
          ],
          [
           45,
           "review | reviews | positive | this | beer",
           23
          ],
          [
           46,
           "here | reborn | brought | was | me",
           22
          ],
          [
           47,
           "destiny | than | better | anthem | yet",
           22
          ],
          [
           48,
           "good | owo | goodgame | gamee | game",
           21
          ],
          [
           49,
           "played | ever | best | ive | games",
           21
          ],
          [
           50,
           "pros | cons | you | lot | different",
           21
          ],
          [
           51,
           "tenno | next | luck | or | light",
           21
          ],
          [
           52,
           "cool | awesome | its | rad | sums",
           21
          ],
          [
           53,
           "freetoplay | best | one | played | freetoplays",
           20
          ],
          [
           54,
           "fun | discovered | tf | bit | minutes",
           19
          ],
          [
           55,
           "fair | monetization | fp | paywalls | no",
           18
          ],
          [
           56,
           "open | fortuna | world | plains | areas",
           18
          ],
          [
           57,
           "fun | had | ending | lot | lets",
           18
          ],
          [
           58,
           "coop | or | solo | warframe | with",
           17
          ],
          [
           59,
           "warframe | new | developers | update | go",
           17
          ],
          [
           60,
           "beta | since | closed | bugs | been",
           17
          ],
          [
           61,
           "tutorial | guides | tutorials | online | finally",
           17
          ],
          [
           62,
           "good | very | pretty | looks | veryy",
           17
          ],
          [
           63,
           "de | fans | their | regularly | continues",
           16
          ],
          [
           64,
           "okay | its | ight | facts | big",
           16
          ],
          [
           65,
           "best | ever | historically | skateboarding | everrrr",
           16
          ],
          [
           66,
           "experience | an | enhances | understood | touching",
           15
          ],
          [
           67,
           "received | product | free | for | alright",
           14
          ],
          [
           68,
           "map | gameplay | smooth | ragdoll | treks",
           14
          ],
          [
           69,
           "changed | none | better | change | these",
           14
          ],
          [
           70,
           "guess | alright | ok | its | okish",
           13
          ],
          [
           71,
           "brain | stronger | joy | helped | me",
           13
          ],
          [
           72,
           "gud | iz | frends | pog | gudye",
           13
          ],
          [
           73,
           "awesome | totally | game | action | cool",
           13
          ],
          [
           74,
           "great | game | wonderful | so | good",
           13
          ],
          [
           75,
           "decent | hunting | good | nice | very",
           13
          ],
          [
           76,
           "grinding | warframe | think | player | can",
           12
          ],
          [
           77,
           "pve | pvp | likes | endgame | focusing",
           12
          ],
          [
           78,
           "clan | rooms | dojo | build | labs",
           12
          ],
          [
           79,
           "edit | still | ok | personnel | better",
           12
          ],
          [
           80,
           "cross | save | playing | since | ecept",
           11
          ],
          [
           81,
           "loop | gameplay | core | secondary | weapon",
           11
          ],
          [
           82,
           "freetoplay | sets | example | warframe | farmframe",
           11
          ],
          [
           83,
           "good | hope |  |  | ",
           11
          ],
          [
           84,
           "warframes | abilities | variety | set | special",
           10
          ],
          [
           85,
           "adding | keep | new | growing | step",
           10
          ],
          [
           86,
           "learn | easy | controls | learning | used",
           10
          ]
         ],
         "hovertemplate": "<b>Topic %{customdata[0]}</b><br>%{customdata[1]}<br>Size: %{customdata[2]}",
         "legendgroup": "",
         "marker": {
          "color": "#B0BEC5",
          "line": {
           "color": "DarkSlateGrey",
           "width": 2
          },
          "size": [
           228,
           158,
           147,
           145,
           130,
           100,
           93,
           88,
           86,
           82,
           78,
           77,
           70,
           67,
           64,
           63,
           58,
           58,
           54,
           48,
           47,
           45,
           43,
           42,
           39,
           38,
           36,
           35,
           34,
           34,
           33,
           33,
           32,
           32,
           31,
           29,
           29,
           29,
           28,
           27,
           25,
           24,
           24,
           24,
           23,
           23,
           22,
           22,
           21,
           21,
           21,
           21,
           21,
           20,
           19,
           18,
           18,
           18,
           17,
           17,
           17,
           17,
           17,
           16,
           16,
           16,
           15,
           14,
           14,
           14,
           13,
           13,
           13,
           13,
           13,
           13,
           12,
           12,
           12,
           12,
           11,
           11,
           11,
           11,
           10,
           10,
           10
          ],
          "sizemode": "area",
          "sizeref": 0.1425,
          "symbol": "circle"
         },
         "mode": "markers",
         "name": "",
         "orientation": "v",
         "showlegend": false,
         "type": "scatter",
         "x": [
          -9.288442611694336,
          17.23101234436035,
          -3.993556261062622,
          -6.163891792297363,
          15.359992027282715,
          2.8504364490509033,
          6.525102138519287,
          15.602701187133789,
          0.4427052140235901,
          -3.8138389587402344,
          7.141337871551514,
          7.165755748748779,
          -6.2990946769714355,
          0.6232529282569885,
          3.7493953704833984,
          7.885610580444336,
          8.959378242492676,
          18.033708572387695,
          -5.954672813415527,
          6.635355472564697,
          6.754523277282715,
          6.604610919952393,
          -6.796182155609131,
          6.525075912475586,
          7.253510475158691,
          -9.179251670837402,
          0.6458989381790161,
          2.81441593170166,
          17.619970321655273,
          -6.431109428405762,
          -9.459835052490234,
          -5.616253852844238,
          -4.208172798156738,
          -5.383156776428223,
          -6.302043914794922,
          17.77408790588379,
          15.63605785369873,
          17.227859497070312,
          3.749398708343506,
          -5.522954940795898,
          7.8940534591674805,
          2.667982339859009,
          4.897902011871338,
          15.505105018615723,
          13.773964881896973,
          6.166535377502441,
          14.020608901977539,
          4.907217502593994,
          14.146982192993164,
          4.880068302154541,
          -9.387470245361328,
          6.0816264152526855,
          17.89520263671875,
          -4.269714832305908,
          13.477925300598145,
          0.6620081663131714,
          -4.182137966156006,
          13.525544166564941,
          -6.686249732971191,
          -6.677446365356445,
          0.354125052690506,
          6.839334964752197,
          17.588472366333008,
          15.711151123046875,
          16.259641647338867,
          4.88014030456543,
          13.96291446685791,
          -9.100438117980957,
          -3.884723663330078,
          8.959110260009766,
          16.261110305786133,
          15.63608169555664,
          13.727420806884766,
          14.0624418258667,
          14.078933715820312,
          13.846988677978516,
          -6.1664299964904785,
          -6.964899063110352,
          15.37317943572998,
          0.5283629894256592,
          0.41169336438179016,
          -3.6732285022735596,
          -4.216426372528076,
          17.331018447875977,
          -5.824699401855469,
          8.96027660369873,
          6.800782680511475
         ],
         "xaxis": "x",
         "y": [
          10.692048072814941,
          10.071704864501953,
          -6.385685920715332,
          1.2308088541030884,
          14.15036392211914,
          -5.298874855041504,
          -1.2910778522491455,
          14.393362045288086,
          6.583673477172852,
          -6.565415859222412,
          -0.6299813389778137,
          -0.6433667540550232,
          1.9669495820999146,
          15.396102905273438,
          11.887441635131836,
          12.68482780456543,
          4.4099040031433105,
          9.204254150390625,
          2.365603446960449,
          -1.357770323753357,
          -1.2195329666137695,
          -0.8281376361846924,
          1.7625079154968262,
          -0.7144119739532471,
          -0.4752681851387024,
          10.582845687866211,
          15.373466491699219,
          -5.334510326385498,
          9.656749725341797,
          2.1628429889678955,
          10.863398551940918,
          2.793792724609375,
          6.518283843994141,
          3.0376641750335693,
          1.039192795753479,
          9.493123054504395,
          3.0494847297668457,
          10.075576782226562,
          11.887630462646484,
          2.901052713394165,
          12.68860912322998,
          -5.4820332527160645,
          9.512418746948242,
          14.294889450073242,
          10.962311744689941,
          -1.3468793630599976,
          10.711700439453125,
          9.503164291381836,
          -6.965997695922852,
          6.973145961761475,
          10.791075706481934,
          -1.3671308755874634,
          9.353224754333496,
          6.453394889831543,
          11.262821197509766,
          15.357341766357422,
          -6.196925640106201,
          11.21424388885498,
          1.8743945360183716,
          2.272202491760254,
          6.493241310119629,
          -1.7626889944076538,
          9.689253807067871,
          14.500028610229492,
          19.29498291015625,
          6.972626686096191,
          10.76902961730957,
          10.504069328308105,
          -6.494930267333984,
          4.409656524658203,
          19.30589485168457,
          3.049464702606201,
          -6.546281337738037,
          -6.88155460357666,
          -6.898044586181641,
          -6.665937423706055,
          1.465967059135437,
          1.5977489948272705,
          14.16324234008789,
          6.67050838470459,
          6.551791667938232,
          -6.706199645996094,
          6.509143829345703,
          9.969016075134277,
          2.5348963737487793,
          4.411798000335693,
          -1.7124923467636108
         ],
         "yaxis": "y"
        }
       ],
       "layout": {
        "annotations": [
         {
          "showarrow": false,
          "text": "D1",
          "x": -10.87881031036377,
          "y": 7.095440864562988,
          "yshift": 10
         },
         {
          "showarrow": false,
          "text": "D2",
          "x": 4.929977273941041,
          "xshift": 10,
          "y": 22.201779079437255
         }
        ],
        "height": 650,
        "hoverlabel": {
         "bgcolor": "white",
         "font": {
          "family": "Rockwell",
          "size": 16
         }
        },
        "legend": {
         "itemsizing": "constant",
         "tracegroupgap": 0
        },
        "margin": {
         "t": 60
        },
        "shapes": [
         {
          "line": {
           "color": "#CFD8DC",
           "width": 2
          },
          "type": "line",
          "x0": 4.929977273941041,
          "x1": 4.929977273941041,
          "y0": -8.010897350311279,
          "y1": 22.201779079437255
         },
         {
          "line": {
           "color": "#9E9E9E",
           "width": 2
          },
          "type": "line",
          "x0": -10.87881031036377,
          "x1": 20.73876485824585,
          "y0": 7.095440864562988,
          "y1": 7.095440864562988
         }
        ],
        "sliders": [
         {
          "active": 0,
          "pad": {
           "t": 50
          },
          "steps": [
           {
            "args": [
             {
              "marker.color": [
               [
                "red",
                "#B0BEC5",
                "#B0BEC5",
                "#B0BEC5",
                "#B0BEC5",
                "#B0BEC5",
                "#B0BEC5",
                "#B0BEC5",
                "#B0BEC5",
                "#B0BEC5",
                "#B0BEC5",
                "#B0BEC5",
                "#B0BEC5",
                "#B0BEC5",
                "#B0BEC5",
                "#B0BEC5",
                "#B0BEC5",
                "#B0BEC5",
                "#B0BEC5",
                "#B0BEC5",
                "#B0BEC5",
                "#B0BEC5",
                "#B0BEC5",
                "#B0BEC5",
                "#B0BEC5",
                "#B0BEC5",
                "#B0BEC5",
                "#B0BEC5",
                "#B0BEC5",
                "#B0BEC5",
                "#B0BEC5",
                "#B0BEC5",
                "#B0BEC5",
                "#B0BEC5",
                "#B0BEC5",
                "#B0BEC5",
                "#B0BEC5",
                "#B0BEC5",
                "#B0BEC5",
                "#B0BEC5",
                "#B0BEC5",
                "#B0BEC5",
                "#B0BEC5",
                "#B0BEC5",
                "#B0BEC5",
                "#B0BEC5",
                "#B0BEC5",
                "#B0BEC5",
                "#B0BEC5",
                "#B0BEC5",
                "#B0BEC5",
                "#B0BEC5",
                "#B0BEC5",
                "#B0BEC5",
                "#B0BEC5",
                "#B0BEC5",
                "#B0BEC5",
                "#B0BEC5",
                "#B0BEC5",
                "#B0BEC5",
                "#B0BEC5",
                "#B0BEC5",
                "#B0BEC5",
                "#B0BEC5",
                "#B0BEC5",
                "#B0BEC5",
                "#B0BEC5",
                "#B0BEC5",
                "#B0BEC5",
                "#B0BEC5",
                "#B0BEC5",
                "#B0BEC5",
                "#B0BEC5",
                "#B0BEC5",
                "#B0BEC5",
                "#B0BEC5",
                "#B0BEC5",
                "#B0BEC5",
                "#B0BEC5",
                "#B0BEC5",
                "#B0BEC5",
                "#B0BEC5",
                "#B0BEC5",
                "#B0BEC5",
                "#B0BEC5",
                "#B0BEC5",
                "#B0BEC5"
               ]
              ]
             }
            ],
            "label": "Topic 0",
            "method": "update"
           },
           {
            "args": [
             {
              "marker.color": [
               [
                "#B0BEC5",
                "red",
                "#B0BEC5",
                "#B0BEC5",
                "#B0BEC5",
                "#B0BEC5",
                "#B0BEC5",
                "#B0BEC5",
                "#B0BEC5",
                "#B0BEC5",
                "#B0BEC5",
                "#B0BEC5",
                "#B0BEC5",
                "#B0BEC5",
                "#B0BEC5",
                "#B0BEC5",
                "#B0BEC5",
                "#B0BEC5",
                "#B0BEC5",
                "#B0BEC5",
                "#B0BEC5",
                "#B0BEC5",
                "#B0BEC5",
                "#B0BEC5",
                "#B0BEC5",
                "#B0BEC5",
                "#B0BEC5",
                "#B0BEC5",
                "#B0BEC5",
                "#B0BEC5",
                "#B0BEC5",
                "#B0BEC5",
                "#B0BEC5",
                "#B0BEC5",
                "#B0BEC5",
                "#B0BEC5",
                "#B0BEC5",
                "#B0BEC5",
                "#B0BEC5",
                "#B0BEC5",
                "#B0BEC5",
                "#B0BEC5",
                "#B0BEC5",
                "#B0BEC5",
                "#B0BEC5",
                "#B0BEC5",
                "#B0BEC5",
                "#B0BEC5",
                "#B0BEC5",
                "#B0BEC5",
                "#B0BEC5",
                "#B0BEC5",
                "#B0BEC5",
                "#B0BEC5",
                "#B0BEC5",
                "#B0BEC5",
                "#B0BEC5",
                "#B0BEC5",
                "#B0BEC5",
                "#B0BEC5",
                "#B0BEC5",
                "#B0BEC5",
                "#B0BEC5",
                "#B0BEC5",
                "#B0BEC5",
                "#B0BEC5",
                "#B0BEC5",
                "#B0BEC5",
                "#B0BEC5",
                "#B0BEC5",
                "#B0BEC5",
                "#B0BEC5",
                "#B0BEC5",
                "#B0BEC5",
                "#B0BEC5",
                "#B0BEC5",
                "#B0BEC5",
                "#B0BEC5",
                "#B0BEC5",
                "#B0BEC5",
                "#B0BEC5",
                "#B0BEC5",
                "#B0BEC5",
                "#B0BEC5",
                "#B0BEC5",
                "#B0BEC5",
                "#B0BEC5"
               ]
              ]
             }
            ],
            "label": "Topic 1",
            "method": "update"
           },
           {
            "args": [
             {
              "marker.color": [
               [
                "#B0BEC5",
                "#B0BEC5",
                "red",
                "#B0BEC5",
                "#B0BEC5",
                "#B0BEC5",
                "#B0BEC5",
                "#B0BEC5",
                "#B0BEC5",
                "#B0BEC5",
                "#B0BEC5",
                "#B0BEC5",
                "#B0BEC5",
                "#B0BEC5",
                "#B0BEC5",
                "#B0BEC5",
                "#B0BEC5",
                "#B0BEC5",
                "#B0BEC5",
                "#B0BEC5",
                "#B0BEC5",
                "#B0BEC5",
                "#B0BEC5",
                "#B0BEC5",
                "#B0BEC5",
                "#B0BEC5",
                "#B0BEC5",
                "#B0BEC5",
                "#B0BEC5",
                "#B0BEC5",
                "#B0BEC5",
                "#B0BEC5",
                "#B0BEC5",
                "#B0BEC5",
                "#B0BEC5",
                "#B0BEC5",
                "#B0BEC5",
                "#B0BEC5",
                "#B0BEC5",
                "#B0BEC5",
                "#B0BEC5",
                "#B0BEC5",
                "#B0BEC5",
                "#B0BEC5",
                "#B0BEC5",
                "#B0BEC5",
                "#B0BEC5",
                "#B0BEC5",
                "#B0BEC5",
                "#B0BEC5",
                "#B0BEC5",
                "#B0BEC5",
                "#B0BEC5",
                "#B0BEC5",
                "#B0BEC5",
                "#B0BEC5",
                "#B0BEC5",
                "#B0BEC5",
                "#B0BEC5",
                "#B0BEC5",
                "#B0BEC5",
                "#B0BEC5",
                "#B0BEC5",
                "#B0BEC5",
                "#B0BEC5",
                "#B0BEC5",
                "#B0BEC5",
                "#B0BEC5",
                "#B0BEC5",
                "#B0BEC5",
                "#B0BEC5",
                "#B0BEC5",
                "#B0BEC5",
                "#B0BEC5",
                "#B0BEC5",
                "#B0BEC5",
                "#B0BEC5",
                "#B0BEC5",
                "#B0BEC5",
                "#B0BEC5",
                "#B0BEC5",
                "#B0BEC5",
                "#B0BEC5",
                "#B0BEC5",
                "#B0BEC5",
                "#B0BEC5",
                "#B0BEC5"
               ]
              ]
             }
            ],
            "label": "Topic 2",
            "method": "update"
           },
           {
            "args": [
             {
              "marker.color": [
               [
                "#B0BEC5",
                "#B0BEC5",
                "#B0BEC5",
                "red",
                "#B0BEC5",
                "#B0BEC5",
                "#B0BEC5",
                "#B0BEC5",
                "#B0BEC5",
                "#B0BEC5",
                "#B0BEC5",
                "#B0BEC5",
                "#B0BEC5",
                "#B0BEC5",
                "#B0BEC5",
                "#B0BEC5",
                "#B0BEC5",
                "#B0BEC5",
                "#B0BEC5",
                "#B0BEC5",
                "#B0BEC5",
                "#B0BEC5",
                "#B0BEC5",
                "#B0BEC5",
                "#B0BEC5",
                "#B0BEC5",
                "#B0BEC5",
                "#B0BEC5",
                "#B0BEC5",
                "#B0BEC5",
                "#B0BEC5",
                "#B0BEC5",
                "#B0BEC5",
                "#B0BEC5",
                "#B0BEC5",
                "#B0BEC5",
                "#B0BEC5",
                "#B0BEC5",
                "#B0BEC5",
                "#B0BEC5",
                "#B0BEC5",
                "#B0BEC5",
                "#B0BEC5",
                "#B0BEC5",
                "#B0BEC5",
                "#B0BEC5",
                "#B0BEC5",
                "#B0BEC5",
                "#B0BEC5",
                "#B0BEC5",
                "#B0BEC5",
                "#B0BEC5",
                "#B0BEC5",
                "#B0BEC5",
                "#B0BEC5",
                "#B0BEC5",
                "#B0BEC5",
                "#B0BEC5",
                "#B0BEC5",
                "#B0BEC5",
                "#B0BEC5",
                "#B0BEC5",
                "#B0BEC5",
                "#B0BEC5",
                "#B0BEC5",
                "#B0BEC5",
                "#B0BEC5",
                "#B0BEC5",
                "#B0BEC5",
                "#B0BEC5",
                "#B0BEC5",
                "#B0BEC5",
                "#B0BEC5",
                "#B0BEC5",
                "#B0BEC5",
                "#B0BEC5",
                "#B0BEC5",
                "#B0BEC5",
                "#B0BEC5",
                "#B0BEC5",
                "#B0BEC5",
                "#B0BEC5",
                "#B0BEC5",
                "#B0BEC5",
                "#B0BEC5",
                "#B0BEC5",
                "#B0BEC5"
               ]
              ]
             }
            ],
            "label": "Topic 3",
            "method": "update"
           },
           {
            "args": [
             {
              "marker.color": [
               [
                "#B0BEC5",
                "#B0BEC5",
                "#B0BEC5",
                "#B0BEC5",
                "red",
                "#B0BEC5",
                "#B0BEC5",
                "#B0BEC5",
                "#B0BEC5",
                "#B0BEC5",
                "#B0BEC5",
                "#B0BEC5",
                "#B0BEC5",
                "#B0BEC5",
                "#B0BEC5",
                "#B0BEC5",
                "#B0BEC5",
                "#B0BEC5",
                "#B0BEC5",
                "#B0BEC5",
                "#B0BEC5",
                "#B0BEC5",
                "#B0BEC5",
                "#B0BEC5",
                "#B0BEC5",
                "#B0BEC5",
                "#B0BEC5",
                "#B0BEC5",
                "#B0BEC5",
                "#B0BEC5",
                "#B0BEC5",
                "#B0BEC5",
                "#B0BEC5",
                "#B0BEC5",
                "#B0BEC5",
                "#B0BEC5",
                "#B0BEC5",
                "#B0BEC5",
                "#B0BEC5",
                "#B0BEC5",
                "#B0BEC5",
                "#B0BEC5",
                "#B0BEC5",
                "#B0BEC5",
                "#B0BEC5",
                "#B0BEC5",
                "#B0BEC5",
                "#B0BEC5",
                "#B0BEC5",
                "#B0BEC5",
                "#B0BEC5",
                "#B0BEC5",
                "#B0BEC5",
                "#B0BEC5",
                "#B0BEC5",
                "#B0BEC5",
                "#B0BEC5",
                "#B0BEC5",
                "#B0BEC5",
                "#B0BEC5",
                "#B0BEC5",
                "#B0BEC5",
                "#B0BEC5",
                "#B0BEC5",
                "#B0BEC5",
                "#B0BEC5",
                "#B0BEC5",
                "#B0BEC5",
                "#B0BEC5",
                "#B0BEC5",
                "#B0BEC5",
                "#B0BEC5",
                "#B0BEC5",
                "#B0BEC5",
                "#B0BEC5",
                "#B0BEC5",
                "#B0BEC5",
                "#B0BEC5",
                "#B0BEC5",
                "#B0BEC5",
                "#B0BEC5",
                "#B0BEC5",
                "#B0BEC5",
                "#B0BEC5",
                "#B0BEC5",
                "#B0BEC5",
                "#B0BEC5"
               ]
              ]
             }
            ],
            "label": "Topic 4",
            "method": "update"
           },
           {
            "args": [
             {
              "marker.color": [
               [
                "#B0BEC5",
                "#B0BEC5",
                "#B0BEC5",
                "#B0BEC5",
                "#B0BEC5",
                "red",
                "#B0BEC5",
                "#B0BEC5",
                "#B0BEC5",
                "#B0BEC5",
                "#B0BEC5",
                "#B0BEC5",
                "#B0BEC5",
                "#B0BEC5",
                "#B0BEC5",
                "#B0BEC5",
                "#B0BEC5",
                "#B0BEC5",
                "#B0BEC5",
                "#B0BEC5",
                "#B0BEC5",
                "#B0BEC5",
                "#B0BEC5",
                "#B0BEC5",
                "#B0BEC5",
                "#B0BEC5",
                "#B0BEC5",
                "#B0BEC5",
                "#B0BEC5",
                "#B0BEC5",
                "#B0BEC5",
                "#B0BEC5",
                "#B0BEC5",
                "#B0BEC5",
                "#B0BEC5",
                "#B0BEC5",
                "#B0BEC5",
                "#B0BEC5",
                "#B0BEC5",
                "#B0BEC5",
                "#B0BEC5",
                "#B0BEC5",
                "#B0BEC5",
                "#B0BEC5",
                "#B0BEC5",
                "#B0BEC5",
                "#B0BEC5",
                "#B0BEC5",
                "#B0BEC5",
                "#B0BEC5",
                "#B0BEC5",
                "#B0BEC5",
                "#B0BEC5",
                "#B0BEC5",
                "#B0BEC5",
                "#B0BEC5",
                "#B0BEC5",
                "#B0BEC5",
                "#B0BEC5",
                "#B0BEC5",
                "#B0BEC5",
                "#B0BEC5",
                "#B0BEC5",
                "#B0BEC5",
                "#B0BEC5",
                "#B0BEC5",
                "#B0BEC5",
                "#B0BEC5",
                "#B0BEC5",
                "#B0BEC5",
                "#B0BEC5",
                "#B0BEC5",
                "#B0BEC5",
                "#B0BEC5",
                "#B0BEC5",
                "#B0BEC5",
                "#B0BEC5",
                "#B0BEC5",
                "#B0BEC5",
                "#B0BEC5",
                "#B0BEC5",
                "#B0BEC5",
                "#B0BEC5",
                "#B0BEC5",
                "#B0BEC5",
                "#B0BEC5",
                "#B0BEC5"
               ]
              ]
             }
            ],
            "label": "Topic 5",
            "method": "update"
           },
           {
            "args": [
             {
              "marker.color": [
               [
                "#B0BEC5",
                "#B0BEC5",
                "#B0BEC5",
                "#B0BEC5",
                "#B0BEC5",
                "#B0BEC5",
                "red",
                "#B0BEC5",
                "#B0BEC5",
                "#B0BEC5",
                "#B0BEC5",
                "#B0BEC5",
                "#B0BEC5",
                "#B0BEC5",
                "#B0BEC5",
                "#B0BEC5",
                "#B0BEC5",
                "#B0BEC5",
                "#B0BEC5",
                "#B0BEC5",
                "#B0BEC5",
                "#B0BEC5",
                "#B0BEC5",
                "#B0BEC5",
                "#B0BEC5",
                "#B0BEC5",
                "#B0BEC5",
                "#B0BEC5",
                "#B0BEC5",
                "#B0BEC5",
                "#B0BEC5",
                "#B0BEC5",
                "#B0BEC5",
                "#B0BEC5",
                "#B0BEC5",
                "#B0BEC5",
                "#B0BEC5",
                "#B0BEC5",
                "#B0BEC5",
                "#B0BEC5",
                "#B0BEC5",
                "#B0BEC5",
                "#B0BEC5",
                "#B0BEC5",
                "#B0BEC5",
                "#B0BEC5",
                "#B0BEC5",
                "#B0BEC5",
                "#B0BEC5",
                "#B0BEC5",
                "#B0BEC5",
                "#B0BEC5",
                "#B0BEC5",
                "#B0BEC5",
                "#B0BEC5",
                "#B0BEC5",
                "#B0BEC5",
                "#B0BEC5",
                "#B0BEC5",
                "#B0BEC5",
                "#B0BEC5",
                "#B0BEC5",
                "#B0BEC5",
                "#B0BEC5",
                "#B0BEC5",
                "#B0BEC5",
                "#B0BEC5",
                "#B0BEC5",
                "#B0BEC5",
                "#B0BEC5",
                "#B0BEC5",
                "#B0BEC5",
                "#B0BEC5",
                "#B0BEC5",
                "#B0BEC5",
                "#B0BEC5",
                "#B0BEC5",
                "#B0BEC5",
                "#B0BEC5",
                "#B0BEC5",
                "#B0BEC5",
                "#B0BEC5",
                "#B0BEC5",
                "#B0BEC5",
                "#B0BEC5",
                "#B0BEC5",
                "#B0BEC5"
               ]
              ]
             }
            ],
            "label": "Topic 6",
            "method": "update"
           },
           {
            "args": [
             {
              "marker.color": [
               [
                "#B0BEC5",
                "#B0BEC5",
                "#B0BEC5",
                "#B0BEC5",
                "#B0BEC5",
                "#B0BEC5",
                "#B0BEC5",
                "red",
                "#B0BEC5",
                "#B0BEC5",
                "#B0BEC5",
                "#B0BEC5",
                "#B0BEC5",
                "#B0BEC5",
                "#B0BEC5",
                "#B0BEC5",
                "#B0BEC5",
                "#B0BEC5",
                "#B0BEC5",
                "#B0BEC5",
                "#B0BEC5",
                "#B0BEC5",
                "#B0BEC5",
                "#B0BEC5",
                "#B0BEC5",
                "#B0BEC5",
                "#B0BEC5",
                "#B0BEC5",
                "#B0BEC5",
                "#B0BEC5",
                "#B0BEC5",
                "#B0BEC5",
                "#B0BEC5",
                "#B0BEC5",
                "#B0BEC5",
                "#B0BEC5",
                "#B0BEC5",
                "#B0BEC5",
                "#B0BEC5",
                "#B0BEC5",
                "#B0BEC5",
                "#B0BEC5",
                "#B0BEC5",
                "#B0BEC5",
                "#B0BEC5",
                "#B0BEC5",
                "#B0BEC5",
                "#B0BEC5",
                "#B0BEC5",
                "#B0BEC5",
                "#B0BEC5",
                "#B0BEC5",
                "#B0BEC5",
                "#B0BEC5",
                "#B0BEC5",
                "#B0BEC5",
                "#B0BEC5",
                "#B0BEC5",
                "#B0BEC5",
                "#B0BEC5",
                "#B0BEC5",
                "#B0BEC5",
                "#B0BEC5",
                "#B0BEC5",
                "#B0BEC5",
                "#B0BEC5",
                "#B0BEC5",
                "#B0BEC5",
                "#B0BEC5",
                "#B0BEC5",
                "#B0BEC5",
                "#B0BEC5",
                "#B0BEC5",
                "#B0BEC5",
                "#B0BEC5",
                "#B0BEC5",
                "#B0BEC5",
                "#B0BEC5",
                "#B0BEC5",
                "#B0BEC5",
                "#B0BEC5",
                "#B0BEC5",
                "#B0BEC5",
                "#B0BEC5",
                "#B0BEC5",
                "#B0BEC5",
                "#B0BEC5"
               ]
              ]
             }
            ],
            "label": "Topic 7",
            "method": "update"
           },
           {
            "args": [
             {
              "marker.color": [
               [
                "#B0BEC5",
                "#B0BEC5",
                "#B0BEC5",
                "#B0BEC5",
                "#B0BEC5",
                "#B0BEC5",
                "#B0BEC5",
                "#B0BEC5",
                "red",
                "#B0BEC5",
                "#B0BEC5",
                "#B0BEC5",
                "#B0BEC5",
                "#B0BEC5",
                "#B0BEC5",
                "#B0BEC5",
                "#B0BEC5",
                "#B0BEC5",
                "#B0BEC5",
                "#B0BEC5",
                "#B0BEC5",
                "#B0BEC5",
                "#B0BEC5",
                "#B0BEC5",
                "#B0BEC5",
                "#B0BEC5",
                "#B0BEC5",
                "#B0BEC5",
                "#B0BEC5",
                "#B0BEC5",
                "#B0BEC5",
                "#B0BEC5",
                "#B0BEC5",
                "#B0BEC5",
                "#B0BEC5",
                "#B0BEC5",
                "#B0BEC5",
                "#B0BEC5",
                "#B0BEC5",
                "#B0BEC5",
                "#B0BEC5",
                "#B0BEC5",
                "#B0BEC5",
                "#B0BEC5",
                "#B0BEC5",
                "#B0BEC5",
                "#B0BEC5",
                "#B0BEC5",
                "#B0BEC5",
                "#B0BEC5",
                "#B0BEC5",
                "#B0BEC5",
                "#B0BEC5",
                "#B0BEC5",
                "#B0BEC5",
                "#B0BEC5",
                "#B0BEC5",
                "#B0BEC5",
                "#B0BEC5",
                "#B0BEC5",
                "#B0BEC5",
                "#B0BEC5",
                "#B0BEC5",
                "#B0BEC5",
                "#B0BEC5",
                "#B0BEC5",
                "#B0BEC5",
                "#B0BEC5",
                "#B0BEC5",
                "#B0BEC5",
                "#B0BEC5",
                "#B0BEC5",
                "#B0BEC5",
                "#B0BEC5",
                "#B0BEC5",
                "#B0BEC5",
                "#B0BEC5",
                "#B0BEC5",
                "#B0BEC5",
                "#B0BEC5",
                "#B0BEC5",
                "#B0BEC5",
                "#B0BEC5",
                "#B0BEC5",
                "#B0BEC5",
                "#B0BEC5",
                "#B0BEC5"
               ]
              ]
             }
            ],
            "label": "Topic 8",
            "method": "update"
           },
           {
            "args": [
             {
              "marker.color": [
               [
                "#B0BEC5",
                "#B0BEC5",
                "#B0BEC5",
                "#B0BEC5",
                "#B0BEC5",
                "#B0BEC5",
                "#B0BEC5",
                "#B0BEC5",
                "#B0BEC5",
                "red",
                "#B0BEC5",
                "#B0BEC5",
                "#B0BEC5",
                "#B0BEC5",
                "#B0BEC5",
                "#B0BEC5",
                "#B0BEC5",
                "#B0BEC5",
                "#B0BEC5",
                "#B0BEC5",
                "#B0BEC5",
                "#B0BEC5",
                "#B0BEC5",
                "#B0BEC5",
                "#B0BEC5",
                "#B0BEC5",
                "#B0BEC5",
                "#B0BEC5",
                "#B0BEC5",
                "#B0BEC5",
                "#B0BEC5",
                "#B0BEC5",
                "#B0BEC5",
                "#B0BEC5",
                "#B0BEC5",
                "#B0BEC5",
                "#B0BEC5",
                "#B0BEC5",
                "#B0BEC5",
                "#B0BEC5",
                "#B0BEC5",
                "#B0BEC5",
                "#B0BEC5",
                "#B0BEC5",
                "#B0BEC5",
                "#B0BEC5",
                "#B0BEC5",
                "#B0BEC5",
                "#B0BEC5",
                "#B0BEC5",
                "#B0BEC5",
                "#B0BEC5",
                "#B0BEC5",
                "#B0BEC5",
                "#B0BEC5",
                "#B0BEC5",
                "#B0BEC5",
                "#B0BEC5",
                "#B0BEC5",
                "#B0BEC5",
                "#B0BEC5",
                "#B0BEC5",
                "#B0BEC5",
                "#B0BEC5",
                "#B0BEC5",
                "#B0BEC5",
                "#B0BEC5",
                "#B0BEC5",
                "#B0BEC5",
                "#B0BEC5",
                "#B0BEC5",
                "#B0BEC5",
                "#B0BEC5",
                "#B0BEC5",
                "#B0BEC5",
                "#B0BEC5",
                "#B0BEC5",
                "#B0BEC5",
                "#B0BEC5",
                "#B0BEC5",
                "#B0BEC5",
                "#B0BEC5",
                "#B0BEC5",
                "#B0BEC5",
                "#B0BEC5",
                "#B0BEC5",
                "#B0BEC5"
               ]
              ]
             }
            ],
            "label": "Topic 9",
            "method": "update"
           },
           {
            "args": [
             {
              "marker.color": [
               [
                "#B0BEC5",
                "#B0BEC5",
                "#B0BEC5",
                "#B0BEC5",
                "#B0BEC5",
                "#B0BEC5",
                "#B0BEC5",
                "#B0BEC5",
                "#B0BEC5",
                "#B0BEC5",
                "red",
                "#B0BEC5",
                "#B0BEC5",
                "#B0BEC5",
                "#B0BEC5",
                "#B0BEC5",
                "#B0BEC5",
                "#B0BEC5",
                "#B0BEC5",
                "#B0BEC5",
                "#B0BEC5",
                "#B0BEC5",
                "#B0BEC5",
                "#B0BEC5",
                "#B0BEC5",
                "#B0BEC5",
                "#B0BEC5",
                "#B0BEC5",
                "#B0BEC5",
                "#B0BEC5",
                "#B0BEC5",
                "#B0BEC5",
                "#B0BEC5",
                "#B0BEC5",
                "#B0BEC5",
                "#B0BEC5",
                "#B0BEC5",
                "#B0BEC5",
                "#B0BEC5",
                "#B0BEC5",
                "#B0BEC5",
                "#B0BEC5",
                "#B0BEC5",
                "#B0BEC5",
                "#B0BEC5",
                "#B0BEC5",
                "#B0BEC5",
                "#B0BEC5",
                "#B0BEC5",
                "#B0BEC5",
                "#B0BEC5",
                "#B0BEC5",
                "#B0BEC5",
                "#B0BEC5",
                "#B0BEC5",
                "#B0BEC5",
                "#B0BEC5",
                "#B0BEC5",
                "#B0BEC5",
                "#B0BEC5",
                "#B0BEC5",
                "#B0BEC5",
                "#B0BEC5",
                "#B0BEC5",
                "#B0BEC5",
                "#B0BEC5",
                "#B0BEC5",
                "#B0BEC5",
                "#B0BEC5",
                "#B0BEC5",
                "#B0BEC5",
                "#B0BEC5",
                "#B0BEC5",
                "#B0BEC5",
                "#B0BEC5",
                "#B0BEC5",
                "#B0BEC5",
                "#B0BEC5",
                "#B0BEC5",
                "#B0BEC5",
                "#B0BEC5",
                "#B0BEC5",
                "#B0BEC5",
                "#B0BEC5",
                "#B0BEC5",
                "#B0BEC5",
                "#B0BEC5"
               ]
              ]
             }
            ],
            "label": "Topic 10",
            "method": "update"
           },
           {
            "args": [
             {
              "marker.color": [
               [
                "#B0BEC5",
                "#B0BEC5",
                "#B0BEC5",
                "#B0BEC5",
                "#B0BEC5",
                "#B0BEC5",
                "#B0BEC5",
                "#B0BEC5",
                "#B0BEC5",
                "#B0BEC5",
                "#B0BEC5",
                "red",
                "#B0BEC5",
                "#B0BEC5",
                "#B0BEC5",
                "#B0BEC5",
                "#B0BEC5",
                "#B0BEC5",
                "#B0BEC5",
                "#B0BEC5",
                "#B0BEC5",
                "#B0BEC5",
                "#B0BEC5",
                "#B0BEC5",
                "#B0BEC5",
                "#B0BEC5",
                "#B0BEC5",
                "#B0BEC5",
                "#B0BEC5",
                "#B0BEC5",
                "#B0BEC5",
                "#B0BEC5",
                "#B0BEC5",
                "#B0BEC5",
                "#B0BEC5",
                "#B0BEC5",
                "#B0BEC5",
                "#B0BEC5",
                "#B0BEC5",
                "#B0BEC5",
                "#B0BEC5",
                "#B0BEC5",
                "#B0BEC5",
                "#B0BEC5",
                "#B0BEC5",
                "#B0BEC5",
                "#B0BEC5",
                "#B0BEC5",
                "#B0BEC5",
                "#B0BEC5",
                "#B0BEC5",
                "#B0BEC5",
                "#B0BEC5",
                "#B0BEC5",
                "#B0BEC5",
                "#B0BEC5",
                "#B0BEC5",
                "#B0BEC5",
                "#B0BEC5",
                "#B0BEC5",
                "#B0BEC5",
                "#B0BEC5",
                "#B0BEC5",
                "#B0BEC5",
                "#B0BEC5",
                "#B0BEC5",
                "#B0BEC5",
                "#B0BEC5",
                "#B0BEC5",
                "#B0BEC5",
                "#B0BEC5",
                "#B0BEC5",
                "#B0BEC5",
                "#B0BEC5",
                "#B0BEC5",
                "#B0BEC5",
                "#B0BEC5",
                "#B0BEC5",
                "#B0BEC5",
                "#B0BEC5",
                "#B0BEC5",
                "#B0BEC5",
                "#B0BEC5",
                "#B0BEC5",
                "#B0BEC5",
                "#B0BEC5",
                "#B0BEC5"
               ]
              ]
             }
            ],
            "label": "Topic 11",
            "method": "update"
           },
           {
            "args": [
             {
              "marker.color": [
               [
                "#B0BEC5",
                "#B0BEC5",
                "#B0BEC5",
                "#B0BEC5",
                "#B0BEC5",
                "#B0BEC5",
                "#B0BEC5",
                "#B0BEC5",
                "#B0BEC5",
                "#B0BEC5",
                "#B0BEC5",
                "#B0BEC5",
                "red",
                "#B0BEC5",
                "#B0BEC5",
                "#B0BEC5",
                "#B0BEC5",
                "#B0BEC5",
                "#B0BEC5",
                "#B0BEC5",
                "#B0BEC5",
                "#B0BEC5",
                "#B0BEC5",
                "#B0BEC5",
                "#B0BEC5",
                "#B0BEC5",
                "#B0BEC5",
                "#B0BEC5",
                "#B0BEC5",
                "#B0BEC5",
                "#B0BEC5",
                "#B0BEC5",
                "#B0BEC5",
                "#B0BEC5",
                "#B0BEC5",
                "#B0BEC5",
                "#B0BEC5",
                "#B0BEC5",
                "#B0BEC5",
                "#B0BEC5",
                "#B0BEC5",
                "#B0BEC5",
                "#B0BEC5",
                "#B0BEC5",
                "#B0BEC5",
                "#B0BEC5",
                "#B0BEC5",
                "#B0BEC5",
                "#B0BEC5",
                "#B0BEC5",
                "#B0BEC5",
                "#B0BEC5",
                "#B0BEC5",
                "#B0BEC5",
                "#B0BEC5",
                "#B0BEC5",
                "#B0BEC5",
                "#B0BEC5",
                "#B0BEC5",
                "#B0BEC5",
                "#B0BEC5",
                "#B0BEC5",
                "#B0BEC5",
                "#B0BEC5",
                "#B0BEC5",
                "#B0BEC5",
                "#B0BEC5",
                "#B0BEC5",
                "#B0BEC5",
                "#B0BEC5",
                "#B0BEC5",
                "#B0BEC5",
                "#B0BEC5",
                "#B0BEC5",
                "#B0BEC5",
                "#B0BEC5",
                "#B0BEC5",
                "#B0BEC5",
                "#B0BEC5",
                "#B0BEC5",
                "#B0BEC5",
                "#B0BEC5",
                "#B0BEC5",
                "#B0BEC5",
                "#B0BEC5",
                "#B0BEC5",
                "#B0BEC5"
               ]
              ]
             }
            ],
            "label": "Topic 12",
            "method": "update"
           },
           {
            "args": [
             {
              "marker.color": [
               [
                "#B0BEC5",
                "#B0BEC5",
                "#B0BEC5",
                "#B0BEC5",
                "#B0BEC5",
                "#B0BEC5",
                "#B0BEC5",
                "#B0BEC5",
                "#B0BEC5",
                "#B0BEC5",
                "#B0BEC5",
                "#B0BEC5",
                "#B0BEC5",
                "red",
                "#B0BEC5",
                "#B0BEC5",
                "#B0BEC5",
                "#B0BEC5",
                "#B0BEC5",
                "#B0BEC5",
                "#B0BEC5",
                "#B0BEC5",
                "#B0BEC5",
                "#B0BEC5",
                "#B0BEC5",
                "#B0BEC5",
                "#B0BEC5",
                "#B0BEC5",
                "#B0BEC5",
                "#B0BEC5",
                "#B0BEC5",
                "#B0BEC5",
                "#B0BEC5",
                "#B0BEC5",
                "#B0BEC5",
                "#B0BEC5",
                "#B0BEC5",
                "#B0BEC5",
                "#B0BEC5",
                "#B0BEC5",
                "#B0BEC5",
                "#B0BEC5",
                "#B0BEC5",
                "#B0BEC5",
                "#B0BEC5",
                "#B0BEC5",
                "#B0BEC5",
                "#B0BEC5",
                "#B0BEC5",
                "#B0BEC5",
                "#B0BEC5",
                "#B0BEC5",
                "#B0BEC5",
                "#B0BEC5",
                "#B0BEC5",
                "#B0BEC5",
                "#B0BEC5",
                "#B0BEC5",
                "#B0BEC5",
                "#B0BEC5",
                "#B0BEC5",
                "#B0BEC5",
                "#B0BEC5",
                "#B0BEC5",
                "#B0BEC5",
                "#B0BEC5",
                "#B0BEC5",
                "#B0BEC5",
                "#B0BEC5",
                "#B0BEC5",
                "#B0BEC5",
                "#B0BEC5",
                "#B0BEC5",
                "#B0BEC5",
                "#B0BEC5",
                "#B0BEC5",
                "#B0BEC5",
                "#B0BEC5",
                "#B0BEC5",
                "#B0BEC5",
                "#B0BEC5",
                "#B0BEC5",
                "#B0BEC5",
                "#B0BEC5",
                "#B0BEC5",
                "#B0BEC5",
                "#B0BEC5"
               ]
              ]
             }
            ],
            "label": "Topic 13",
            "method": "update"
           },
           {
            "args": [
             {
              "marker.color": [
               [
                "#B0BEC5",
                "#B0BEC5",
                "#B0BEC5",
                "#B0BEC5",
                "#B0BEC5",
                "#B0BEC5",
                "#B0BEC5",
                "#B0BEC5",
                "#B0BEC5",
                "#B0BEC5",
                "#B0BEC5",
                "#B0BEC5",
                "#B0BEC5",
                "#B0BEC5",
                "red",
                "#B0BEC5",
                "#B0BEC5",
                "#B0BEC5",
                "#B0BEC5",
                "#B0BEC5",
                "#B0BEC5",
                "#B0BEC5",
                "#B0BEC5",
                "#B0BEC5",
                "#B0BEC5",
                "#B0BEC5",
                "#B0BEC5",
                "#B0BEC5",
                "#B0BEC5",
                "#B0BEC5",
                "#B0BEC5",
                "#B0BEC5",
                "#B0BEC5",
                "#B0BEC5",
                "#B0BEC5",
                "#B0BEC5",
                "#B0BEC5",
                "#B0BEC5",
                "#B0BEC5",
                "#B0BEC5",
                "#B0BEC5",
                "#B0BEC5",
                "#B0BEC5",
                "#B0BEC5",
                "#B0BEC5",
                "#B0BEC5",
                "#B0BEC5",
                "#B0BEC5",
                "#B0BEC5",
                "#B0BEC5",
                "#B0BEC5",
                "#B0BEC5",
                "#B0BEC5",
                "#B0BEC5",
                "#B0BEC5",
                "#B0BEC5",
                "#B0BEC5",
                "#B0BEC5",
                "#B0BEC5",
                "#B0BEC5",
                "#B0BEC5",
                "#B0BEC5",
                "#B0BEC5",
                "#B0BEC5",
                "#B0BEC5",
                "#B0BEC5",
                "#B0BEC5",
                "#B0BEC5",
                "#B0BEC5",
                "#B0BEC5",
                "#B0BEC5",
                "#B0BEC5",
                "#B0BEC5",
                "#B0BEC5",
                "#B0BEC5",
                "#B0BEC5",
                "#B0BEC5",
                "#B0BEC5",
                "#B0BEC5",
                "#B0BEC5",
                "#B0BEC5",
                "#B0BEC5",
                "#B0BEC5",
                "#B0BEC5",
                "#B0BEC5",
                "#B0BEC5",
                "#B0BEC5"
               ]
              ]
             }
            ],
            "label": "Topic 14",
            "method": "update"
           },
           {
            "args": [
             {
              "marker.color": [
               [
                "#B0BEC5",
                "#B0BEC5",
                "#B0BEC5",
                "#B0BEC5",
                "#B0BEC5",
                "#B0BEC5",
                "#B0BEC5",
                "#B0BEC5",
                "#B0BEC5",
                "#B0BEC5",
                "#B0BEC5",
                "#B0BEC5",
                "#B0BEC5",
                "#B0BEC5",
                "#B0BEC5",
                "red",
                "#B0BEC5",
                "#B0BEC5",
                "#B0BEC5",
                "#B0BEC5",
                "#B0BEC5",
                "#B0BEC5",
                "#B0BEC5",
                "#B0BEC5",
                "#B0BEC5",
                "#B0BEC5",
                "#B0BEC5",
                "#B0BEC5",
                "#B0BEC5",
                "#B0BEC5",
                "#B0BEC5",
                "#B0BEC5",
                "#B0BEC5",
                "#B0BEC5",
                "#B0BEC5",
                "#B0BEC5",
                "#B0BEC5",
                "#B0BEC5",
                "#B0BEC5",
                "#B0BEC5",
                "#B0BEC5",
                "#B0BEC5",
                "#B0BEC5",
                "#B0BEC5",
                "#B0BEC5",
                "#B0BEC5",
                "#B0BEC5",
                "#B0BEC5",
                "#B0BEC5",
                "#B0BEC5",
                "#B0BEC5",
                "#B0BEC5",
                "#B0BEC5",
                "#B0BEC5",
                "#B0BEC5",
                "#B0BEC5",
                "#B0BEC5",
                "#B0BEC5",
                "#B0BEC5",
                "#B0BEC5",
                "#B0BEC5",
                "#B0BEC5",
                "#B0BEC5",
                "#B0BEC5",
                "#B0BEC5",
                "#B0BEC5",
                "#B0BEC5",
                "#B0BEC5",
                "#B0BEC5",
                "#B0BEC5",
                "#B0BEC5",
                "#B0BEC5",
                "#B0BEC5",
                "#B0BEC5",
                "#B0BEC5",
                "#B0BEC5",
                "#B0BEC5",
                "#B0BEC5",
                "#B0BEC5",
                "#B0BEC5",
                "#B0BEC5",
                "#B0BEC5",
                "#B0BEC5",
                "#B0BEC5",
                "#B0BEC5",
                "#B0BEC5",
                "#B0BEC5"
               ]
              ]
             }
            ],
            "label": "Topic 15",
            "method": "update"
           },
           {
            "args": [
             {
              "marker.color": [
               [
                "#B0BEC5",
                "#B0BEC5",
                "#B0BEC5",
                "#B0BEC5",
                "#B0BEC5",
                "#B0BEC5",
                "#B0BEC5",
                "#B0BEC5",
                "#B0BEC5",
                "#B0BEC5",
                "#B0BEC5",
                "#B0BEC5",
                "#B0BEC5",
                "#B0BEC5",
                "#B0BEC5",
                "#B0BEC5",
                "red",
                "#B0BEC5",
                "#B0BEC5",
                "#B0BEC5",
                "#B0BEC5",
                "#B0BEC5",
                "#B0BEC5",
                "#B0BEC5",
                "#B0BEC5",
                "#B0BEC5",
                "#B0BEC5",
                "#B0BEC5",
                "#B0BEC5",
                "#B0BEC5",
                "#B0BEC5",
                "#B0BEC5",
                "#B0BEC5",
                "#B0BEC5",
                "#B0BEC5",
                "#B0BEC5",
                "#B0BEC5",
                "#B0BEC5",
                "#B0BEC5",
                "#B0BEC5",
                "#B0BEC5",
                "#B0BEC5",
                "#B0BEC5",
                "#B0BEC5",
                "#B0BEC5",
                "#B0BEC5",
                "#B0BEC5",
                "#B0BEC5",
                "#B0BEC5",
                "#B0BEC5",
                "#B0BEC5",
                "#B0BEC5",
                "#B0BEC5",
                "#B0BEC5",
                "#B0BEC5",
                "#B0BEC5",
                "#B0BEC5",
                "#B0BEC5",
                "#B0BEC5",
                "#B0BEC5",
                "#B0BEC5",
                "#B0BEC5",
                "#B0BEC5",
                "#B0BEC5",
                "#B0BEC5",
                "#B0BEC5",
                "#B0BEC5",
                "#B0BEC5",
                "#B0BEC5",
                "#B0BEC5",
                "#B0BEC5",
                "#B0BEC5",
                "#B0BEC5",
                "#B0BEC5",
                "#B0BEC5",
                "#B0BEC5",
                "#B0BEC5",
                "#B0BEC5",
                "#B0BEC5",
                "#B0BEC5",
                "#B0BEC5",
                "#B0BEC5",
                "#B0BEC5",
                "#B0BEC5",
                "#B0BEC5",
                "#B0BEC5",
                "#B0BEC5"
               ]
              ]
             }
            ],
            "label": "Topic 16",
            "method": "update"
           },
           {
            "args": [
             {
              "marker.color": [
               [
                "#B0BEC5",
                "#B0BEC5",
                "#B0BEC5",
                "#B0BEC5",
                "#B0BEC5",
                "#B0BEC5",
                "#B0BEC5",
                "#B0BEC5",
                "#B0BEC5",
                "#B0BEC5",
                "#B0BEC5",
                "#B0BEC5",
                "#B0BEC5",
                "#B0BEC5",
                "#B0BEC5",
                "#B0BEC5",
                "#B0BEC5",
                "red",
                "#B0BEC5",
                "#B0BEC5",
                "#B0BEC5",
                "#B0BEC5",
                "#B0BEC5",
                "#B0BEC5",
                "#B0BEC5",
                "#B0BEC5",
                "#B0BEC5",
                "#B0BEC5",
                "#B0BEC5",
                "#B0BEC5",
                "#B0BEC5",
                "#B0BEC5",
                "#B0BEC5",
                "#B0BEC5",
                "#B0BEC5",
                "#B0BEC5",
                "#B0BEC5",
                "#B0BEC5",
                "#B0BEC5",
                "#B0BEC5",
                "#B0BEC5",
                "#B0BEC5",
                "#B0BEC5",
                "#B0BEC5",
                "#B0BEC5",
                "#B0BEC5",
                "#B0BEC5",
                "#B0BEC5",
                "#B0BEC5",
                "#B0BEC5",
                "#B0BEC5",
                "#B0BEC5",
                "#B0BEC5",
                "#B0BEC5",
                "#B0BEC5",
                "#B0BEC5",
                "#B0BEC5",
                "#B0BEC5",
                "#B0BEC5",
                "#B0BEC5",
                "#B0BEC5",
                "#B0BEC5",
                "#B0BEC5",
                "#B0BEC5",
                "#B0BEC5",
                "#B0BEC5",
                "#B0BEC5",
                "#B0BEC5",
                "#B0BEC5",
                "#B0BEC5",
                "#B0BEC5",
                "#B0BEC5",
                "#B0BEC5",
                "#B0BEC5",
                "#B0BEC5",
                "#B0BEC5",
                "#B0BEC5",
                "#B0BEC5",
                "#B0BEC5",
                "#B0BEC5",
                "#B0BEC5",
                "#B0BEC5",
                "#B0BEC5",
                "#B0BEC5",
                "#B0BEC5",
                "#B0BEC5",
                "#B0BEC5"
               ]
              ]
             }
            ],
            "label": "Topic 17",
            "method": "update"
           },
           {
            "args": [
             {
              "marker.color": [
               [
                "#B0BEC5",
                "#B0BEC5",
                "#B0BEC5",
                "#B0BEC5",
                "#B0BEC5",
                "#B0BEC5",
                "#B0BEC5",
                "#B0BEC5",
                "#B0BEC5",
                "#B0BEC5",
                "#B0BEC5",
                "#B0BEC5",
                "#B0BEC5",
                "#B0BEC5",
                "#B0BEC5",
                "#B0BEC5",
                "#B0BEC5",
                "#B0BEC5",
                "red",
                "#B0BEC5",
                "#B0BEC5",
                "#B0BEC5",
                "#B0BEC5",
                "#B0BEC5",
                "#B0BEC5",
                "#B0BEC5",
                "#B0BEC5",
                "#B0BEC5",
                "#B0BEC5",
                "#B0BEC5",
                "#B0BEC5",
                "#B0BEC5",
                "#B0BEC5",
                "#B0BEC5",
                "#B0BEC5",
                "#B0BEC5",
                "#B0BEC5",
                "#B0BEC5",
                "#B0BEC5",
                "#B0BEC5",
                "#B0BEC5",
                "#B0BEC5",
                "#B0BEC5",
                "#B0BEC5",
                "#B0BEC5",
                "#B0BEC5",
                "#B0BEC5",
                "#B0BEC5",
                "#B0BEC5",
                "#B0BEC5",
                "#B0BEC5",
                "#B0BEC5",
                "#B0BEC5",
                "#B0BEC5",
                "#B0BEC5",
                "#B0BEC5",
                "#B0BEC5",
                "#B0BEC5",
                "#B0BEC5",
                "#B0BEC5",
                "#B0BEC5",
                "#B0BEC5",
                "#B0BEC5",
                "#B0BEC5",
                "#B0BEC5",
                "#B0BEC5",
                "#B0BEC5",
                "#B0BEC5",
                "#B0BEC5",
                "#B0BEC5",
                "#B0BEC5",
                "#B0BEC5",
                "#B0BEC5",
                "#B0BEC5",
                "#B0BEC5",
                "#B0BEC5",
                "#B0BEC5",
                "#B0BEC5",
                "#B0BEC5",
                "#B0BEC5",
                "#B0BEC5",
                "#B0BEC5",
                "#B0BEC5",
                "#B0BEC5",
                "#B0BEC5",
                "#B0BEC5",
                "#B0BEC5"
               ]
              ]
             }
            ],
            "label": "Topic 18",
            "method": "update"
           },
           {
            "args": [
             {
              "marker.color": [
               [
                "#B0BEC5",
                "#B0BEC5",
                "#B0BEC5",
                "#B0BEC5",
                "#B0BEC5",
                "#B0BEC5",
                "#B0BEC5",
                "#B0BEC5",
                "#B0BEC5",
                "#B0BEC5",
                "#B0BEC5",
                "#B0BEC5",
                "#B0BEC5",
                "#B0BEC5",
                "#B0BEC5",
                "#B0BEC5",
                "#B0BEC5",
                "#B0BEC5",
                "#B0BEC5",
                "red",
                "#B0BEC5",
                "#B0BEC5",
                "#B0BEC5",
                "#B0BEC5",
                "#B0BEC5",
                "#B0BEC5",
                "#B0BEC5",
                "#B0BEC5",
                "#B0BEC5",
                "#B0BEC5",
                "#B0BEC5",
                "#B0BEC5",
                "#B0BEC5",
                "#B0BEC5",
                "#B0BEC5",
                "#B0BEC5",
                "#B0BEC5",
                "#B0BEC5",
                "#B0BEC5",
                "#B0BEC5",
                "#B0BEC5",
                "#B0BEC5",
                "#B0BEC5",
                "#B0BEC5",
                "#B0BEC5",
                "#B0BEC5",
                "#B0BEC5",
                "#B0BEC5",
                "#B0BEC5",
                "#B0BEC5",
                "#B0BEC5",
                "#B0BEC5",
                "#B0BEC5",
                "#B0BEC5",
                "#B0BEC5",
                "#B0BEC5",
                "#B0BEC5",
                "#B0BEC5",
                "#B0BEC5",
                "#B0BEC5",
                "#B0BEC5",
                "#B0BEC5",
                "#B0BEC5",
                "#B0BEC5",
                "#B0BEC5",
                "#B0BEC5",
                "#B0BEC5",
                "#B0BEC5",
                "#B0BEC5",
                "#B0BEC5",
                "#B0BEC5",
                "#B0BEC5",
                "#B0BEC5",
                "#B0BEC5",
                "#B0BEC5",
                "#B0BEC5",
                "#B0BEC5",
                "#B0BEC5",
                "#B0BEC5",
                "#B0BEC5",
                "#B0BEC5",
                "#B0BEC5",
                "#B0BEC5",
                "#B0BEC5",
                "#B0BEC5",
                "#B0BEC5",
                "#B0BEC5"
               ]
              ]
             }
            ],
            "label": "Topic 19",
            "method": "update"
           },
           {
            "args": [
             {
              "marker.color": [
               [
                "#B0BEC5",
                "#B0BEC5",
                "#B0BEC5",
                "#B0BEC5",
                "#B0BEC5",
                "#B0BEC5",
                "#B0BEC5",
                "#B0BEC5",
                "#B0BEC5",
                "#B0BEC5",
                "#B0BEC5",
                "#B0BEC5",
                "#B0BEC5",
                "#B0BEC5",
                "#B0BEC5",
                "#B0BEC5",
                "#B0BEC5",
                "#B0BEC5",
                "#B0BEC5",
                "#B0BEC5",
                "red",
                "#B0BEC5",
                "#B0BEC5",
                "#B0BEC5",
                "#B0BEC5",
                "#B0BEC5",
                "#B0BEC5",
                "#B0BEC5",
                "#B0BEC5",
                "#B0BEC5",
                "#B0BEC5",
                "#B0BEC5",
                "#B0BEC5",
                "#B0BEC5",
                "#B0BEC5",
                "#B0BEC5",
                "#B0BEC5",
                "#B0BEC5",
                "#B0BEC5",
                "#B0BEC5",
                "#B0BEC5",
                "#B0BEC5",
                "#B0BEC5",
                "#B0BEC5",
                "#B0BEC5",
                "#B0BEC5",
                "#B0BEC5",
                "#B0BEC5",
                "#B0BEC5",
                "#B0BEC5",
                "#B0BEC5",
                "#B0BEC5",
                "#B0BEC5",
                "#B0BEC5",
                "#B0BEC5",
                "#B0BEC5",
                "#B0BEC5",
                "#B0BEC5",
                "#B0BEC5",
                "#B0BEC5",
                "#B0BEC5",
                "#B0BEC5",
                "#B0BEC5",
                "#B0BEC5",
                "#B0BEC5",
                "#B0BEC5",
                "#B0BEC5",
                "#B0BEC5",
                "#B0BEC5",
                "#B0BEC5",
                "#B0BEC5",
                "#B0BEC5",
                "#B0BEC5",
                "#B0BEC5",
                "#B0BEC5",
                "#B0BEC5",
                "#B0BEC5",
                "#B0BEC5",
                "#B0BEC5",
                "#B0BEC5",
                "#B0BEC5",
                "#B0BEC5",
                "#B0BEC5",
                "#B0BEC5",
                "#B0BEC5",
                "#B0BEC5",
                "#B0BEC5"
               ]
              ]
             }
            ],
            "label": "Topic 20",
            "method": "update"
           },
           {
            "args": [
             {
              "marker.color": [
               [
                "#B0BEC5",
                "#B0BEC5",
                "#B0BEC5",
                "#B0BEC5",
                "#B0BEC5",
                "#B0BEC5",
                "#B0BEC5",
                "#B0BEC5",
                "#B0BEC5",
                "#B0BEC5",
                "#B0BEC5",
                "#B0BEC5",
                "#B0BEC5",
                "#B0BEC5",
                "#B0BEC5",
                "#B0BEC5",
                "#B0BEC5",
                "#B0BEC5",
                "#B0BEC5",
                "#B0BEC5",
                "#B0BEC5",
                "red",
                "#B0BEC5",
                "#B0BEC5",
                "#B0BEC5",
                "#B0BEC5",
                "#B0BEC5",
                "#B0BEC5",
                "#B0BEC5",
                "#B0BEC5",
                "#B0BEC5",
                "#B0BEC5",
                "#B0BEC5",
                "#B0BEC5",
                "#B0BEC5",
                "#B0BEC5",
                "#B0BEC5",
                "#B0BEC5",
                "#B0BEC5",
                "#B0BEC5",
                "#B0BEC5",
                "#B0BEC5",
                "#B0BEC5",
                "#B0BEC5",
                "#B0BEC5",
                "#B0BEC5",
                "#B0BEC5",
                "#B0BEC5",
                "#B0BEC5",
                "#B0BEC5",
                "#B0BEC5",
                "#B0BEC5",
                "#B0BEC5",
                "#B0BEC5",
                "#B0BEC5",
                "#B0BEC5",
                "#B0BEC5",
                "#B0BEC5",
                "#B0BEC5",
                "#B0BEC5",
                "#B0BEC5",
                "#B0BEC5",
                "#B0BEC5",
                "#B0BEC5",
                "#B0BEC5",
                "#B0BEC5",
                "#B0BEC5",
                "#B0BEC5",
                "#B0BEC5",
                "#B0BEC5",
                "#B0BEC5",
                "#B0BEC5",
                "#B0BEC5",
                "#B0BEC5",
                "#B0BEC5",
                "#B0BEC5",
                "#B0BEC5",
                "#B0BEC5",
                "#B0BEC5",
                "#B0BEC5",
                "#B0BEC5",
                "#B0BEC5",
                "#B0BEC5",
                "#B0BEC5",
                "#B0BEC5",
                "#B0BEC5",
                "#B0BEC5"
               ]
              ]
             }
            ],
            "label": "Topic 21",
            "method": "update"
           },
           {
            "args": [
             {
              "marker.color": [
               [
                "#B0BEC5",
                "#B0BEC5",
                "#B0BEC5",
                "#B0BEC5",
                "#B0BEC5",
                "#B0BEC5",
                "#B0BEC5",
                "#B0BEC5",
                "#B0BEC5",
                "#B0BEC5",
                "#B0BEC5",
                "#B0BEC5",
                "#B0BEC5",
                "#B0BEC5",
                "#B0BEC5",
                "#B0BEC5",
                "#B0BEC5",
                "#B0BEC5",
                "#B0BEC5",
                "#B0BEC5",
                "#B0BEC5",
                "#B0BEC5",
                "red",
                "#B0BEC5",
                "#B0BEC5",
                "#B0BEC5",
                "#B0BEC5",
                "#B0BEC5",
                "#B0BEC5",
                "#B0BEC5",
                "#B0BEC5",
                "#B0BEC5",
                "#B0BEC5",
                "#B0BEC5",
                "#B0BEC5",
                "#B0BEC5",
                "#B0BEC5",
                "#B0BEC5",
                "#B0BEC5",
                "#B0BEC5",
                "#B0BEC5",
                "#B0BEC5",
                "#B0BEC5",
                "#B0BEC5",
                "#B0BEC5",
                "#B0BEC5",
                "#B0BEC5",
                "#B0BEC5",
                "#B0BEC5",
                "#B0BEC5",
                "#B0BEC5",
                "#B0BEC5",
                "#B0BEC5",
                "#B0BEC5",
                "#B0BEC5",
                "#B0BEC5",
                "#B0BEC5",
                "#B0BEC5",
                "#B0BEC5",
                "#B0BEC5",
                "#B0BEC5",
                "#B0BEC5",
                "#B0BEC5",
                "#B0BEC5",
                "#B0BEC5",
                "#B0BEC5",
                "#B0BEC5",
                "#B0BEC5",
                "#B0BEC5",
                "#B0BEC5",
                "#B0BEC5",
                "#B0BEC5",
                "#B0BEC5",
                "#B0BEC5",
                "#B0BEC5",
                "#B0BEC5",
                "#B0BEC5",
                "#B0BEC5",
                "#B0BEC5",
                "#B0BEC5",
                "#B0BEC5",
                "#B0BEC5",
                "#B0BEC5",
                "#B0BEC5",
                "#B0BEC5",
                "#B0BEC5",
                "#B0BEC5"
               ]
              ]
             }
            ],
            "label": "Topic 22",
            "method": "update"
           },
           {
            "args": [
             {
              "marker.color": [
               [
                "#B0BEC5",
                "#B0BEC5",
                "#B0BEC5",
                "#B0BEC5",
                "#B0BEC5",
                "#B0BEC5",
                "#B0BEC5",
                "#B0BEC5",
                "#B0BEC5",
                "#B0BEC5",
                "#B0BEC5",
                "#B0BEC5",
                "#B0BEC5",
                "#B0BEC5",
                "#B0BEC5",
                "#B0BEC5",
                "#B0BEC5",
                "#B0BEC5",
                "#B0BEC5",
                "#B0BEC5",
                "#B0BEC5",
                "#B0BEC5",
                "#B0BEC5",
                "red",
                "#B0BEC5",
                "#B0BEC5",
                "#B0BEC5",
                "#B0BEC5",
                "#B0BEC5",
                "#B0BEC5",
                "#B0BEC5",
                "#B0BEC5",
                "#B0BEC5",
                "#B0BEC5",
                "#B0BEC5",
                "#B0BEC5",
                "#B0BEC5",
                "#B0BEC5",
                "#B0BEC5",
                "#B0BEC5",
                "#B0BEC5",
                "#B0BEC5",
                "#B0BEC5",
                "#B0BEC5",
                "#B0BEC5",
                "#B0BEC5",
                "#B0BEC5",
                "#B0BEC5",
                "#B0BEC5",
                "#B0BEC5",
                "#B0BEC5",
                "#B0BEC5",
                "#B0BEC5",
                "#B0BEC5",
                "#B0BEC5",
                "#B0BEC5",
                "#B0BEC5",
                "#B0BEC5",
                "#B0BEC5",
                "#B0BEC5",
                "#B0BEC5",
                "#B0BEC5",
                "#B0BEC5",
                "#B0BEC5",
                "#B0BEC5",
                "#B0BEC5",
                "#B0BEC5",
                "#B0BEC5",
                "#B0BEC5",
                "#B0BEC5",
                "#B0BEC5",
                "#B0BEC5",
                "#B0BEC5",
                "#B0BEC5",
                "#B0BEC5",
                "#B0BEC5",
                "#B0BEC5",
                "#B0BEC5",
                "#B0BEC5",
                "#B0BEC5",
                "#B0BEC5",
                "#B0BEC5",
                "#B0BEC5",
                "#B0BEC5",
                "#B0BEC5",
                "#B0BEC5",
                "#B0BEC5"
               ]
              ]
             }
            ],
            "label": "Topic 23",
            "method": "update"
           },
           {
            "args": [
             {
              "marker.color": [
               [
                "#B0BEC5",
                "#B0BEC5",
                "#B0BEC5",
                "#B0BEC5",
                "#B0BEC5",
                "#B0BEC5",
                "#B0BEC5",
                "#B0BEC5",
                "#B0BEC5",
                "#B0BEC5",
                "#B0BEC5",
                "#B0BEC5",
                "#B0BEC5",
                "#B0BEC5",
                "#B0BEC5",
                "#B0BEC5",
                "#B0BEC5",
                "#B0BEC5",
                "#B0BEC5",
                "#B0BEC5",
                "#B0BEC5",
                "#B0BEC5",
                "#B0BEC5",
                "#B0BEC5",
                "red",
                "#B0BEC5",
                "#B0BEC5",
                "#B0BEC5",
                "#B0BEC5",
                "#B0BEC5",
                "#B0BEC5",
                "#B0BEC5",
                "#B0BEC5",
                "#B0BEC5",
                "#B0BEC5",
                "#B0BEC5",
                "#B0BEC5",
                "#B0BEC5",
                "#B0BEC5",
                "#B0BEC5",
                "#B0BEC5",
                "#B0BEC5",
                "#B0BEC5",
                "#B0BEC5",
                "#B0BEC5",
                "#B0BEC5",
                "#B0BEC5",
                "#B0BEC5",
                "#B0BEC5",
                "#B0BEC5",
                "#B0BEC5",
                "#B0BEC5",
                "#B0BEC5",
                "#B0BEC5",
                "#B0BEC5",
                "#B0BEC5",
                "#B0BEC5",
                "#B0BEC5",
                "#B0BEC5",
                "#B0BEC5",
                "#B0BEC5",
                "#B0BEC5",
                "#B0BEC5",
                "#B0BEC5",
                "#B0BEC5",
                "#B0BEC5",
                "#B0BEC5",
                "#B0BEC5",
                "#B0BEC5",
                "#B0BEC5",
                "#B0BEC5",
                "#B0BEC5",
                "#B0BEC5",
                "#B0BEC5",
                "#B0BEC5",
                "#B0BEC5",
                "#B0BEC5",
                "#B0BEC5",
                "#B0BEC5",
                "#B0BEC5",
                "#B0BEC5",
                "#B0BEC5",
                "#B0BEC5",
                "#B0BEC5",
                "#B0BEC5",
                "#B0BEC5",
                "#B0BEC5"
               ]
              ]
             }
            ],
            "label": "Topic 24",
            "method": "update"
           },
           {
            "args": [
             {
              "marker.color": [
               [
                "#B0BEC5",
                "#B0BEC5",
                "#B0BEC5",
                "#B0BEC5",
                "#B0BEC5",
                "#B0BEC5",
                "#B0BEC5",
                "#B0BEC5",
                "#B0BEC5",
                "#B0BEC5",
                "#B0BEC5",
                "#B0BEC5",
                "#B0BEC5",
                "#B0BEC5",
                "#B0BEC5",
                "#B0BEC5",
                "#B0BEC5",
                "#B0BEC5",
                "#B0BEC5",
                "#B0BEC5",
                "#B0BEC5",
                "#B0BEC5",
                "#B0BEC5",
                "#B0BEC5",
                "#B0BEC5",
                "red",
                "#B0BEC5",
                "#B0BEC5",
                "#B0BEC5",
                "#B0BEC5",
                "#B0BEC5",
                "#B0BEC5",
                "#B0BEC5",
                "#B0BEC5",
                "#B0BEC5",
                "#B0BEC5",
                "#B0BEC5",
                "#B0BEC5",
                "#B0BEC5",
                "#B0BEC5",
                "#B0BEC5",
                "#B0BEC5",
                "#B0BEC5",
                "#B0BEC5",
                "#B0BEC5",
                "#B0BEC5",
                "#B0BEC5",
                "#B0BEC5",
                "#B0BEC5",
                "#B0BEC5",
                "#B0BEC5",
                "#B0BEC5",
                "#B0BEC5",
                "#B0BEC5",
                "#B0BEC5",
                "#B0BEC5",
                "#B0BEC5",
                "#B0BEC5",
                "#B0BEC5",
                "#B0BEC5",
                "#B0BEC5",
                "#B0BEC5",
                "#B0BEC5",
                "#B0BEC5",
                "#B0BEC5",
                "#B0BEC5",
                "#B0BEC5",
                "#B0BEC5",
                "#B0BEC5",
                "#B0BEC5",
                "#B0BEC5",
                "#B0BEC5",
                "#B0BEC5",
                "#B0BEC5",
                "#B0BEC5",
                "#B0BEC5",
                "#B0BEC5",
                "#B0BEC5",
                "#B0BEC5",
                "#B0BEC5",
                "#B0BEC5",
                "#B0BEC5",
                "#B0BEC5",
                "#B0BEC5",
                "#B0BEC5",
                "#B0BEC5",
                "#B0BEC5"
               ]
              ]
             }
            ],
            "label": "Topic 25",
            "method": "update"
           },
           {
            "args": [
             {
              "marker.color": [
               [
                "#B0BEC5",
                "#B0BEC5",
                "#B0BEC5",
                "#B0BEC5",
                "#B0BEC5",
                "#B0BEC5",
                "#B0BEC5",
                "#B0BEC5",
                "#B0BEC5",
                "#B0BEC5",
                "#B0BEC5",
                "#B0BEC5",
                "#B0BEC5",
                "#B0BEC5",
                "#B0BEC5",
                "#B0BEC5",
                "#B0BEC5",
                "#B0BEC5",
                "#B0BEC5",
                "#B0BEC5",
                "#B0BEC5",
                "#B0BEC5",
                "#B0BEC5",
                "#B0BEC5",
                "#B0BEC5",
                "#B0BEC5",
                "red",
                "#B0BEC5",
                "#B0BEC5",
                "#B0BEC5",
                "#B0BEC5",
                "#B0BEC5",
                "#B0BEC5",
                "#B0BEC5",
                "#B0BEC5",
                "#B0BEC5",
                "#B0BEC5",
                "#B0BEC5",
                "#B0BEC5",
                "#B0BEC5",
                "#B0BEC5",
                "#B0BEC5",
                "#B0BEC5",
                "#B0BEC5",
                "#B0BEC5",
                "#B0BEC5",
                "#B0BEC5",
                "#B0BEC5",
                "#B0BEC5",
                "#B0BEC5",
                "#B0BEC5",
                "#B0BEC5",
                "#B0BEC5",
                "#B0BEC5",
                "#B0BEC5",
                "#B0BEC5",
                "#B0BEC5",
                "#B0BEC5",
                "#B0BEC5",
                "#B0BEC5",
                "#B0BEC5",
                "#B0BEC5",
                "#B0BEC5",
                "#B0BEC5",
                "#B0BEC5",
                "#B0BEC5",
                "#B0BEC5",
                "#B0BEC5",
                "#B0BEC5",
                "#B0BEC5",
                "#B0BEC5",
                "#B0BEC5",
                "#B0BEC5",
                "#B0BEC5",
                "#B0BEC5",
                "#B0BEC5",
                "#B0BEC5",
                "#B0BEC5",
                "#B0BEC5",
                "#B0BEC5",
                "#B0BEC5",
                "#B0BEC5",
                "#B0BEC5",
                "#B0BEC5",
                "#B0BEC5",
                "#B0BEC5",
                "#B0BEC5"
               ]
              ]
             }
            ],
            "label": "Topic 26",
            "method": "update"
           },
           {
            "args": [
             {
              "marker.color": [
               [
                "#B0BEC5",
                "#B0BEC5",
                "#B0BEC5",
                "#B0BEC5",
                "#B0BEC5",
                "#B0BEC5",
                "#B0BEC5",
                "#B0BEC5",
                "#B0BEC5",
                "#B0BEC5",
                "#B0BEC5",
                "#B0BEC5",
                "#B0BEC5",
                "#B0BEC5",
                "#B0BEC5",
                "#B0BEC5",
                "#B0BEC5",
                "#B0BEC5",
                "#B0BEC5",
                "#B0BEC5",
                "#B0BEC5",
                "#B0BEC5",
                "#B0BEC5",
                "#B0BEC5",
                "#B0BEC5",
                "#B0BEC5",
                "#B0BEC5",
                "red",
                "#B0BEC5",
                "#B0BEC5",
                "#B0BEC5",
                "#B0BEC5",
                "#B0BEC5",
                "#B0BEC5",
                "#B0BEC5",
                "#B0BEC5",
                "#B0BEC5",
                "#B0BEC5",
                "#B0BEC5",
                "#B0BEC5",
                "#B0BEC5",
                "#B0BEC5",
                "#B0BEC5",
                "#B0BEC5",
                "#B0BEC5",
                "#B0BEC5",
                "#B0BEC5",
                "#B0BEC5",
                "#B0BEC5",
                "#B0BEC5",
                "#B0BEC5",
                "#B0BEC5",
                "#B0BEC5",
                "#B0BEC5",
                "#B0BEC5",
                "#B0BEC5",
                "#B0BEC5",
                "#B0BEC5",
                "#B0BEC5",
                "#B0BEC5",
                "#B0BEC5",
                "#B0BEC5",
                "#B0BEC5",
                "#B0BEC5",
                "#B0BEC5",
                "#B0BEC5",
                "#B0BEC5",
                "#B0BEC5",
                "#B0BEC5",
                "#B0BEC5",
                "#B0BEC5",
                "#B0BEC5",
                "#B0BEC5",
                "#B0BEC5",
                "#B0BEC5",
                "#B0BEC5",
                "#B0BEC5",
                "#B0BEC5",
                "#B0BEC5",
                "#B0BEC5",
                "#B0BEC5",
                "#B0BEC5",
                "#B0BEC5",
                "#B0BEC5",
                "#B0BEC5",
                "#B0BEC5",
                "#B0BEC5"
               ]
              ]
             }
            ],
            "label": "Topic 27",
            "method": "update"
           },
           {
            "args": [
             {
              "marker.color": [
               [
                "#B0BEC5",
                "#B0BEC5",
                "#B0BEC5",
                "#B0BEC5",
                "#B0BEC5",
                "#B0BEC5",
                "#B0BEC5",
                "#B0BEC5",
                "#B0BEC5",
                "#B0BEC5",
                "#B0BEC5",
                "#B0BEC5",
                "#B0BEC5",
                "#B0BEC5",
                "#B0BEC5",
                "#B0BEC5",
                "#B0BEC5",
                "#B0BEC5",
                "#B0BEC5",
                "#B0BEC5",
                "#B0BEC5",
                "#B0BEC5",
                "#B0BEC5",
                "#B0BEC5",
                "#B0BEC5",
                "#B0BEC5",
                "#B0BEC5",
                "#B0BEC5",
                "red",
                "#B0BEC5",
                "#B0BEC5",
                "#B0BEC5",
                "#B0BEC5",
                "#B0BEC5",
                "#B0BEC5",
                "#B0BEC5",
                "#B0BEC5",
                "#B0BEC5",
                "#B0BEC5",
                "#B0BEC5",
                "#B0BEC5",
                "#B0BEC5",
                "#B0BEC5",
                "#B0BEC5",
                "#B0BEC5",
                "#B0BEC5",
                "#B0BEC5",
                "#B0BEC5",
                "#B0BEC5",
                "#B0BEC5",
                "#B0BEC5",
                "#B0BEC5",
                "#B0BEC5",
                "#B0BEC5",
                "#B0BEC5",
                "#B0BEC5",
                "#B0BEC5",
                "#B0BEC5",
                "#B0BEC5",
                "#B0BEC5",
                "#B0BEC5",
                "#B0BEC5",
                "#B0BEC5",
                "#B0BEC5",
                "#B0BEC5",
                "#B0BEC5",
                "#B0BEC5",
                "#B0BEC5",
                "#B0BEC5",
                "#B0BEC5",
                "#B0BEC5",
                "#B0BEC5",
                "#B0BEC5",
                "#B0BEC5",
                "#B0BEC5",
                "#B0BEC5",
                "#B0BEC5",
                "#B0BEC5",
                "#B0BEC5",
                "#B0BEC5",
                "#B0BEC5",
                "#B0BEC5",
                "#B0BEC5",
                "#B0BEC5",
                "#B0BEC5",
                "#B0BEC5",
                "#B0BEC5"
               ]
              ]
             }
            ],
            "label": "Topic 28",
            "method": "update"
           },
           {
            "args": [
             {
              "marker.color": [
               [
                "#B0BEC5",
                "#B0BEC5",
                "#B0BEC5",
                "#B0BEC5",
                "#B0BEC5",
                "#B0BEC5",
                "#B0BEC5",
                "#B0BEC5",
                "#B0BEC5",
                "#B0BEC5",
                "#B0BEC5",
                "#B0BEC5",
                "#B0BEC5",
                "#B0BEC5",
                "#B0BEC5",
                "#B0BEC5",
                "#B0BEC5",
                "#B0BEC5",
                "#B0BEC5",
                "#B0BEC5",
                "#B0BEC5",
                "#B0BEC5",
                "#B0BEC5",
                "#B0BEC5",
                "#B0BEC5",
                "#B0BEC5",
                "#B0BEC5",
                "#B0BEC5",
                "#B0BEC5",
                "red",
                "#B0BEC5",
                "#B0BEC5",
                "#B0BEC5",
                "#B0BEC5",
                "#B0BEC5",
                "#B0BEC5",
                "#B0BEC5",
                "#B0BEC5",
                "#B0BEC5",
                "#B0BEC5",
                "#B0BEC5",
                "#B0BEC5",
                "#B0BEC5",
                "#B0BEC5",
                "#B0BEC5",
                "#B0BEC5",
                "#B0BEC5",
                "#B0BEC5",
                "#B0BEC5",
                "#B0BEC5",
                "#B0BEC5",
                "#B0BEC5",
                "#B0BEC5",
                "#B0BEC5",
                "#B0BEC5",
                "#B0BEC5",
                "#B0BEC5",
                "#B0BEC5",
                "#B0BEC5",
                "#B0BEC5",
                "#B0BEC5",
                "#B0BEC5",
                "#B0BEC5",
                "#B0BEC5",
                "#B0BEC5",
                "#B0BEC5",
                "#B0BEC5",
                "#B0BEC5",
                "#B0BEC5",
                "#B0BEC5",
                "#B0BEC5",
                "#B0BEC5",
                "#B0BEC5",
                "#B0BEC5",
                "#B0BEC5",
                "#B0BEC5",
                "#B0BEC5",
                "#B0BEC5",
                "#B0BEC5",
                "#B0BEC5",
                "#B0BEC5",
                "#B0BEC5",
                "#B0BEC5",
                "#B0BEC5",
                "#B0BEC5",
                "#B0BEC5",
                "#B0BEC5"
               ]
              ]
             }
            ],
            "label": "Topic 29",
            "method": "update"
           },
           {
            "args": [
             {
              "marker.color": [
               [
                "#B0BEC5",
                "#B0BEC5",
                "#B0BEC5",
                "#B0BEC5",
                "#B0BEC5",
                "#B0BEC5",
                "#B0BEC5",
                "#B0BEC5",
                "#B0BEC5",
                "#B0BEC5",
                "#B0BEC5",
                "#B0BEC5",
                "#B0BEC5",
                "#B0BEC5",
                "#B0BEC5",
                "#B0BEC5",
                "#B0BEC5",
                "#B0BEC5",
                "#B0BEC5",
                "#B0BEC5",
                "#B0BEC5",
                "#B0BEC5",
                "#B0BEC5",
                "#B0BEC5",
                "#B0BEC5",
                "#B0BEC5",
                "#B0BEC5",
                "#B0BEC5",
                "#B0BEC5",
                "#B0BEC5",
                "red",
                "#B0BEC5",
                "#B0BEC5",
                "#B0BEC5",
                "#B0BEC5",
                "#B0BEC5",
                "#B0BEC5",
                "#B0BEC5",
                "#B0BEC5",
                "#B0BEC5",
                "#B0BEC5",
                "#B0BEC5",
                "#B0BEC5",
                "#B0BEC5",
                "#B0BEC5",
                "#B0BEC5",
                "#B0BEC5",
                "#B0BEC5",
                "#B0BEC5",
                "#B0BEC5",
                "#B0BEC5",
                "#B0BEC5",
                "#B0BEC5",
                "#B0BEC5",
                "#B0BEC5",
                "#B0BEC5",
                "#B0BEC5",
                "#B0BEC5",
                "#B0BEC5",
                "#B0BEC5",
                "#B0BEC5",
                "#B0BEC5",
                "#B0BEC5",
                "#B0BEC5",
                "#B0BEC5",
                "#B0BEC5",
                "#B0BEC5",
                "#B0BEC5",
                "#B0BEC5",
                "#B0BEC5",
                "#B0BEC5",
                "#B0BEC5",
                "#B0BEC5",
                "#B0BEC5",
                "#B0BEC5",
                "#B0BEC5",
                "#B0BEC5",
                "#B0BEC5",
                "#B0BEC5",
                "#B0BEC5",
                "#B0BEC5",
                "#B0BEC5",
                "#B0BEC5",
                "#B0BEC5",
                "#B0BEC5",
                "#B0BEC5",
                "#B0BEC5"
               ]
              ]
             }
            ],
            "label": "Topic 30",
            "method": "update"
           },
           {
            "args": [
             {
              "marker.color": [
               [
                "#B0BEC5",
                "#B0BEC5",
                "#B0BEC5",
                "#B0BEC5",
                "#B0BEC5",
                "#B0BEC5",
                "#B0BEC5",
                "#B0BEC5",
                "#B0BEC5",
                "#B0BEC5",
                "#B0BEC5",
                "#B0BEC5",
                "#B0BEC5",
                "#B0BEC5",
                "#B0BEC5",
                "#B0BEC5",
                "#B0BEC5",
                "#B0BEC5",
                "#B0BEC5",
                "#B0BEC5",
                "#B0BEC5",
                "#B0BEC5",
                "#B0BEC5",
                "#B0BEC5",
                "#B0BEC5",
                "#B0BEC5",
                "#B0BEC5",
                "#B0BEC5",
                "#B0BEC5",
                "#B0BEC5",
                "#B0BEC5",
                "red",
                "#B0BEC5",
                "#B0BEC5",
                "#B0BEC5",
                "#B0BEC5",
                "#B0BEC5",
                "#B0BEC5",
                "#B0BEC5",
                "#B0BEC5",
                "#B0BEC5",
                "#B0BEC5",
                "#B0BEC5",
                "#B0BEC5",
                "#B0BEC5",
                "#B0BEC5",
                "#B0BEC5",
                "#B0BEC5",
                "#B0BEC5",
                "#B0BEC5",
                "#B0BEC5",
                "#B0BEC5",
                "#B0BEC5",
                "#B0BEC5",
                "#B0BEC5",
                "#B0BEC5",
                "#B0BEC5",
                "#B0BEC5",
                "#B0BEC5",
                "#B0BEC5",
                "#B0BEC5",
                "#B0BEC5",
                "#B0BEC5",
                "#B0BEC5",
                "#B0BEC5",
                "#B0BEC5",
                "#B0BEC5",
                "#B0BEC5",
                "#B0BEC5",
                "#B0BEC5",
                "#B0BEC5",
                "#B0BEC5",
                "#B0BEC5",
                "#B0BEC5",
                "#B0BEC5",
                "#B0BEC5",
                "#B0BEC5",
                "#B0BEC5",
                "#B0BEC5",
                "#B0BEC5",
                "#B0BEC5",
                "#B0BEC5",
                "#B0BEC5",
                "#B0BEC5",
                "#B0BEC5",
                "#B0BEC5",
                "#B0BEC5"
               ]
              ]
             }
            ],
            "label": "Topic 31",
            "method": "update"
           },
           {
            "args": [
             {
              "marker.color": [
               [
                "#B0BEC5",
                "#B0BEC5",
                "#B0BEC5",
                "#B0BEC5",
                "#B0BEC5",
                "#B0BEC5",
                "#B0BEC5",
                "#B0BEC5",
                "#B0BEC5",
                "#B0BEC5",
                "#B0BEC5",
                "#B0BEC5",
                "#B0BEC5",
                "#B0BEC5",
                "#B0BEC5",
                "#B0BEC5",
                "#B0BEC5",
                "#B0BEC5",
                "#B0BEC5",
                "#B0BEC5",
                "#B0BEC5",
                "#B0BEC5",
                "#B0BEC5",
                "#B0BEC5",
                "#B0BEC5",
                "#B0BEC5",
                "#B0BEC5",
                "#B0BEC5",
                "#B0BEC5",
                "#B0BEC5",
                "#B0BEC5",
                "#B0BEC5",
                "red",
                "#B0BEC5",
                "#B0BEC5",
                "#B0BEC5",
                "#B0BEC5",
                "#B0BEC5",
                "#B0BEC5",
                "#B0BEC5",
                "#B0BEC5",
                "#B0BEC5",
                "#B0BEC5",
                "#B0BEC5",
                "#B0BEC5",
                "#B0BEC5",
                "#B0BEC5",
                "#B0BEC5",
                "#B0BEC5",
                "#B0BEC5",
                "#B0BEC5",
                "#B0BEC5",
                "#B0BEC5",
                "#B0BEC5",
                "#B0BEC5",
                "#B0BEC5",
                "#B0BEC5",
                "#B0BEC5",
                "#B0BEC5",
                "#B0BEC5",
                "#B0BEC5",
                "#B0BEC5",
                "#B0BEC5",
                "#B0BEC5",
                "#B0BEC5",
                "#B0BEC5",
                "#B0BEC5",
                "#B0BEC5",
                "#B0BEC5",
                "#B0BEC5",
                "#B0BEC5",
                "#B0BEC5",
                "#B0BEC5",
                "#B0BEC5",
                "#B0BEC5",
                "#B0BEC5",
                "#B0BEC5",
                "#B0BEC5",
                "#B0BEC5",
                "#B0BEC5",
                "#B0BEC5",
                "#B0BEC5",
                "#B0BEC5",
                "#B0BEC5",
                "#B0BEC5",
                "#B0BEC5",
                "#B0BEC5"
               ]
              ]
             }
            ],
            "label": "Topic 32",
            "method": "update"
           },
           {
            "args": [
             {
              "marker.color": [
               [
                "#B0BEC5",
                "#B0BEC5",
                "#B0BEC5",
                "#B0BEC5",
                "#B0BEC5",
                "#B0BEC5",
                "#B0BEC5",
                "#B0BEC5",
                "#B0BEC5",
                "#B0BEC5",
                "#B0BEC5",
                "#B0BEC5",
                "#B0BEC5",
                "#B0BEC5",
                "#B0BEC5",
                "#B0BEC5",
                "#B0BEC5",
                "#B0BEC5",
                "#B0BEC5",
                "#B0BEC5",
                "#B0BEC5",
                "#B0BEC5",
                "#B0BEC5",
                "#B0BEC5",
                "#B0BEC5",
                "#B0BEC5",
                "#B0BEC5",
                "#B0BEC5",
                "#B0BEC5",
                "#B0BEC5",
                "#B0BEC5",
                "#B0BEC5",
                "#B0BEC5",
                "red",
                "#B0BEC5",
                "#B0BEC5",
                "#B0BEC5",
                "#B0BEC5",
                "#B0BEC5",
                "#B0BEC5",
                "#B0BEC5",
                "#B0BEC5",
                "#B0BEC5",
                "#B0BEC5",
                "#B0BEC5",
                "#B0BEC5",
                "#B0BEC5",
                "#B0BEC5",
                "#B0BEC5",
                "#B0BEC5",
                "#B0BEC5",
                "#B0BEC5",
                "#B0BEC5",
                "#B0BEC5",
                "#B0BEC5",
                "#B0BEC5",
                "#B0BEC5",
                "#B0BEC5",
                "#B0BEC5",
                "#B0BEC5",
                "#B0BEC5",
                "#B0BEC5",
                "#B0BEC5",
                "#B0BEC5",
                "#B0BEC5",
                "#B0BEC5",
                "#B0BEC5",
                "#B0BEC5",
                "#B0BEC5",
                "#B0BEC5",
                "#B0BEC5",
                "#B0BEC5",
                "#B0BEC5",
                "#B0BEC5",
                "#B0BEC5",
                "#B0BEC5",
                "#B0BEC5",
                "#B0BEC5",
                "#B0BEC5",
                "#B0BEC5",
                "#B0BEC5",
                "#B0BEC5",
                "#B0BEC5",
                "#B0BEC5",
                "#B0BEC5",
                "#B0BEC5",
                "#B0BEC5"
               ]
              ]
             }
            ],
            "label": "Topic 33",
            "method": "update"
           },
           {
            "args": [
             {
              "marker.color": [
               [
                "#B0BEC5",
                "#B0BEC5",
                "#B0BEC5",
                "#B0BEC5",
                "#B0BEC5",
                "#B0BEC5",
                "#B0BEC5",
                "#B0BEC5",
                "#B0BEC5",
                "#B0BEC5",
                "#B0BEC5",
                "#B0BEC5",
                "#B0BEC5",
                "#B0BEC5",
                "#B0BEC5",
                "#B0BEC5",
                "#B0BEC5",
                "#B0BEC5",
                "#B0BEC5",
                "#B0BEC5",
                "#B0BEC5",
                "#B0BEC5",
                "#B0BEC5",
                "#B0BEC5",
                "#B0BEC5",
                "#B0BEC5",
                "#B0BEC5",
                "#B0BEC5",
                "#B0BEC5",
                "#B0BEC5",
                "#B0BEC5",
                "#B0BEC5",
                "#B0BEC5",
                "#B0BEC5",
                "red",
                "#B0BEC5",
                "#B0BEC5",
                "#B0BEC5",
                "#B0BEC5",
                "#B0BEC5",
                "#B0BEC5",
                "#B0BEC5",
                "#B0BEC5",
                "#B0BEC5",
                "#B0BEC5",
                "#B0BEC5",
                "#B0BEC5",
                "#B0BEC5",
                "#B0BEC5",
                "#B0BEC5",
                "#B0BEC5",
                "#B0BEC5",
                "#B0BEC5",
                "#B0BEC5",
                "#B0BEC5",
                "#B0BEC5",
                "#B0BEC5",
                "#B0BEC5",
                "#B0BEC5",
                "#B0BEC5",
                "#B0BEC5",
                "#B0BEC5",
                "#B0BEC5",
                "#B0BEC5",
                "#B0BEC5",
                "#B0BEC5",
                "#B0BEC5",
                "#B0BEC5",
                "#B0BEC5",
                "#B0BEC5",
                "#B0BEC5",
                "#B0BEC5",
                "#B0BEC5",
                "#B0BEC5",
                "#B0BEC5",
                "#B0BEC5",
                "#B0BEC5",
                "#B0BEC5",
                "#B0BEC5",
                "#B0BEC5",
                "#B0BEC5",
                "#B0BEC5",
                "#B0BEC5",
                "#B0BEC5",
                "#B0BEC5",
                "#B0BEC5",
                "#B0BEC5"
               ]
              ]
             }
            ],
            "label": "Topic 34",
            "method": "update"
           },
           {
            "args": [
             {
              "marker.color": [
               [
                "#B0BEC5",
                "#B0BEC5",
                "#B0BEC5",
                "#B0BEC5",
                "#B0BEC5",
                "#B0BEC5",
                "#B0BEC5",
                "#B0BEC5",
                "#B0BEC5",
                "#B0BEC5",
                "#B0BEC5",
                "#B0BEC5",
                "#B0BEC5",
                "#B0BEC5",
                "#B0BEC5",
                "#B0BEC5",
                "#B0BEC5",
                "#B0BEC5",
                "#B0BEC5",
                "#B0BEC5",
                "#B0BEC5",
                "#B0BEC5",
                "#B0BEC5",
                "#B0BEC5",
                "#B0BEC5",
                "#B0BEC5",
                "#B0BEC5",
                "#B0BEC5",
                "#B0BEC5",
                "#B0BEC5",
                "#B0BEC5",
                "#B0BEC5",
                "#B0BEC5",
                "#B0BEC5",
                "#B0BEC5",
                "red",
                "#B0BEC5",
                "#B0BEC5",
                "#B0BEC5",
                "#B0BEC5",
                "#B0BEC5",
                "#B0BEC5",
                "#B0BEC5",
                "#B0BEC5",
                "#B0BEC5",
                "#B0BEC5",
                "#B0BEC5",
                "#B0BEC5",
                "#B0BEC5",
                "#B0BEC5",
                "#B0BEC5",
                "#B0BEC5",
                "#B0BEC5",
                "#B0BEC5",
                "#B0BEC5",
                "#B0BEC5",
                "#B0BEC5",
                "#B0BEC5",
                "#B0BEC5",
                "#B0BEC5",
                "#B0BEC5",
                "#B0BEC5",
                "#B0BEC5",
                "#B0BEC5",
                "#B0BEC5",
                "#B0BEC5",
                "#B0BEC5",
                "#B0BEC5",
                "#B0BEC5",
                "#B0BEC5",
                "#B0BEC5",
                "#B0BEC5",
                "#B0BEC5",
                "#B0BEC5",
                "#B0BEC5",
                "#B0BEC5",
                "#B0BEC5",
                "#B0BEC5",
                "#B0BEC5",
                "#B0BEC5",
                "#B0BEC5",
                "#B0BEC5",
                "#B0BEC5",
                "#B0BEC5",
                "#B0BEC5",
                "#B0BEC5",
                "#B0BEC5"
               ]
              ]
             }
            ],
            "label": "Topic 35",
            "method": "update"
           },
           {
            "args": [
             {
              "marker.color": [
               [
                "#B0BEC5",
                "#B0BEC5",
                "#B0BEC5",
                "#B0BEC5",
                "#B0BEC5",
                "#B0BEC5",
                "#B0BEC5",
                "#B0BEC5",
                "#B0BEC5",
                "#B0BEC5",
                "#B0BEC5",
                "#B0BEC5",
                "#B0BEC5",
                "#B0BEC5",
                "#B0BEC5",
                "#B0BEC5",
                "#B0BEC5",
                "#B0BEC5",
                "#B0BEC5",
                "#B0BEC5",
                "#B0BEC5",
                "#B0BEC5",
                "#B0BEC5",
                "#B0BEC5",
                "#B0BEC5",
                "#B0BEC5",
                "#B0BEC5",
                "#B0BEC5",
                "#B0BEC5",
                "#B0BEC5",
                "#B0BEC5",
                "#B0BEC5",
                "#B0BEC5",
                "#B0BEC5",
                "#B0BEC5",
                "#B0BEC5",
                "red",
                "#B0BEC5",
                "#B0BEC5",
                "#B0BEC5",
                "#B0BEC5",
                "#B0BEC5",
                "#B0BEC5",
                "#B0BEC5",
                "#B0BEC5",
                "#B0BEC5",
                "#B0BEC5",
                "#B0BEC5",
                "#B0BEC5",
                "#B0BEC5",
                "#B0BEC5",
                "#B0BEC5",
                "#B0BEC5",
                "#B0BEC5",
                "#B0BEC5",
                "#B0BEC5",
                "#B0BEC5",
                "#B0BEC5",
                "#B0BEC5",
                "#B0BEC5",
                "#B0BEC5",
                "#B0BEC5",
                "#B0BEC5",
                "#B0BEC5",
                "#B0BEC5",
                "#B0BEC5",
                "#B0BEC5",
                "#B0BEC5",
                "#B0BEC5",
                "#B0BEC5",
                "#B0BEC5",
                "#B0BEC5",
                "#B0BEC5",
                "#B0BEC5",
                "#B0BEC5",
                "#B0BEC5",
                "#B0BEC5",
                "#B0BEC5",
                "#B0BEC5",
                "#B0BEC5",
                "#B0BEC5",
                "#B0BEC5",
                "#B0BEC5",
                "#B0BEC5",
                "#B0BEC5",
                "#B0BEC5",
                "#B0BEC5"
               ]
              ]
             }
            ],
            "label": "Topic 36",
            "method": "update"
           },
           {
            "args": [
             {
              "marker.color": [
               [
                "#B0BEC5",
                "#B0BEC5",
                "#B0BEC5",
                "#B0BEC5",
                "#B0BEC5",
                "#B0BEC5",
                "#B0BEC5",
                "#B0BEC5",
                "#B0BEC5",
                "#B0BEC5",
                "#B0BEC5",
                "#B0BEC5",
                "#B0BEC5",
                "#B0BEC5",
                "#B0BEC5",
                "#B0BEC5",
                "#B0BEC5",
                "#B0BEC5",
                "#B0BEC5",
                "#B0BEC5",
                "#B0BEC5",
                "#B0BEC5",
                "#B0BEC5",
                "#B0BEC5",
                "#B0BEC5",
                "#B0BEC5",
                "#B0BEC5",
                "#B0BEC5",
                "#B0BEC5",
                "#B0BEC5",
                "#B0BEC5",
                "#B0BEC5",
                "#B0BEC5",
                "#B0BEC5",
                "#B0BEC5",
                "#B0BEC5",
                "#B0BEC5",
                "red",
                "#B0BEC5",
                "#B0BEC5",
                "#B0BEC5",
                "#B0BEC5",
                "#B0BEC5",
                "#B0BEC5",
                "#B0BEC5",
                "#B0BEC5",
                "#B0BEC5",
                "#B0BEC5",
                "#B0BEC5",
                "#B0BEC5",
                "#B0BEC5",
                "#B0BEC5",
                "#B0BEC5",
                "#B0BEC5",
                "#B0BEC5",
                "#B0BEC5",
                "#B0BEC5",
                "#B0BEC5",
                "#B0BEC5",
                "#B0BEC5",
                "#B0BEC5",
                "#B0BEC5",
                "#B0BEC5",
                "#B0BEC5",
                "#B0BEC5",
                "#B0BEC5",
                "#B0BEC5",
                "#B0BEC5",
                "#B0BEC5",
                "#B0BEC5",
                "#B0BEC5",
                "#B0BEC5",
                "#B0BEC5",
                "#B0BEC5",
                "#B0BEC5",
                "#B0BEC5",
                "#B0BEC5",
                "#B0BEC5",
                "#B0BEC5",
                "#B0BEC5",
                "#B0BEC5",
                "#B0BEC5",
                "#B0BEC5",
                "#B0BEC5",
                "#B0BEC5",
                "#B0BEC5",
                "#B0BEC5"
               ]
              ]
             }
            ],
            "label": "Topic 37",
            "method": "update"
           },
           {
            "args": [
             {
              "marker.color": [
               [
                "#B0BEC5",
                "#B0BEC5",
                "#B0BEC5",
                "#B0BEC5",
                "#B0BEC5",
                "#B0BEC5",
                "#B0BEC5",
                "#B0BEC5",
                "#B0BEC5",
                "#B0BEC5",
                "#B0BEC5",
                "#B0BEC5",
                "#B0BEC5",
                "#B0BEC5",
                "#B0BEC5",
                "#B0BEC5",
                "#B0BEC5",
                "#B0BEC5",
                "#B0BEC5",
                "#B0BEC5",
                "#B0BEC5",
                "#B0BEC5",
                "#B0BEC5",
                "#B0BEC5",
                "#B0BEC5",
                "#B0BEC5",
                "#B0BEC5",
                "#B0BEC5",
                "#B0BEC5",
                "#B0BEC5",
                "#B0BEC5",
                "#B0BEC5",
                "#B0BEC5",
                "#B0BEC5",
                "#B0BEC5",
                "#B0BEC5",
                "#B0BEC5",
                "#B0BEC5",
                "red",
                "#B0BEC5",
                "#B0BEC5",
                "#B0BEC5",
                "#B0BEC5",
                "#B0BEC5",
                "#B0BEC5",
                "#B0BEC5",
                "#B0BEC5",
                "#B0BEC5",
                "#B0BEC5",
                "#B0BEC5",
                "#B0BEC5",
                "#B0BEC5",
                "#B0BEC5",
                "#B0BEC5",
                "#B0BEC5",
                "#B0BEC5",
                "#B0BEC5",
                "#B0BEC5",
                "#B0BEC5",
                "#B0BEC5",
                "#B0BEC5",
                "#B0BEC5",
                "#B0BEC5",
                "#B0BEC5",
                "#B0BEC5",
                "#B0BEC5",
                "#B0BEC5",
                "#B0BEC5",
                "#B0BEC5",
                "#B0BEC5",
                "#B0BEC5",
                "#B0BEC5",
                "#B0BEC5",
                "#B0BEC5",
                "#B0BEC5",
                "#B0BEC5",
                "#B0BEC5",
                "#B0BEC5",
                "#B0BEC5",
                "#B0BEC5",
                "#B0BEC5",
                "#B0BEC5",
                "#B0BEC5",
                "#B0BEC5",
                "#B0BEC5",
                "#B0BEC5",
                "#B0BEC5"
               ]
              ]
             }
            ],
            "label": "Topic 38",
            "method": "update"
           },
           {
            "args": [
             {
              "marker.color": [
               [
                "#B0BEC5",
                "#B0BEC5",
                "#B0BEC5",
                "#B0BEC5",
                "#B0BEC5",
                "#B0BEC5",
                "#B0BEC5",
                "#B0BEC5",
                "#B0BEC5",
                "#B0BEC5",
                "#B0BEC5",
                "#B0BEC5",
                "#B0BEC5",
                "#B0BEC5",
                "#B0BEC5",
                "#B0BEC5",
                "#B0BEC5",
                "#B0BEC5",
                "#B0BEC5",
                "#B0BEC5",
                "#B0BEC5",
                "#B0BEC5",
                "#B0BEC5",
                "#B0BEC5",
                "#B0BEC5",
                "#B0BEC5",
                "#B0BEC5",
                "#B0BEC5",
                "#B0BEC5",
                "#B0BEC5",
                "#B0BEC5",
                "#B0BEC5",
                "#B0BEC5",
                "#B0BEC5",
                "#B0BEC5",
                "#B0BEC5",
                "#B0BEC5",
                "#B0BEC5",
                "#B0BEC5",
                "red",
                "#B0BEC5",
                "#B0BEC5",
                "#B0BEC5",
                "#B0BEC5",
                "#B0BEC5",
                "#B0BEC5",
                "#B0BEC5",
                "#B0BEC5",
                "#B0BEC5",
                "#B0BEC5",
                "#B0BEC5",
                "#B0BEC5",
                "#B0BEC5",
                "#B0BEC5",
                "#B0BEC5",
                "#B0BEC5",
                "#B0BEC5",
                "#B0BEC5",
                "#B0BEC5",
                "#B0BEC5",
                "#B0BEC5",
                "#B0BEC5",
                "#B0BEC5",
                "#B0BEC5",
                "#B0BEC5",
                "#B0BEC5",
                "#B0BEC5",
                "#B0BEC5",
                "#B0BEC5",
                "#B0BEC5",
                "#B0BEC5",
                "#B0BEC5",
                "#B0BEC5",
                "#B0BEC5",
                "#B0BEC5",
                "#B0BEC5",
                "#B0BEC5",
                "#B0BEC5",
                "#B0BEC5",
                "#B0BEC5",
                "#B0BEC5",
                "#B0BEC5",
                "#B0BEC5",
                "#B0BEC5",
                "#B0BEC5",
                "#B0BEC5",
                "#B0BEC5"
               ]
              ]
             }
            ],
            "label": "Topic 39",
            "method": "update"
           },
           {
            "args": [
             {
              "marker.color": [
               [
                "#B0BEC5",
                "#B0BEC5",
                "#B0BEC5",
                "#B0BEC5",
                "#B0BEC5",
                "#B0BEC5",
                "#B0BEC5",
                "#B0BEC5",
                "#B0BEC5",
                "#B0BEC5",
                "#B0BEC5",
                "#B0BEC5",
                "#B0BEC5",
                "#B0BEC5",
                "#B0BEC5",
                "#B0BEC5",
                "#B0BEC5",
                "#B0BEC5",
                "#B0BEC5",
                "#B0BEC5",
                "#B0BEC5",
                "#B0BEC5",
                "#B0BEC5",
                "#B0BEC5",
                "#B0BEC5",
                "#B0BEC5",
                "#B0BEC5",
                "#B0BEC5",
                "#B0BEC5",
                "#B0BEC5",
                "#B0BEC5",
                "#B0BEC5",
                "#B0BEC5",
                "#B0BEC5",
                "#B0BEC5",
                "#B0BEC5",
                "#B0BEC5",
                "#B0BEC5",
                "#B0BEC5",
                "#B0BEC5",
                "red",
                "#B0BEC5",
                "#B0BEC5",
                "#B0BEC5",
                "#B0BEC5",
                "#B0BEC5",
                "#B0BEC5",
                "#B0BEC5",
                "#B0BEC5",
                "#B0BEC5",
                "#B0BEC5",
                "#B0BEC5",
                "#B0BEC5",
                "#B0BEC5",
                "#B0BEC5",
                "#B0BEC5",
                "#B0BEC5",
                "#B0BEC5",
                "#B0BEC5",
                "#B0BEC5",
                "#B0BEC5",
                "#B0BEC5",
                "#B0BEC5",
                "#B0BEC5",
                "#B0BEC5",
                "#B0BEC5",
                "#B0BEC5",
                "#B0BEC5",
                "#B0BEC5",
                "#B0BEC5",
                "#B0BEC5",
                "#B0BEC5",
                "#B0BEC5",
                "#B0BEC5",
                "#B0BEC5",
                "#B0BEC5",
                "#B0BEC5",
                "#B0BEC5",
                "#B0BEC5",
                "#B0BEC5",
                "#B0BEC5",
                "#B0BEC5",
                "#B0BEC5",
                "#B0BEC5",
                "#B0BEC5",
                "#B0BEC5",
                "#B0BEC5"
               ]
              ]
             }
            ],
            "label": "Topic 40",
            "method": "update"
           },
           {
            "args": [
             {
              "marker.color": [
               [
                "#B0BEC5",
                "#B0BEC5",
                "#B0BEC5",
                "#B0BEC5",
                "#B0BEC5",
                "#B0BEC5",
                "#B0BEC5",
                "#B0BEC5",
                "#B0BEC5",
                "#B0BEC5",
                "#B0BEC5",
                "#B0BEC5",
                "#B0BEC5",
                "#B0BEC5",
                "#B0BEC5",
                "#B0BEC5",
                "#B0BEC5",
                "#B0BEC5",
                "#B0BEC5",
                "#B0BEC5",
                "#B0BEC5",
                "#B0BEC5",
                "#B0BEC5",
                "#B0BEC5",
                "#B0BEC5",
                "#B0BEC5",
                "#B0BEC5",
                "#B0BEC5",
                "#B0BEC5",
                "#B0BEC5",
                "#B0BEC5",
                "#B0BEC5",
                "#B0BEC5",
                "#B0BEC5",
                "#B0BEC5",
                "#B0BEC5",
                "#B0BEC5",
                "#B0BEC5",
                "#B0BEC5",
                "#B0BEC5",
                "#B0BEC5",
                "red",
                "#B0BEC5",
                "#B0BEC5",
                "#B0BEC5",
                "#B0BEC5",
                "#B0BEC5",
                "#B0BEC5",
                "#B0BEC5",
                "#B0BEC5",
                "#B0BEC5",
                "#B0BEC5",
                "#B0BEC5",
                "#B0BEC5",
                "#B0BEC5",
                "#B0BEC5",
                "#B0BEC5",
                "#B0BEC5",
                "#B0BEC5",
                "#B0BEC5",
                "#B0BEC5",
                "#B0BEC5",
                "#B0BEC5",
                "#B0BEC5",
                "#B0BEC5",
                "#B0BEC5",
                "#B0BEC5",
                "#B0BEC5",
                "#B0BEC5",
                "#B0BEC5",
                "#B0BEC5",
                "#B0BEC5",
                "#B0BEC5",
                "#B0BEC5",
                "#B0BEC5",
                "#B0BEC5",
                "#B0BEC5",
                "#B0BEC5",
                "#B0BEC5",
                "#B0BEC5",
                "#B0BEC5",
                "#B0BEC5",
                "#B0BEC5",
                "#B0BEC5",
                "#B0BEC5",
                "#B0BEC5",
                "#B0BEC5"
               ]
              ]
             }
            ],
            "label": "Topic 41",
            "method": "update"
           },
           {
            "args": [
             {
              "marker.color": [
               [
                "#B0BEC5",
                "#B0BEC5",
                "#B0BEC5",
                "#B0BEC5",
                "#B0BEC5",
                "#B0BEC5",
                "#B0BEC5",
                "#B0BEC5",
                "#B0BEC5",
                "#B0BEC5",
                "#B0BEC5",
                "#B0BEC5",
                "#B0BEC5",
                "#B0BEC5",
                "#B0BEC5",
                "#B0BEC5",
                "#B0BEC5",
                "#B0BEC5",
                "#B0BEC5",
                "#B0BEC5",
                "#B0BEC5",
                "#B0BEC5",
                "#B0BEC5",
                "#B0BEC5",
                "#B0BEC5",
                "#B0BEC5",
                "#B0BEC5",
                "#B0BEC5",
                "#B0BEC5",
                "#B0BEC5",
                "#B0BEC5",
                "#B0BEC5",
                "#B0BEC5",
                "#B0BEC5",
                "#B0BEC5",
                "#B0BEC5",
                "#B0BEC5",
                "#B0BEC5",
                "#B0BEC5",
                "#B0BEC5",
                "#B0BEC5",
                "#B0BEC5",
                "red",
                "#B0BEC5",
                "#B0BEC5",
                "#B0BEC5",
                "#B0BEC5",
                "#B0BEC5",
                "#B0BEC5",
                "#B0BEC5",
                "#B0BEC5",
                "#B0BEC5",
                "#B0BEC5",
                "#B0BEC5",
                "#B0BEC5",
                "#B0BEC5",
                "#B0BEC5",
                "#B0BEC5",
                "#B0BEC5",
                "#B0BEC5",
                "#B0BEC5",
                "#B0BEC5",
                "#B0BEC5",
                "#B0BEC5",
                "#B0BEC5",
                "#B0BEC5",
                "#B0BEC5",
                "#B0BEC5",
                "#B0BEC5",
                "#B0BEC5",
                "#B0BEC5",
                "#B0BEC5",
                "#B0BEC5",
                "#B0BEC5",
                "#B0BEC5",
                "#B0BEC5",
                "#B0BEC5",
                "#B0BEC5",
                "#B0BEC5",
                "#B0BEC5",
                "#B0BEC5",
                "#B0BEC5",
                "#B0BEC5",
                "#B0BEC5",
                "#B0BEC5",
                "#B0BEC5",
                "#B0BEC5"
               ]
              ]
             }
            ],
            "label": "Topic 42",
            "method": "update"
           },
           {
            "args": [
             {
              "marker.color": [
               [
                "#B0BEC5",
                "#B0BEC5",
                "#B0BEC5",
                "#B0BEC5",
                "#B0BEC5",
                "#B0BEC5",
                "#B0BEC5",
                "#B0BEC5",
                "#B0BEC5",
                "#B0BEC5",
                "#B0BEC5",
                "#B0BEC5",
                "#B0BEC5",
                "#B0BEC5",
                "#B0BEC5",
                "#B0BEC5",
                "#B0BEC5",
                "#B0BEC5",
                "#B0BEC5",
                "#B0BEC5",
                "#B0BEC5",
                "#B0BEC5",
                "#B0BEC5",
                "#B0BEC5",
                "#B0BEC5",
                "#B0BEC5",
                "#B0BEC5",
                "#B0BEC5",
                "#B0BEC5",
                "#B0BEC5",
                "#B0BEC5",
                "#B0BEC5",
                "#B0BEC5",
                "#B0BEC5",
                "#B0BEC5",
                "#B0BEC5",
                "#B0BEC5",
                "#B0BEC5",
                "#B0BEC5",
                "#B0BEC5",
                "#B0BEC5",
                "#B0BEC5",
                "#B0BEC5",
                "red",
                "#B0BEC5",
                "#B0BEC5",
                "#B0BEC5",
                "#B0BEC5",
                "#B0BEC5",
                "#B0BEC5",
                "#B0BEC5",
                "#B0BEC5",
                "#B0BEC5",
                "#B0BEC5",
                "#B0BEC5",
                "#B0BEC5",
                "#B0BEC5",
                "#B0BEC5",
                "#B0BEC5",
                "#B0BEC5",
                "#B0BEC5",
                "#B0BEC5",
                "#B0BEC5",
                "#B0BEC5",
                "#B0BEC5",
                "#B0BEC5",
                "#B0BEC5",
                "#B0BEC5",
                "#B0BEC5",
                "#B0BEC5",
                "#B0BEC5",
                "#B0BEC5",
                "#B0BEC5",
                "#B0BEC5",
                "#B0BEC5",
                "#B0BEC5",
                "#B0BEC5",
                "#B0BEC5",
                "#B0BEC5",
                "#B0BEC5",
                "#B0BEC5",
                "#B0BEC5",
                "#B0BEC5",
                "#B0BEC5",
                "#B0BEC5",
                "#B0BEC5",
                "#B0BEC5"
               ]
              ]
             }
            ],
            "label": "Topic 43",
            "method": "update"
           },
           {
            "args": [
             {
              "marker.color": [
               [
                "#B0BEC5",
                "#B0BEC5",
                "#B0BEC5",
                "#B0BEC5",
                "#B0BEC5",
                "#B0BEC5",
                "#B0BEC5",
                "#B0BEC5",
                "#B0BEC5",
                "#B0BEC5",
                "#B0BEC5",
                "#B0BEC5",
                "#B0BEC5",
                "#B0BEC5",
                "#B0BEC5",
                "#B0BEC5",
                "#B0BEC5",
                "#B0BEC5",
                "#B0BEC5",
                "#B0BEC5",
                "#B0BEC5",
                "#B0BEC5",
                "#B0BEC5",
                "#B0BEC5",
                "#B0BEC5",
                "#B0BEC5",
                "#B0BEC5",
                "#B0BEC5",
                "#B0BEC5",
                "#B0BEC5",
                "#B0BEC5",
                "#B0BEC5",
                "#B0BEC5",
                "#B0BEC5",
                "#B0BEC5",
                "#B0BEC5",
                "#B0BEC5",
                "#B0BEC5",
                "#B0BEC5",
                "#B0BEC5",
                "#B0BEC5",
                "#B0BEC5",
                "#B0BEC5",
                "#B0BEC5",
                "red",
                "#B0BEC5",
                "#B0BEC5",
                "#B0BEC5",
                "#B0BEC5",
                "#B0BEC5",
                "#B0BEC5",
                "#B0BEC5",
                "#B0BEC5",
                "#B0BEC5",
                "#B0BEC5",
                "#B0BEC5",
                "#B0BEC5",
                "#B0BEC5",
                "#B0BEC5",
                "#B0BEC5",
                "#B0BEC5",
                "#B0BEC5",
                "#B0BEC5",
                "#B0BEC5",
                "#B0BEC5",
                "#B0BEC5",
                "#B0BEC5",
                "#B0BEC5",
                "#B0BEC5",
                "#B0BEC5",
                "#B0BEC5",
                "#B0BEC5",
                "#B0BEC5",
                "#B0BEC5",
                "#B0BEC5",
                "#B0BEC5",
                "#B0BEC5",
                "#B0BEC5",
                "#B0BEC5",
                "#B0BEC5",
                "#B0BEC5",
                "#B0BEC5",
                "#B0BEC5",
                "#B0BEC5",
                "#B0BEC5",
                "#B0BEC5",
                "#B0BEC5"
               ]
              ]
             }
            ],
            "label": "Topic 44",
            "method": "update"
           },
           {
            "args": [
             {
              "marker.color": [
               [
                "#B0BEC5",
                "#B0BEC5",
                "#B0BEC5",
                "#B0BEC5",
                "#B0BEC5",
                "#B0BEC5",
                "#B0BEC5",
                "#B0BEC5",
                "#B0BEC5",
                "#B0BEC5",
                "#B0BEC5",
                "#B0BEC5",
                "#B0BEC5",
                "#B0BEC5",
                "#B0BEC5",
                "#B0BEC5",
                "#B0BEC5",
                "#B0BEC5",
                "#B0BEC5",
                "#B0BEC5",
                "#B0BEC5",
                "#B0BEC5",
                "#B0BEC5",
                "#B0BEC5",
                "#B0BEC5",
                "#B0BEC5",
                "#B0BEC5",
                "#B0BEC5",
                "#B0BEC5",
                "#B0BEC5",
                "#B0BEC5",
                "#B0BEC5",
                "#B0BEC5",
                "#B0BEC5",
                "#B0BEC5",
                "#B0BEC5",
                "#B0BEC5",
                "#B0BEC5",
                "#B0BEC5",
                "#B0BEC5",
                "#B0BEC5",
                "#B0BEC5",
                "#B0BEC5",
                "#B0BEC5",
                "#B0BEC5",
                "red",
                "#B0BEC5",
                "#B0BEC5",
                "#B0BEC5",
                "#B0BEC5",
                "#B0BEC5",
                "#B0BEC5",
                "#B0BEC5",
                "#B0BEC5",
                "#B0BEC5",
                "#B0BEC5",
                "#B0BEC5",
                "#B0BEC5",
                "#B0BEC5",
                "#B0BEC5",
                "#B0BEC5",
                "#B0BEC5",
                "#B0BEC5",
                "#B0BEC5",
                "#B0BEC5",
                "#B0BEC5",
                "#B0BEC5",
                "#B0BEC5",
                "#B0BEC5",
                "#B0BEC5",
                "#B0BEC5",
                "#B0BEC5",
                "#B0BEC5",
                "#B0BEC5",
                "#B0BEC5",
                "#B0BEC5",
                "#B0BEC5",
                "#B0BEC5",
                "#B0BEC5",
                "#B0BEC5",
                "#B0BEC5",
                "#B0BEC5",
                "#B0BEC5",
                "#B0BEC5",
                "#B0BEC5",
                "#B0BEC5",
                "#B0BEC5"
               ]
              ]
             }
            ],
            "label": "Topic 45",
            "method": "update"
           },
           {
            "args": [
             {
              "marker.color": [
               [
                "#B0BEC5",
                "#B0BEC5",
                "#B0BEC5",
                "#B0BEC5",
                "#B0BEC5",
                "#B0BEC5",
                "#B0BEC5",
                "#B0BEC5",
                "#B0BEC5",
                "#B0BEC5",
                "#B0BEC5",
                "#B0BEC5",
                "#B0BEC5",
                "#B0BEC5",
                "#B0BEC5",
                "#B0BEC5",
                "#B0BEC5",
                "#B0BEC5",
                "#B0BEC5",
                "#B0BEC5",
                "#B0BEC5",
                "#B0BEC5",
                "#B0BEC5",
                "#B0BEC5",
                "#B0BEC5",
                "#B0BEC5",
                "#B0BEC5",
                "#B0BEC5",
                "#B0BEC5",
                "#B0BEC5",
                "#B0BEC5",
                "#B0BEC5",
                "#B0BEC5",
                "#B0BEC5",
                "#B0BEC5",
                "#B0BEC5",
                "#B0BEC5",
                "#B0BEC5",
                "#B0BEC5",
                "#B0BEC5",
                "#B0BEC5",
                "#B0BEC5",
                "#B0BEC5",
                "#B0BEC5",
                "#B0BEC5",
                "#B0BEC5",
                "red",
                "#B0BEC5",
                "#B0BEC5",
                "#B0BEC5",
                "#B0BEC5",
                "#B0BEC5",
                "#B0BEC5",
                "#B0BEC5",
                "#B0BEC5",
                "#B0BEC5",
                "#B0BEC5",
                "#B0BEC5",
                "#B0BEC5",
                "#B0BEC5",
                "#B0BEC5",
                "#B0BEC5",
                "#B0BEC5",
                "#B0BEC5",
                "#B0BEC5",
                "#B0BEC5",
                "#B0BEC5",
                "#B0BEC5",
                "#B0BEC5",
                "#B0BEC5",
                "#B0BEC5",
                "#B0BEC5",
                "#B0BEC5",
                "#B0BEC5",
                "#B0BEC5",
                "#B0BEC5",
                "#B0BEC5",
                "#B0BEC5",
                "#B0BEC5",
                "#B0BEC5",
                "#B0BEC5",
                "#B0BEC5",
                "#B0BEC5",
                "#B0BEC5",
                "#B0BEC5",
                "#B0BEC5",
                "#B0BEC5"
               ]
              ]
             }
            ],
            "label": "Topic 46",
            "method": "update"
           },
           {
            "args": [
             {
              "marker.color": [
               [
                "#B0BEC5",
                "#B0BEC5",
                "#B0BEC5",
                "#B0BEC5",
                "#B0BEC5",
                "#B0BEC5",
                "#B0BEC5",
                "#B0BEC5",
                "#B0BEC5",
                "#B0BEC5",
                "#B0BEC5",
                "#B0BEC5",
                "#B0BEC5",
                "#B0BEC5",
                "#B0BEC5",
                "#B0BEC5",
                "#B0BEC5",
                "#B0BEC5",
                "#B0BEC5",
                "#B0BEC5",
                "#B0BEC5",
                "#B0BEC5",
                "#B0BEC5",
                "#B0BEC5",
                "#B0BEC5",
                "#B0BEC5",
                "#B0BEC5",
                "#B0BEC5",
                "#B0BEC5",
                "#B0BEC5",
                "#B0BEC5",
                "#B0BEC5",
                "#B0BEC5",
                "#B0BEC5",
                "#B0BEC5",
                "#B0BEC5",
                "#B0BEC5",
                "#B0BEC5",
                "#B0BEC5",
                "#B0BEC5",
                "#B0BEC5",
                "#B0BEC5",
                "#B0BEC5",
                "#B0BEC5",
                "#B0BEC5",
                "#B0BEC5",
                "#B0BEC5",
                "red",
                "#B0BEC5",
                "#B0BEC5",
                "#B0BEC5",
                "#B0BEC5",
                "#B0BEC5",
                "#B0BEC5",
                "#B0BEC5",
                "#B0BEC5",
                "#B0BEC5",
                "#B0BEC5",
                "#B0BEC5",
                "#B0BEC5",
                "#B0BEC5",
                "#B0BEC5",
                "#B0BEC5",
                "#B0BEC5",
                "#B0BEC5",
                "#B0BEC5",
                "#B0BEC5",
                "#B0BEC5",
                "#B0BEC5",
                "#B0BEC5",
                "#B0BEC5",
                "#B0BEC5",
                "#B0BEC5",
                "#B0BEC5",
                "#B0BEC5",
                "#B0BEC5",
                "#B0BEC5",
                "#B0BEC5",
                "#B0BEC5",
                "#B0BEC5",
                "#B0BEC5",
                "#B0BEC5",
                "#B0BEC5",
                "#B0BEC5",
                "#B0BEC5",
                "#B0BEC5",
                "#B0BEC5"
               ]
              ]
             }
            ],
            "label": "Topic 47",
            "method": "update"
           },
           {
            "args": [
             {
              "marker.color": [
               [
                "#B0BEC5",
                "#B0BEC5",
                "#B0BEC5",
                "#B0BEC5",
                "#B0BEC5",
                "#B0BEC5",
                "#B0BEC5",
                "#B0BEC5",
                "#B0BEC5",
                "#B0BEC5",
                "#B0BEC5",
                "#B0BEC5",
                "#B0BEC5",
                "#B0BEC5",
                "#B0BEC5",
                "#B0BEC5",
                "#B0BEC5",
                "#B0BEC5",
                "#B0BEC5",
                "#B0BEC5",
                "#B0BEC5",
                "#B0BEC5",
                "#B0BEC5",
                "#B0BEC5",
                "#B0BEC5",
                "#B0BEC5",
                "#B0BEC5",
                "#B0BEC5",
                "#B0BEC5",
                "#B0BEC5",
                "#B0BEC5",
                "#B0BEC5",
                "#B0BEC5",
                "#B0BEC5",
                "#B0BEC5",
                "#B0BEC5",
                "#B0BEC5",
                "#B0BEC5",
                "#B0BEC5",
                "#B0BEC5",
                "#B0BEC5",
                "#B0BEC5",
                "#B0BEC5",
                "#B0BEC5",
                "#B0BEC5",
                "#B0BEC5",
                "#B0BEC5",
                "#B0BEC5",
                "red",
                "#B0BEC5",
                "#B0BEC5",
                "#B0BEC5",
                "#B0BEC5",
                "#B0BEC5",
                "#B0BEC5",
                "#B0BEC5",
                "#B0BEC5",
                "#B0BEC5",
                "#B0BEC5",
                "#B0BEC5",
                "#B0BEC5",
                "#B0BEC5",
                "#B0BEC5",
                "#B0BEC5",
                "#B0BEC5",
                "#B0BEC5",
                "#B0BEC5",
                "#B0BEC5",
                "#B0BEC5",
                "#B0BEC5",
                "#B0BEC5",
                "#B0BEC5",
                "#B0BEC5",
                "#B0BEC5",
                "#B0BEC5",
                "#B0BEC5",
                "#B0BEC5",
                "#B0BEC5",
                "#B0BEC5",
                "#B0BEC5",
                "#B0BEC5",
                "#B0BEC5",
                "#B0BEC5",
                "#B0BEC5",
                "#B0BEC5",
                "#B0BEC5",
                "#B0BEC5"
               ]
              ]
             }
            ],
            "label": "Topic 48",
            "method": "update"
           },
           {
            "args": [
             {
              "marker.color": [
               [
                "#B0BEC5",
                "#B0BEC5",
                "#B0BEC5",
                "#B0BEC5",
                "#B0BEC5",
                "#B0BEC5",
                "#B0BEC5",
                "#B0BEC5",
                "#B0BEC5",
                "#B0BEC5",
                "#B0BEC5",
                "#B0BEC5",
                "#B0BEC5",
                "#B0BEC5",
                "#B0BEC5",
                "#B0BEC5",
                "#B0BEC5",
                "#B0BEC5",
                "#B0BEC5",
                "#B0BEC5",
                "#B0BEC5",
                "#B0BEC5",
                "#B0BEC5",
                "#B0BEC5",
                "#B0BEC5",
                "#B0BEC5",
                "#B0BEC5",
                "#B0BEC5",
                "#B0BEC5",
                "#B0BEC5",
                "#B0BEC5",
                "#B0BEC5",
                "#B0BEC5",
                "#B0BEC5",
                "#B0BEC5",
                "#B0BEC5",
                "#B0BEC5",
                "#B0BEC5",
                "#B0BEC5",
                "#B0BEC5",
                "#B0BEC5",
                "#B0BEC5",
                "#B0BEC5",
                "#B0BEC5",
                "#B0BEC5",
                "#B0BEC5",
                "#B0BEC5",
                "#B0BEC5",
                "#B0BEC5",
                "red",
                "#B0BEC5",
                "#B0BEC5",
                "#B0BEC5",
                "#B0BEC5",
                "#B0BEC5",
                "#B0BEC5",
                "#B0BEC5",
                "#B0BEC5",
                "#B0BEC5",
                "#B0BEC5",
                "#B0BEC5",
                "#B0BEC5",
                "#B0BEC5",
                "#B0BEC5",
                "#B0BEC5",
                "#B0BEC5",
                "#B0BEC5",
                "#B0BEC5",
                "#B0BEC5",
                "#B0BEC5",
                "#B0BEC5",
                "#B0BEC5",
                "#B0BEC5",
                "#B0BEC5",
                "#B0BEC5",
                "#B0BEC5",
                "#B0BEC5",
                "#B0BEC5",
                "#B0BEC5",
                "#B0BEC5",
                "#B0BEC5",
                "#B0BEC5",
                "#B0BEC5",
                "#B0BEC5",
                "#B0BEC5",
                "#B0BEC5",
                "#B0BEC5"
               ]
              ]
             }
            ],
            "label": "Topic 49",
            "method": "update"
           },
           {
            "args": [
             {
              "marker.color": [
               [
                "#B0BEC5",
                "#B0BEC5",
                "#B0BEC5",
                "#B0BEC5",
                "#B0BEC5",
                "#B0BEC5",
                "#B0BEC5",
                "#B0BEC5",
                "#B0BEC5",
                "#B0BEC5",
                "#B0BEC5",
                "#B0BEC5",
                "#B0BEC5",
                "#B0BEC5",
                "#B0BEC5",
                "#B0BEC5",
                "#B0BEC5",
                "#B0BEC5",
                "#B0BEC5",
                "#B0BEC5",
                "#B0BEC5",
                "#B0BEC5",
                "#B0BEC5",
                "#B0BEC5",
                "#B0BEC5",
                "#B0BEC5",
                "#B0BEC5",
                "#B0BEC5",
                "#B0BEC5",
                "#B0BEC5",
                "#B0BEC5",
                "#B0BEC5",
                "#B0BEC5",
                "#B0BEC5",
                "#B0BEC5",
                "#B0BEC5",
                "#B0BEC5",
                "#B0BEC5",
                "#B0BEC5",
                "#B0BEC5",
                "#B0BEC5",
                "#B0BEC5",
                "#B0BEC5",
                "#B0BEC5",
                "#B0BEC5",
                "#B0BEC5",
                "#B0BEC5",
                "#B0BEC5",
                "#B0BEC5",
                "#B0BEC5",
                "red",
                "#B0BEC5",
                "#B0BEC5",
                "#B0BEC5",
                "#B0BEC5",
                "#B0BEC5",
                "#B0BEC5",
                "#B0BEC5",
                "#B0BEC5",
                "#B0BEC5",
                "#B0BEC5",
                "#B0BEC5",
                "#B0BEC5",
                "#B0BEC5",
                "#B0BEC5",
                "#B0BEC5",
                "#B0BEC5",
                "#B0BEC5",
                "#B0BEC5",
                "#B0BEC5",
                "#B0BEC5",
                "#B0BEC5",
                "#B0BEC5",
                "#B0BEC5",
                "#B0BEC5",
                "#B0BEC5",
                "#B0BEC5",
                "#B0BEC5",
                "#B0BEC5",
                "#B0BEC5",
                "#B0BEC5",
                "#B0BEC5",
                "#B0BEC5",
                "#B0BEC5",
                "#B0BEC5",
                "#B0BEC5",
                "#B0BEC5"
               ]
              ]
             }
            ],
            "label": "Topic 50",
            "method": "update"
           },
           {
            "args": [
             {
              "marker.color": [
               [
                "#B0BEC5",
                "#B0BEC5",
                "#B0BEC5",
                "#B0BEC5",
                "#B0BEC5",
                "#B0BEC5",
                "#B0BEC5",
                "#B0BEC5",
                "#B0BEC5",
                "#B0BEC5",
                "#B0BEC5",
                "#B0BEC5",
                "#B0BEC5",
                "#B0BEC5",
                "#B0BEC5",
                "#B0BEC5",
                "#B0BEC5",
                "#B0BEC5",
                "#B0BEC5",
                "#B0BEC5",
                "#B0BEC5",
                "#B0BEC5",
                "#B0BEC5",
                "#B0BEC5",
                "#B0BEC5",
                "#B0BEC5",
                "#B0BEC5",
                "#B0BEC5",
                "#B0BEC5",
                "#B0BEC5",
                "#B0BEC5",
                "#B0BEC5",
                "#B0BEC5",
                "#B0BEC5",
                "#B0BEC5",
                "#B0BEC5",
                "#B0BEC5",
                "#B0BEC5",
                "#B0BEC5",
                "#B0BEC5",
                "#B0BEC5",
                "#B0BEC5",
                "#B0BEC5",
                "#B0BEC5",
                "#B0BEC5",
                "#B0BEC5",
                "#B0BEC5",
                "#B0BEC5",
                "#B0BEC5",
                "#B0BEC5",
                "#B0BEC5",
                "red",
                "#B0BEC5",
                "#B0BEC5",
                "#B0BEC5",
                "#B0BEC5",
                "#B0BEC5",
                "#B0BEC5",
                "#B0BEC5",
                "#B0BEC5",
                "#B0BEC5",
                "#B0BEC5",
                "#B0BEC5",
                "#B0BEC5",
                "#B0BEC5",
                "#B0BEC5",
                "#B0BEC5",
                "#B0BEC5",
                "#B0BEC5",
                "#B0BEC5",
                "#B0BEC5",
                "#B0BEC5",
                "#B0BEC5",
                "#B0BEC5",
                "#B0BEC5",
                "#B0BEC5",
                "#B0BEC5",
                "#B0BEC5",
                "#B0BEC5",
                "#B0BEC5",
                "#B0BEC5",
                "#B0BEC5",
                "#B0BEC5",
                "#B0BEC5",
                "#B0BEC5",
                "#B0BEC5",
                "#B0BEC5"
               ]
              ]
             }
            ],
            "label": "Topic 51",
            "method": "update"
           },
           {
            "args": [
             {
              "marker.color": [
               [
                "#B0BEC5",
                "#B0BEC5",
                "#B0BEC5",
                "#B0BEC5",
                "#B0BEC5",
                "#B0BEC5",
                "#B0BEC5",
                "#B0BEC5",
                "#B0BEC5",
                "#B0BEC5",
                "#B0BEC5",
                "#B0BEC5",
                "#B0BEC5",
                "#B0BEC5",
                "#B0BEC5",
                "#B0BEC5",
                "#B0BEC5",
                "#B0BEC5",
                "#B0BEC5",
                "#B0BEC5",
                "#B0BEC5",
                "#B0BEC5",
                "#B0BEC5",
                "#B0BEC5",
                "#B0BEC5",
                "#B0BEC5",
                "#B0BEC5",
                "#B0BEC5",
                "#B0BEC5",
                "#B0BEC5",
                "#B0BEC5",
                "#B0BEC5",
                "#B0BEC5",
                "#B0BEC5",
                "#B0BEC5",
                "#B0BEC5",
                "#B0BEC5",
                "#B0BEC5",
                "#B0BEC5",
                "#B0BEC5",
                "#B0BEC5",
                "#B0BEC5",
                "#B0BEC5",
                "#B0BEC5",
                "#B0BEC5",
                "#B0BEC5",
                "#B0BEC5",
                "#B0BEC5",
                "#B0BEC5",
                "#B0BEC5",
                "#B0BEC5",
                "#B0BEC5",
                "red",
                "#B0BEC5",
                "#B0BEC5",
                "#B0BEC5",
                "#B0BEC5",
                "#B0BEC5",
                "#B0BEC5",
                "#B0BEC5",
                "#B0BEC5",
                "#B0BEC5",
                "#B0BEC5",
                "#B0BEC5",
                "#B0BEC5",
                "#B0BEC5",
                "#B0BEC5",
                "#B0BEC5",
                "#B0BEC5",
                "#B0BEC5",
                "#B0BEC5",
                "#B0BEC5",
                "#B0BEC5",
                "#B0BEC5",
                "#B0BEC5",
                "#B0BEC5",
                "#B0BEC5",
                "#B0BEC5",
                "#B0BEC5",
                "#B0BEC5",
                "#B0BEC5",
                "#B0BEC5",
                "#B0BEC5",
                "#B0BEC5",
                "#B0BEC5",
                "#B0BEC5",
                "#B0BEC5"
               ]
              ]
             }
            ],
            "label": "Topic 52",
            "method": "update"
           },
           {
            "args": [
             {
              "marker.color": [
               [
                "#B0BEC5",
                "#B0BEC5",
                "#B0BEC5",
                "#B0BEC5",
                "#B0BEC5",
                "#B0BEC5",
                "#B0BEC5",
                "#B0BEC5",
                "#B0BEC5",
                "#B0BEC5",
                "#B0BEC5",
                "#B0BEC5",
                "#B0BEC5",
                "#B0BEC5",
                "#B0BEC5",
                "#B0BEC5",
                "#B0BEC5",
                "#B0BEC5",
                "#B0BEC5",
                "#B0BEC5",
                "#B0BEC5",
                "#B0BEC5",
                "#B0BEC5",
                "#B0BEC5",
                "#B0BEC5",
                "#B0BEC5",
                "#B0BEC5",
                "#B0BEC5",
                "#B0BEC5",
                "#B0BEC5",
                "#B0BEC5",
                "#B0BEC5",
                "#B0BEC5",
                "#B0BEC5",
                "#B0BEC5",
                "#B0BEC5",
                "#B0BEC5",
                "#B0BEC5",
                "#B0BEC5",
                "#B0BEC5",
                "#B0BEC5",
                "#B0BEC5",
                "#B0BEC5",
                "#B0BEC5",
                "#B0BEC5",
                "#B0BEC5",
                "#B0BEC5",
                "#B0BEC5",
                "#B0BEC5",
                "#B0BEC5",
                "#B0BEC5",
                "#B0BEC5",
                "#B0BEC5",
                "red",
                "#B0BEC5",
                "#B0BEC5",
                "#B0BEC5",
                "#B0BEC5",
                "#B0BEC5",
                "#B0BEC5",
                "#B0BEC5",
                "#B0BEC5",
                "#B0BEC5",
                "#B0BEC5",
                "#B0BEC5",
                "#B0BEC5",
                "#B0BEC5",
                "#B0BEC5",
                "#B0BEC5",
                "#B0BEC5",
                "#B0BEC5",
                "#B0BEC5",
                "#B0BEC5",
                "#B0BEC5",
                "#B0BEC5",
                "#B0BEC5",
                "#B0BEC5",
                "#B0BEC5",
                "#B0BEC5",
                "#B0BEC5",
                "#B0BEC5",
                "#B0BEC5",
                "#B0BEC5",
                "#B0BEC5",
                "#B0BEC5",
                "#B0BEC5",
                "#B0BEC5"
               ]
              ]
             }
            ],
            "label": "Topic 53",
            "method": "update"
           },
           {
            "args": [
             {
              "marker.color": [
               [
                "#B0BEC5",
                "#B0BEC5",
                "#B0BEC5",
                "#B0BEC5",
                "#B0BEC5",
                "#B0BEC5",
                "#B0BEC5",
                "#B0BEC5",
                "#B0BEC5",
                "#B0BEC5",
                "#B0BEC5",
                "#B0BEC5",
                "#B0BEC5",
                "#B0BEC5",
                "#B0BEC5",
                "#B0BEC5",
                "#B0BEC5",
                "#B0BEC5",
                "#B0BEC5",
                "#B0BEC5",
                "#B0BEC5",
                "#B0BEC5",
                "#B0BEC5",
                "#B0BEC5",
                "#B0BEC5",
                "#B0BEC5",
                "#B0BEC5",
                "#B0BEC5",
                "#B0BEC5",
                "#B0BEC5",
                "#B0BEC5",
                "#B0BEC5",
                "#B0BEC5",
                "#B0BEC5",
                "#B0BEC5",
                "#B0BEC5",
                "#B0BEC5",
                "#B0BEC5",
                "#B0BEC5",
                "#B0BEC5",
                "#B0BEC5",
                "#B0BEC5",
                "#B0BEC5",
                "#B0BEC5",
                "#B0BEC5",
                "#B0BEC5",
                "#B0BEC5",
                "#B0BEC5",
                "#B0BEC5",
                "#B0BEC5",
                "#B0BEC5",
                "#B0BEC5",
                "#B0BEC5",
                "#B0BEC5",
                "red",
                "#B0BEC5",
                "#B0BEC5",
                "#B0BEC5",
                "#B0BEC5",
                "#B0BEC5",
                "#B0BEC5",
                "#B0BEC5",
                "#B0BEC5",
                "#B0BEC5",
                "#B0BEC5",
                "#B0BEC5",
                "#B0BEC5",
                "#B0BEC5",
                "#B0BEC5",
                "#B0BEC5",
                "#B0BEC5",
                "#B0BEC5",
                "#B0BEC5",
                "#B0BEC5",
                "#B0BEC5",
                "#B0BEC5",
                "#B0BEC5",
                "#B0BEC5",
                "#B0BEC5",
                "#B0BEC5",
                "#B0BEC5",
                "#B0BEC5",
                "#B0BEC5",
                "#B0BEC5",
                "#B0BEC5",
                "#B0BEC5",
                "#B0BEC5"
               ]
              ]
             }
            ],
            "label": "Topic 54",
            "method": "update"
           },
           {
            "args": [
             {
              "marker.color": [
               [
                "#B0BEC5",
                "#B0BEC5",
                "#B0BEC5",
                "#B0BEC5",
                "#B0BEC5",
                "#B0BEC5",
                "#B0BEC5",
                "#B0BEC5",
                "#B0BEC5",
                "#B0BEC5",
                "#B0BEC5",
                "#B0BEC5",
                "#B0BEC5",
                "#B0BEC5",
                "#B0BEC5",
                "#B0BEC5",
                "#B0BEC5",
                "#B0BEC5",
                "#B0BEC5",
                "#B0BEC5",
                "#B0BEC5",
                "#B0BEC5",
                "#B0BEC5",
                "#B0BEC5",
                "#B0BEC5",
                "#B0BEC5",
                "#B0BEC5",
                "#B0BEC5",
                "#B0BEC5",
                "#B0BEC5",
                "#B0BEC5",
                "#B0BEC5",
                "#B0BEC5",
                "#B0BEC5",
                "#B0BEC5",
                "#B0BEC5",
                "#B0BEC5",
                "#B0BEC5",
                "#B0BEC5",
                "#B0BEC5",
                "#B0BEC5",
                "#B0BEC5",
                "#B0BEC5",
                "#B0BEC5",
                "#B0BEC5",
                "#B0BEC5",
                "#B0BEC5",
                "#B0BEC5",
                "#B0BEC5",
                "#B0BEC5",
                "#B0BEC5",
                "#B0BEC5",
                "#B0BEC5",
                "#B0BEC5",
                "#B0BEC5",
                "red",
                "#B0BEC5",
                "#B0BEC5",
                "#B0BEC5",
                "#B0BEC5",
                "#B0BEC5",
                "#B0BEC5",
                "#B0BEC5",
                "#B0BEC5",
                "#B0BEC5",
                "#B0BEC5",
                "#B0BEC5",
                "#B0BEC5",
                "#B0BEC5",
                "#B0BEC5",
                "#B0BEC5",
                "#B0BEC5",
                "#B0BEC5",
                "#B0BEC5",
                "#B0BEC5",
                "#B0BEC5",
                "#B0BEC5",
                "#B0BEC5",
                "#B0BEC5",
                "#B0BEC5",
                "#B0BEC5",
                "#B0BEC5",
                "#B0BEC5",
                "#B0BEC5",
                "#B0BEC5",
                "#B0BEC5",
                "#B0BEC5"
               ]
              ]
             }
            ],
            "label": "Topic 55",
            "method": "update"
           },
           {
            "args": [
             {
              "marker.color": [
               [
                "#B0BEC5",
                "#B0BEC5",
                "#B0BEC5",
                "#B0BEC5",
                "#B0BEC5",
                "#B0BEC5",
                "#B0BEC5",
                "#B0BEC5",
                "#B0BEC5",
                "#B0BEC5",
                "#B0BEC5",
                "#B0BEC5",
                "#B0BEC5",
                "#B0BEC5",
                "#B0BEC5",
                "#B0BEC5",
                "#B0BEC5",
                "#B0BEC5",
                "#B0BEC5",
                "#B0BEC5",
                "#B0BEC5",
                "#B0BEC5",
                "#B0BEC5",
                "#B0BEC5",
                "#B0BEC5",
                "#B0BEC5",
                "#B0BEC5",
                "#B0BEC5",
                "#B0BEC5",
                "#B0BEC5",
                "#B0BEC5",
                "#B0BEC5",
                "#B0BEC5",
                "#B0BEC5",
                "#B0BEC5",
                "#B0BEC5",
                "#B0BEC5",
                "#B0BEC5",
                "#B0BEC5",
                "#B0BEC5",
                "#B0BEC5",
                "#B0BEC5",
                "#B0BEC5",
                "#B0BEC5",
                "#B0BEC5",
                "#B0BEC5",
                "#B0BEC5",
                "#B0BEC5",
                "#B0BEC5",
                "#B0BEC5",
                "#B0BEC5",
                "#B0BEC5",
                "#B0BEC5",
                "#B0BEC5",
                "#B0BEC5",
                "#B0BEC5",
                "red",
                "#B0BEC5",
                "#B0BEC5",
                "#B0BEC5",
                "#B0BEC5",
                "#B0BEC5",
                "#B0BEC5",
                "#B0BEC5",
                "#B0BEC5",
                "#B0BEC5",
                "#B0BEC5",
                "#B0BEC5",
                "#B0BEC5",
                "#B0BEC5",
                "#B0BEC5",
                "#B0BEC5",
                "#B0BEC5",
                "#B0BEC5",
                "#B0BEC5",
                "#B0BEC5",
                "#B0BEC5",
                "#B0BEC5",
                "#B0BEC5",
                "#B0BEC5",
                "#B0BEC5",
                "#B0BEC5",
                "#B0BEC5",
                "#B0BEC5",
                "#B0BEC5",
                "#B0BEC5",
                "#B0BEC5"
               ]
              ]
             }
            ],
            "label": "Topic 56",
            "method": "update"
           },
           {
            "args": [
             {
              "marker.color": [
               [
                "#B0BEC5",
                "#B0BEC5",
                "#B0BEC5",
                "#B0BEC5",
                "#B0BEC5",
                "#B0BEC5",
                "#B0BEC5",
                "#B0BEC5",
                "#B0BEC5",
                "#B0BEC5",
                "#B0BEC5",
                "#B0BEC5",
                "#B0BEC5",
                "#B0BEC5",
                "#B0BEC5",
                "#B0BEC5",
                "#B0BEC5",
                "#B0BEC5",
                "#B0BEC5",
                "#B0BEC5",
                "#B0BEC5",
                "#B0BEC5",
                "#B0BEC5",
                "#B0BEC5",
                "#B0BEC5",
                "#B0BEC5",
                "#B0BEC5",
                "#B0BEC5",
                "#B0BEC5",
                "#B0BEC5",
                "#B0BEC5",
                "#B0BEC5",
                "#B0BEC5",
                "#B0BEC5",
                "#B0BEC5",
                "#B0BEC5",
                "#B0BEC5",
                "#B0BEC5",
                "#B0BEC5",
                "#B0BEC5",
                "#B0BEC5",
                "#B0BEC5",
                "#B0BEC5",
                "#B0BEC5",
                "#B0BEC5",
                "#B0BEC5",
                "#B0BEC5",
                "#B0BEC5",
                "#B0BEC5",
                "#B0BEC5",
                "#B0BEC5",
                "#B0BEC5",
                "#B0BEC5",
                "#B0BEC5",
                "#B0BEC5",
                "#B0BEC5",
                "#B0BEC5",
                "red",
                "#B0BEC5",
                "#B0BEC5",
                "#B0BEC5",
                "#B0BEC5",
                "#B0BEC5",
                "#B0BEC5",
                "#B0BEC5",
                "#B0BEC5",
                "#B0BEC5",
                "#B0BEC5",
                "#B0BEC5",
                "#B0BEC5",
                "#B0BEC5",
                "#B0BEC5",
                "#B0BEC5",
                "#B0BEC5",
                "#B0BEC5",
                "#B0BEC5",
                "#B0BEC5",
                "#B0BEC5",
                "#B0BEC5",
                "#B0BEC5",
                "#B0BEC5",
                "#B0BEC5",
                "#B0BEC5",
                "#B0BEC5",
                "#B0BEC5",
                "#B0BEC5",
                "#B0BEC5"
               ]
              ]
             }
            ],
            "label": "Topic 57",
            "method": "update"
           },
           {
            "args": [
             {
              "marker.color": [
               [
                "#B0BEC5",
                "#B0BEC5",
                "#B0BEC5",
                "#B0BEC5",
                "#B0BEC5",
                "#B0BEC5",
                "#B0BEC5",
                "#B0BEC5",
                "#B0BEC5",
                "#B0BEC5",
                "#B0BEC5",
                "#B0BEC5",
                "#B0BEC5",
                "#B0BEC5",
                "#B0BEC5",
                "#B0BEC5",
                "#B0BEC5",
                "#B0BEC5",
                "#B0BEC5",
                "#B0BEC5",
                "#B0BEC5",
                "#B0BEC5",
                "#B0BEC5",
                "#B0BEC5",
                "#B0BEC5",
                "#B0BEC5",
                "#B0BEC5",
                "#B0BEC5",
                "#B0BEC5",
                "#B0BEC5",
                "#B0BEC5",
                "#B0BEC5",
                "#B0BEC5",
                "#B0BEC5",
                "#B0BEC5",
                "#B0BEC5",
                "#B0BEC5",
                "#B0BEC5",
                "#B0BEC5",
                "#B0BEC5",
                "#B0BEC5",
                "#B0BEC5",
                "#B0BEC5",
                "#B0BEC5",
                "#B0BEC5",
                "#B0BEC5",
                "#B0BEC5",
                "#B0BEC5",
                "#B0BEC5",
                "#B0BEC5",
                "#B0BEC5",
                "#B0BEC5",
                "#B0BEC5",
                "#B0BEC5",
                "#B0BEC5",
                "#B0BEC5",
                "#B0BEC5",
                "#B0BEC5",
                "red",
                "#B0BEC5",
                "#B0BEC5",
                "#B0BEC5",
                "#B0BEC5",
                "#B0BEC5",
                "#B0BEC5",
                "#B0BEC5",
                "#B0BEC5",
                "#B0BEC5",
                "#B0BEC5",
                "#B0BEC5",
                "#B0BEC5",
                "#B0BEC5",
                "#B0BEC5",
                "#B0BEC5",
                "#B0BEC5",
                "#B0BEC5",
                "#B0BEC5",
                "#B0BEC5",
                "#B0BEC5",
                "#B0BEC5",
                "#B0BEC5",
                "#B0BEC5",
                "#B0BEC5",
                "#B0BEC5",
                "#B0BEC5",
                "#B0BEC5",
                "#B0BEC5"
               ]
              ]
             }
            ],
            "label": "Topic 58",
            "method": "update"
           },
           {
            "args": [
             {
              "marker.color": [
               [
                "#B0BEC5",
                "#B0BEC5",
                "#B0BEC5",
                "#B0BEC5",
                "#B0BEC5",
                "#B0BEC5",
                "#B0BEC5",
                "#B0BEC5",
                "#B0BEC5",
                "#B0BEC5",
                "#B0BEC5",
                "#B0BEC5",
                "#B0BEC5",
                "#B0BEC5",
                "#B0BEC5",
                "#B0BEC5",
                "#B0BEC5",
                "#B0BEC5",
                "#B0BEC5",
                "#B0BEC5",
                "#B0BEC5",
                "#B0BEC5",
                "#B0BEC5",
                "#B0BEC5",
                "#B0BEC5",
                "#B0BEC5",
                "#B0BEC5",
                "#B0BEC5",
                "#B0BEC5",
                "#B0BEC5",
                "#B0BEC5",
                "#B0BEC5",
                "#B0BEC5",
                "#B0BEC5",
                "#B0BEC5",
                "#B0BEC5",
                "#B0BEC5",
                "#B0BEC5",
                "#B0BEC5",
                "#B0BEC5",
                "#B0BEC5",
                "#B0BEC5",
                "#B0BEC5",
                "#B0BEC5",
                "#B0BEC5",
                "#B0BEC5",
                "#B0BEC5",
                "#B0BEC5",
                "#B0BEC5",
                "#B0BEC5",
                "#B0BEC5",
                "#B0BEC5",
                "#B0BEC5",
                "#B0BEC5",
                "#B0BEC5",
                "#B0BEC5",
                "#B0BEC5",
                "#B0BEC5",
                "#B0BEC5",
                "red",
                "#B0BEC5",
                "#B0BEC5",
                "#B0BEC5",
                "#B0BEC5",
                "#B0BEC5",
                "#B0BEC5",
                "#B0BEC5",
                "#B0BEC5",
                "#B0BEC5",
                "#B0BEC5",
                "#B0BEC5",
                "#B0BEC5",
                "#B0BEC5",
                "#B0BEC5",
                "#B0BEC5",
                "#B0BEC5",
                "#B0BEC5",
                "#B0BEC5",
                "#B0BEC5",
                "#B0BEC5",
                "#B0BEC5",
                "#B0BEC5",
                "#B0BEC5",
                "#B0BEC5",
                "#B0BEC5",
                "#B0BEC5",
                "#B0BEC5"
               ]
              ]
             }
            ],
            "label": "Topic 59",
            "method": "update"
           },
           {
            "args": [
             {
              "marker.color": [
               [
                "#B0BEC5",
                "#B0BEC5",
                "#B0BEC5",
                "#B0BEC5",
                "#B0BEC5",
                "#B0BEC5",
                "#B0BEC5",
                "#B0BEC5",
                "#B0BEC5",
                "#B0BEC5",
                "#B0BEC5",
                "#B0BEC5",
                "#B0BEC5",
                "#B0BEC5",
                "#B0BEC5",
                "#B0BEC5",
                "#B0BEC5",
                "#B0BEC5",
                "#B0BEC5",
                "#B0BEC5",
                "#B0BEC5",
                "#B0BEC5",
                "#B0BEC5",
                "#B0BEC5",
                "#B0BEC5",
                "#B0BEC5",
                "#B0BEC5",
                "#B0BEC5",
                "#B0BEC5",
                "#B0BEC5",
                "#B0BEC5",
                "#B0BEC5",
                "#B0BEC5",
                "#B0BEC5",
                "#B0BEC5",
                "#B0BEC5",
                "#B0BEC5",
                "#B0BEC5",
                "#B0BEC5",
                "#B0BEC5",
                "#B0BEC5",
                "#B0BEC5",
                "#B0BEC5",
                "#B0BEC5",
                "#B0BEC5",
                "#B0BEC5",
                "#B0BEC5",
                "#B0BEC5",
                "#B0BEC5",
                "#B0BEC5",
                "#B0BEC5",
                "#B0BEC5",
                "#B0BEC5",
                "#B0BEC5",
                "#B0BEC5",
                "#B0BEC5",
                "#B0BEC5",
                "#B0BEC5",
                "#B0BEC5",
                "#B0BEC5",
                "red",
                "#B0BEC5",
                "#B0BEC5",
                "#B0BEC5",
                "#B0BEC5",
                "#B0BEC5",
                "#B0BEC5",
                "#B0BEC5",
                "#B0BEC5",
                "#B0BEC5",
                "#B0BEC5",
                "#B0BEC5",
                "#B0BEC5",
                "#B0BEC5",
                "#B0BEC5",
                "#B0BEC5",
                "#B0BEC5",
                "#B0BEC5",
                "#B0BEC5",
                "#B0BEC5",
                "#B0BEC5",
                "#B0BEC5",
                "#B0BEC5",
                "#B0BEC5",
                "#B0BEC5",
                "#B0BEC5",
                "#B0BEC5"
               ]
              ]
             }
            ],
            "label": "Topic 60",
            "method": "update"
           },
           {
            "args": [
             {
              "marker.color": [
               [
                "#B0BEC5",
                "#B0BEC5",
                "#B0BEC5",
                "#B0BEC5",
                "#B0BEC5",
                "#B0BEC5",
                "#B0BEC5",
                "#B0BEC5",
                "#B0BEC5",
                "#B0BEC5",
                "#B0BEC5",
                "#B0BEC5",
                "#B0BEC5",
                "#B0BEC5",
                "#B0BEC5",
                "#B0BEC5",
                "#B0BEC5",
                "#B0BEC5",
                "#B0BEC5",
                "#B0BEC5",
                "#B0BEC5",
                "#B0BEC5",
                "#B0BEC5",
                "#B0BEC5",
                "#B0BEC5",
                "#B0BEC5",
                "#B0BEC5",
                "#B0BEC5",
                "#B0BEC5",
                "#B0BEC5",
                "#B0BEC5",
                "#B0BEC5",
                "#B0BEC5",
                "#B0BEC5",
                "#B0BEC5",
                "#B0BEC5",
                "#B0BEC5",
                "#B0BEC5",
                "#B0BEC5",
                "#B0BEC5",
                "#B0BEC5",
                "#B0BEC5",
                "#B0BEC5",
                "#B0BEC5",
                "#B0BEC5",
                "#B0BEC5",
                "#B0BEC5",
                "#B0BEC5",
                "#B0BEC5",
                "#B0BEC5",
                "#B0BEC5",
                "#B0BEC5",
                "#B0BEC5",
                "#B0BEC5",
                "#B0BEC5",
                "#B0BEC5",
                "#B0BEC5",
                "#B0BEC5",
                "#B0BEC5",
                "#B0BEC5",
                "#B0BEC5",
                "red",
                "#B0BEC5",
                "#B0BEC5",
                "#B0BEC5",
                "#B0BEC5",
                "#B0BEC5",
                "#B0BEC5",
                "#B0BEC5",
                "#B0BEC5",
                "#B0BEC5",
                "#B0BEC5",
                "#B0BEC5",
                "#B0BEC5",
                "#B0BEC5",
                "#B0BEC5",
                "#B0BEC5",
                "#B0BEC5",
                "#B0BEC5",
                "#B0BEC5",
                "#B0BEC5",
                "#B0BEC5",
                "#B0BEC5",
                "#B0BEC5",
                "#B0BEC5",
                "#B0BEC5",
                "#B0BEC5"
               ]
              ]
             }
            ],
            "label": "Topic 61",
            "method": "update"
           },
           {
            "args": [
             {
              "marker.color": [
               [
                "#B0BEC5",
                "#B0BEC5",
                "#B0BEC5",
                "#B0BEC5",
                "#B0BEC5",
                "#B0BEC5",
                "#B0BEC5",
                "#B0BEC5",
                "#B0BEC5",
                "#B0BEC5",
                "#B0BEC5",
                "#B0BEC5",
                "#B0BEC5",
                "#B0BEC5",
                "#B0BEC5",
                "#B0BEC5",
                "#B0BEC5",
                "#B0BEC5",
                "#B0BEC5",
                "#B0BEC5",
                "#B0BEC5",
                "#B0BEC5",
                "#B0BEC5",
                "#B0BEC5",
                "#B0BEC5",
                "#B0BEC5",
                "#B0BEC5",
                "#B0BEC5",
                "#B0BEC5",
                "#B0BEC5",
                "#B0BEC5",
                "#B0BEC5",
                "#B0BEC5",
                "#B0BEC5",
                "#B0BEC5",
                "#B0BEC5",
                "#B0BEC5",
                "#B0BEC5",
                "#B0BEC5",
                "#B0BEC5",
                "#B0BEC5",
                "#B0BEC5",
                "#B0BEC5",
                "#B0BEC5",
                "#B0BEC5",
                "#B0BEC5",
                "#B0BEC5",
                "#B0BEC5",
                "#B0BEC5",
                "#B0BEC5",
                "#B0BEC5",
                "#B0BEC5",
                "#B0BEC5",
                "#B0BEC5",
                "#B0BEC5",
                "#B0BEC5",
                "#B0BEC5",
                "#B0BEC5",
                "#B0BEC5",
                "#B0BEC5",
                "#B0BEC5",
                "#B0BEC5",
                "red",
                "#B0BEC5",
                "#B0BEC5",
                "#B0BEC5",
                "#B0BEC5",
                "#B0BEC5",
                "#B0BEC5",
                "#B0BEC5",
                "#B0BEC5",
                "#B0BEC5",
                "#B0BEC5",
                "#B0BEC5",
                "#B0BEC5",
                "#B0BEC5",
                "#B0BEC5",
                "#B0BEC5",
                "#B0BEC5",
                "#B0BEC5",
                "#B0BEC5",
                "#B0BEC5",
                "#B0BEC5",
                "#B0BEC5",
                "#B0BEC5",
                "#B0BEC5",
                "#B0BEC5"
               ]
              ]
             }
            ],
            "label": "Topic 62",
            "method": "update"
           },
           {
            "args": [
             {
              "marker.color": [
               [
                "#B0BEC5",
                "#B0BEC5",
                "#B0BEC5",
                "#B0BEC5",
                "#B0BEC5",
                "#B0BEC5",
                "#B0BEC5",
                "#B0BEC5",
                "#B0BEC5",
                "#B0BEC5",
                "#B0BEC5",
                "#B0BEC5",
                "#B0BEC5",
                "#B0BEC5",
                "#B0BEC5",
                "#B0BEC5",
                "#B0BEC5",
                "#B0BEC5",
                "#B0BEC5",
                "#B0BEC5",
                "#B0BEC5",
                "#B0BEC5",
                "#B0BEC5",
                "#B0BEC5",
                "#B0BEC5",
                "#B0BEC5",
                "#B0BEC5",
                "#B0BEC5",
                "#B0BEC5",
                "#B0BEC5",
                "#B0BEC5",
                "#B0BEC5",
                "#B0BEC5",
                "#B0BEC5",
                "#B0BEC5",
                "#B0BEC5",
                "#B0BEC5",
                "#B0BEC5",
                "#B0BEC5",
                "#B0BEC5",
                "#B0BEC5",
                "#B0BEC5",
                "#B0BEC5",
                "#B0BEC5",
                "#B0BEC5",
                "#B0BEC5",
                "#B0BEC5",
                "#B0BEC5",
                "#B0BEC5",
                "#B0BEC5",
                "#B0BEC5",
                "#B0BEC5",
                "#B0BEC5",
                "#B0BEC5",
                "#B0BEC5",
                "#B0BEC5",
                "#B0BEC5",
                "#B0BEC5",
                "#B0BEC5",
                "#B0BEC5",
                "#B0BEC5",
                "#B0BEC5",
                "#B0BEC5",
                "red",
                "#B0BEC5",
                "#B0BEC5",
                "#B0BEC5",
                "#B0BEC5",
                "#B0BEC5",
                "#B0BEC5",
                "#B0BEC5",
                "#B0BEC5",
                "#B0BEC5",
                "#B0BEC5",
                "#B0BEC5",
                "#B0BEC5",
                "#B0BEC5",
                "#B0BEC5",
                "#B0BEC5",
                "#B0BEC5",
                "#B0BEC5",
                "#B0BEC5",
                "#B0BEC5",
                "#B0BEC5",
                "#B0BEC5",
                "#B0BEC5",
                "#B0BEC5"
               ]
              ]
             }
            ],
            "label": "Topic 63",
            "method": "update"
           },
           {
            "args": [
             {
              "marker.color": [
               [
                "#B0BEC5",
                "#B0BEC5",
                "#B0BEC5",
                "#B0BEC5",
                "#B0BEC5",
                "#B0BEC5",
                "#B0BEC5",
                "#B0BEC5",
                "#B0BEC5",
                "#B0BEC5",
                "#B0BEC5",
                "#B0BEC5",
                "#B0BEC5",
                "#B0BEC5",
                "#B0BEC5",
                "#B0BEC5",
                "#B0BEC5",
                "#B0BEC5",
                "#B0BEC5",
                "#B0BEC5",
                "#B0BEC5",
                "#B0BEC5",
                "#B0BEC5",
                "#B0BEC5",
                "#B0BEC5",
                "#B0BEC5",
                "#B0BEC5",
                "#B0BEC5",
                "#B0BEC5",
                "#B0BEC5",
                "#B0BEC5",
                "#B0BEC5",
                "#B0BEC5",
                "#B0BEC5",
                "#B0BEC5",
                "#B0BEC5",
                "#B0BEC5",
                "#B0BEC5",
                "#B0BEC5",
                "#B0BEC5",
                "#B0BEC5",
                "#B0BEC5",
                "#B0BEC5",
                "#B0BEC5",
                "#B0BEC5",
                "#B0BEC5",
                "#B0BEC5",
                "#B0BEC5",
                "#B0BEC5",
                "#B0BEC5",
                "#B0BEC5",
                "#B0BEC5",
                "#B0BEC5",
                "#B0BEC5",
                "#B0BEC5",
                "#B0BEC5",
                "#B0BEC5",
                "#B0BEC5",
                "#B0BEC5",
                "#B0BEC5",
                "#B0BEC5",
                "#B0BEC5",
                "#B0BEC5",
                "#B0BEC5",
                "red",
                "#B0BEC5",
                "#B0BEC5",
                "#B0BEC5",
                "#B0BEC5",
                "#B0BEC5",
                "#B0BEC5",
                "#B0BEC5",
                "#B0BEC5",
                "#B0BEC5",
                "#B0BEC5",
                "#B0BEC5",
                "#B0BEC5",
                "#B0BEC5",
                "#B0BEC5",
                "#B0BEC5",
                "#B0BEC5",
                "#B0BEC5",
                "#B0BEC5",
                "#B0BEC5",
                "#B0BEC5",
                "#B0BEC5",
                "#B0BEC5"
               ]
              ]
             }
            ],
            "label": "Topic 64",
            "method": "update"
           },
           {
            "args": [
             {
              "marker.color": [
               [
                "#B0BEC5",
                "#B0BEC5",
                "#B0BEC5",
                "#B0BEC5",
                "#B0BEC5",
                "#B0BEC5",
                "#B0BEC5",
                "#B0BEC5",
                "#B0BEC5",
                "#B0BEC5",
                "#B0BEC5",
                "#B0BEC5",
                "#B0BEC5",
                "#B0BEC5",
                "#B0BEC5",
                "#B0BEC5",
                "#B0BEC5",
                "#B0BEC5",
                "#B0BEC5",
                "#B0BEC5",
                "#B0BEC5",
                "#B0BEC5",
                "#B0BEC5",
                "#B0BEC5",
                "#B0BEC5",
                "#B0BEC5",
                "#B0BEC5",
                "#B0BEC5",
                "#B0BEC5",
                "#B0BEC5",
                "#B0BEC5",
                "#B0BEC5",
                "#B0BEC5",
                "#B0BEC5",
                "#B0BEC5",
                "#B0BEC5",
                "#B0BEC5",
                "#B0BEC5",
                "#B0BEC5",
                "#B0BEC5",
                "#B0BEC5",
                "#B0BEC5",
                "#B0BEC5",
                "#B0BEC5",
                "#B0BEC5",
                "#B0BEC5",
                "#B0BEC5",
                "#B0BEC5",
                "#B0BEC5",
                "#B0BEC5",
                "#B0BEC5",
                "#B0BEC5",
                "#B0BEC5",
                "#B0BEC5",
                "#B0BEC5",
                "#B0BEC5",
                "#B0BEC5",
                "#B0BEC5",
                "#B0BEC5",
                "#B0BEC5",
                "#B0BEC5",
                "#B0BEC5",
                "#B0BEC5",
                "#B0BEC5",
                "#B0BEC5",
                "red",
                "#B0BEC5",
                "#B0BEC5",
                "#B0BEC5",
                "#B0BEC5",
                "#B0BEC5",
                "#B0BEC5",
                "#B0BEC5",
                "#B0BEC5",
                "#B0BEC5",
                "#B0BEC5",
                "#B0BEC5",
                "#B0BEC5",
                "#B0BEC5",
                "#B0BEC5",
                "#B0BEC5",
                "#B0BEC5",
                "#B0BEC5",
                "#B0BEC5",
                "#B0BEC5",
                "#B0BEC5",
                "#B0BEC5"
               ]
              ]
             }
            ],
            "label": "Topic 65",
            "method": "update"
           },
           {
            "args": [
             {
              "marker.color": [
               [
                "#B0BEC5",
                "#B0BEC5",
                "#B0BEC5",
                "#B0BEC5",
                "#B0BEC5",
                "#B0BEC5",
                "#B0BEC5",
                "#B0BEC5",
                "#B0BEC5",
                "#B0BEC5",
                "#B0BEC5",
                "#B0BEC5",
                "#B0BEC5",
                "#B0BEC5",
                "#B0BEC5",
                "#B0BEC5",
                "#B0BEC5",
                "#B0BEC5",
                "#B0BEC5",
                "#B0BEC5",
                "#B0BEC5",
                "#B0BEC5",
                "#B0BEC5",
                "#B0BEC5",
                "#B0BEC5",
                "#B0BEC5",
                "#B0BEC5",
                "#B0BEC5",
                "#B0BEC5",
                "#B0BEC5",
                "#B0BEC5",
                "#B0BEC5",
                "#B0BEC5",
                "#B0BEC5",
                "#B0BEC5",
                "#B0BEC5",
                "#B0BEC5",
                "#B0BEC5",
                "#B0BEC5",
                "#B0BEC5",
                "#B0BEC5",
                "#B0BEC5",
                "#B0BEC5",
                "#B0BEC5",
                "#B0BEC5",
                "#B0BEC5",
                "#B0BEC5",
                "#B0BEC5",
                "#B0BEC5",
                "#B0BEC5",
                "#B0BEC5",
                "#B0BEC5",
                "#B0BEC5",
                "#B0BEC5",
                "#B0BEC5",
                "#B0BEC5",
                "#B0BEC5",
                "#B0BEC5",
                "#B0BEC5",
                "#B0BEC5",
                "#B0BEC5",
                "#B0BEC5",
                "#B0BEC5",
                "#B0BEC5",
                "#B0BEC5",
                "#B0BEC5",
                "red",
                "#B0BEC5",
                "#B0BEC5",
                "#B0BEC5",
                "#B0BEC5",
                "#B0BEC5",
                "#B0BEC5",
                "#B0BEC5",
                "#B0BEC5",
                "#B0BEC5",
                "#B0BEC5",
                "#B0BEC5",
                "#B0BEC5",
                "#B0BEC5",
                "#B0BEC5",
                "#B0BEC5",
                "#B0BEC5",
                "#B0BEC5",
                "#B0BEC5",
                "#B0BEC5",
                "#B0BEC5"
               ]
              ]
             }
            ],
            "label": "Topic 66",
            "method": "update"
           },
           {
            "args": [
             {
              "marker.color": [
               [
                "#B0BEC5",
                "#B0BEC5",
                "#B0BEC5",
                "#B0BEC5",
                "#B0BEC5",
                "#B0BEC5",
                "#B0BEC5",
                "#B0BEC5",
                "#B0BEC5",
                "#B0BEC5",
                "#B0BEC5",
                "#B0BEC5",
                "#B0BEC5",
                "#B0BEC5",
                "#B0BEC5",
                "#B0BEC5",
                "#B0BEC5",
                "#B0BEC5",
                "#B0BEC5",
                "#B0BEC5",
                "#B0BEC5",
                "#B0BEC5",
                "#B0BEC5",
                "#B0BEC5",
                "#B0BEC5",
                "#B0BEC5",
                "#B0BEC5",
                "#B0BEC5",
                "#B0BEC5",
                "#B0BEC5",
                "#B0BEC5",
                "#B0BEC5",
                "#B0BEC5",
                "#B0BEC5",
                "#B0BEC5",
                "#B0BEC5",
                "#B0BEC5",
                "#B0BEC5",
                "#B0BEC5",
                "#B0BEC5",
                "#B0BEC5",
                "#B0BEC5",
                "#B0BEC5",
                "#B0BEC5",
                "#B0BEC5",
                "#B0BEC5",
                "#B0BEC5",
                "#B0BEC5",
                "#B0BEC5",
                "#B0BEC5",
                "#B0BEC5",
                "#B0BEC5",
                "#B0BEC5",
                "#B0BEC5",
                "#B0BEC5",
                "#B0BEC5",
                "#B0BEC5",
                "#B0BEC5",
                "#B0BEC5",
                "#B0BEC5",
                "#B0BEC5",
                "#B0BEC5",
                "#B0BEC5",
                "#B0BEC5",
                "#B0BEC5",
                "#B0BEC5",
                "#B0BEC5",
                "red",
                "#B0BEC5",
                "#B0BEC5",
                "#B0BEC5",
                "#B0BEC5",
                "#B0BEC5",
                "#B0BEC5",
                "#B0BEC5",
                "#B0BEC5",
                "#B0BEC5",
                "#B0BEC5",
                "#B0BEC5",
                "#B0BEC5",
                "#B0BEC5",
                "#B0BEC5",
                "#B0BEC5",
                "#B0BEC5",
                "#B0BEC5",
                "#B0BEC5",
                "#B0BEC5"
               ]
              ]
             }
            ],
            "label": "Topic 67",
            "method": "update"
           },
           {
            "args": [
             {
              "marker.color": [
               [
                "#B0BEC5",
                "#B0BEC5",
                "#B0BEC5",
                "#B0BEC5",
                "#B0BEC5",
                "#B0BEC5",
                "#B0BEC5",
                "#B0BEC5",
                "#B0BEC5",
                "#B0BEC5",
                "#B0BEC5",
                "#B0BEC5",
                "#B0BEC5",
                "#B0BEC5",
                "#B0BEC5",
                "#B0BEC5",
                "#B0BEC5",
                "#B0BEC5",
                "#B0BEC5",
                "#B0BEC5",
                "#B0BEC5",
                "#B0BEC5",
                "#B0BEC5",
                "#B0BEC5",
                "#B0BEC5",
                "#B0BEC5",
                "#B0BEC5",
                "#B0BEC5",
                "#B0BEC5",
                "#B0BEC5",
                "#B0BEC5",
                "#B0BEC5",
                "#B0BEC5",
                "#B0BEC5",
                "#B0BEC5",
                "#B0BEC5",
                "#B0BEC5",
                "#B0BEC5",
                "#B0BEC5",
                "#B0BEC5",
                "#B0BEC5",
                "#B0BEC5",
                "#B0BEC5",
                "#B0BEC5",
                "#B0BEC5",
                "#B0BEC5",
                "#B0BEC5",
                "#B0BEC5",
                "#B0BEC5",
                "#B0BEC5",
                "#B0BEC5",
                "#B0BEC5",
                "#B0BEC5",
                "#B0BEC5",
                "#B0BEC5",
                "#B0BEC5",
                "#B0BEC5",
                "#B0BEC5",
                "#B0BEC5",
                "#B0BEC5",
                "#B0BEC5",
                "#B0BEC5",
                "#B0BEC5",
                "#B0BEC5",
                "#B0BEC5",
                "#B0BEC5",
                "#B0BEC5",
                "#B0BEC5",
                "red",
                "#B0BEC5",
                "#B0BEC5",
                "#B0BEC5",
                "#B0BEC5",
                "#B0BEC5",
                "#B0BEC5",
                "#B0BEC5",
                "#B0BEC5",
                "#B0BEC5",
                "#B0BEC5",
                "#B0BEC5",
                "#B0BEC5",
                "#B0BEC5",
                "#B0BEC5",
                "#B0BEC5",
                "#B0BEC5",
                "#B0BEC5",
                "#B0BEC5"
               ]
              ]
             }
            ],
            "label": "Topic 68",
            "method": "update"
           },
           {
            "args": [
             {
              "marker.color": [
               [
                "#B0BEC5",
                "#B0BEC5",
                "#B0BEC5",
                "#B0BEC5",
                "#B0BEC5",
                "#B0BEC5",
                "#B0BEC5",
                "#B0BEC5",
                "#B0BEC5",
                "#B0BEC5",
                "#B0BEC5",
                "#B0BEC5",
                "#B0BEC5",
                "#B0BEC5",
                "#B0BEC5",
                "#B0BEC5",
                "#B0BEC5",
                "#B0BEC5",
                "#B0BEC5",
                "#B0BEC5",
                "#B0BEC5",
                "#B0BEC5",
                "#B0BEC5",
                "#B0BEC5",
                "#B0BEC5",
                "#B0BEC5",
                "#B0BEC5",
                "#B0BEC5",
                "#B0BEC5",
                "#B0BEC5",
                "#B0BEC5",
                "#B0BEC5",
                "#B0BEC5",
                "#B0BEC5",
                "#B0BEC5",
                "#B0BEC5",
                "#B0BEC5",
                "#B0BEC5",
                "#B0BEC5",
                "#B0BEC5",
                "#B0BEC5",
                "#B0BEC5",
                "#B0BEC5",
                "#B0BEC5",
                "#B0BEC5",
                "#B0BEC5",
                "#B0BEC5",
                "#B0BEC5",
                "#B0BEC5",
                "#B0BEC5",
                "#B0BEC5",
                "#B0BEC5",
                "#B0BEC5",
                "#B0BEC5",
                "#B0BEC5",
                "#B0BEC5",
                "#B0BEC5",
                "#B0BEC5",
                "#B0BEC5",
                "#B0BEC5",
                "#B0BEC5",
                "#B0BEC5",
                "#B0BEC5",
                "#B0BEC5",
                "#B0BEC5",
                "#B0BEC5",
                "#B0BEC5",
                "#B0BEC5",
                "#B0BEC5",
                "red",
                "#B0BEC5",
                "#B0BEC5",
                "#B0BEC5",
                "#B0BEC5",
                "#B0BEC5",
                "#B0BEC5",
                "#B0BEC5",
                "#B0BEC5",
                "#B0BEC5",
                "#B0BEC5",
                "#B0BEC5",
                "#B0BEC5",
                "#B0BEC5",
                "#B0BEC5",
                "#B0BEC5",
                "#B0BEC5",
                "#B0BEC5"
               ]
              ]
             }
            ],
            "label": "Topic 69",
            "method": "update"
           },
           {
            "args": [
             {
              "marker.color": [
               [
                "#B0BEC5",
                "#B0BEC5",
                "#B0BEC5",
                "#B0BEC5",
                "#B0BEC5",
                "#B0BEC5",
                "#B0BEC5",
                "#B0BEC5",
                "#B0BEC5",
                "#B0BEC5",
                "#B0BEC5",
                "#B0BEC5",
                "#B0BEC5",
                "#B0BEC5",
                "#B0BEC5",
                "#B0BEC5",
                "#B0BEC5",
                "#B0BEC5",
                "#B0BEC5",
                "#B0BEC5",
                "#B0BEC5",
                "#B0BEC5",
                "#B0BEC5",
                "#B0BEC5",
                "#B0BEC5",
                "#B0BEC5",
                "#B0BEC5",
                "#B0BEC5",
                "#B0BEC5",
                "#B0BEC5",
                "#B0BEC5",
                "#B0BEC5",
                "#B0BEC5",
                "#B0BEC5",
                "#B0BEC5",
                "#B0BEC5",
                "#B0BEC5",
                "#B0BEC5",
                "#B0BEC5",
                "#B0BEC5",
                "#B0BEC5",
                "#B0BEC5",
                "#B0BEC5",
                "#B0BEC5",
                "#B0BEC5",
                "#B0BEC5",
                "#B0BEC5",
                "#B0BEC5",
                "#B0BEC5",
                "#B0BEC5",
                "#B0BEC5",
                "#B0BEC5",
                "#B0BEC5",
                "#B0BEC5",
                "#B0BEC5",
                "#B0BEC5",
                "#B0BEC5",
                "#B0BEC5",
                "#B0BEC5",
                "#B0BEC5",
                "#B0BEC5",
                "#B0BEC5",
                "#B0BEC5",
                "#B0BEC5",
                "#B0BEC5",
                "#B0BEC5",
                "#B0BEC5",
                "#B0BEC5",
                "#B0BEC5",
                "#B0BEC5",
                "red",
                "#B0BEC5",
                "#B0BEC5",
                "#B0BEC5",
                "#B0BEC5",
                "#B0BEC5",
                "#B0BEC5",
                "#B0BEC5",
                "#B0BEC5",
                "#B0BEC5",
                "#B0BEC5",
                "#B0BEC5",
                "#B0BEC5",
                "#B0BEC5",
                "#B0BEC5",
                "#B0BEC5",
                "#B0BEC5"
               ]
              ]
             }
            ],
            "label": "Topic 70",
            "method": "update"
           },
           {
            "args": [
             {
              "marker.color": [
               [
                "#B0BEC5",
                "#B0BEC5",
                "#B0BEC5",
                "#B0BEC5",
                "#B0BEC5",
                "#B0BEC5",
                "#B0BEC5",
                "#B0BEC5",
                "#B0BEC5",
                "#B0BEC5",
                "#B0BEC5",
                "#B0BEC5",
                "#B0BEC5",
                "#B0BEC5",
                "#B0BEC5",
                "#B0BEC5",
                "#B0BEC5",
                "#B0BEC5",
                "#B0BEC5",
                "#B0BEC5",
                "#B0BEC5",
                "#B0BEC5",
                "#B0BEC5",
                "#B0BEC5",
                "#B0BEC5",
                "#B0BEC5",
                "#B0BEC5",
                "#B0BEC5",
                "#B0BEC5",
                "#B0BEC5",
                "#B0BEC5",
                "#B0BEC5",
                "#B0BEC5",
                "#B0BEC5",
                "#B0BEC5",
                "#B0BEC5",
                "#B0BEC5",
                "#B0BEC5",
                "#B0BEC5",
                "#B0BEC5",
                "#B0BEC5",
                "#B0BEC5",
                "#B0BEC5",
                "#B0BEC5",
                "#B0BEC5",
                "#B0BEC5",
                "#B0BEC5",
                "#B0BEC5",
                "#B0BEC5",
                "#B0BEC5",
                "#B0BEC5",
                "#B0BEC5",
                "#B0BEC5",
                "#B0BEC5",
                "#B0BEC5",
                "#B0BEC5",
                "#B0BEC5",
                "#B0BEC5",
                "#B0BEC5",
                "#B0BEC5",
                "#B0BEC5",
                "#B0BEC5",
                "#B0BEC5",
                "#B0BEC5",
                "#B0BEC5",
                "#B0BEC5",
                "#B0BEC5",
                "#B0BEC5",
                "#B0BEC5",
                "#B0BEC5",
                "#B0BEC5",
                "red",
                "#B0BEC5",
                "#B0BEC5",
                "#B0BEC5",
                "#B0BEC5",
                "#B0BEC5",
                "#B0BEC5",
                "#B0BEC5",
                "#B0BEC5",
                "#B0BEC5",
                "#B0BEC5",
                "#B0BEC5",
                "#B0BEC5",
                "#B0BEC5",
                "#B0BEC5",
                "#B0BEC5"
               ]
              ]
             }
            ],
            "label": "Topic 71",
            "method": "update"
           },
           {
            "args": [
             {
              "marker.color": [
               [
                "#B0BEC5",
                "#B0BEC5",
                "#B0BEC5",
                "#B0BEC5",
                "#B0BEC5",
                "#B0BEC5",
                "#B0BEC5",
                "#B0BEC5",
                "#B0BEC5",
                "#B0BEC5",
                "#B0BEC5",
                "#B0BEC5",
                "#B0BEC5",
                "#B0BEC5",
                "#B0BEC5",
                "#B0BEC5",
                "#B0BEC5",
                "#B0BEC5",
                "#B0BEC5",
                "#B0BEC5",
                "#B0BEC5",
                "#B0BEC5",
                "#B0BEC5",
                "#B0BEC5",
                "#B0BEC5",
                "#B0BEC5",
                "#B0BEC5",
                "#B0BEC5",
                "#B0BEC5",
                "#B0BEC5",
                "#B0BEC5",
                "#B0BEC5",
                "#B0BEC5",
                "#B0BEC5",
                "#B0BEC5",
                "#B0BEC5",
                "#B0BEC5",
                "#B0BEC5",
                "#B0BEC5",
                "#B0BEC5",
                "#B0BEC5",
                "#B0BEC5",
                "#B0BEC5",
                "#B0BEC5",
                "#B0BEC5",
                "#B0BEC5",
                "#B0BEC5",
                "#B0BEC5",
                "#B0BEC5",
                "#B0BEC5",
                "#B0BEC5",
                "#B0BEC5",
                "#B0BEC5",
                "#B0BEC5",
                "#B0BEC5",
                "#B0BEC5",
                "#B0BEC5",
                "#B0BEC5",
                "#B0BEC5",
                "#B0BEC5",
                "#B0BEC5",
                "#B0BEC5",
                "#B0BEC5",
                "#B0BEC5",
                "#B0BEC5",
                "#B0BEC5",
                "#B0BEC5",
                "#B0BEC5",
                "#B0BEC5",
                "#B0BEC5",
                "#B0BEC5",
                "#B0BEC5",
                "red",
                "#B0BEC5",
                "#B0BEC5",
                "#B0BEC5",
                "#B0BEC5",
                "#B0BEC5",
                "#B0BEC5",
                "#B0BEC5",
                "#B0BEC5",
                "#B0BEC5",
                "#B0BEC5",
                "#B0BEC5",
                "#B0BEC5",
                "#B0BEC5",
                "#B0BEC5"
               ]
              ]
             }
            ],
            "label": "Topic 72",
            "method": "update"
           },
           {
            "args": [
             {
              "marker.color": [
               [
                "#B0BEC5",
                "#B0BEC5",
                "#B0BEC5",
                "#B0BEC5",
                "#B0BEC5",
                "#B0BEC5",
                "#B0BEC5",
                "#B0BEC5",
                "#B0BEC5",
                "#B0BEC5",
                "#B0BEC5",
                "#B0BEC5",
                "#B0BEC5",
                "#B0BEC5",
                "#B0BEC5",
                "#B0BEC5",
                "#B0BEC5",
                "#B0BEC5",
                "#B0BEC5",
                "#B0BEC5",
                "#B0BEC5",
                "#B0BEC5",
                "#B0BEC5",
                "#B0BEC5",
                "#B0BEC5",
                "#B0BEC5",
                "#B0BEC5",
                "#B0BEC5",
                "#B0BEC5",
                "#B0BEC5",
                "#B0BEC5",
                "#B0BEC5",
                "#B0BEC5",
                "#B0BEC5",
                "#B0BEC5",
                "#B0BEC5",
                "#B0BEC5",
                "#B0BEC5",
                "#B0BEC5",
                "#B0BEC5",
                "#B0BEC5",
                "#B0BEC5",
                "#B0BEC5",
                "#B0BEC5",
                "#B0BEC5",
                "#B0BEC5",
                "#B0BEC5",
                "#B0BEC5",
                "#B0BEC5",
                "#B0BEC5",
                "#B0BEC5",
                "#B0BEC5",
                "#B0BEC5",
                "#B0BEC5",
                "#B0BEC5",
                "#B0BEC5",
                "#B0BEC5",
                "#B0BEC5",
                "#B0BEC5",
                "#B0BEC5",
                "#B0BEC5",
                "#B0BEC5",
                "#B0BEC5",
                "#B0BEC5",
                "#B0BEC5",
                "#B0BEC5",
                "#B0BEC5",
                "#B0BEC5",
                "#B0BEC5",
                "#B0BEC5",
                "#B0BEC5",
                "#B0BEC5",
                "#B0BEC5",
                "red",
                "#B0BEC5",
                "#B0BEC5",
                "#B0BEC5",
                "#B0BEC5",
                "#B0BEC5",
                "#B0BEC5",
                "#B0BEC5",
                "#B0BEC5",
                "#B0BEC5",
                "#B0BEC5",
                "#B0BEC5",
                "#B0BEC5",
                "#B0BEC5"
               ]
              ]
             }
            ],
            "label": "Topic 73",
            "method": "update"
           },
           {
            "args": [
             {
              "marker.color": [
               [
                "#B0BEC5",
                "#B0BEC5",
                "#B0BEC5",
                "#B0BEC5",
                "#B0BEC5",
                "#B0BEC5",
                "#B0BEC5",
                "#B0BEC5",
                "#B0BEC5",
                "#B0BEC5",
                "#B0BEC5",
                "#B0BEC5",
                "#B0BEC5",
                "#B0BEC5",
                "#B0BEC5",
                "#B0BEC5",
                "#B0BEC5",
                "#B0BEC5",
                "#B0BEC5",
                "#B0BEC5",
                "#B0BEC5",
                "#B0BEC5",
                "#B0BEC5",
                "#B0BEC5",
                "#B0BEC5",
                "#B0BEC5",
                "#B0BEC5",
                "#B0BEC5",
                "#B0BEC5",
                "#B0BEC5",
                "#B0BEC5",
                "#B0BEC5",
                "#B0BEC5",
                "#B0BEC5",
                "#B0BEC5",
                "#B0BEC5",
                "#B0BEC5",
                "#B0BEC5",
                "#B0BEC5",
                "#B0BEC5",
                "#B0BEC5",
                "#B0BEC5",
                "#B0BEC5",
                "#B0BEC5",
                "#B0BEC5",
                "#B0BEC5",
                "#B0BEC5",
                "#B0BEC5",
                "#B0BEC5",
                "#B0BEC5",
                "#B0BEC5",
                "#B0BEC5",
                "#B0BEC5",
                "#B0BEC5",
                "#B0BEC5",
                "#B0BEC5",
                "#B0BEC5",
                "#B0BEC5",
                "#B0BEC5",
                "#B0BEC5",
                "#B0BEC5",
                "#B0BEC5",
                "#B0BEC5",
                "#B0BEC5",
                "#B0BEC5",
                "#B0BEC5",
                "#B0BEC5",
                "#B0BEC5",
                "#B0BEC5",
                "#B0BEC5",
                "#B0BEC5",
                "#B0BEC5",
                "#B0BEC5",
                "#B0BEC5",
                "red",
                "#B0BEC5",
                "#B0BEC5",
                "#B0BEC5",
                "#B0BEC5",
                "#B0BEC5",
                "#B0BEC5",
                "#B0BEC5",
                "#B0BEC5",
                "#B0BEC5",
                "#B0BEC5",
                "#B0BEC5",
                "#B0BEC5"
               ]
              ]
             }
            ],
            "label": "Topic 74",
            "method": "update"
           },
           {
            "args": [
             {
              "marker.color": [
               [
                "#B0BEC5",
                "#B0BEC5",
                "#B0BEC5",
                "#B0BEC5",
                "#B0BEC5",
                "#B0BEC5",
                "#B0BEC5",
                "#B0BEC5",
                "#B0BEC5",
                "#B0BEC5",
                "#B0BEC5",
                "#B0BEC5",
                "#B0BEC5",
                "#B0BEC5",
                "#B0BEC5",
                "#B0BEC5",
                "#B0BEC5",
                "#B0BEC5",
                "#B0BEC5",
                "#B0BEC5",
                "#B0BEC5",
                "#B0BEC5",
                "#B0BEC5",
                "#B0BEC5",
                "#B0BEC5",
                "#B0BEC5",
                "#B0BEC5",
                "#B0BEC5",
                "#B0BEC5",
                "#B0BEC5",
                "#B0BEC5",
                "#B0BEC5",
                "#B0BEC5",
                "#B0BEC5",
                "#B0BEC5",
                "#B0BEC5",
                "#B0BEC5",
                "#B0BEC5",
                "#B0BEC5",
                "#B0BEC5",
                "#B0BEC5",
                "#B0BEC5",
                "#B0BEC5",
                "#B0BEC5",
                "#B0BEC5",
                "#B0BEC5",
                "#B0BEC5",
                "#B0BEC5",
                "#B0BEC5",
                "#B0BEC5",
                "#B0BEC5",
                "#B0BEC5",
                "#B0BEC5",
                "#B0BEC5",
                "#B0BEC5",
                "#B0BEC5",
                "#B0BEC5",
                "#B0BEC5",
                "#B0BEC5",
                "#B0BEC5",
                "#B0BEC5",
                "#B0BEC5",
                "#B0BEC5",
                "#B0BEC5",
                "#B0BEC5",
                "#B0BEC5",
                "#B0BEC5",
                "#B0BEC5",
                "#B0BEC5",
                "#B0BEC5",
                "#B0BEC5",
                "#B0BEC5",
                "#B0BEC5",
                "#B0BEC5",
                "#B0BEC5",
                "red",
                "#B0BEC5",
                "#B0BEC5",
                "#B0BEC5",
                "#B0BEC5",
                "#B0BEC5",
                "#B0BEC5",
                "#B0BEC5",
                "#B0BEC5",
                "#B0BEC5",
                "#B0BEC5",
                "#B0BEC5"
               ]
              ]
             }
            ],
            "label": "Topic 75",
            "method": "update"
           },
           {
            "args": [
             {
              "marker.color": [
               [
                "#B0BEC5",
                "#B0BEC5",
                "#B0BEC5",
                "#B0BEC5",
                "#B0BEC5",
                "#B0BEC5",
                "#B0BEC5",
                "#B0BEC5",
                "#B0BEC5",
                "#B0BEC5",
                "#B0BEC5",
                "#B0BEC5",
                "#B0BEC5",
                "#B0BEC5",
                "#B0BEC5",
                "#B0BEC5",
                "#B0BEC5",
                "#B0BEC5",
                "#B0BEC5",
                "#B0BEC5",
                "#B0BEC5",
                "#B0BEC5",
                "#B0BEC5",
                "#B0BEC5",
                "#B0BEC5",
                "#B0BEC5",
                "#B0BEC5",
                "#B0BEC5",
                "#B0BEC5",
                "#B0BEC5",
                "#B0BEC5",
                "#B0BEC5",
                "#B0BEC5",
                "#B0BEC5",
                "#B0BEC5",
                "#B0BEC5",
                "#B0BEC5",
                "#B0BEC5",
                "#B0BEC5",
                "#B0BEC5",
                "#B0BEC5",
                "#B0BEC5",
                "#B0BEC5",
                "#B0BEC5",
                "#B0BEC5",
                "#B0BEC5",
                "#B0BEC5",
                "#B0BEC5",
                "#B0BEC5",
                "#B0BEC5",
                "#B0BEC5",
                "#B0BEC5",
                "#B0BEC5",
                "#B0BEC5",
                "#B0BEC5",
                "#B0BEC5",
                "#B0BEC5",
                "#B0BEC5",
                "#B0BEC5",
                "#B0BEC5",
                "#B0BEC5",
                "#B0BEC5",
                "#B0BEC5",
                "#B0BEC5",
                "#B0BEC5",
                "#B0BEC5",
                "#B0BEC5",
                "#B0BEC5",
                "#B0BEC5",
                "#B0BEC5",
                "#B0BEC5",
                "#B0BEC5",
                "#B0BEC5",
                "#B0BEC5",
                "#B0BEC5",
                "#B0BEC5",
                "red",
                "#B0BEC5",
                "#B0BEC5",
                "#B0BEC5",
                "#B0BEC5",
                "#B0BEC5",
                "#B0BEC5",
                "#B0BEC5",
                "#B0BEC5",
                "#B0BEC5",
                "#B0BEC5"
               ]
              ]
             }
            ],
            "label": "Topic 76",
            "method": "update"
           },
           {
            "args": [
             {
              "marker.color": [
               [
                "#B0BEC5",
                "#B0BEC5",
                "#B0BEC5",
                "#B0BEC5",
                "#B0BEC5",
                "#B0BEC5",
                "#B0BEC5",
                "#B0BEC5",
                "#B0BEC5",
                "#B0BEC5",
                "#B0BEC5",
                "#B0BEC5",
                "#B0BEC5",
                "#B0BEC5",
                "#B0BEC5",
                "#B0BEC5",
                "#B0BEC5",
                "#B0BEC5",
                "#B0BEC5",
                "#B0BEC5",
                "#B0BEC5",
                "#B0BEC5",
                "#B0BEC5",
                "#B0BEC5",
                "#B0BEC5",
                "#B0BEC5",
                "#B0BEC5",
                "#B0BEC5",
                "#B0BEC5",
                "#B0BEC5",
                "#B0BEC5",
                "#B0BEC5",
                "#B0BEC5",
                "#B0BEC5",
                "#B0BEC5",
                "#B0BEC5",
                "#B0BEC5",
                "#B0BEC5",
                "#B0BEC5",
                "#B0BEC5",
                "#B0BEC5",
                "#B0BEC5",
                "#B0BEC5",
                "#B0BEC5",
                "#B0BEC5",
                "#B0BEC5",
                "#B0BEC5",
                "#B0BEC5",
                "#B0BEC5",
                "#B0BEC5",
                "#B0BEC5",
                "#B0BEC5",
                "#B0BEC5",
                "#B0BEC5",
                "#B0BEC5",
                "#B0BEC5",
                "#B0BEC5",
                "#B0BEC5",
                "#B0BEC5",
                "#B0BEC5",
                "#B0BEC5",
                "#B0BEC5",
                "#B0BEC5",
                "#B0BEC5",
                "#B0BEC5",
                "#B0BEC5",
                "#B0BEC5",
                "#B0BEC5",
                "#B0BEC5",
                "#B0BEC5",
                "#B0BEC5",
                "#B0BEC5",
                "#B0BEC5",
                "#B0BEC5",
                "#B0BEC5",
                "#B0BEC5",
                "#B0BEC5",
                "red",
                "#B0BEC5",
                "#B0BEC5",
                "#B0BEC5",
                "#B0BEC5",
                "#B0BEC5",
                "#B0BEC5",
                "#B0BEC5",
                "#B0BEC5",
                "#B0BEC5"
               ]
              ]
             }
            ],
            "label": "Topic 77",
            "method": "update"
           },
           {
            "args": [
             {
              "marker.color": [
               [
                "#B0BEC5",
                "#B0BEC5",
                "#B0BEC5",
                "#B0BEC5",
                "#B0BEC5",
                "#B0BEC5",
                "#B0BEC5",
                "#B0BEC5",
                "#B0BEC5",
                "#B0BEC5",
                "#B0BEC5",
                "#B0BEC5",
                "#B0BEC5",
                "#B0BEC5",
                "#B0BEC5",
                "#B0BEC5",
                "#B0BEC5",
                "#B0BEC5",
                "#B0BEC5",
                "#B0BEC5",
                "#B0BEC5",
                "#B0BEC5",
                "#B0BEC5",
                "#B0BEC5",
                "#B0BEC5",
                "#B0BEC5",
                "#B0BEC5",
                "#B0BEC5",
                "#B0BEC5",
                "#B0BEC5",
                "#B0BEC5",
                "#B0BEC5",
                "#B0BEC5",
                "#B0BEC5",
                "#B0BEC5",
                "#B0BEC5",
                "#B0BEC5",
                "#B0BEC5",
                "#B0BEC5",
                "#B0BEC5",
                "#B0BEC5",
                "#B0BEC5",
                "#B0BEC5",
                "#B0BEC5",
                "#B0BEC5",
                "#B0BEC5",
                "#B0BEC5",
                "#B0BEC5",
                "#B0BEC5",
                "#B0BEC5",
                "#B0BEC5",
                "#B0BEC5",
                "#B0BEC5",
                "#B0BEC5",
                "#B0BEC5",
                "#B0BEC5",
                "#B0BEC5",
                "#B0BEC5",
                "#B0BEC5",
                "#B0BEC5",
                "#B0BEC5",
                "#B0BEC5",
                "#B0BEC5",
                "#B0BEC5",
                "#B0BEC5",
                "#B0BEC5",
                "#B0BEC5",
                "#B0BEC5",
                "#B0BEC5",
                "#B0BEC5",
                "#B0BEC5",
                "#B0BEC5",
                "#B0BEC5",
                "#B0BEC5",
                "#B0BEC5",
                "#B0BEC5",
                "#B0BEC5",
                "#B0BEC5",
                "red",
                "#B0BEC5",
                "#B0BEC5",
                "#B0BEC5",
                "#B0BEC5",
                "#B0BEC5",
                "#B0BEC5",
                "#B0BEC5",
                "#B0BEC5"
               ]
              ]
             }
            ],
            "label": "Topic 78",
            "method": "update"
           },
           {
            "args": [
             {
              "marker.color": [
               [
                "#B0BEC5",
                "#B0BEC5",
                "#B0BEC5",
                "#B0BEC5",
                "#B0BEC5",
                "#B0BEC5",
                "#B0BEC5",
                "#B0BEC5",
                "#B0BEC5",
                "#B0BEC5",
                "#B0BEC5",
                "#B0BEC5",
                "#B0BEC5",
                "#B0BEC5",
                "#B0BEC5",
                "#B0BEC5",
                "#B0BEC5",
                "#B0BEC5",
                "#B0BEC5",
                "#B0BEC5",
                "#B0BEC5",
                "#B0BEC5",
                "#B0BEC5",
                "#B0BEC5",
                "#B0BEC5",
                "#B0BEC5",
                "#B0BEC5",
                "#B0BEC5",
                "#B0BEC5",
                "#B0BEC5",
                "#B0BEC5",
                "#B0BEC5",
                "#B0BEC5",
                "#B0BEC5",
                "#B0BEC5",
                "#B0BEC5",
                "#B0BEC5",
                "#B0BEC5",
                "#B0BEC5",
                "#B0BEC5",
                "#B0BEC5",
                "#B0BEC5",
                "#B0BEC5",
                "#B0BEC5",
                "#B0BEC5",
                "#B0BEC5",
                "#B0BEC5",
                "#B0BEC5",
                "#B0BEC5",
                "#B0BEC5",
                "#B0BEC5",
                "#B0BEC5",
                "#B0BEC5",
                "#B0BEC5",
                "#B0BEC5",
                "#B0BEC5",
                "#B0BEC5",
                "#B0BEC5",
                "#B0BEC5",
                "#B0BEC5",
                "#B0BEC5",
                "#B0BEC5",
                "#B0BEC5",
                "#B0BEC5",
                "#B0BEC5",
                "#B0BEC5",
                "#B0BEC5",
                "#B0BEC5",
                "#B0BEC5",
                "#B0BEC5",
                "#B0BEC5",
                "#B0BEC5",
                "#B0BEC5",
                "#B0BEC5",
                "#B0BEC5",
                "#B0BEC5",
                "#B0BEC5",
                "#B0BEC5",
                "#B0BEC5",
                "red",
                "#B0BEC5",
                "#B0BEC5",
                "#B0BEC5",
                "#B0BEC5",
                "#B0BEC5",
                "#B0BEC5",
                "#B0BEC5"
               ]
              ]
             }
            ],
            "label": "Topic 79",
            "method": "update"
           },
           {
            "args": [
             {
              "marker.color": [
               [
                "#B0BEC5",
                "#B0BEC5",
                "#B0BEC5",
                "#B0BEC5",
                "#B0BEC5",
                "#B0BEC5",
                "#B0BEC5",
                "#B0BEC5",
                "#B0BEC5",
                "#B0BEC5",
                "#B0BEC5",
                "#B0BEC5",
                "#B0BEC5",
                "#B0BEC5",
                "#B0BEC5",
                "#B0BEC5",
                "#B0BEC5",
                "#B0BEC5",
                "#B0BEC5",
                "#B0BEC5",
                "#B0BEC5",
                "#B0BEC5",
                "#B0BEC5",
                "#B0BEC5",
                "#B0BEC5",
                "#B0BEC5",
                "#B0BEC5",
                "#B0BEC5",
                "#B0BEC5",
                "#B0BEC5",
                "#B0BEC5",
                "#B0BEC5",
                "#B0BEC5",
                "#B0BEC5",
                "#B0BEC5",
                "#B0BEC5",
                "#B0BEC5",
                "#B0BEC5",
                "#B0BEC5",
                "#B0BEC5",
                "#B0BEC5",
                "#B0BEC5",
                "#B0BEC5",
                "#B0BEC5",
                "#B0BEC5",
                "#B0BEC5",
                "#B0BEC5",
                "#B0BEC5",
                "#B0BEC5",
                "#B0BEC5",
                "#B0BEC5",
                "#B0BEC5",
                "#B0BEC5",
                "#B0BEC5",
                "#B0BEC5",
                "#B0BEC5",
                "#B0BEC5",
                "#B0BEC5",
                "#B0BEC5",
                "#B0BEC5",
                "#B0BEC5",
                "#B0BEC5",
                "#B0BEC5",
                "#B0BEC5",
                "#B0BEC5",
                "#B0BEC5",
                "#B0BEC5",
                "#B0BEC5",
                "#B0BEC5",
                "#B0BEC5",
                "#B0BEC5",
                "#B0BEC5",
                "#B0BEC5",
                "#B0BEC5",
                "#B0BEC5",
                "#B0BEC5",
                "#B0BEC5",
                "#B0BEC5",
                "#B0BEC5",
                "#B0BEC5",
                "red",
                "#B0BEC5",
                "#B0BEC5",
                "#B0BEC5",
                "#B0BEC5",
                "#B0BEC5",
                "#B0BEC5"
               ]
              ]
             }
            ],
            "label": "Topic 80",
            "method": "update"
           },
           {
            "args": [
             {
              "marker.color": [
               [
                "#B0BEC5",
                "#B0BEC5",
                "#B0BEC5",
                "#B0BEC5",
                "#B0BEC5",
                "#B0BEC5",
                "#B0BEC5",
                "#B0BEC5",
                "#B0BEC5",
                "#B0BEC5",
                "#B0BEC5",
                "#B0BEC5",
                "#B0BEC5",
                "#B0BEC5",
                "#B0BEC5",
                "#B0BEC5",
                "#B0BEC5",
                "#B0BEC5",
                "#B0BEC5",
                "#B0BEC5",
                "#B0BEC5",
                "#B0BEC5",
                "#B0BEC5",
                "#B0BEC5",
                "#B0BEC5",
                "#B0BEC5",
                "#B0BEC5",
                "#B0BEC5",
                "#B0BEC5",
                "#B0BEC5",
                "#B0BEC5",
                "#B0BEC5",
                "#B0BEC5",
                "#B0BEC5",
                "#B0BEC5",
                "#B0BEC5",
                "#B0BEC5",
                "#B0BEC5",
                "#B0BEC5",
                "#B0BEC5",
                "#B0BEC5",
                "#B0BEC5",
                "#B0BEC5",
                "#B0BEC5",
                "#B0BEC5",
                "#B0BEC5",
                "#B0BEC5",
                "#B0BEC5",
                "#B0BEC5",
                "#B0BEC5",
                "#B0BEC5",
                "#B0BEC5",
                "#B0BEC5",
                "#B0BEC5",
                "#B0BEC5",
                "#B0BEC5",
                "#B0BEC5",
                "#B0BEC5",
                "#B0BEC5",
                "#B0BEC5",
                "#B0BEC5",
                "#B0BEC5",
                "#B0BEC5",
                "#B0BEC5",
                "#B0BEC5",
                "#B0BEC5",
                "#B0BEC5",
                "#B0BEC5",
                "#B0BEC5",
                "#B0BEC5",
                "#B0BEC5",
                "#B0BEC5",
                "#B0BEC5",
                "#B0BEC5",
                "#B0BEC5",
                "#B0BEC5",
                "#B0BEC5",
                "#B0BEC5",
                "#B0BEC5",
                "#B0BEC5",
                "#B0BEC5",
                "red",
                "#B0BEC5",
                "#B0BEC5",
                "#B0BEC5",
                "#B0BEC5",
                "#B0BEC5"
               ]
              ]
             }
            ],
            "label": "Topic 81",
            "method": "update"
           },
           {
            "args": [
             {
              "marker.color": [
               [
                "#B0BEC5",
                "#B0BEC5",
                "#B0BEC5",
                "#B0BEC5",
                "#B0BEC5",
                "#B0BEC5",
                "#B0BEC5",
                "#B0BEC5",
                "#B0BEC5",
                "#B0BEC5",
                "#B0BEC5",
                "#B0BEC5",
                "#B0BEC5",
                "#B0BEC5",
                "#B0BEC5",
                "#B0BEC5",
                "#B0BEC5",
                "#B0BEC5",
                "#B0BEC5",
                "#B0BEC5",
                "#B0BEC5",
                "#B0BEC5",
                "#B0BEC5",
                "#B0BEC5",
                "#B0BEC5",
                "#B0BEC5",
                "#B0BEC5",
                "#B0BEC5",
                "#B0BEC5",
                "#B0BEC5",
                "#B0BEC5",
                "#B0BEC5",
                "#B0BEC5",
                "#B0BEC5",
                "#B0BEC5",
                "#B0BEC5",
                "#B0BEC5",
                "#B0BEC5",
                "#B0BEC5",
                "#B0BEC5",
                "#B0BEC5",
                "#B0BEC5",
                "#B0BEC5",
                "#B0BEC5",
                "#B0BEC5",
                "#B0BEC5",
                "#B0BEC5",
                "#B0BEC5",
                "#B0BEC5",
                "#B0BEC5",
                "#B0BEC5",
                "#B0BEC5",
                "#B0BEC5",
                "#B0BEC5",
                "#B0BEC5",
                "#B0BEC5",
                "#B0BEC5",
                "#B0BEC5",
                "#B0BEC5",
                "#B0BEC5",
                "#B0BEC5",
                "#B0BEC5",
                "#B0BEC5",
                "#B0BEC5",
                "#B0BEC5",
                "#B0BEC5",
                "#B0BEC5",
                "#B0BEC5",
                "#B0BEC5",
                "#B0BEC5",
                "#B0BEC5",
                "#B0BEC5",
                "#B0BEC5",
                "#B0BEC5",
                "#B0BEC5",
                "#B0BEC5",
                "#B0BEC5",
                "#B0BEC5",
                "#B0BEC5",
                "#B0BEC5",
                "#B0BEC5",
                "#B0BEC5",
                "red",
                "#B0BEC5",
                "#B0BEC5",
                "#B0BEC5",
                "#B0BEC5"
               ]
              ]
             }
            ],
            "label": "Topic 82",
            "method": "update"
           },
           {
            "args": [
             {
              "marker.color": [
               [
                "#B0BEC5",
                "#B0BEC5",
                "#B0BEC5",
                "#B0BEC5",
                "#B0BEC5",
                "#B0BEC5",
                "#B0BEC5",
                "#B0BEC5",
                "#B0BEC5",
                "#B0BEC5",
                "#B0BEC5",
                "#B0BEC5",
                "#B0BEC5",
                "#B0BEC5",
                "#B0BEC5",
                "#B0BEC5",
                "#B0BEC5",
                "#B0BEC5",
                "#B0BEC5",
                "#B0BEC5",
                "#B0BEC5",
                "#B0BEC5",
                "#B0BEC5",
                "#B0BEC5",
                "#B0BEC5",
                "#B0BEC5",
                "#B0BEC5",
                "#B0BEC5",
                "#B0BEC5",
                "#B0BEC5",
                "#B0BEC5",
                "#B0BEC5",
                "#B0BEC5",
                "#B0BEC5",
                "#B0BEC5",
                "#B0BEC5",
                "#B0BEC5",
                "#B0BEC5",
                "#B0BEC5",
                "#B0BEC5",
                "#B0BEC5",
                "#B0BEC5",
                "#B0BEC5",
                "#B0BEC5",
                "#B0BEC5",
                "#B0BEC5",
                "#B0BEC5",
                "#B0BEC5",
                "#B0BEC5",
                "#B0BEC5",
                "#B0BEC5",
                "#B0BEC5",
                "#B0BEC5",
                "#B0BEC5",
                "#B0BEC5",
                "#B0BEC5",
                "#B0BEC5",
                "#B0BEC5",
                "#B0BEC5",
                "#B0BEC5",
                "#B0BEC5",
                "#B0BEC5",
                "#B0BEC5",
                "#B0BEC5",
                "#B0BEC5",
                "#B0BEC5",
                "#B0BEC5",
                "#B0BEC5",
                "#B0BEC5",
                "#B0BEC5",
                "#B0BEC5",
                "#B0BEC5",
                "#B0BEC5",
                "#B0BEC5",
                "#B0BEC5",
                "#B0BEC5",
                "#B0BEC5",
                "#B0BEC5",
                "#B0BEC5",
                "#B0BEC5",
                "#B0BEC5",
                "#B0BEC5",
                "#B0BEC5",
                "red",
                "#B0BEC5",
                "#B0BEC5",
                "#B0BEC5"
               ]
              ]
             }
            ],
            "label": "Topic 83",
            "method": "update"
           },
           {
            "args": [
             {
              "marker.color": [
               [
                "#B0BEC5",
                "#B0BEC5",
                "#B0BEC5",
                "#B0BEC5",
                "#B0BEC5",
                "#B0BEC5",
                "#B0BEC5",
                "#B0BEC5",
                "#B0BEC5",
                "#B0BEC5",
                "#B0BEC5",
                "#B0BEC5",
                "#B0BEC5",
                "#B0BEC5",
                "#B0BEC5",
                "#B0BEC5",
                "#B0BEC5",
                "#B0BEC5",
                "#B0BEC5",
                "#B0BEC5",
                "#B0BEC5",
                "#B0BEC5",
                "#B0BEC5",
                "#B0BEC5",
                "#B0BEC5",
                "#B0BEC5",
                "#B0BEC5",
                "#B0BEC5",
                "#B0BEC5",
                "#B0BEC5",
                "#B0BEC5",
                "#B0BEC5",
                "#B0BEC5",
                "#B0BEC5",
                "#B0BEC5",
                "#B0BEC5",
                "#B0BEC5",
                "#B0BEC5",
                "#B0BEC5",
                "#B0BEC5",
                "#B0BEC5",
                "#B0BEC5",
                "#B0BEC5",
                "#B0BEC5",
                "#B0BEC5",
                "#B0BEC5",
                "#B0BEC5",
                "#B0BEC5",
                "#B0BEC5",
                "#B0BEC5",
                "#B0BEC5",
                "#B0BEC5",
                "#B0BEC5",
                "#B0BEC5",
                "#B0BEC5",
                "#B0BEC5",
                "#B0BEC5",
                "#B0BEC5",
                "#B0BEC5",
                "#B0BEC5",
                "#B0BEC5",
                "#B0BEC5",
                "#B0BEC5",
                "#B0BEC5",
                "#B0BEC5",
                "#B0BEC5",
                "#B0BEC5",
                "#B0BEC5",
                "#B0BEC5",
                "#B0BEC5",
                "#B0BEC5",
                "#B0BEC5",
                "#B0BEC5",
                "#B0BEC5",
                "#B0BEC5",
                "#B0BEC5",
                "#B0BEC5",
                "#B0BEC5",
                "#B0BEC5",
                "#B0BEC5",
                "#B0BEC5",
                "#B0BEC5",
                "#B0BEC5",
                "#B0BEC5",
                "red",
                "#B0BEC5",
                "#B0BEC5"
               ]
              ]
             }
            ],
            "label": "Topic 84",
            "method": "update"
           },
           {
            "args": [
             {
              "marker.color": [
               [
                "#B0BEC5",
                "#B0BEC5",
                "#B0BEC5",
                "#B0BEC5",
                "#B0BEC5",
                "#B0BEC5",
                "#B0BEC5",
                "#B0BEC5",
                "#B0BEC5",
                "#B0BEC5",
                "#B0BEC5",
                "#B0BEC5",
                "#B0BEC5",
                "#B0BEC5",
                "#B0BEC5",
                "#B0BEC5",
                "#B0BEC5",
                "#B0BEC5",
                "#B0BEC5",
                "#B0BEC5",
                "#B0BEC5",
                "#B0BEC5",
                "#B0BEC5",
                "#B0BEC5",
                "#B0BEC5",
                "#B0BEC5",
                "#B0BEC5",
                "#B0BEC5",
                "#B0BEC5",
                "#B0BEC5",
                "#B0BEC5",
                "#B0BEC5",
                "#B0BEC5",
                "#B0BEC5",
                "#B0BEC5",
                "#B0BEC5",
                "#B0BEC5",
                "#B0BEC5",
                "#B0BEC5",
                "#B0BEC5",
                "#B0BEC5",
                "#B0BEC5",
                "#B0BEC5",
                "#B0BEC5",
                "#B0BEC5",
                "#B0BEC5",
                "#B0BEC5",
                "#B0BEC5",
                "#B0BEC5",
                "#B0BEC5",
                "#B0BEC5",
                "#B0BEC5",
                "#B0BEC5",
                "#B0BEC5",
                "#B0BEC5",
                "#B0BEC5",
                "#B0BEC5",
                "#B0BEC5",
                "#B0BEC5",
                "#B0BEC5",
                "#B0BEC5",
                "#B0BEC5",
                "#B0BEC5",
                "#B0BEC5",
                "#B0BEC5",
                "#B0BEC5",
                "#B0BEC5",
                "#B0BEC5",
                "#B0BEC5",
                "#B0BEC5",
                "#B0BEC5",
                "#B0BEC5",
                "#B0BEC5",
                "#B0BEC5",
                "#B0BEC5",
                "#B0BEC5",
                "#B0BEC5",
                "#B0BEC5",
                "#B0BEC5",
                "#B0BEC5",
                "#B0BEC5",
                "#B0BEC5",
                "#B0BEC5",
                "#B0BEC5",
                "#B0BEC5",
                "red",
                "#B0BEC5"
               ]
              ]
             }
            ],
            "label": "Topic 85",
            "method": "update"
           },
           {
            "args": [
             {
              "marker.color": [
               [
                "#B0BEC5",
                "#B0BEC5",
                "#B0BEC5",
                "#B0BEC5",
                "#B0BEC5",
                "#B0BEC5",
                "#B0BEC5",
                "#B0BEC5",
                "#B0BEC5",
                "#B0BEC5",
                "#B0BEC5",
                "#B0BEC5",
                "#B0BEC5",
                "#B0BEC5",
                "#B0BEC5",
                "#B0BEC5",
                "#B0BEC5",
                "#B0BEC5",
                "#B0BEC5",
                "#B0BEC5",
                "#B0BEC5",
                "#B0BEC5",
                "#B0BEC5",
                "#B0BEC5",
                "#B0BEC5",
                "#B0BEC5",
                "#B0BEC5",
                "#B0BEC5",
                "#B0BEC5",
                "#B0BEC5",
                "#B0BEC5",
                "#B0BEC5",
                "#B0BEC5",
                "#B0BEC5",
                "#B0BEC5",
                "#B0BEC5",
                "#B0BEC5",
                "#B0BEC5",
                "#B0BEC5",
                "#B0BEC5",
                "#B0BEC5",
                "#B0BEC5",
                "#B0BEC5",
                "#B0BEC5",
                "#B0BEC5",
                "#B0BEC5",
                "#B0BEC5",
                "#B0BEC5",
                "#B0BEC5",
                "#B0BEC5",
                "#B0BEC5",
                "#B0BEC5",
                "#B0BEC5",
                "#B0BEC5",
                "#B0BEC5",
                "#B0BEC5",
                "#B0BEC5",
                "#B0BEC5",
                "#B0BEC5",
                "#B0BEC5",
                "#B0BEC5",
                "#B0BEC5",
                "#B0BEC5",
                "#B0BEC5",
                "#B0BEC5",
                "#B0BEC5",
                "#B0BEC5",
                "#B0BEC5",
                "#B0BEC5",
                "#B0BEC5",
                "#B0BEC5",
                "#B0BEC5",
                "#B0BEC5",
                "#B0BEC5",
                "#B0BEC5",
                "#B0BEC5",
                "#B0BEC5",
                "#B0BEC5",
                "#B0BEC5",
                "#B0BEC5",
                "#B0BEC5",
                "#B0BEC5",
                "#B0BEC5",
                "#B0BEC5",
                "#B0BEC5",
                "#B0BEC5",
                "red"
               ]
              ]
             }
            ],
            "label": "Topic 86",
            "method": "update"
           }
          ]
         }
        ],
        "template": {
         "data": {
          "bar": [
           {
            "error_x": {
             "color": "rgb(36,36,36)"
            },
            "error_y": {
             "color": "rgb(36,36,36)"
            },
            "marker": {
             "line": {
              "color": "white",
              "width": 0.5
             },
             "pattern": {
              "fillmode": "overlay",
              "size": 10,
              "solidity": 0.2
             }
            },
            "type": "bar"
           }
          ],
          "barpolar": [
           {
            "marker": {
             "line": {
              "color": "white",
              "width": 0.5
             },
             "pattern": {
              "fillmode": "overlay",
              "size": 10,
              "solidity": 0.2
             }
            },
            "type": "barpolar"
           }
          ],
          "carpet": [
           {
            "aaxis": {
             "endlinecolor": "rgb(36,36,36)",
             "gridcolor": "white",
             "linecolor": "white",
             "minorgridcolor": "white",
             "startlinecolor": "rgb(36,36,36)"
            },
            "baxis": {
             "endlinecolor": "rgb(36,36,36)",
             "gridcolor": "white",
             "linecolor": "white",
             "minorgridcolor": "white",
             "startlinecolor": "rgb(36,36,36)"
            },
            "type": "carpet"
           }
          ],
          "choropleth": [
           {
            "colorbar": {
             "outlinewidth": 1,
             "tickcolor": "rgb(36,36,36)",
             "ticks": "outside"
            },
            "type": "choropleth"
           }
          ],
          "contour": [
           {
            "colorbar": {
             "outlinewidth": 1,
             "tickcolor": "rgb(36,36,36)",
             "ticks": "outside"
            },
            "colorscale": [
             [
              0,
              "#440154"
             ],
             [
              0.1111111111111111,
              "#482878"
             ],
             [
              0.2222222222222222,
              "#3e4989"
             ],
             [
              0.3333333333333333,
              "#31688e"
             ],
             [
              0.4444444444444444,
              "#26828e"
             ],
             [
              0.5555555555555556,
              "#1f9e89"
             ],
             [
              0.6666666666666666,
              "#35b779"
             ],
             [
              0.7777777777777778,
              "#6ece58"
             ],
             [
              0.8888888888888888,
              "#b5de2b"
             ],
             [
              1,
              "#fde725"
             ]
            ],
            "type": "contour"
           }
          ],
          "contourcarpet": [
           {
            "colorbar": {
             "outlinewidth": 1,
             "tickcolor": "rgb(36,36,36)",
             "ticks": "outside"
            },
            "type": "contourcarpet"
           }
          ],
          "heatmap": [
           {
            "colorbar": {
             "outlinewidth": 1,
             "tickcolor": "rgb(36,36,36)",
             "ticks": "outside"
            },
            "colorscale": [
             [
              0,
              "#440154"
             ],
             [
              0.1111111111111111,
              "#482878"
             ],
             [
              0.2222222222222222,
              "#3e4989"
             ],
             [
              0.3333333333333333,
              "#31688e"
             ],
             [
              0.4444444444444444,
              "#26828e"
             ],
             [
              0.5555555555555556,
              "#1f9e89"
             ],
             [
              0.6666666666666666,
              "#35b779"
             ],
             [
              0.7777777777777778,
              "#6ece58"
             ],
             [
              0.8888888888888888,
              "#b5de2b"
             ],
             [
              1,
              "#fde725"
             ]
            ],
            "type": "heatmap"
           }
          ],
          "heatmapgl": [
           {
            "colorbar": {
             "outlinewidth": 1,
             "tickcolor": "rgb(36,36,36)",
             "ticks": "outside"
            },
            "colorscale": [
             [
              0,
              "#440154"
             ],
             [
              0.1111111111111111,
              "#482878"
             ],
             [
              0.2222222222222222,
              "#3e4989"
             ],
             [
              0.3333333333333333,
              "#31688e"
             ],
             [
              0.4444444444444444,
              "#26828e"
             ],
             [
              0.5555555555555556,
              "#1f9e89"
             ],
             [
              0.6666666666666666,
              "#35b779"
             ],
             [
              0.7777777777777778,
              "#6ece58"
             ],
             [
              0.8888888888888888,
              "#b5de2b"
             ],
             [
              1,
              "#fde725"
             ]
            ],
            "type": "heatmapgl"
           }
          ],
          "histogram": [
           {
            "marker": {
             "line": {
              "color": "white",
              "width": 0.6
             }
            },
            "type": "histogram"
           }
          ],
          "histogram2d": [
           {
            "colorbar": {
             "outlinewidth": 1,
             "tickcolor": "rgb(36,36,36)",
             "ticks": "outside"
            },
            "colorscale": [
             [
              0,
              "#440154"
             ],
             [
              0.1111111111111111,
              "#482878"
             ],
             [
              0.2222222222222222,
              "#3e4989"
             ],
             [
              0.3333333333333333,
              "#31688e"
             ],
             [
              0.4444444444444444,
              "#26828e"
             ],
             [
              0.5555555555555556,
              "#1f9e89"
             ],
             [
              0.6666666666666666,
              "#35b779"
             ],
             [
              0.7777777777777778,
              "#6ece58"
             ],
             [
              0.8888888888888888,
              "#b5de2b"
             ],
             [
              1,
              "#fde725"
             ]
            ],
            "type": "histogram2d"
           }
          ],
          "histogram2dcontour": [
           {
            "colorbar": {
             "outlinewidth": 1,
             "tickcolor": "rgb(36,36,36)",
             "ticks": "outside"
            },
            "colorscale": [
             [
              0,
              "#440154"
             ],
             [
              0.1111111111111111,
              "#482878"
             ],
             [
              0.2222222222222222,
              "#3e4989"
             ],
             [
              0.3333333333333333,
              "#31688e"
             ],
             [
              0.4444444444444444,
              "#26828e"
             ],
             [
              0.5555555555555556,
              "#1f9e89"
             ],
             [
              0.6666666666666666,
              "#35b779"
             ],
             [
              0.7777777777777778,
              "#6ece58"
             ],
             [
              0.8888888888888888,
              "#b5de2b"
             ],
             [
              1,
              "#fde725"
             ]
            ],
            "type": "histogram2dcontour"
           }
          ],
          "mesh3d": [
           {
            "colorbar": {
             "outlinewidth": 1,
             "tickcolor": "rgb(36,36,36)",
             "ticks": "outside"
            },
            "type": "mesh3d"
           }
          ],
          "parcoords": [
           {
            "line": {
             "colorbar": {
              "outlinewidth": 1,
              "tickcolor": "rgb(36,36,36)",
              "ticks": "outside"
             }
            },
            "type": "parcoords"
           }
          ],
          "pie": [
           {
            "automargin": true,
            "type": "pie"
           }
          ],
          "scatter": [
           {
            "fillpattern": {
             "fillmode": "overlay",
             "size": 10,
             "solidity": 0.2
            },
            "type": "scatter"
           }
          ],
          "scatter3d": [
           {
            "line": {
             "colorbar": {
              "outlinewidth": 1,
              "tickcolor": "rgb(36,36,36)",
              "ticks": "outside"
             }
            },
            "marker": {
             "colorbar": {
              "outlinewidth": 1,
              "tickcolor": "rgb(36,36,36)",
              "ticks": "outside"
             }
            },
            "type": "scatter3d"
           }
          ],
          "scattercarpet": [
           {
            "marker": {
             "colorbar": {
              "outlinewidth": 1,
              "tickcolor": "rgb(36,36,36)",
              "ticks": "outside"
             }
            },
            "type": "scattercarpet"
           }
          ],
          "scattergeo": [
           {
            "marker": {
             "colorbar": {
              "outlinewidth": 1,
              "tickcolor": "rgb(36,36,36)",
              "ticks": "outside"
             }
            },
            "type": "scattergeo"
           }
          ],
          "scattergl": [
           {
            "marker": {
             "colorbar": {
              "outlinewidth": 1,
              "tickcolor": "rgb(36,36,36)",
              "ticks": "outside"
             }
            },
            "type": "scattergl"
           }
          ],
          "scattermapbox": [
           {
            "marker": {
             "colorbar": {
              "outlinewidth": 1,
              "tickcolor": "rgb(36,36,36)",
              "ticks": "outside"
             }
            },
            "type": "scattermapbox"
           }
          ],
          "scatterpolar": [
           {
            "marker": {
             "colorbar": {
              "outlinewidth": 1,
              "tickcolor": "rgb(36,36,36)",
              "ticks": "outside"
             }
            },
            "type": "scatterpolar"
           }
          ],
          "scatterpolargl": [
           {
            "marker": {
             "colorbar": {
              "outlinewidth": 1,
              "tickcolor": "rgb(36,36,36)",
              "ticks": "outside"
             }
            },
            "type": "scatterpolargl"
           }
          ],
          "scatterternary": [
           {
            "marker": {
             "colorbar": {
              "outlinewidth": 1,
              "tickcolor": "rgb(36,36,36)",
              "ticks": "outside"
             }
            },
            "type": "scatterternary"
           }
          ],
          "surface": [
           {
            "colorbar": {
             "outlinewidth": 1,
             "tickcolor": "rgb(36,36,36)",
             "ticks": "outside"
            },
            "colorscale": [
             [
              0,
              "#440154"
             ],
             [
              0.1111111111111111,
              "#482878"
             ],
             [
              0.2222222222222222,
              "#3e4989"
             ],
             [
              0.3333333333333333,
              "#31688e"
             ],
             [
              0.4444444444444444,
              "#26828e"
             ],
             [
              0.5555555555555556,
              "#1f9e89"
             ],
             [
              0.6666666666666666,
              "#35b779"
             ],
             [
              0.7777777777777778,
              "#6ece58"
             ],
             [
              0.8888888888888888,
              "#b5de2b"
             ],
             [
              1,
              "#fde725"
             ]
            ],
            "type": "surface"
           }
          ],
          "table": [
           {
            "cells": {
             "fill": {
              "color": "rgb(237,237,237)"
             },
             "line": {
              "color": "white"
             }
            },
            "header": {
             "fill": {
              "color": "rgb(217,217,217)"
             },
             "line": {
              "color": "white"
             }
            },
            "type": "table"
           }
          ]
         },
         "layout": {
          "annotationdefaults": {
           "arrowhead": 0,
           "arrowwidth": 1
          },
          "autotypenumbers": "strict",
          "coloraxis": {
           "colorbar": {
            "outlinewidth": 1,
            "tickcolor": "rgb(36,36,36)",
            "ticks": "outside"
           }
          },
          "colorscale": {
           "diverging": [
            [
             0,
             "rgb(103,0,31)"
            ],
            [
             0.1,
             "rgb(178,24,43)"
            ],
            [
             0.2,
             "rgb(214,96,77)"
            ],
            [
             0.3,
             "rgb(244,165,130)"
            ],
            [
             0.4,
             "rgb(253,219,199)"
            ],
            [
             0.5,
             "rgb(247,247,247)"
            ],
            [
             0.6,
             "rgb(209,229,240)"
            ],
            [
             0.7,
             "rgb(146,197,222)"
            ],
            [
             0.8,
             "rgb(67,147,195)"
            ],
            [
             0.9,
             "rgb(33,102,172)"
            ],
            [
             1,
             "rgb(5,48,97)"
            ]
           ],
           "sequential": [
            [
             0,
             "#440154"
            ],
            [
             0.1111111111111111,
             "#482878"
            ],
            [
             0.2222222222222222,
             "#3e4989"
            ],
            [
             0.3333333333333333,
             "#31688e"
            ],
            [
             0.4444444444444444,
             "#26828e"
            ],
            [
             0.5555555555555556,
             "#1f9e89"
            ],
            [
             0.6666666666666666,
             "#35b779"
            ],
            [
             0.7777777777777778,
             "#6ece58"
            ],
            [
             0.8888888888888888,
             "#b5de2b"
            ],
            [
             1,
             "#fde725"
            ]
           ],
           "sequentialminus": [
            [
             0,
             "#440154"
            ],
            [
             0.1111111111111111,
             "#482878"
            ],
            [
             0.2222222222222222,
             "#3e4989"
            ],
            [
             0.3333333333333333,
             "#31688e"
            ],
            [
             0.4444444444444444,
             "#26828e"
            ],
            [
             0.5555555555555556,
             "#1f9e89"
            ],
            [
             0.6666666666666666,
             "#35b779"
            ],
            [
             0.7777777777777778,
             "#6ece58"
            ],
            [
             0.8888888888888888,
             "#b5de2b"
            ],
            [
             1,
             "#fde725"
            ]
           ]
          },
          "colorway": [
           "#1F77B4",
           "#FF7F0E",
           "#2CA02C",
           "#D62728",
           "#9467BD",
           "#8C564B",
           "#E377C2",
           "#7F7F7F",
           "#BCBD22",
           "#17BECF"
          ],
          "font": {
           "color": "rgb(36,36,36)"
          },
          "geo": {
           "bgcolor": "white",
           "lakecolor": "white",
           "landcolor": "white",
           "showlakes": true,
           "showland": true,
           "subunitcolor": "white"
          },
          "hoverlabel": {
           "align": "left"
          },
          "hovermode": "closest",
          "mapbox": {
           "style": "light"
          },
          "paper_bgcolor": "white",
          "plot_bgcolor": "white",
          "polar": {
           "angularaxis": {
            "gridcolor": "rgb(232,232,232)",
            "linecolor": "rgb(36,36,36)",
            "showgrid": false,
            "showline": true,
            "ticks": "outside"
           },
           "bgcolor": "white",
           "radialaxis": {
            "gridcolor": "rgb(232,232,232)",
            "linecolor": "rgb(36,36,36)",
            "showgrid": false,
            "showline": true,
            "ticks": "outside"
           }
          },
          "scene": {
           "xaxis": {
            "backgroundcolor": "white",
            "gridcolor": "rgb(232,232,232)",
            "gridwidth": 2,
            "linecolor": "rgb(36,36,36)",
            "showbackground": true,
            "showgrid": false,
            "showline": true,
            "ticks": "outside",
            "zeroline": false,
            "zerolinecolor": "rgb(36,36,36)"
           },
           "yaxis": {
            "backgroundcolor": "white",
            "gridcolor": "rgb(232,232,232)",
            "gridwidth": 2,
            "linecolor": "rgb(36,36,36)",
            "showbackground": true,
            "showgrid": false,
            "showline": true,
            "ticks": "outside",
            "zeroline": false,
            "zerolinecolor": "rgb(36,36,36)"
           },
           "zaxis": {
            "backgroundcolor": "white",
            "gridcolor": "rgb(232,232,232)",
            "gridwidth": 2,
            "linecolor": "rgb(36,36,36)",
            "showbackground": true,
            "showgrid": false,
            "showline": true,
            "ticks": "outside",
            "zeroline": false,
            "zerolinecolor": "rgb(36,36,36)"
           }
          },
          "shapedefaults": {
           "fillcolor": "black",
           "line": {
            "width": 0
           },
           "opacity": 0.3
          },
          "ternary": {
           "aaxis": {
            "gridcolor": "rgb(232,232,232)",
            "linecolor": "rgb(36,36,36)",
            "showgrid": false,
            "showline": true,
            "ticks": "outside"
           },
           "baxis": {
            "gridcolor": "rgb(232,232,232)",
            "linecolor": "rgb(36,36,36)",
            "showgrid": false,
            "showline": true,
            "ticks": "outside"
           },
           "bgcolor": "white",
           "caxis": {
            "gridcolor": "rgb(232,232,232)",
            "linecolor": "rgb(36,36,36)",
            "showgrid": false,
            "showline": true,
            "ticks": "outside"
           }
          },
          "title": {
           "x": 0.05
          },
          "xaxis": {
           "automargin": true,
           "gridcolor": "rgb(232,232,232)",
           "linecolor": "rgb(36,36,36)",
           "showgrid": false,
           "showline": true,
           "ticks": "outside",
           "title": {
            "standoff": 15
           },
           "zeroline": false,
           "zerolinecolor": "rgb(36,36,36)"
          },
          "yaxis": {
           "automargin": true,
           "gridcolor": "rgb(232,232,232)",
           "linecolor": "rgb(36,36,36)",
           "showgrid": false,
           "showline": true,
           "ticks": "outside",
           "title": {
            "standoff": 15
           },
           "zeroline": false,
           "zerolinecolor": "rgb(36,36,36)"
          }
         }
        },
        "title": {
         "font": {
          "color": "Black",
          "size": 22
         },
         "text": "<b>Intertopic Distance Map</b>",
         "x": 0.5,
         "xanchor": "center",
         "y": 0.95,
         "yanchor": "top"
        },
        "width": 650,
        "xaxis": {
         "anchor": "y",
         "domain": [
          0,
          1
         ],
         "range": [
          -10.87881031036377,
          20.73876485824585
         ],
         "title": {
          "text": ""
         },
         "visible": false
        },
        "yaxis": {
         "anchor": "x",
         "domain": [
          0,
          1
         ],
         "range": [
          -8.010897350311279,
          22.201779079437255
         ],
         "title": {
          "text": ""
         },
         "visible": false
        }
       }
      }
     },
     "metadata": {},
     "output_type": "display_data"
    }
   ],
   "source": [
    "# 긍정 리뷰 토픽 관계도 시각화\n",
    "topic_model_positive.visualize_topics()"
   ]
  },
  {
   "cell_type": "code",
   "execution_count": 16,
   "metadata": {},
   "outputs": [
    {
     "data": {
      "application/vnd.plotly.v1+json": {
       "config": {
        "plotlyServerURL": "https://plot.ly"
       },
       "data": [
        {
         "customdata": [
          [
           0,
           "this | game | my | life | you",
           372
          ],
          [
           1,
           "warframe | and | to | that | the",
           138
          ],
          [
           2,
           "bugs | the | devs | and | game",
           121
          ],
          [
           3,
           "grind | grindy | grinding | for | you",
           87
          ],
          [
           4,
           "new | player | the | players | to",
           64
          ],
          [
           5,
           "review | reviews | people | negative | aoe",
           40
          ],
          [
           6,
           "money | spent | real | spending | much",
           35
          ],
          [
           7,
           "enemies | sent | disciple | jays | with",
           34
          ],
          [
           8,
           "free | game | is | this | play",
           33
          ],
          [
           9,
           "missions | mission | the | you | to",
           31
          ],
          [
           10,
           "cocaine | addictive | heroin | addicting | addiction",
           26
          ],
          [
           11,
           "knows | secrets | false | creatures | prophet",
           24
          ],
          [
           12,
           "space | ninja | ninjas | up | cyborg",
           24
          ],
          [
           13,
           "farming | farm | simulator | owns | peasant",
           22
          ],
          [
           14,
           "trespassers | keys | mere | use | tenno",
           21
          ],
          [
           15,
           "cleanse | impurity | vor | place | their",
           21
          ],
          [
           16,
           "they | pure | know | place | look",
           20
          ],
          [
           17,
           "bound | forever | void | to | the",
           20
          ],
          [
           18,
           "quest | quests | story | the | of",
           19
          ],
          [
           19,
           "scavenge | sacred | realm | desecrate | behold",
           19
          ],
          [
           20,
           "resist | lost | tenno | will | they",
           19
          ],
          [
           21,
           "destroyed | janus | key | cut | called",
           19
          ],
          [
           22,
           "product | received | free | for | recent",
           17
          ],
          [
           23,
           "stalker | his | murderer | scythe | hes",
           17
          ],
          [
           24,
           "pay | win | not | to | anyone",
           13
          ],
          [
           25,
           "pvp | in | hordes | pve | looking",
           13
          ],
          [
           26,
           "platinum | currency | buy | to | downside",
           11
          ]
         ],
         "hovertemplate": "<b>Topic %{customdata[0]}</b><br>%{customdata[1]}<br>Size: %{customdata[2]}",
         "legendgroup": "",
         "marker": {
          "color": "#B0BEC5",
          "line": {
           "color": "DarkSlateGrey",
           "width": 2
          },
          "size": [
           372,
           138,
           121,
           87,
           64,
           40,
           35,
           34,
           33,
           31,
           26,
           24,
           24,
           22,
           21,
           21,
           20,
           20,
           19,
           19,
           19,
           19,
           17,
           17,
           13,
           13,
           11
          ],
          "sizemode": "area",
          "sizeref": 0.2325,
          "symbol": "circle"
         },
         "mode": "markers",
         "name": "",
         "orientation": "v",
         "showlegend": false,
         "type": "scatter",
         "x": [
          9.44294548034668,
          -3.1456758975982666,
          -3.022705554962158,
          -5.8817667961120605,
          -3.2039480209350586,
          -2.7218997478485107,
          13.984087944030762,
          8.923001289367676,
          -1.2339879274368286,
          -2.9181323051452637,
          9.310855865478516,
          9.44846248626709,
          8.796354293823242,
          -5.881671905517578,
          17.0640869140625,
          9.568115234375,
          9.681257247924805,
          12.819260597229004,
          -3.0748984813690186,
          17.34755516052246,
          17.065597534179688,
          12.7384672164917,
          -1.0769097805023193,
          8.994608879089355,
          13.72396469116211,
          -2.6831905841827393,
          14.111424446105957
         ],
         "xaxis": "x",
         "y": [
          2.045099973678589,
          0.0759318470954895,
          0.21725301444530487,
          19.10651969909668,
          0.48456066846847534,
          0.6215961575508118,
          0.8320456147193909,
          22.246335983276367,
          -11.52098560333252,
          -0.5603113174438477,
          2.177393913269043,
          8.735175132751465,
          22.372936248779297,
          19.10646629333496,
          -16.44059181213379,
          8.852699279785156,
          8.967063903808594,
          14.657211303710938,
          -0.7416543960571289,
          -16.157081604003906,
          -16.43931770324707,
          14.576412200927734,
          -11.679078102111816,
          22.174711227416992,
          0.5730388164520264,
          0.280353844165802,
          0.9599609971046448
         ],
         "yaxis": "y"
        }
       ],
       "layout": {
        "annotations": [
         {
          "showarrow": false,
          "text": "D1",
          "x": -6.7640318155288695,
          "y": 3.4110980510711677,
          "yshift": 10
         },
         {
          "showarrow": false,
          "text": "D2",
          "x": 6.59282830953598,
          "xshift": 10,
          "y": 25.728876686096193
         }
        ],
        "height": 650,
        "hoverlabel": {
         "bgcolor": "white",
         "font": {
          "family": "Rockwell",
          "size": 16
         }
        },
        "legend": {
         "itemsizing": "constant",
         "tracegroupgap": 0
        },
        "margin": {
         "t": 60
        },
        "shapes": [
         {
          "line": {
           "color": "#CFD8DC",
           "width": 2
          },
          "type": "line",
          "x0": 6.59282830953598,
          "x1": 6.59282830953598,
          "y0": -18.906680583953857,
          "y1": 25.728876686096193
         },
         {
          "line": {
           "color": "#9E9E9E",
           "width": 2
          },
          "type": "line",
          "x0": -6.7640318155288695,
          "x1": 19.94968843460083,
          "y0": 3.4110980510711677,
          "y1": 3.4110980510711677
         }
        ],
        "sliders": [
         {
          "active": 0,
          "pad": {
           "t": 50
          },
          "steps": [
           {
            "args": [
             {
              "marker.color": [
               [
                "red",
                "#B0BEC5",
                "#B0BEC5",
                "#B0BEC5",
                "#B0BEC5",
                "#B0BEC5",
                "#B0BEC5",
                "#B0BEC5",
                "#B0BEC5",
                "#B0BEC5",
                "#B0BEC5",
                "#B0BEC5",
                "#B0BEC5",
                "#B0BEC5",
                "#B0BEC5",
                "#B0BEC5",
                "#B0BEC5",
                "#B0BEC5",
                "#B0BEC5",
                "#B0BEC5",
                "#B0BEC5",
                "#B0BEC5",
                "#B0BEC5",
                "#B0BEC5",
                "#B0BEC5",
                "#B0BEC5",
                "#B0BEC5"
               ]
              ]
             }
            ],
            "label": "Topic 0",
            "method": "update"
           },
           {
            "args": [
             {
              "marker.color": [
               [
                "#B0BEC5",
                "red",
                "#B0BEC5",
                "#B0BEC5",
                "#B0BEC5",
                "#B0BEC5",
                "#B0BEC5",
                "#B0BEC5",
                "#B0BEC5",
                "#B0BEC5",
                "#B0BEC5",
                "#B0BEC5",
                "#B0BEC5",
                "#B0BEC5",
                "#B0BEC5",
                "#B0BEC5",
                "#B0BEC5",
                "#B0BEC5",
                "#B0BEC5",
                "#B0BEC5",
                "#B0BEC5",
                "#B0BEC5",
                "#B0BEC5",
                "#B0BEC5",
                "#B0BEC5",
                "#B0BEC5",
                "#B0BEC5"
               ]
              ]
             }
            ],
            "label": "Topic 1",
            "method": "update"
           },
           {
            "args": [
             {
              "marker.color": [
               [
                "#B0BEC5",
                "#B0BEC5",
                "red",
                "#B0BEC5",
                "#B0BEC5",
                "#B0BEC5",
                "#B0BEC5",
                "#B0BEC5",
                "#B0BEC5",
                "#B0BEC5",
                "#B0BEC5",
                "#B0BEC5",
                "#B0BEC5",
                "#B0BEC5",
                "#B0BEC5",
                "#B0BEC5",
                "#B0BEC5",
                "#B0BEC5",
                "#B0BEC5",
                "#B0BEC5",
                "#B0BEC5",
                "#B0BEC5",
                "#B0BEC5",
                "#B0BEC5",
                "#B0BEC5",
                "#B0BEC5",
                "#B0BEC5"
               ]
              ]
             }
            ],
            "label": "Topic 2",
            "method": "update"
           },
           {
            "args": [
             {
              "marker.color": [
               [
                "#B0BEC5",
                "#B0BEC5",
                "#B0BEC5",
                "red",
                "#B0BEC5",
                "#B0BEC5",
                "#B0BEC5",
                "#B0BEC5",
                "#B0BEC5",
                "#B0BEC5",
                "#B0BEC5",
                "#B0BEC5",
                "#B0BEC5",
                "#B0BEC5",
                "#B0BEC5",
                "#B0BEC5",
                "#B0BEC5",
                "#B0BEC5",
                "#B0BEC5",
                "#B0BEC5",
                "#B0BEC5",
                "#B0BEC5",
                "#B0BEC5",
                "#B0BEC5",
                "#B0BEC5",
                "#B0BEC5",
                "#B0BEC5"
               ]
              ]
             }
            ],
            "label": "Topic 3",
            "method": "update"
           },
           {
            "args": [
             {
              "marker.color": [
               [
                "#B0BEC5",
                "#B0BEC5",
                "#B0BEC5",
                "#B0BEC5",
                "red",
                "#B0BEC5",
                "#B0BEC5",
                "#B0BEC5",
                "#B0BEC5",
                "#B0BEC5",
                "#B0BEC5",
                "#B0BEC5",
                "#B0BEC5",
                "#B0BEC5",
                "#B0BEC5",
                "#B0BEC5",
                "#B0BEC5",
                "#B0BEC5",
                "#B0BEC5",
                "#B0BEC5",
                "#B0BEC5",
                "#B0BEC5",
                "#B0BEC5",
                "#B0BEC5",
                "#B0BEC5",
                "#B0BEC5",
                "#B0BEC5"
               ]
              ]
             }
            ],
            "label": "Topic 4",
            "method": "update"
           },
           {
            "args": [
             {
              "marker.color": [
               [
                "#B0BEC5",
                "#B0BEC5",
                "#B0BEC5",
                "#B0BEC5",
                "#B0BEC5",
                "red",
                "#B0BEC5",
                "#B0BEC5",
                "#B0BEC5",
                "#B0BEC5",
                "#B0BEC5",
                "#B0BEC5",
                "#B0BEC5",
                "#B0BEC5",
                "#B0BEC5",
                "#B0BEC5",
                "#B0BEC5",
                "#B0BEC5",
                "#B0BEC5",
                "#B0BEC5",
                "#B0BEC5",
                "#B0BEC5",
                "#B0BEC5",
                "#B0BEC5",
                "#B0BEC5",
                "#B0BEC5",
                "#B0BEC5"
               ]
              ]
             }
            ],
            "label": "Topic 5",
            "method": "update"
           },
           {
            "args": [
             {
              "marker.color": [
               [
                "#B0BEC5",
                "#B0BEC5",
                "#B0BEC5",
                "#B0BEC5",
                "#B0BEC5",
                "#B0BEC5",
                "red",
                "#B0BEC5",
                "#B0BEC5",
                "#B0BEC5",
                "#B0BEC5",
                "#B0BEC5",
                "#B0BEC5",
                "#B0BEC5",
                "#B0BEC5",
                "#B0BEC5",
                "#B0BEC5",
                "#B0BEC5",
                "#B0BEC5",
                "#B0BEC5",
                "#B0BEC5",
                "#B0BEC5",
                "#B0BEC5",
                "#B0BEC5",
                "#B0BEC5",
                "#B0BEC5",
                "#B0BEC5"
               ]
              ]
             }
            ],
            "label": "Topic 6",
            "method": "update"
           },
           {
            "args": [
             {
              "marker.color": [
               [
                "#B0BEC5",
                "#B0BEC5",
                "#B0BEC5",
                "#B0BEC5",
                "#B0BEC5",
                "#B0BEC5",
                "#B0BEC5",
                "red",
                "#B0BEC5",
                "#B0BEC5",
                "#B0BEC5",
                "#B0BEC5",
                "#B0BEC5",
                "#B0BEC5",
                "#B0BEC5",
                "#B0BEC5",
                "#B0BEC5",
                "#B0BEC5",
                "#B0BEC5",
                "#B0BEC5",
                "#B0BEC5",
                "#B0BEC5",
                "#B0BEC5",
                "#B0BEC5",
                "#B0BEC5",
                "#B0BEC5",
                "#B0BEC5"
               ]
              ]
             }
            ],
            "label": "Topic 7",
            "method": "update"
           },
           {
            "args": [
             {
              "marker.color": [
               [
                "#B0BEC5",
                "#B0BEC5",
                "#B0BEC5",
                "#B0BEC5",
                "#B0BEC5",
                "#B0BEC5",
                "#B0BEC5",
                "#B0BEC5",
                "red",
                "#B0BEC5",
                "#B0BEC5",
                "#B0BEC5",
                "#B0BEC5",
                "#B0BEC5",
                "#B0BEC5",
                "#B0BEC5",
                "#B0BEC5",
                "#B0BEC5",
                "#B0BEC5",
                "#B0BEC5",
                "#B0BEC5",
                "#B0BEC5",
                "#B0BEC5",
                "#B0BEC5",
                "#B0BEC5",
                "#B0BEC5",
                "#B0BEC5"
               ]
              ]
             }
            ],
            "label": "Topic 8",
            "method": "update"
           },
           {
            "args": [
             {
              "marker.color": [
               [
                "#B0BEC5",
                "#B0BEC5",
                "#B0BEC5",
                "#B0BEC5",
                "#B0BEC5",
                "#B0BEC5",
                "#B0BEC5",
                "#B0BEC5",
                "#B0BEC5",
                "red",
                "#B0BEC5",
                "#B0BEC5",
                "#B0BEC5",
                "#B0BEC5",
                "#B0BEC5",
                "#B0BEC5",
                "#B0BEC5",
                "#B0BEC5",
                "#B0BEC5",
                "#B0BEC5",
                "#B0BEC5",
                "#B0BEC5",
                "#B0BEC5",
                "#B0BEC5",
                "#B0BEC5",
                "#B0BEC5",
                "#B0BEC5"
               ]
              ]
             }
            ],
            "label": "Topic 9",
            "method": "update"
           },
           {
            "args": [
             {
              "marker.color": [
               [
                "#B0BEC5",
                "#B0BEC5",
                "#B0BEC5",
                "#B0BEC5",
                "#B0BEC5",
                "#B0BEC5",
                "#B0BEC5",
                "#B0BEC5",
                "#B0BEC5",
                "#B0BEC5",
                "red",
                "#B0BEC5",
                "#B0BEC5",
                "#B0BEC5",
                "#B0BEC5",
                "#B0BEC5",
                "#B0BEC5",
                "#B0BEC5",
                "#B0BEC5",
                "#B0BEC5",
                "#B0BEC5",
                "#B0BEC5",
                "#B0BEC5",
                "#B0BEC5",
                "#B0BEC5",
                "#B0BEC5",
                "#B0BEC5"
               ]
              ]
             }
            ],
            "label": "Topic 10",
            "method": "update"
           },
           {
            "args": [
             {
              "marker.color": [
               [
                "#B0BEC5",
                "#B0BEC5",
                "#B0BEC5",
                "#B0BEC5",
                "#B0BEC5",
                "#B0BEC5",
                "#B0BEC5",
                "#B0BEC5",
                "#B0BEC5",
                "#B0BEC5",
                "#B0BEC5",
                "red",
                "#B0BEC5",
                "#B0BEC5",
                "#B0BEC5",
                "#B0BEC5",
                "#B0BEC5",
                "#B0BEC5",
                "#B0BEC5",
                "#B0BEC5",
                "#B0BEC5",
                "#B0BEC5",
                "#B0BEC5",
                "#B0BEC5",
                "#B0BEC5",
                "#B0BEC5",
                "#B0BEC5"
               ]
              ]
             }
            ],
            "label": "Topic 11",
            "method": "update"
           },
           {
            "args": [
             {
              "marker.color": [
               [
                "#B0BEC5",
                "#B0BEC5",
                "#B0BEC5",
                "#B0BEC5",
                "#B0BEC5",
                "#B0BEC5",
                "#B0BEC5",
                "#B0BEC5",
                "#B0BEC5",
                "#B0BEC5",
                "#B0BEC5",
                "#B0BEC5",
                "red",
                "#B0BEC5",
                "#B0BEC5",
                "#B0BEC5",
                "#B0BEC5",
                "#B0BEC5",
                "#B0BEC5",
                "#B0BEC5",
                "#B0BEC5",
                "#B0BEC5",
                "#B0BEC5",
                "#B0BEC5",
                "#B0BEC5",
                "#B0BEC5",
                "#B0BEC5"
               ]
              ]
             }
            ],
            "label": "Topic 12",
            "method": "update"
           },
           {
            "args": [
             {
              "marker.color": [
               [
                "#B0BEC5",
                "#B0BEC5",
                "#B0BEC5",
                "#B0BEC5",
                "#B0BEC5",
                "#B0BEC5",
                "#B0BEC5",
                "#B0BEC5",
                "#B0BEC5",
                "#B0BEC5",
                "#B0BEC5",
                "#B0BEC5",
                "#B0BEC5",
                "red",
                "#B0BEC5",
                "#B0BEC5",
                "#B0BEC5",
                "#B0BEC5",
                "#B0BEC5",
                "#B0BEC5",
                "#B0BEC5",
                "#B0BEC5",
                "#B0BEC5",
                "#B0BEC5",
                "#B0BEC5",
                "#B0BEC5",
                "#B0BEC5"
               ]
              ]
             }
            ],
            "label": "Topic 13",
            "method": "update"
           },
           {
            "args": [
             {
              "marker.color": [
               [
                "#B0BEC5",
                "#B0BEC5",
                "#B0BEC5",
                "#B0BEC5",
                "#B0BEC5",
                "#B0BEC5",
                "#B0BEC5",
                "#B0BEC5",
                "#B0BEC5",
                "#B0BEC5",
                "#B0BEC5",
                "#B0BEC5",
                "#B0BEC5",
                "#B0BEC5",
                "red",
                "#B0BEC5",
                "#B0BEC5",
                "#B0BEC5",
                "#B0BEC5",
                "#B0BEC5",
                "#B0BEC5",
                "#B0BEC5",
                "#B0BEC5",
                "#B0BEC5",
                "#B0BEC5",
                "#B0BEC5",
                "#B0BEC5"
               ]
              ]
             }
            ],
            "label": "Topic 14",
            "method": "update"
           },
           {
            "args": [
             {
              "marker.color": [
               [
                "#B0BEC5",
                "#B0BEC5",
                "#B0BEC5",
                "#B0BEC5",
                "#B0BEC5",
                "#B0BEC5",
                "#B0BEC5",
                "#B0BEC5",
                "#B0BEC5",
                "#B0BEC5",
                "#B0BEC5",
                "#B0BEC5",
                "#B0BEC5",
                "#B0BEC5",
                "#B0BEC5",
                "red",
                "#B0BEC5",
                "#B0BEC5",
                "#B0BEC5",
                "#B0BEC5",
                "#B0BEC5",
                "#B0BEC5",
                "#B0BEC5",
                "#B0BEC5",
                "#B0BEC5",
                "#B0BEC5",
                "#B0BEC5"
               ]
              ]
             }
            ],
            "label": "Topic 15",
            "method": "update"
           },
           {
            "args": [
             {
              "marker.color": [
               [
                "#B0BEC5",
                "#B0BEC5",
                "#B0BEC5",
                "#B0BEC5",
                "#B0BEC5",
                "#B0BEC5",
                "#B0BEC5",
                "#B0BEC5",
                "#B0BEC5",
                "#B0BEC5",
                "#B0BEC5",
                "#B0BEC5",
                "#B0BEC5",
                "#B0BEC5",
                "#B0BEC5",
                "#B0BEC5",
                "red",
                "#B0BEC5",
                "#B0BEC5",
                "#B0BEC5",
                "#B0BEC5",
                "#B0BEC5",
                "#B0BEC5",
                "#B0BEC5",
                "#B0BEC5",
                "#B0BEC5",
                "#B0BEC5"
               ]
              ]
             }
            ],
            "label": "Topic 16",
            "method": "update"
           },
           {
            "args": [
             {
              "marker.color": [
               [
                "#B0BEC5",
                "#B0BEC5",
                "#B0BEC5",
                "#B0BEC5",
                "#B0BEC5",
                "#B0BEC5",
                "#B0BEC5",
                "#B0BEC5",
                "#B0BEC5",
                "#B0BEC5",
                "#B0BEC5",
                "#B0BEC5",
                "#B0BEC5",
                "#B0BEC5",
                "#B0BEC5",
                "#B0BEC5",
                "#B0BEC5",
                "red",
                "#B0BEC5",
                "#B0BEC5",
                "#B0BEC5",
                "#B0BEC5",
                "#B0BEC5",
                "#B0BEC5",
                "#B0BEC5",
                "#B0BEC5",
                "#B0BEC5"
               ]
              ]
             }
            ],
            "label": "Topic 17",
            "method": "update"
           },
           {
            "args": [
             {
              "marker.color": [
               [
                "#B0BEC5",
                "#B0BEC5",
                "#B0BEC5",
                "#B0BEC5",
                "#B0BEC5",
                "#B0BEC5",
                "#B0BEC5",
                "#B0BEC5",
                "#B0BEC5",
                "#B0BEC5",
                "#B0BEC5",
                "#B0BEC5",
                "#B0BEC5",
                "#B0BEC5",
                "#B0BEC5",
                "#B0BEC5",
                "#B0BEC5",
                "#B0BEC5",
                "red",
                "#B0BEC5",
                "#B0BEC5",
                "#B0BEC5",
                "#B0BEC5",
                "#B0BEC5",
                "#B0BEC5",
                "#B0BEC5",
                "#B0BEC5"
               ]
              ]
             }
            ],
            "label": "Topic 18",
            "method": "update"
           },
           {
            "args": [
             {
              "marker.color": [
               [
                "#B0BEC5",
                "#B0BEC5",
                "#B0BEC5",
                "#B0BEC5",
                "#B0BEC5",
                "#B0BEC5",
                "#B0BEC5",
                "#B0BEC5",
                "#B0BEC5",
                "#B0BEC5",
                "#B0BEC5",
                "#B0BEC5",
                "#B0BEC5",
                "#B0BEC5",
                "#B0BEC5",
                "#B0BEC5",
                "#B0BEC5",
                "#B0BEC5",
                "#B0BEC5",
                "red",
                "#B0BEC5",
                "#B0BEC5",
                "#B0BEC5",
                "#B0BEC5",
                "#B0BEC5",
                "#B0BEC5",
                "#B0BEC5"
               ]
              ]
             }
            ],
            "label": "Topic 19",
            "method": "update"
           },
           {
            "args": [
             {
              "marker.color": [
               [
                "#B0BEC5",
                "#B0BEC5",
                "#B0BEC5",
                "#B0BEC5",
                "#B0BEC5",
                "#B0BEC5",
                "#B0BEC5",
                "#B0BEC5",
                "#B0BEC5",
                "#B0BEC5",
                "#B0BEC5",
                "#B0BEC5",
                "#B0BEC5",
                "#B0BEC5",
                "#B0BEC5",
                "#B0BEC5",
                "#B0BEC5",
                "#B0BEC5",
                "#B0BEC5",
                "#B0BEC5",
                "red",
                "#B0BEC5",
                "#B0BEC5",
                "#B0BEC5",
                "#B0BEC5",
                "#B0BEC5",
                "#B0BEC5"
               ]
              ]
             }
            ],
            "label": "Topic 20",
            "method": "update"
           },
           {
            "args": [
             {
              "marker.color": [
               [
                "#B0BEC5",
                "#B0BEC5",
                "#B0BEC5",
                "#B0BEC5",
                "#B0BEC5",
                "#B0BEC5",
                "#B0BEC5",
                "#B0BEC5",
                "#B0BEC5",
                "#B0BEC5",
                "#B0BEC5",
                "#B0BEC5",
                "#B0BEC5",
                "#B0BEC5",
                "#B0BEC5",
                "#B0BEC5",
                "#B0BEC5",
                "#B0BEC5",
                "#B0BEC5",
                "#B0BEC5",
                "#B0BEC5",
                "red",
                "#B0BEC5",
                "#B0BEC5",
                "#B0BEC5",
                "#B0BEC5",
                "#B0BEC5"
               ]
              ]
             }
            ],
            "label": "Topic 21",
            "method": "update"
           },
           {
            "args": [
             {
              "marker.color": [
               [
                "#B0BEC5",
                "#B0BEC5",
                "#B0BEC5",
                "#B0BEC5",
                "#B0BEC5",
                "#B0BEC5",
                "#B0BEC5",
                "#B0BEC5",
                "#B0BEC5",
                "#B0BEC5",
                "#B0BEC5",
                "#B0BEC5",
                "#B0BEC5",
                "#B0BEC5",
                "#B0BEC5",
                "#B0BEC5",
                "#B0BEC5",
                "#B0BEC5",
                "#B0BEC5",
                "#B0BEC5",
                "#B0BEC5",
                "#B0BEC5",
                "red",
                "#B0BEC5",
                "#B0BEC5",
                "#B0BEC5",
                "#B0BEC5"
               ]
              ]
             }
            ],
            "label": "Topic 22",
            "method": "update"
           },
           {
            "args": [
             {
              "marker.color": [
               [
                "#B0BEC5",
                "#B0BEC5",
                "#B0BEC5",
                "#B0BEC5",
                "#B0BEC5",
                "#B0BEC5",
                "#B0BEC5",
                "#B0BEC5",
                "#B0BEC5",
                "#B0BEC5",
                "#B0BEC5",
                "#B0BEC5",
                "#B0BEC5",
                "#B0BEC5",
                "#B0BEC5",
                "#B0BEC5",
                "#B0BEC5",
                "#B0BEC5",
                "#B0BEC5",
                "#B0BEC5",
                "#B0BEC5",
                "#B0BEC5",
                "#B0BEC5",
                "red",
                "#B0BEC5",
                "#B0BEC5",
                "#B0BEC5"
               ]
              ]
             }
            ],
            "label": "Topic 23",
            "method": "update"
           },
           {
            "args": [
             {
              "marker.color": [
               [
                "#B0BEC5",
                "#B0BEC5",
                "#B0BEC5",
                "#B0BEC5",
                "#B0BEC5",
                "#B0BEC5",
                "#B0BEC5",
                "#B0BEC5",
                "#B0BEC5",
                "#B0BEC5",
                "#B0BEC5",
                "#B0BEC5",
                "#B0BEC5",
                "#B0BEC5",
                "#B0BEC5",
                "#B0BEC5",
                "#B0BEC5",
                "#B0BEC5",
                "#B0BEC5",
                "#B0BEC5",
                "#B0BEC5",
                "#B0BEC5",
                "#B0BEC5",
                "#B0BEC5",
                "red",
                "#B0BEC5",
                "#B0BEC5"
               ]
              ]
             }
            ],
            "label": "Topic 24",
            "method": "update"
           },
           {
            "args": [
             {
              "marker.color": [
               [
                "#B0BEC5",
                "#B0BEC5",
                "#B0BEC5",
                "#B0BEC5",
                "#B0BEC5",
                "#B0BEC5",
                "#B0BEC5",
                "#B0BEC5",
                "#B0BEC5",
                "#B0BEC5",
                "#B0BEC5",
                "#B0BEC5",
                "#B0BEC5",
                "#B0BEC5",
                "#B0BEC5",
                "#B0BEC5",
                "#B0BEC5",
                "#B0BEC5",
                "#B0BEC5",
                "#B0BEC5",
                "#B0BEC5",
                "#B0BEC5",
                "#B0BEC5",
                "#B0BEC5",
                "#B0BEC5",
                "red",
                "#B0BEC5"
               ]
              ]
             }
            ],
            "label": "Topic 25",
            "method": "update"
           },
           {
            "args": [
             {
              "marker.color": [
               [
                "#B0BEC5",
                "#B0BEC5",
                "#B0BEC5",
                "#B0BEC5",
                "#B0BEC5",
                "#B0BEC5",
                "#B0BEC5",
                "#B0BEC5",
                "#B0BEC5",
                "#B0BEC5",
                "#B0BEC5",
                "#B0BEC5",
                "#B0BEC5",
                "#B0BEC5",
                "#B0BEC5",
                "#B0BEC5",
                "#B0BEC5",
                "#B0BEC5",
                "#B0BEC5",
                "#B0BEC5",
                "#B0BEC5",
                "#B0BEC5",
                "#B0BEC5",
                "#B0BEC5",
                "#B0BEC5",
                "#B0BEC5",
                "red"
               ]
              ]
             }
            ],
            "label": "Topic 26",
            "method": "update"
           }
          ]
         }
        ],
        "template": {
         "data": {
          "bar": [
           {
            "error_x": {
             "color": "rgb(36,36,36)"
            },
            "error_y": {
             "color": "rgb(36,36,36)"
            },
            "marker": {
             "line": {
              "color": "white",
              "width": 0.5
             },
             "pattern": {
              "fillmode": "overlay",
              "size": 10,
              "solidity": 0.2
             }
            },
            "type": "bar"
           }
          ],
          "barpolar": [
           {
            "marker": {
             "line": {
              "color": "white",
              "width": 0.5
             },
             "pattern": {
              "fillmode": "overlay",
              "size": 10,
              "solidity": 0.2
             }
            },
            "type": "barpolar"
           }
          ],
          "carpet": [
           {
            "aaxis": {
             "endlinecolor": "rgb(36,36,36)",
             "gridcolor": "white",
             "linecolor": "white",
             "minorgridcolor": "white",
             "startlinecolor": "rgb(36,36,36)"
            },
            "baxis": {
             "endlinecolor": "rgb(36,36,36)",
             "gridcolor": "white",
             "linecolor": "white",
             "minorgridcolor": "white",
             "startlinecolor": "rgb(36,36,36)"
            },
            "type": "carpet"
           }
          ],
          "choropleth": [
           {
            "colorbar": {
             "outlinewidth": 1,
             "tickcolor": "rgb(36,36,36)",
             "ticks": "outside"
            },
            "type": "choropleth"
           }
          ],
          "contour": [
           {
            "colorbar": {
             "outlinewidth": 1,
             "tickcolor": "rgb(36,36,36)",
             "ticks": "outside"
            },
            "colorscale": [
             [
              0,
              "#440154"
             ],
             [
              0.1111111111111111,
              "#482878"
             ],
             [
              0.2222222222222222,
              "#3e4989"
             ],
             [
              0.3333333333333333,
              "#31688e"
             ],
             [
              0.4444444444444444,
              "#26828e"
             ],
             [
              0.5555555555555556,
              "#1f9e89"
             ],
             [
              0.6666666666666666,
              "#35b779"
             ],
             [
              0.7777777777777778,
              "#6ece58"
             ],
             [
              0.8888888888888888,
              "#b5de2b"
             ],
             [
              1,
              "#fde725"
             ]
            ],
            "type": "contour"
           }
          ],
          "contourcarpet": [
           {
            "colorbar": {
             "outlinewidth": 1,
             "tickcolor": "rgb(36,36,36)",
             "ticks": "outside"
            },
            "type": "contourcarpet"
           }
          ],
          "heatmap": [
           {
            "colorbar": {
             "outlinewidth": 1,
             "tickcolor": "rgb(36,36,36)",
             "ticks": "outside"
            },
            "colorscale": [
             [
              0,
              "#440154"
             ],
             [
              0.1111111111111111,
              "#482878"
             ],
             [
              0.2222222222222222,
              "#3e4989"
             ],
             [
              0.3333333333333333,
              "#31688e"
             ],
             [
              0.4444444444444444,
              "#26828e"
             ],
             [
              0.5555555555555556,
              "#1f9e89"
             ],
             [
              0.6666666666666666,
              "#35b779"
             ],
             [
              0.7777777777777778,
              "#6ece58"
             ],
             [
              0.8888888888888888,
              "#b5de2b"
             ],
             [
              1,
              "#fde725"
             ]
            ],
            "type": "heatmap"
           }
          ],
          "heatmapgl": [
           {
            "colorbar": {
             "outlinewidth": 1,
             "tickcolor": "rgb(36,36,36)",
             "ticks": "outside"
            },
            "colorscale": [
             [
              0,
              "#440154"
             ],
             [
              0.1111111111111111,
              "#482878"
             ],
             [
              0.2222222222222222,
              "#3e4989"
             ],
             [
              0.3333333333333333,
              "#31688e"
             ],
             [
              0.4444444444444444,
              "#26828e"
             ],
             [
              0.5555555555555556,
              "#1f9e89"
             ],
             [
              0.6666666666666666,
              "#35b779"
             ],
             [
              0.7777777777777778,
              "#6ece58"
             ],
             [
              0.8888888888888888,
              "#b5de2b"
             ],
             [
              1,
              "#fde725"
             ]
            ],
            "type": "heatmapgl"
           }
          ],
          "histogram": [
           {
            "marker": {
             "line": {
              "color": "white",
              "width": 0.6
             }
            },
            "type": "histogram"
           }
          ],
          "histogram2d": [
           {
            "colorbar": {
             "outlinewidth": 1,
             "tickcolor": "rgb(36,36,36)",
             "ticks": "outside"
            },
            "colorscale": [
             [
              0,
              "#440154"
             ],
             [
              0.1111111111111111,
              "#482878"
             ],
             [
              0.2222222222222222,
              "#3e4989"
             ],
             [
              0.3333333333333333,
              "#31688e"
             ],
             [
              0.4444444444444444,
              "#26828e"
             ],
             [
              0.5555555555555556,
              "#1f9e89"
             ],
             [
              0.6666666666666666,
              "#35b779"
             ],
             [
              0.7777777777777778,
              "#6ece58"
             ],
             [
              0.8888888888888888,
              "#b5de2b"
             ],
             [
              1,
              "#fde725"
             ]
            ],
            "type": "histogram2d"
           }
          ],
          "histogram2dcontour": [
           {
            "colorbar": {
             "outlinewidth": 1,
             "tickcolor": "rgb(36,36,36)",
             "ticks": "outside"
            },
            "colorscale": [
             [
              0,
              "#440154"
             ],
             [
              0.1111111111111111,
              "#482878"
             ],
             [
              0.2222222222222222,
              "#3e4989"
             ],
             [
              0.3333333333333333,
              "#31688e"
             ],
             [
              0.4444444444444444,
              "#26828e"
             ],
             [
              0.5555555555555556,
              "#1f9e89"
             ],
             [
              0.6666666666666666,
              "#35b779"
             ],
             [
              0.7777777777777778,
              "#6ece58"
             ],
             [
              0.8888888888888888,
              "#b5de2b"
             ],
             [
              1,
              "#fde725"
             ]
            ],
            "type": "histogram2dcontour"
           }
          ],
          "mesh3d": [
           {
            "colorbar": {
             "outlinewidth": 1,
             "tickcolor": "rgb(36,36,36)",
             "ticks": "outside"
            },
            "type": "mesh3d"
           }
          ],
          "parcoords": [
           {
            "line": {
             "colorbar": {
              "outlinewidth": 1,
              "tickcolor": "rgb(36,36,36)",
              "ticks": "outside"
             }
            },
            "type": "parcoords"
           }
          ],
          "pie": [
           {
            "automargin": true,
            "type": "pie"
           }
          ],
          "scatter": [
           {
            "fillpattern": {
             "fillmode": "overlay",
             "size": 10,
             "solidity": 0.2
            },
            "type": "scatter"
           }
          ],
          "scatter3d": [
           {
            "line": {
             "colorbar": {
              "outlinewidth": 1,
              "tickcolor": "rgb(36,36,36)",
              "ticks": "outside"
             }
            },
            "marker": {
             "colorbar": {
              "outlinewidth": 1,
              "tickcolor": "rgb(36,36,36)",
              "ticks": "outside"
             }
            },
            "type": "scatter3d"
           }
          ],
          "scattercarpet": [
           {
            "marker": {
             "colorbar": {
              "outlinewidth": 1,
              "tickcolor": "rgb(36,36,36)",
              "ticks": "outside"
             }
            },
            "type": "scattercarpet"
           }
          ],
          "scattergeo": [
           {
            "marker": {
             "colorbar": {
              "outlinewidth": 1,
              "tickcolor": "rgb(36,36,36)",
              "ticks": "outside"
             }
            },
            "type": "scattergeo"
           }
          ],
          "scattergl": [
           {
            "marker": {
             "colorbar": {
              "outlinewidth": 1,
              "tickcolor": "rgb(36,36,36)",
              "ticks": "outside"
             }
            },
            "type": "scattergl"
           }
          ],
          "scattermapbox": [
           {
            "marker": {
             "colorbar": {
              "outlinewidth": 1,
              "tickcolor": "rgb(36,36,36)",
              "ticks": "outside"
             }
            },
            "type": "scattermapbox"
           }
          ],
          "scatterpolar": [
           {
            "marker": {
             "colorbar": {
              "outlinewidth": 1,
              "tickcolor": "rgb(36,36,36)",
              "ticks": "outside"
             }
            },
            "type": "scatterpolar"
           }
          ],
          "scatterpolargl": [
           {
            "marker": {
             "colorbar": {
              "outlinewidth": 1,
              "tickcolor": "rgb(36,36,36)",
              "ticks": "outside"
             }
            },
            "type": "scatterpolargl"
           }
          ],
          "scatterternary": [
           {
            "marker": {
             "colorbar": {
              "outlinewidth": 1,
              "tickcolor": "rgb(36,36,36)",
              "ticks": "outside"
             }
            },
            "type": "scatterternary"
           }
          ],
          "surface": [
           {
            "colorbar": {
             "outlinewidth": 1,
             "tickcolor": "rgb(36,36,36)",
             "ticks": "outside"
            },
            "colorscale": [
             [
              0,
              "#440154"
             ],
             [
              0.1111111111111111,
              "#482878"
             ],
             [
              0.2222222222222222,
              "#3e4989"
             ],
             [
              0.3333333333333333,
              "#31688e"
             ],
             [
              0.4444444444444444,
              "#26828e"
             ],
             [
              0.5555555555555556,
              "#1f9e89"
             ],
             [
              0.6666666666666666,
              "#35b779"
             ],
             [
              0.7777777777777778,
              "#6ece58"
             ],
             [
              0.8888888888888888,
              "#b5de2b"
             ],
             [
              1,
              "#fde725"
             ]
            ],
            "type": "surface"
           }
          ],
          "table": [
           {
            "cells": {
             "fill": {
              "color": "rgb(237,237,237)"
             },
             "line": {
              "color": "white"
             }
            },
            "header": {
             "fill": {
              "color": "rgb(217,217,217)"
             },
             "line": {
              "color": "white"
             }
            },
            "type": "table"
           }
          ]
         },
         "layout": {
          "annotationdefaults": {
           "arrowhead": 0,
           "arrowwidth": 1
          },
          "autotypenumbers": "strict",
          "coloraxis": {
           "colorbar": {
            "outlinewidth": 1,
            "tickcolor": "rgb(36,36,36)",
            "ticks": "outside"
           }
          },
          "colorscale": {
           "diverging": [
            [
             0,
             "rgb(103,0,31)"
            ],
            [
             0.1,
             "rgb(178,24,43)"
            ],
            [
             0.2,
             "rgb(214,96,77)"
            ],
            [
             0.3,
             "rgb(244,165,130)"
            ],
            [
             0.4,
             "rgb(253,219,199)"
            ],
            [
             0.5,
             "rgb(247,247,247)"
            ],
            [
             0.6,
             "rgb(209,229,240)"
            ],
            [
             0.7,
             "rgb(146,197,222)"
            ],
            [
             0.8,
             "rgb(67,147,195)"
            ],
            [
             0.9,
             "rgb(33,102,172)"
            ],
            [
             1,
             "rgb(5,48,97)"
            ]
           ],
           "sequential": [
            [
             0,
             "#440154"
            ],
            [
             0.1111111111111111,
             "#482878"
            ],
            [
             0.2222222222222222,
             "#3e4989"
            ],
            [
             0.3333333333333333,
             "#31688e"
            ],
            [
             0.4444444444444444,
             "#26828e"
            ],
            [
             0.5555555555555556,
             "#1f9e89"
            ],
            [
             0.6666666666666666,
             "#35b779"
            ],
            [
             0.7777777777777778,
             "#6ece58"
            ],
            [
             0.8888888888888888,
             "#b5de2b"
            ],
            [
             1,
             "#fde725"
            ]
           ],
           "sequentialminus": [
            [
             0,
             "#440154"
            ],
            [
             0.1111111111111111,
             "#482878"
            ],
            [
             0.2222222222222222,
             "#3e4989"
            ],
            [
             0.3333333333333333,
             "#31688e"
            ],
            [
             0.4444444444444444,
             "#26828e"
            ],
            [
             0.5555555555555556,
             "#1f9e89"
            ],
            [
             0.6666666666666666,
             "#35b779"
            ],
            [
             0.7777777777777778,
             "#6ece58"
            ],
            [
             0.8888888888888888,
             "#b5de2b"
            ],
            [
             1,
             "#fde725"
            ]
           ]
          },
          "colorway": [
           "#1F77B4",
           "#FF7F0E",
           "#2CA02C",
           "#D62728",
           "#9467BD",
           "#8C564B",
           "#E377C2",
           "#7F7F7F",
           "#BCBD22",
           "#17BECF"
          ],
          "font": {
           "color": "rgb(36,36,36)"
          },
          "geo": {
           "bgcolor": "white",
           "lakecolor": "white",
           "landcolor": "white",
           "showlakes": true,
           "showland": true,
           "subunitcolor": "white"
          },
          "hoverlabel": {
           "align": "left"
          },
          "hovermode": "closest",
          "mapbox": {
           "style": "light"
          },
          "paper_bgcolor": "white",
          "plot_bgcolor": "white",
          "polar": {
           "angularaxis": {
            "gridcolor": "rgb(232,232,232)",
            "linecolor": "rgb(36,36,36)",
            "showgrid": false,
            "showline": true,
            "ticks": "outside"
           },
           "bgcolor": "white",
           "radialaxis": {
            "gridcolor": "rgb(232,232,232)",
            "linecolor": "rgb(36,36,36)",
            "showgrid": false,
            "showline": true,
            "ticks": "outside"
           }
          },
          "scene": {
           "xaxis": {
            "backgroundcolor": "white",
            "gridcolor": "rgb(232,232,232)",
            "gridwidth": 2,
            "linecolor": "rgb(36,36,36)",
            "showbackground": true,
            "showgrid": false,
            "showline": true,
            "ticks": "outside",
            "zeroline": false,
            "zerolinecolor": "rgb(36,36,36)"
           },
           "yaxis": {
            "backgroundcolor": "white",
            "gridcolor": "rgb(232,232,232)",
            "gridwidth": 2,
            "linecolor": "rgb(36,36,36)",
            "showbackground": true,
            "showgrid": false,
            "showline": true,
            "ticks": "outside",
            "zeroline": false,
            "zerolinecolor": "rgb(36,36,36)"
           },
           "zaxis": {
            "backgroundcolor": "white",
            "gridcolor": "rgb(232,232,232)",
            "gridwidth": 2,
            "linecolor": "rgb(36,36,36)",
            "showbackground": true,
            "showgrid": false,
            "showline": true,
            "ticks": "outside",
            "zeroline": false,
            "zerolinecolor": "rgb(36,36,36)"
           }
          },
          "shapedefaults": {
           "fillcolor": "black",
           "line": {
            "width": 0
           },
           "opacity": 0.3
          },
          "ternary": {
           "aaxis": {
            "gridcolor": "rgb(232,232,232)",
            "linecolor": "rgb(36,36,36)",
            "showgrid": false,
            "showline": true,
            "ticks": "outside"
           },
           "baxis": {
            "gridcolor": "rgb(232,232,232)",
            "linecolor": "rgb(36,36,36)",
            "showgrid": false,
            "showline": true,
            "ticks": "outside"
           },
           "bgcolor": "white",
           "caxis": {
            "gridcolor": "rgb(232,232,232)",
            "linecolor": "rgb(36,36,36)",
            "showgrid": false,
            "showline": true,
            "ticks": "outside"
           }
          },
          "title": {
           "x": 0.05
          },
          "xaxis": {
           "automargin": true,
           "gridcolor": "rgb(232,232,232)",
           "linecolor": "rgb(36,36,36)",
           "showgrid": false,
           "showline": true,
           "ticks": "outside",
           "title": {
            "standoff": 15
           },
           "zeroline": false,
           "zerolinecolor": "rgb(36,36,36)"
          },
          "yaxis": {
           "automargin": true,
           "gridcolor": "rgb(232,232,232)",
           "linecolor": "rgb(36,36,36)",
           "showgrid": false,
           "showline": true,
           "ticks": "outside",
           "title": {
            "standoff": 15
           },
           "zeroline": false,
           "zerolinecolor": "rgb(36,36,36)"
          }
         }
        },
        "title": {
         "font": {
          "color": "Black",
          "size": 22
         },
         "text": "<b>Intertopic Distance Map</b>",
         "x": 0.5,
         "xanchor": "center",
         "y": 0.95,
         "yanchor": "top"
        },
        "width": 650,
        "xaxis": {
         "anchor": "y",
         "domain": [
          0,
          1
         ],
         "range": [
          -6.7640318155288695,
          19.94968843460083
         ],
         "title": {
          "text": ""
         },
         "visible": false
        },
        "yaxis": {
         "anchor": "x",
         "domain": [
          0,
          1
         ],
         "range": [
          -18.906680583953857,
          25.728876686096193
         ],
         "title": {
          "text": ""
         },
         "visible": false
        }
       }
      }
     },
     "metadata": {},
     "output_type": "display_data"
    }
   ],
   "source": [
    "# 부정 리뷰 토픽 관계도 시각화\n",
    "topic_model_negative.visualize_topics()"
   ]
  },
  {
   "cell_type": "code",
   "execution_count": 14,
   "metadata": {},
   "outputs": [
    {
     "name": "stdout",
     "output_type": "stream",
     "text": [
      "CSV 파일이 저장되었습니다: destiny2_positive_topics_withnum.csv\n"
     ]
    }
   ],
   "source": [
    "import pandas as pd\n",
    "import re\n",
    "from bertopic import BERTopic\n",
    "\n",
    "# topic_model_positive 파일을 로드 (예제 코드에서는 이미 메모리에 있다고 가정)\n",
    "# topic_model_positive = BERTopic.load(\"path_to_your_model\")\n",
    "\n",
    "# 토픽 정보 추출\n",
    "topics = topic_model_positive.get_topics()\n",
    "\n",
    "# 토픽 데이터 정리\n",
    "data = []\n",
    "for topic_num, words in topics.items():\n",
    "    keywords = [re.sub(r'\\(.*?\\)', '', word[0]).strip() for word in words]  # 숫자 제거\n",
    "    weights = [word[1] for word in words]  # 숫자(가중치) 추가\n",
    "    data.append([topic_num, ', '.join(keywords), ', '.join(map(str, weights))])\n",
    "\n",
    "# DataFrame 생성\n",
    "df = pd.DataFrame(data, columns=[\"Topic\", \"Keywords\", \"Weights\"])\n",
    "\n",
    "# CSV 저장\n",
    "csv_filename = \"destiny2_positive_topics_withnum.csv\"\n",
    "df.to_csv(csv_filename, index=False, encoding=\"utf-8\")\n",
    "\n",
    "print(f\"CSV 파일이 저장되었습니다: {csv_filename}\")\n"
   ]
  },
  {
   "cell_type": "code",
   "execution_count": 15,
   "metadata": {},
   "outputs": [
    {
     "data": {
      "application/vnd.plotly.v1+json": {
       "config": {
        "plotlyServerURL": "https://plot.ly"
       },
       "data": [
        {
         "marker": {
          "color": "#D55E00"
         },
         "orientation": "h",
         "type": "bar",
         "x": [
          0.010902878204841695,
          0.011179340759426115,
          0.012033344113092564,
          0.012255329292324943,
          0.04471613442847865
         ],
         "xaxis": "x",
         "y": [
          "that  ",
          "the  ",
          "and  ",
          "is  ",
          "destiny  "
         ],
         "yaxis": "y"
        },
        {
         "marker": {
          "color": "#0072B2"
         },
         "orientation": "h",
         "type": "bar",
         "x": [
          0.019154884823327386,
          0.027216048410687636,
          0.03328287788049399,
          0.04113317418760803,
          0.06964247886371094
         ],
         "xaxis": "x2",
         "y": [
          "have  ",
          "fun  ",
          "play  ",
          "with  ",
          "friends  "
         ],
         "yaxis": "y2"
        },
        {
         "marker": {
          "color": "#CC79A7"
         },
         "orientation": "h",
         "type": "bar",
         "x": [
          0.00001,
          0.00001,
          0.00001,
          0.00001,
          6.3578422665081
         ],
         "xaxis": "x3",
         "y": [
          "  ",
          "  ",
          "  ",
          "  ",
          "ooo  "
         ],
         "yaxis": "y3"
        },
        {
         "marker": {
          "color": "#E69F00"
         },
         "orientation": "h",
         "type": "bar",
         "x": [
          0.015396826081415748,
          0.016557558134275303,
          0.016984984825798195,
          0.07924447911601182,
          0.08372987069333734
         ],
         "xaxis": "x4",
         "y": [
          "in  ",
          "both  ",
          "side  ",
          "pvp  ",
          "pve  "
         ],
         "yaxis": "y4"
        },
        {
         "marker": {
          "color": "#56B4E9"
         },
         "orientation": "h",
         "type": "bar",
         "x": [
          0.01492645320354511,
          0.015168558393516121,
          0.019497459723649007,
          0.051826824452169,
          0.05909578307490741
         ],
         "xaxis": "x5",
         "y": [
          "is  ",
          "line  ",
          "the  ",
          "lore  ",
          "story  "
         ],
         "yaxis": "y5"
        },
        {
         "marker": {
          "color": "#009E73"
         },
         "orientation": "h",
         "type": "bar",
         "x": [
          0.03501396511706961,
          0.03607248474046924,
          0.04389677925777354,
          0.04584558963474573,
          0.09049388587088715
         ],
         "xaxis": "x6",
         "y": [
          "beautiful  ",
          "stunning  ",
          "sound  ",
          "design  ",
          "graphics  "
         ],
         "yaxis": "y6"
        },
        {
         "marker": {
          "color": "#F0E442"
         },
         "orientation": "h",
         "type": "bar",
         "x": [
          0.024000853145499577,
          0.02650217383891301,
          0.038357123119539094,
          0.03923933398996019,
          0.08628233608466175
         ],
         "xaxis": "x7",
         "y": [
          "shoot  ",
          "shooting  ",
          "gun  ",
          "guns  ",
          "gunplay  "
         ],
         "yaxis": "y7"
        },
        {
         "marker": {
          "color": "#D55E00"
         },
         "orientation": "h",
         "type": "bar",
         "x": [
          0.025041973650838684,
          0.026453777667433672,
          0.030537491766476122,
          0.03137890881056228,
          0.10538353106053121
         ],
         "xaxis": "x8",
         "y": [
          "now  ",
          "play  ",
          "its  ",
          "try  ",
          "free  "
         ],
         "yaxis": "y8"
        },
        {
         "marker": {
          "color": "#0072B2"
         },
         "orientation": "h",
         "type": "bar",
         "x": [
          0.021144114378370025,
          0.022924329105015535,
          0.032118374845121284,
          0.047697194344380744,
          0.07444653857034254
         ],
         "xaxis": "x9",
         "y": [
          "you  ",
          "if  ",
          "buy  ",
          "dlcs  ",
          "dlc  "
         ],
         "yaxis": "y9"
        },
        {
         "marker": {
          "color": "#CC79A7"
         },
         "orientation": "h",
         "type": "bar",
         "x": [
          0.01453475801571592,
          0.015566196829398467,
          0.016446858638679614,
          0.028157584582546587,
          0.09296966849055426
         ],
         "xaxis": "x10",
         "y": [
          "from  ",
          "they  ",
          "activision  ",
          "has  ",
          "bungie  "
         ],
         "yaxis": "y10"
        },
        {
         "marker": {
          "color": "#E69F00"
         },
         "orientation": "h",
         "type": "bar",
         "x": [
          0.04779390450819258,
          0.05573305663067633,
          0.06647626915054484,
          0.08070361017730034,
          0.09869175173853349
         ],
         "xaxis": "x11",
         "y": [
          "played  ",
          "one  ",
          "games  ",
          "best  ",
          "ever  "
         ],
         "yaxis": "y11"
        },
        {
         "marker": {
          "color": "#56B4E9"
         },
         "orientation": "h",
         "type": "bar",
         "x": [
          0.076269536523801,
          0.07783640596221253,
          0.10525380377809772,
          0.127156845330162,
          2.077551520983859
         ],
         "xaxis": "x12",
         "y": [
          "hell  ",
          "please  ",
          "uh  ",
          "yessssssssssssssssssssssssssssssssssssssssssssssssssssssssssss  ",
          "yes  "
         ],
         "yaxis": "y12"
        },
        {
         "marker": {
          "color": "#009E73"
         },
         "orientation": "h",
         "type": "bar",
         "x": [
          0.024232536424384055,
          0.026393088016050684,
          0.030561071295667923,
          0.04894545618898348,
          0.06305510131322904
         ],
         "xaxis": "x13",
         "y": [
          "recommend  ",
          "shooter  ",
          "rpg  ",
          "mmo  ",
          "fps  "
         ],
         "yaxis": "y13"
        },
        {
         "marker": {
          "color": "#F0E442"
         },
         "orientation": "h",
         "type": "bar",
         "x": [
          0.021988514325864097,
          0.05184140417050872,
          0.08748108450206357,
          0.14634027369643599,
          0.14634027369643599
         ],
         "xaxis": "x14",
         "y": [
          "sexy  ",
          "for  ",
          "free  ",
          "received  ",
          "product  "
         ],
         "yaxis": "y14"
        },
        {
         "marker": {
          "color": "#D55E00"
         },
         "orientation": "h",
         "type": "bar",
         "x": [
          0.025690011770499236,
          0.025748557521218796,
          0.030898269025462558,
          0.11801838172106077,
          0.15171949430574122
         ],
         "xaxis": "x15",
         "y": [
          "best  ",
          "mmo  ",
          "shooters  ",
          "shooter  ",
          "looter  "
         ],
         "yaxis": "y15"
        },
        {
         "marker": {
          "color": "#0072B2"
         },
         "orientation": "h",
         "type": "bar",
         "x": [
          0.02069458396751472,
          0.021219279815766615,
          0.026745149822142288,
          0.03329160532808128,
          0.07150547865531486
         ],
         "xaxis": "x16",
         "y": [
          "friends  ",
          "with  ",
          "are  ",
          "raid  ",
          "raids  "
         ],
         "yaxis": "y16"
        },
        {
         "marker": {
          "color": "#CC79A7"
         },
         "orientation": "h",
         "type": "bar",
         "x": [
          0.026556931301410687,
          0.04183235035279223,
          0.05367580680957631,
          0.059094135937366565,
          0.07245633737958523
         ],
         "xaxis": "x17",
         "y": [
          "never  ",
          "stops  ",
          "grindy  ",
          "grinding  ",
          "grind  "
         ],
         "yaxis": "y17"
        },
        {
         "marker": {
          "color": "#E69F00"
         },
         "orientation": "h",
         "type": "bar",
         "x": [
          0.045998757794993246,
          0.06728487101790029,
          0.08111402146464022,
          0.11132623685769358,
          0.11391289992627635
         ],
         "xaxis": "x18",
         "y": [
          "luck  ",
          "guardian  ",
          "beyond  ",
          "guardians  ",
          "light  "
         ],
         "yaxis": "y18"
        },
        {
         "marker": {
          "color": "#56B4E9"
         },
         "orientation": "h",
         "type": "bar",
         "x": [
          0.00001,
          1.3156725472262214,
          1.589460566627025,
          1.589460566627025,
          1.589460566627025
         ],
         "xaxis": "x19",
         "y": [
          "  ",
          "rise  ",
          "ahhhh  ",
          "boop  ",
          "hooray  "
         ],
         "yaxis": "y19"
        },
        {
         "marker": {
          "color": "#009E73"
         },
         "orientation": "h",
         "type": "bar",
         "x": [
          0.09939017309275325,
          0.13904130738918735,
          0.15137719682162143,
          0.2840806819306947,
          0.4221379187287495
         ],
         "xaxis": "x20",
         "y": [
          "damn  ",
          "great  ",
          "niiiice  ",
          "wow  ",
          "good  "
         ],
         "yaxis": "y20"
        }
       ],
       "layout": {
        "annotations": [
         {
          "font": {
           "size": 16
          },
          "showarrow": false,
          "text": "Topic 0",
          "x": 0.0875,
          "xanchor": "center",
          "xref": "paper",
          "y": 0.9999999999999999,
          "yanchor": "bottom",
          "yref": "paper"
         },
         {
          "font": {
           "size": 16
          },
          "showarrow": false,
          "text": "Topic 1",
          "x": 0.36250000000000004,
          "xanchor": "center",
          "xref": "paper",
          "y": 0.9999999999999999,
          "yanchor": "bottom",
          "yref": "paper"
         },
         {
          "font": {
           "size": 16
          },
          "showarrow": false,
          "text": "Topic 2",
          "x": 0.6375000000000001,
          "xanchor": "center",
          "xref": "paper",
          "y": 0.9999999999999999,
          "yanchor": "bottom",
          "yref": "paper"
         },
         {
          "font": {
           "size": 16
          },
          "showarrow": false,
          "text": "Topic 3",
          "x": 0.9125,
          "xanchor": "center",
          "xref": "paper",
          "y": 0.9999999999999999,
          "yanchor": "bottom",
          "yref": "paper"
         },
         {
          "font": {
           "size": 16
          },
          "showarrow": false,
          "text": "Topic 4",
          "x": 0.0875,
          "xanchor": "center",
          "xref": "paper",
          "y": 0.7839999999999999,
          "yanchor": "bottom",
          "yref": "paper"
         },
         {
          "font": {
           "size": 16
          },
          "showarrow": false,
          "text": "Topic 5",
          "x": 0.36250000000000004,
          "xanchor": "center",
          "xref": "paper",
          "y": 0.7839999999999999,
          "yanchor": "bottom",
          "yref": "paper"
         },
         {
          "font": {
           "size": 16
          },
          "showarrow": false,
          "text": "Topic 6",
          "x": 0.6375000000000001,
          "xanchor": "center",
          "xref": "paper",
          "y": 0.7839999999999999,
          "yanchor": "bottom",
          "yref": "paper"
         },
         {
          "font": {
           "size": 16
          },
          "showarrow": false,
          "text": "Topic 7",
          "x": 0.9125,
          "xanchor": "center",
          "xref": "paper",
          "y": 0.7839999999999999,
          "yanchor": "bottom",
          "yref": "paper"
         },
         {
          "font": {
           "size": 16
          },
          "showarrow": false,
          "text": "Topic 8",
          "x": 0.0875,
          "xanchor": "center",
          "xref": "paper",
          "y": 0.568,
          "yanchor": "bottom",
          "yref": "paper"
         },
         {
          "font": {
           "size": 16
          },
          "showarrow": false,
          "text": "Topic 9",
          "x": 0.36250000000000004,
          "xanchor": "center",
          "xref": "paper",
          "y": 0.568,
          "yanchor": "bottom",
          "yref": "paper"
         },
         {
          "font": {
           "size": 16
          },
          "showarrow": false,
          "text": "Topic 10",
          "x": 0.6375000000000001,
          "xanchor": "center",
          "xref": "paper",
          "y": 0.568,
          "yanchor": "bottom",
          "yref": "paper"
         },
         {
          "font": {
           "size": 16
          },
          "showarrow": false,
          "text": "Topic 11",
          "x": 0.9125,
          "xanchor": "center",
          "xref": "paper",
          "y": 0.568,
          "yanchor": "bottom",
          "yref": "paper"
         },
         {
          "font": {
           "size": 16
          },
          "showarrow": false,
          "text": "Topic 12",
          "x": 0.0875,
          "xanchor": "center",
          "xref": "paper",
          "y": 0.352,
          "yanchor": "bottom",
          "yref": "paper"
         },
         {
          "font": {
           "size": 16
          },
          "showarrow": false,
          "text": "Topic 13",
          "x": 0.36250000000000004,
          "xanchor": "center",
          "xref": "paper",
          "y": 0.352,
          "yanchor": "bottom",
          "yref": "paper"
         },
         {
          "font": {
           "size": 16
          },
          "showarrow": false,
          "text": "Topic 14",
          "x": 0.6375000000000001,
          "xanchor": "center",
          "xref": "paper",
          "y": 0.352,
          "yanchor": "bottom",
          "yref": "paper"
         },
         {
          "font": {
           "size": 16
          },
          "showarrow": false,
          "text": "Topic 15",
          "x": 0.9125,
          "xanchor": "center",
          "xref": "paper",
          "y": 0.352,
          "yanchor": "bottom",
          "yref": "paper"
         },
         {
          "font": {
           "size": 16
          },
          "showarrow": false,
          "text": "Topic 16",
          "x": 0.0875,
          "xanchor": "center",
          "xref": "paper",
          "y": 0.13599999999999998,
          "yanchor": "bottom",
          "yref": "paper"
         },
         {
          "font": {
           "size": 16
          },
          "showarrow": false,
          "text": "Topic 17",
          "x": 0.36250000000000004,
          "xanchor": "center",
          "xref": "paper",
          "y": 0.13599999999999998,
          "yanchor": "bottom",
          "yref": "paper"
         },
         {
          "font": {
           "size": 16
          },
          "showarrow": false,
          "text": "Topic 18",
          "x": 0.6375000000000001,
          "xanchor": "center",
          "xref": "paper",
          "y": 0.13599999999999998,
          "yanchor": "bottom",
          "yref": "paper"
         },
         {
          "font": {
           "size": 16
          },
          "showarrow": false,
          "text": "Topic 19",
          "x": 0.9125,
          "xanchor": "center",
          "xref": "paper",
          "y": 0.13599999999999998,
          "yanchor": "bottom",
          "yref": "paper"
         }
        ],
        "height": 1250,
        "hoverlabel": {
         "bgcolor": "white",
         "font": {
          "family": "Rockwell",
          "size": 16
         }
        },
        "showlegend": false,
        "template": {
         "data": {
          "bar": [
           {
            "error_x": {
             "color": "#2a3f5f"
            },
            "error_y": {
             "color": "#2a3f5f"
            },
            "marker": {
             "line": {
              "color": "white",
              "width": 0.5
             },
             "pattern": {
              "fillmode": "overlay",
              "size": 10,
              "solidity": 0.2
             }
            },
            "type": "bar"
           }
          ],
          "barpolar": [
           {
            "marker": {
             "line": {
              "color": "white",
              "width": 0.5
             },
             "pattern": {
              "fillmode": "overlay",
              "size": 10,
              "solidity": 0.2
             }
            },
            "type": "barpolar"
           }
          ],
          "carpet": [
           {
            "aaxis": {
             "endlinecolor": "#2a3f5f",
             "gridcolor": "#C8D4E3",
             "linecolor": "#C8D4E3",
             "minorgridcolor": "#C8D4E3",
             "startlinecolor": "#2a3f5f"
            },
            "baxis": {
             "endlinecolor": "#2a3f5f",
             "gridcolor": "#C8D4E3",
             "linecolor": "#C8D4E3",
             "minorgridcolor": "#C8D4E3",
             "startlinecolor": "#2a3f5f"
            },
            "type": "carpet"
           }
          ],
          "choropleth": [
           {
            "colorbar": {
             "outlinewidth": 0,
             "ticks": ""
            },
            "type": "choropleth"
           }
          ],
          "contour": [
           {
            "colorbar": {
             "outlinewidth": 0,
             "ticks": ""
            },
            "colorscale": [
             [
              0,
              "#0d0887"
             ],
             [
              0.1111111111111111,
              "#46039f"
             ],
             [
              0.2222222222222222,
              "#7201a8"
             ],
             [
              0.3333333333333333,
              "#9c179e"
             ],
             [
              0.4444444444444444,
              "#bd3786"
             ],
             [
              0.5555555555555556,
              "#d8576b"
             ],
             [
              0.6666666666666666,
              "#ed7953"
             ],
             [
              0.7777777777777778,
              "#fb9f3a"
             ],
             [
              0.8888888888888888,
              "#fdca26"
             ],
             [
              1,
              "#f0f921"
             ]
            ],
            "type": "contour"
           }
          ],
          "contourcarpet": [
           {
            "colorbar": {
             "outlinewidth": 0,
             "ticks": ""
            },
            "type": "contourcarpet"
           }
          ],
          "heatmap": [
           {
            "colorbar": {
             "outlinewidth": 0,
             "ticks": ""
            },
            "colorscale": [
             [
              0,
              "#0d0887"
             ],
             [
              0.1111111111111111,
              "#46039f"
             ],
             [
              0.2222222222222222,
              "#7201a8"
             ],
             [
              0.3333333333333333,
              "#9c179e"
             ],
             [
              0.4444444444444444,
              "#bd3786"
             ],
             [
              0.5555555555555556,
              "#d8576b"
             ],
             [
              0.6666666666666666,
              "#ed7953"
             ],
             [
              0.7777777777777778,
              "#fb9f3a"
             ],
             [
              0.8888888888888888,
              "#fdca26"
             ],
             [
              1,
              "#f0f921"
             ]
            ],
            "type": "heatmap"
           }
          ],
          "heatmapgl": [
           {
            "colorbar": {
             "outlinewidth": 0,
             "ticks": ""
            },
            "colorscale": [
             [
              0,
              "#0d0887"
             ],
             [
              0.1111111111111111,
              "#46039f"
             ],
             [
              0.2222222222222222,
              "#7201a8"
             ],
             [
              0.3333333333333333,
              "#9c179e"
             ],
             [
              0.4444444444444444,
              "#bd3786"
             ],
             [
              0.5555555555555556,
              "#d8576b"
             ],
             [
              0.6666666666666666,
              "#ed7953"
             ],
             [
              0.7777777777777778,
              "#fb9f3a"
             ],
             [
              0.8888888888888888,
              "#fdca26"
             ],
             [
              1,
              "#f0f921"
             ]
            ],
            "type": "heatmapgl"
           }
          ],
          "histogram": [
           {
            "marker": {
             "pattern": {
              "fillmode": "overlay",
              "size": 10,
              "solidity": 0.2
             }
            },
            "type": "histogram"
           }
          ],
          "histogram2d": [
           {
            "colorbar": {
             "outlinewidth": 0,
             "ticks": ""
            },
            "colorscale": [
             [
              0,
              "#0d0887"
             ],
             [
              0.1111111111111111,
              "#46039f"
             ],
             [
              0.2222222222222222,
              "#7201a8"
             ],
             [
              0.3333333333333333,
              "#9c179e"
             ],
             [
              0.4444444444444444,
              "#bd3786"
             ],
             [
              0.5555555555555556,
              "#d8576b"
             ],
             [
              0.6666666666666666,
              "#ed7953"
             ],
             [
              0.7777777777777778,
              "#fb9f3a"
             ],
             [
              0.8888888888888888,
              "#fdca26"
             ],
             [
              1,
              "#f0f921"
             ]
            ],
            "type": "histogram2d"
           }
          ],
          "histogram2dcontour": [
           {
            "colorbar": {
             "outlinewidth": 0,
             "ticks": ""
            },
            "colorscale": [
             [
              0,
              "#0d0887"
             ],
             [
              0.1111111111111111,
              "#46039f"
             ],
             [
              0.2222222222222222,
              "#7201a8"
             ],
             [
              0.3333333333333333,
              "#9c179e"
             ],
             [
              0.4444444444444444,
              "#bd3786"
             ],
             [
              0.5555555555555556,
              "#d8576b"
             ],
             [
              0.6666666666666666,
              "#ed7953"
             ],
             [
              0.7777777777777778,
              "#fb9f3a"
             ],
             [
              0.8888888888888888,
              "#fdca26"
             ],
             [
              1,
              "#f0f921"
             ]
            ],
            "type": "histogram2dcontour"
           }
          ],
          "mesh3d": [
           {
            "colorbar": {
             "outlinewidth": 0,
             "ticks": ""
            },
            "type": "mesh3d"
           }
          ],
          "parcoords": [
           {
            "line": {
             "colorbar": {
              "outlinewidth": 0,
              "ticks": ""
             }
            },
            "type": "parcoords"
           }
          ],
          "pie": [
           {
            "automargin": true,
            "type": "pie"
           }
          ],
          "scatter": [
           {
            "fillpattern": {
             "fillmode": "overlay",
             "size": 10,
             "solidity": 0.2
            },
            "type": "scatter"
           }
          ],
          "scatter3d": [
           {
            "line": {
             "colorbar": {
              "outlinewidth": 0,
              "ticks": ""
             }
            },
            "marker": {
             "colorbar": {
              "outlinewidth": 0,
              "ticks": ""
             }
            },
            "type": "scatter3d"
           }
          ],
          "scattercarpet": [
           {
            "marker": {
             "colorbar": {
              "outlinewidth": 0,
              "ticks": ""
             }
            },
            "type": "scattercarpet"
           }
          ],
          "scattergeo": [
           {
            "marker": {
             "colorbar": {
              "outlinewidth": 0,
              "ticks": ""
             }
            },
            "type": "scattergeo"
           }
          ],
          "scattergl": [
           {
            "marker": {
             "colorbar": {
              "outlinewidth": 0,
              "ticks": ""
             }
            },
            "type": "scattergl"
           }
          ],
          "scattermapbox": [
           {
            "marker": {
             "colorbar": {
              "outlinewidth": 0,
              "ticks": ""
             }
            },
            "type": "scattermapbox"
           }
          ],
          "scatterpolar": [
           {
            "marker": {
             "colorbar": {
              "outlinewidth": 0,
              "ticks": ""
             }
            },
            "type": "scatterpolar"
           }
          ],
          "scatterpolargl": [
           {
            "marker": {
             "colorbar": {
              "outlinewidth": 0,
              "ticks": ""
             }
            },
            "type": "scatterpolargl"
           }
          ],
          "scatterternary": [
           {
            "marker": {
             "colorbar": {
              "outlinewidth": 0,
              "ticks": ""
             }
            },
            "type": "scatterternary"
           }
          ],
          "surface": [
           {
            "colorbar": {
             "outlinewidth": 0,
             "ticks": ""
            },
            "colorscale": [
             [
              0,
              "#0d0887"
             ],
             [
              0.1111111111111111,
              "#46039f"
             ],
             [
              0.2222222222222222,
              "#7201a8"
             ],
             [
              0.3333333333333333,
              "#9c179e"
             ],
             [
              0.4444444444444444,
              "#bd3786"
             ],
             [
              0.5555555555555556,
              "#d8576b"
             ],
             [
              0.6666666666666666,
              "#ed7953"
             ],
             [
              0.7777777777777778,
              "#fb9f3a"
             ],
             [
              0.8888888888888888,
              "#fdca26"
             ],
             [
              1,
              "#f0f921"
             ]
            ],
            "type": "surface"
           }
          ],
          "table": [
           {
            "cells": {
             "fill": {
              "color": "#EBF0F8"
             },
             "line": {
              "color": "white"
             }
            },
            "header": {
             "fill": {
              "color": "#C8D4E3"
             },
             "line": {
              "color": "white"
             }
            },
            "type": "table"
           }
          ]
         },
         "layout": {
          "annotationdefaults": {
           "arrowcolor": "#2a3f5f",
           "arrowhead": 0,
           "arrowwidth": 1
          },
          "autotypenumbers": "strict",
          "coloraxis": {
           "colorbar": {
            "outlinewidth": 0,
            "ticks": ""
           }
          },
          "colorscale": {
           "diverging": [
            [
             0,
             "#8e0152"
            ],
            [
             0.1,
             "#c51b7d"
            ],
            [
             0.2,
             "#de77ae"
            ],
            [
             0.3,
             "#f1b6da"
            ],
            [
             0.4,
             "#fde0ef"
            ],
            [
             0.5,
             "#f7f7f7"
            ],
            [
             0.6,
             "#e6f5d0"
            ],
            [
             0.7,
             "#b8e186"
            ],
            [
             0.8,
             "#7fbc41"
            ],
            [
             0.9,
             "#4d9221"
            ],
            [
             1,
             "#276419"
            ]
           ],
           "sequential": [
            [
             0,
             "#0d0887"
            ],
            [
             0.1111111111111111,
             "#46039f"
            ],
            [
             0.2222222222222222,
             "#7201a8"
            ],
            [
             0.3333333333333333,
             "#9c179e"
            ],
            [
             0.4444444444444444,
             "#bd3786"
            ],
            [
             0.5555555555555556,
             "#d8576b"
            ],
            [
             0.6666666666666666,
             "#ed7953"
            ],
            [
             0.7777777777777778,
             "#fb9f3a"
            ],
            [
             0.8888888888888888,
             "#fdca26"
            ],
            [
             1,
             "#f0f921"
            ]
           ],
           "sequentialminus": [
            [
             0,
             "#0d0887"
            ],
            [
             0.1111111111111111,
             "#46039f"
            ],
            [
             0.2222222222222222,
             "#7201a8"
            ],
            [
             0.3333333333333333,
             "#9c179e"
            ],
            [
             0.4444444444444444,
             "#bd3786"
            ],
            [
             0.5555555555555556,
             "#d8576b"
            ],
            [
             0.6666666666666666,
             "#ed7953"
            ],
            [
             0.7777777777777778,
             "#fb9f3a"
            ],
            [
             0.8888888888888888,
             "#fdca26"
            ],
            [
             1,
             "#f0f921"
            ]
           ]
          },
          "colorway": [
           "#636efa",
           "#EF553B",
           "#00cc96",
           "#ab63fa",
           "#FFA15A",
           "#19d3f3",
           "#FF6692",
           "#B6E880",
           "#FF97FF",
           "#FECB52"
          ],
          "font": {
           "color": "#2a3f5f"
          },
          "geo": {
           "bgcolor": "white",
           "lakecolor": "white",
           "landcolor": "white",
           "showlakes": true,
           "showland": true,
           "subunitcolor": "#C8D4E3"
          },
          "hoverlabel": {
           "align": "left"
          },
          "hovermode": "closest",
          "mapbox": {
           "style": "light"
          },
          "paper_bgcolor": "white",
          "plot_bgcolor": "white",
          "polar": {
           "angularaxis": {
            "gridcolor": "#EBF0F8",
            "linecolor": "#EBF0F8",
            "ticks": ""
           },
           "bgcolor": "white",
           "radialaxis": {
            "gridcolor": "#EBF0F8",
            "linecolor": "#EBF0F8",
            "ticks": ""
           }
          },
          "scene": {
           "xaxis": {
            "backgroundcolor": "white",
            "gridcolor": "#DFE8F3",
            "gridwidth": 2,
            "linecolor": "#EBF0F8",
            "showbackground": true,
            "ticks": "",
            "zerolinecolor": "#EBF0F8"
           },
           "yaxis": {
            "backgroundcolor": "white",
            "gridcolor": "#DFE8F3",
            "gridwidth": 2,
            "linecolor": "#EBF0F8",
            "showbackground": true,
            "ticks": "",
            "zerolinecolor": "#EBF0F8"
           },
           "zaxis": {
            "backgroundcolor": "white",
            "gridcolor": "#DFE8F3",
            "gridwidth": 2,
            "linecolor": "#EBF0F8",
            "showbackground": true,
            "ticks": "",
            "zerolinecolor": "#EBF0F8"
           }
          },
          "shapedefaults": {
           "line": {
            "color": "#2a3f5f"
           }
          },
          "ternary": {
           "aaxis": {
            "gridcolor": "#DFE8F3",
            "linecolor": "#A2B1C6",
            "ticks": ""
           },
           "baxis": {
            "gridcolor": "#DFE8F3",
            "linecolor": "#A2B1C6",
            "ticks": ""
           },
           "bgcolor": "white",
           "caxis": {
            "gridcolor": "#DFE8F3",
            "linecolor": "#A2B1C6",
            "ticks": ""
           }
          },
          "title": {
           "x": 0.05
          },
          "xaxis": {
           "automargin": true,
           "gridcolor": "#EBF0F8",
           "linecolor": "#EBF0F8",
           "ticks": "",
           "title": {
            "standoff": 15
           },
           "zerolinecolor": "#EBF0F8",
           "zerolinewidth": 2
          },
          "yaxis": {
           "automargin": true,
           "gridcolor": "#EBF0F8",
           "linecolor": "#EBF0F8",
           "ticks": "",
           "title": {
            "standoff": 15
           },
           "zerolinecolor": "#EBF0F8",
           "zerolinewidth": 2
          }
         }
        },
        "title": {
         "font": {
          "color": "Black",
          "size": 22
         },
         "text": "Topic Word Scores",
         "x": 0.5,
         "xanchor": "center",
         "yanchor": "top"
        },
        "width": 1000,
        "xaxis": {
         "anchor": "y",
         "domain": [
          0,
          0.175
         ],
         "showgrid": true
        },
        "xaxis10": {
         "anchor": "y10",
         "domain": [
          0.275,
          0.45
         ],
         "showgrid": true
        },
        "xaxis11": {
         "anchor": "y11",
         "domain": [
          0.55,
          0.7250000000000001
         ],
         "showgrid": true
        },
        "xaxis12": {
         "anchor": "y12",
         "domain": [
          0.825,
          1
         ],
         "showgrid": true
        },
        "xaxis13": {
         "anchor": "y13",
         "domain": [
          0,
          0.175
         ],
         "showgrid": true
        },
        "xaxis14": {
         "anchor": "y14",
         "domain": [
          0.275,
          0.45
         ],
         "showgrid": true
        },
        "xaxis15": {
         "anchor": "y15",
         "domain": [
          0.55,
          0.7250000000000001
         ],
         "showgrid": true
        },
        "xaxis16": {
         "anchor": "y16",
         "domain": [
          0.825,
          1
         ],
         "showgrid": true
        },
        "xaxis17": {
         "anchor": "y17",
         "domain": [
          0,
          0.175
         ],
         "showgrid": true
        },
        "xaxis18": {
         "anchor": "y18",
         "domain": [
          0.275,
          0.45
         ],
         "showgrid": true
        },
        "xaxis19": {
         "anchor": "y19",
         "domain": [
          0.55,
          0.7250000000000001
         ],
         "showgrid": true
        },
        "xaxis2": {
         "anchor": "y2",
         "domain": [
          0.275,
          0.45
         ],
         "showgrid": true
        },
        "xaxis20": {
         "anchor": "y20",
         "domain": [
          0.825,
          1
         ],
         "showgrid": true
        },
        "xaxis3": {
         "anchor": "y3",
         "domain": [
          0.55,
          0.7250000000000001
         ],
         "showgrid": true
        },
        "xaxis4": {
         "anchor": "y4",
         "domain": [
          0.825,
          1
         ],
         "showgrid": true
        },
        "xaxis5": {
         "anchor": "y5",
         "domain": [
          0,
          0.175
         ],
         "showgrid": true
        },
        "xaxis6": {
         "anchor": "y6",
         "domain": [
          0.275,
          0.45
         ],
         "showgrid": true
        },
        "xaxis7": {
         "anchor": "y7",
         "domain": [
          0.55,
          0.7250000000000001
         ],
         "showgrid": true
        },
        "xaxis8": {
         "anchor": "y8",
         "domain": [
          0.825,
          1
         ],
         "showgrid": true
        },
        "xaxis9": {
         "anchor": "y9",
         "domain": [
          0,
          0.175
         ],
         "showgrid": true
        },
        "yaxis": {
         "anchor": "x",
         "domain": [
          0.8639999999999999,
          0.9999999999999999
         ],
         "showgrid": true
        },
        "yaxis10": {
         "anchor": "x10",
         "domain": [
          0.43199999999999994,
          0.568
         ],
         "showgrid": true
        },
        "yaxis11": {
         "anchor": "x11",
         "domain": [
          0.43199999999999994,
          0.568
         ],
         "showgrid": true
        },
        "yaxis12": {
         "anchor": "x12",
         "domain": [
          0.43199999999999994,
          0.568
         ],
         "showgrid": true
        },
        "yaxis13": {
         "anchor": "x13",
         "domain": [
          0.21599999999999997,
          0.352
         ],
         "showgrid": true
        },
        "yaxis14": {
         "anchor": "x14",
         "domain": [
          0.21599999999999997,
          0.352
         ],
         "showgrid": true
        },
        "yaxis15": {
         "anchor": "x15",
         "domain": [
          0.21599999999999997,
          0.352
         ],
         "showgrid": true
        },
        "yaxis16": {
         "anchor": "x16",
         "domain": [
          0.21599999999999997,
          0.352
         ],
         "showgrid": true
        },
        "yaxis17": {
         "anchor": "x17",
         "domain": [
          0,
          0.13599999999999998
         ],
         "showgrid": true
        },
        "yaxis18": {
         "anchor": "x18",
         "domain": [
          0,
          0.13599999999999998
         ],
         "showgrid": true
        },
        "yaxis19": {
         "anchor": "x19",
         "domain": [
          0,
          0.13599999999999998
         ],
         "showgrid": true
        },
        "yaxis2": {
         "anchor": "x2",
         "domain": [
          0.8639999999999999,
          0.9999999999999999
         ],
         "showgrid": true
        },
        "yaxis20": {
         "anchor": "x20",
         "domain": [
          0,
          0.13599999999999998
         ],
         "showgrid": true
        },
        "yaxis3": {
         "anchor": "x3",
         "domain": [
          0.8639999999999999,
          0.9999999999999999
         ],
         "showgrid": true
        },
        "yaxis4": {
         "anchor": "x4",
         "domain": [
          0.8639999999999999,
          0.9999999999999999
         ],
         "showgrid": true
        },
        "yaxis5": {
         "anchor": "x5",
         "domain": [
          0.6479999999999999,
          0.7839999999999999
         ],
         "showgrid": true
        },
        "yaxis6": {
         "anchor": "x6",
         "domain": [
          0.6479999999999999,
          0.7839999999999999
         ],
         "showgrid": true
        },
        "yaxis7": {
         "anchor": "x7",
         "domain": [
          0.6479999999999999,
          0.7839999999999999
         ],
         "showgrid": true
        },
        "yaxis8": {
         "anchor": "x8",
         "domain": [
          0.6479999999999999,
          0.7839999999999999
         ],
         "showgrid": true
        },
        "yaxis9": {
         "anchor": "x9",
         "domain": [
          0.43199999999999994,
          0.568
         ],
         "showgrid": true
        }
       }
      }
     },
     "metadata": {},
     "output_type": "display_data"
    }
   ],
   "source": [
    "# 긍정 리뷰\n",
    "topic_model_positive.visualize_barchart(top_n_topics=20)"
   ]
  },
  {
   "cell_type": "code",
   "execution_count": 16,
   "metadata": {},
   "outputs": [
    {
     "data": {
      "application/vnd.plotly.v1+json": {
       "config": {
        "plotlyServerURL": "https://plot.ly"
       },
       "data": [
        {
         "marker": {
          "color": "#D55E00"
         },
         "orientation": "h",
         "type": "bar",
         "x": [
          0.020722887035580017,
          0.022527962328736523,
          0.026248352234331595,
          0.029781090542889996,
          0.10398744681351392
         ],
         "xaxis": "x",
         "y": [
          "be  ",
          "the  ",
          "is  ",
          "pve  ",
          "pvp  "
         ],
         "yaxis": "y"
        },
        {
         "marker": {
          "color": "#0072B2"
         },
         "orientation": "h",
         "type": "bar",
         "x": [
          0.01766842130962229,
          0.01776660008356403,
          0.019605879230388548,
          0.02822146965796348,
          0.10925182087559554
         ],
         "xaxis": "x2",
         "y": [
          "with  ",
          "is  ",
          "and  ",
          "you  ",
          "destiny  "
         ],
         "yaxis": "y2"
        },
        {
         "marker": {
          "color": "#CC79A7"
         },
         "orientation": "h",
         "type": "bar",
         "x": [
          0.035257893669064365,
          0.03922565315971531,
          0.15479075497073175,
          0.19613541108956462,
          0.3365172509232338
         ],
         "xaxis": "x3",
         "y": [
          "still  ",
          "god  ",
          "game  ",
          "this  ",
          "hate  "
         ],
         "yaxis": "y3"
        },
        {
         "marker": {
          "color": "#E69F00"
         },
         "orientation": "h",
         "type": "bar",
         "x": [
          0.02117527323267883,
          0.02176980259102654,
          0.02256195297412878,
          0.02420862146716552,
          0.10993508256238017
         ],
         "xaxis": "x4",
         "y": [
          "the  ",
          "up  ",
          "to  ",
          "will  ",
          "bungie  "
         ],
         "yaxis": "y4"
        },
        {
         "marker": {
          "color": "#56B4E9"
         },
         "orientation": "h",
         "type": "bar",
         "x": [
          0.039414515505532696,
          0.04362290479445769,
          0.05984313884789157,
          0.07489762471166646,
          0.1462505469593634
         ],
         "xaxis": "x5",
         "y": [
          "girlfriend  ",
          "like  ",
          "abusive  ",
          "toxic  ",
          "relationship  "
         ],
         "yaxis": "y5"
        },
        {
         "marker": {
          "color": "#009E73"
         },
         "orientation": "h",
         "type": "bar",
         "x": [
          0.02961789124230202,
          0.03043893276664901,
          0.03068738126490749,
          0.04773470236956659,
          0.08485543802268217
         ],
         "xaxis": "x6",
         "y": [
          "waste  ",
          "job  ",
          "of  ",
          "time  ",
          "hours  "
         ],
         "yaxis": "y6"
        },
        {
         "marker": {
          "color": "#F0E442"
         },
         "orientation": "h",
         "type": "bar",
         "x": [
          0.035582407035855516,
          0.04907340179328032,
          0.04907340179328032,
          0.05370491203641567,
          0.05370491203641567
         ],
         "xaxis": "x7",
         "y": [
          "lance  ",
          "grail  ",
          "holy  ",
          "whale  ",
          "white  "
         ],
         "yaxis": "y7"
        },
        {
         "marker": {
          "color": "#D55E00"
         },
         "orientation": "h",
         "type": "bar",
         "x": [
          0.06007568524875634,
          0.061117606822603025,
          0.0663636027040069,
          0.08207590107604877,
          0.13454817776034195
         ],
         "xaxis": "x8",
         "y": [
          "game  ",
          "my  ",
          "favourite  ",
          "favorite  ",
          "hate  "
         ],
         "yaxis": "y8"
        },
        {
         "marker": {
          "color": "#0072B2"
         },
         "orientation": "h",
         "type": "bar",
         "x": [
          0.023931256123780033,
          0.025177246531650394,
          0.029250251768093066,
          0.047862512247560066,
          0.07783370237234553
         ],
         "xaxis": "x9",
         "y": [
          "alone  ",
          "if  ",
          "with  ",
          "solo  ",
          "friends  "
         ],
         "yaxis": "y9"
        },
        {
         "marker": {
          "color": "#CC79A7"
         },
         "orientation": "h",
         "type": "bar",
         "x": [
          0.045559139951560294,
          0.0486225503139119,
          0.06597583030137635,
          0.0742228090890484,
          0.08879175102085589
         ],
         "xaxis": "x10",
         "y": [
          "addiction  ",
          "crack  ",
          "syndrome  ",
          "cancer  ",
          "dementia  "
         ],
         "yaxis": "y10"
        },
        {
         "marker": {
          "color": "#E69F00"
         },
         "orientation": "h",
         "type": "bar",
         "x": [
          0.1069877277003587,
          0.10742821905960061,
          0.116391452893235,
          0.16883681276166465,
          0.42426093408415444
         ],
         "xaxis": "x11",
         "y": [
          "game  ",
          "this  ",
          "titans  ",
          "ass  ",
          "sucks  "
         ],
         "yaxis": "y11"
        },
        {
         "marker": {
          "color": "#56B4E9"
         },
         "orientation": "h",
         "type": "bar",
         "x": [
          0.028003467755415432,
          0.038045558892326865,
          0.04218777342120411,
          0.06255683780535799,
          0.0870303441491263
         ],
         "xaxis": "x12",
         "y": [
          "but  ",
          "over  ",
          "grind  ",
          "grindy  ",
          "grinding  "
         ],
         "yaxis": "y12"
        },
        {
         "marker": {
          "color": "#009E73"
         },
         "orientation": "h",
         "type": "bar",
         "x": [
          0.032196339269540235,
          0.032196339269540235,
          0.03404137116877411,
          0.038158330050329335,
          0.12850043283102675
         ],
         "xaxis": "x13",
         "y": [
          "gay  ",
          "nobody  ",
          "tablespoon  ",
          "reviews  ",
          "review  "
         ],
         "yaxis": "y13"
        },
        {
         "marker": {
          "color": "#F0E442"
         },
         "orientation": "h",
         "type": "bar",
         "x": [
          0.08136112535994477,
          0.10396734555789033,
          0.12204168803991716,
          0.13365979557796354,
          0.22538862123220704
         ],
         "xaxis": "x14",
         "y": [
          "kinda  ",
          "believe  ",
          "hell  ",
          "bad  ",
          "sucks  "
         ],
         "yaxis": "y14"
        },
        {
         "marker": {
          "color": "#D55E00"
         },
         "orientation": "h",
         "type": "bar",
         "x": [
          0.07162231446367483,
          0.07293897515260134,
          0.13204933584487955,
          0.14801171186037773,
          0.2519334855333619
         ],
         "xaxis": "x15",
         "y": [
          "time  ",
          "this  ",
          "play  ",
          "explain  ",
          "dont  "
         ],
         "yaxis": "y15"
        },
        {
         "marker": {
          "color": "#0072B2"
         },
         "orientation": "h",
         "type": "bar",
         "x": [
          0.0888177211022631,
          0.09304994355093238,
          0.14683830888228055,
          0.16264754737865333,
          0.18048827722472865
         ],
         "xaxis": "x16",
         "y": [
          "my  ",
          "its  ",
          "destiny  ",
          "favorite  ",
          "hate  "
         ],
         "yaxis": "y16"
        },
        {
         "marker": {
          "color": "#CC79A7"
         },
         "orientation": "h",
         "type": "bar",
         "x": [
          0.07921321566315453,
          0.11424176934581934,
          0.1489161447850214,
          0.16127425184780886,
          0.2788915678513245
         ],
         "xaxis": "x17",
         "y": [
          "simultaneously  ",
          "best  ",
          "played  ",
          "ever  ",
          "worst  "
         ],
         "yaxis": "y17"
        },
        {
         "marker": {
          "color": "#E69F00"
         },
         "orientation": "h",
         "type": "bar",
         "x": [
          0.04435726140502514,
          0.04863350387801322,
          0.05023353827975573,
          0.06313727994319739,
          0.06735859140137693
         ],
         "xaxis": "x18",
         "y": [
          "about  ",
          "major  ",
          "has  ",
          "issues  ",
          "flaws  "
         ],
         "yaxis": "y18"
        },
        {
         "marker": {
          "color": "#56B4E9"
         },
         "orientation": "h",
         "type": "bar",
         "x": [
          0.15398257244654998,
          0.15412428749678458,
          0.24982675409286872,
          0.26737115252727156,
          0.2693315920035315
         ],
         "xaxis": "x19",
         "y": [
          "me  ",
          "put  ",
          "repetitive  ",
          "crazy  ",
          "reskins  "
         ],
         "yaxis": "y19"
        },
        {
         "marker": {
          "color": "#009E73"
         },
         "orientation": "h",
         "type": "bar",
         "x": [
          0.09666611252338561,
          0.10472549298381023,
          0.1201879548070518,
          0.14872450937648868,
          0.1618622102311961
         ],
         "xaxis": "x20",
         "y": [
          "help  ",
          "escape  ",
          "playing  ",
          "stop  ",
          "cant  "
         ],
         "yaxis": "y20"
        }
       ],
       "layout": {
        "annotations": [
         {
          "font": {
           "size": 16
          },
          "showarrow": false,
          "text": "Topic 0",
          "x": 0.0875,
          "xanchor": "center",
          "xref": "paper",
          "y": 0.9999999999999999,
          "yanchor": "bottom",
          "yref": "paper"
         },
         {
          "font": {
           "size": 16
          },
          "showarrow": false,
          "text": "Topic 1",
          "x": 0.36250000000000004,
          "xanchor": "center",
          "xref": "paper",
          "y": 0.9999999999999999,
          "yanchor": "bottom",
          "yref": "paper"
         },
         {
          "font": {
           "size": 16
          },
          "showarrow": false,
          "text": "Topic 2",
          "x": 0.6375000000000001,
          "xanchor": "center",
          "xref": "paper",
          "y": 0.9999999999999999,
          "yanchor": "bottom",
          "yref": "paper"
         },
         {
          "font": {
           "size": 16
          },
          "showarrow": false,
          "text": "Topic 3",
          "x": 0.9125,
          "xanchor": "center",
          "xref": "paper",
          "y": 0.9999999999999999,
          "yanchor": "bottom",
          "yref": "paper"
         },
         {
          "font": {
           "size": 16
          },
          "showarrow": false,
          "text": "Topic 4",
          "x": 0.0875,
          "xanchor": "center",
          "xref": "paper",
          "y": 0.7839999999999999,
          "yanchor": "bottom",
          "yref": "paper"
         },
         {
          "font": {
           "size": 16
          },
          "showarrow": false,
          "text": "Topic 5",
          "x": 0.36250000000000004,
          "xanchor": "center",
          "xref": "paper",
          "y": 0.7839999999999999,
          "yanchor": "bottom",
          "yref": "paper"
         },
         {
          "font": {
           "size": 16
          },
          "showarrow": false,
          "text": "Topic 6",
          "x": 0.6375000000000001,
          "xanchor": "center",
          "xref": "paper",
          "y": 0.7839999999999999,
          "yanchor": "bottom",
          "yref": "paper"
         },
         {
          "font": {
           "size": 16
          },
          "showarrow": false,
          "text": "Topic 7",
          "x": 0.9125,
          "xanchor": "center",
          "xref": "paper",
          "y": 0.7839999999999999,
          "yanchor": "bottom",
          "yref": "paper"
         },
         {
          "font": {
           "size": 16
          },
          "showarrow": false,
          "text": "Topic 8",
          "x": 0.0875,
          "xanchor": "center",
          "xref": "paper",
          "y": 0.568,
          "yanchor": "bottom",
          "yref": "paper"
         },
         {
          "font": {
           "size": 16
          },
          "showarrow": false,
          "text": "Topic 9",
          "x": 0.36250000000000004,
          "xanchor": "center",
          "xref": "paper",
          "y": 0.568,
          "yanchor": "bottom",
          "yref": "paper"
         },
         {
          "font": {
           "size": 16
          },
          "showarrow": false,
          "text": "Topic 10",
          "x": 0.6375000000000001,
          "xanchor": "center",
          "xref": "paper",
          "y": 0.568,
          "yanchor": "bottom",
          "yref": "paper"
         },
         {
          "font": {
           "size": 16
          },
          "showarrow": false,
          "text": "Topic 11",
          "x": 0.9125,
          "xanchor": "center",
          "xref": "paper",
          "y": 0.568,
          "yanchor": "bottom",
          "yref": "paper"
         },
         {
          "font": {
           "size": 16
          },
          "showarrow": false,
          "text": "Topic 12",
          "x": 0.0875,
          "xanchor": "center",
          "xref": "paper",
          "y": 0.352,
          "yanchor": "bottom",
          "yref": "paper"
         },
         {
          "font": {
           "size": 16
          },
          "showarrow": false,
          "text": "Topic 13",
          "x": 0.36250000000000004,
          "xanchor": "center",
          "xref": "paper",
          "y": 0.352,
          "yanchor": "bottom",
          "yref": "paper"
         },
         {
          "font": {
           "size": 16
          },
          "showarrow": false,
          "text": "Topic 14",
          "x": 0.6375000000000001,
          "xanchor": "center",
          "xref": "paper",
          "y": 0.352,
          "yanchor": "bottom",
          "yref": "paper"
         },
         {
          "font": {
           "size": 16
          },
          "showarrow": false,
          "text": "Topic 15",
          "x": 0.9125,
          "xanchor": "center",
          "xref": "paper",
          "y": 0.352,
          "yanchor": "bottom",
          "yref": "paper"
         },
         {
          "font": {
           "size": 16
          },
          "showarrow": false,
          "text": "Topic 16",
          "x": 0.0875,
          "xanchor": "center",
          "xref": "paper",
          "y": 0.13599999999999998,
          "yanchor": "bottom",
          "yref": "paper"
         },
         {
          "font": {
           "size": 16
          },
          "showarrow": false,
          "text": "Topic 17",
          "x": 0.36250000000000004,
          "xanchor": "center",
          "xref": "paper",
          "y": 0.13599999999999998,
          "yanchor": "bottom",
          "yref": "paper"
         },
         {
          "font": {
           "size": 16
          },
          "showarrow": false,
          "text": "Topic 18",
          "x": 0.6375000000000001,
          "xanchor": "center",
          "xref": "paper",
          "y": 0.13599999999999998,
          "yanchor": "bottom",
          "yref": "paper"
         },
         {
          "font": {
           "size": 16
          },
          "showarrow": false,
          "text": "Topic 19",
          "x": 0.9125,
          "xanchor": "center",
          "xref": "paper",
          "y": 0.13599999999999998,
          "yanchor": "bottom",
          "yref": "paper"
         }
        ],
        "height": 1250,
        "hoverlabel": {
         "bgcolor": "white",
         "font": {
          "family": "Rockwell",
          "size": 16
         }
        },
        "showlegend": false,
        "template": {
         "data": {
          "bar": [
           {
            "error_x": {
             "color": "#2a3f5f"
            },
            "error_y": {
             "color": "#2a3f5f"
            },
            "marker": {
             "line": {
              "color": "white",
              "width": 0.5
             },
             "pattern": {
              "fillmode": "overlay",
              "size": 10,
              "solidity": 0.2
             }
            },
            "type": "bar"
           }
          ],
          "barpolar": [
           {
            "marker": {
             "line": {
              "color": "white",
              "width": 0.5
             },
             "pattern": {
              "fillmode": "overlay",
              "size": 10,
              "solidity": 0.2
             }
            },
            "type": "barpolar"
           }
          ],
          "carpet": [
           {
            "aaxis": {
             "endlinecolor": "#2a3f5f",
             "gridcolor": "#C8D4E3",
             "linecolor": "#C8D4E3",
             "minorgridcolor": "#C8D4E3",
             "startlinecolor": "#2a3f5f"
            },
            "baxis": {
             "endlinecolor": "#2a3f5f",
             "gridcolor": "#C8D4E3",
             "linecolor": "#C8D4E3",
             "minorgridcolor": "#C8D4E3",
             "startlinecolor": "#2a3f5f"
            },
            "type": "carpet"
           }
          ],
          "choropleth": [
           {
            "colorbar": {
             "outlinewidth": 0,
             "ticks": ""
            },
            "type": "choropleth"
           }
          ],
          "contour": [
           {
            "colorbar": {
             "outlinewidth": 0,
             "ticks": ""
            },
            "colorscale": [
             [
              0,
              "#0d0887"
             ],
             [
              0.1111111111111111,
              "#46039f"
             ],
             [
              0.2222222222222222,
              "#7201a8"
             ],
             [
              0.3333333333333333,
              "#9c179e"
             ],
             [
              0.4444444444444444,
              "#bd3786"
             ],
             [
              0.5555555555555556,
              "#d8576b"
             ],
             [
              0.6666666666666666,
              "#ed7953"
             ],
             [
              0.7777777777777778,
              "#fb9f3a"
             ],
             [
              0.8888888888888888,
              "#fdca26"
             ],
             [
              1,
              "#f0f921"
             ]
            ],
            "type": "contour"
           }
          ],
          "contourcarpet": [
           {
            "colorbar": {
             "outlinewidth": 0,
             "ticks": ""
            },
            "type": "contourcarpet"
           }
          ],
          "heatmap": [
           {
            "colorbar": {
             "outlinewidth": 0,
             "ticks": ""
            },
            "colorscale": [
             [
              0,
              "#0d0887"
             ],
             [
              0.1111111111111111,
              "#46039f"
             ],
             [
              0.2222222222222222,
              "#7201a8"
             ],
             [
              0.3333333333333333,
              "#9c179e"
             ],
             [
              0.4444444444444444,
              "#bd3786"
             ],
             [
              0.5555555555555556,
              "#d8576b"
             ],
             [
              0.6666666666666666,
              "#ed7953"
             ],
             [
              0.7777777777777778,
              "#fb9f3a"
             ],
             [
              0.8888888888888888,
              "#fdca26"
             ],
             [
              1,
              "#f0f921"
             ]
            ],
            "type": "heatmap"
           }
          ],
          "heatmapgl": [
           {
            "colorbar": {
             "outlinewidth": 0,
             "ticks": ""
            },
            "colorscale": [
             [
              0,
              "#0d0887"
             ],
             [
              0.1111111111111111,
              "#46039f"
             ],
             [
              0.2222222222222222,
              "#7201a8"
             ],
             [
              0.3333333333333333,
              "#9c179e"
             ],
             [
              0.4444444444444444,
              "#bd3786"
             ],
             [
              0.5555555555555556,
              "#d8576b"
             ],
             [
              0.6666666666666666,
              "#ed7953"
             ],
             [
              0.7777777777777778,
              "#fb9f3a"
             ],
             [
              0.8888888888888888,
              "#fdca26"
             ],
             [
              1,
              "#f0f921"
             ]
            ],
            "type": "heatmapgl"
           }
          ],
          "histogram": [
           {
            "marker": {
             "pattern": {
              "fillmode": "overlay",
              "size": 10,
              "solidity": 0.2
             }
            },
            "type": "histogram"
           }
          ],
          "histogram2d": [
           {
            "colorbar": {
             "outlinewidth": 0,
             "ticks": ""
            },
            "colorscale": [
             [
              0,
              "#0d0887"
             ],
             [
              0.1111111111111111,
              "#46039f"
             ],
             [
              0.2222222222222222,
              "#7201a8"
             ],
             [
              0.3333333333333333,
              "#9c179e"
             ],
             [
              0.4444444444444444,
              "#bd3786"
             ],
             [
              0.5555555555555556,
              "#d8576b"
             ],
             [
              0.6666666666666666,
              "#ed7953"
             ],
             [
              0.7777777777777778,
              "#fb9f3a"
             ],
             [
              0.8888888888888888,
              "#fdca26"
             ],
             [
              1,
              "#f0f921"
             ]
            ],
            "type": "histogram2d"
           }
          ],
          "histogram2dcontour": [
           {
            "colorbar": {
             "outlinewidth": 0,
             "ticks": ""
            },
            "colorscale": [
             [
              0,
              "#0d0887"
             ],
             [
              0.1111111111111111,
              "#46039f"
             ],
             [
              0.2222222222222222,
              "#7201a8"
             ],
             [
              0.3333333333333333,
              "#9c179e"
             ],
             [
              0.4444444444444444,
              "#bd3786"
             ],
             [
              0.5555555555555556,
              "#d8576b"
             ],
             [
              0.6666666666666666,
              "#ed7953"
             ],
             [
              0.7777777777777778,
              "#fb9f3a"
             ],
             [
              0.8888888888888888,
              "#fdca26"
             ],
             [
              1,
              "#f0f921"
             ]
            ],
            "type": "histogram2dcontour"
           }
          ],
          "mesh3d": [
           {
            "colorbar": {
             "outlinewidth": 0,
             "ticks": ""
            },
            "type": "mesh3d"
           }
          ],
          "parcoords": [
           {
            "line": {
             "colorbar": {
              "outlinewidth": 0,
              "ticks": ""
             }
            },
            "type": "parcoords"
           }
          ],
          "pie": [
           {
            "automargin": true,
            "type": "pie"
           }
          ],
          "scatter": [
           {
            "fillpattern": {
             "fillmode": "overlay",
             "size": 10,
             "solidity": 0.2
            },
            "type": "scatter"
           }
          ],
          "scatter3d": [
           {
            "line": {
             "colorbar": {
              "outlinewidth": 0,
              "ticks": ""
             }
            },
            "marker": {
             "colorbar": {
              "outlinewidth": 0,
              "ticks": ""
             }
            },
            "type": "scatter3d"
           }
          ],
          "scattercarpet": [
           {
            "marker": {
             "colorbar": {
              "outlinewidth": 0,
              "ticks": ""
             }
            },
            "type": "scattercarpet"
           }
          ],
          "scattergeo": [
           {
            "marker": {
             "colorbar": {
              "outlinewidth": 0,
              "ticks": ""
             }
            },
            "type": "scattergeo"
           }
          ],
          "scattergl": [
           {
            "marker": {
             "colorbar": {
              "outlinewidth": 0,
              "ticks": ""
             }
            },
            "type": "scattergl"
           }
          ],
          "scattermapbox": [
           {
            "marker": {
             "colorbar": {
              "outlinewidth": 0,
              "ticks": ""
             }
            },
            "type": "scattermapbox"
           }
          ],
          "scatterpolar": [
           {
            "marker": {
             "colorbar": {
              "outlinewidth": 0,
              "ticks": ""
             }
            },
            "type": "scatterpolar"
           }
          ],
          "scatterpolargl": [
           {
            "marker": {
             "colorbar": {
              "outlinewidth": 0,
              "ticks": ""
             }
            },
            "type": "scatterpolargl"
           }
          ],
          "scatterternary": [
           {
            "marker": {
             "colorbar": {
              "outlinewidth": 0,
              "ticks": ""
             }
            },
            "type": "scatterternary"
           }
          ],
          "surface": [
           {
            "colorbar": {
             "outlinewidth": 0,
             "ticks": ""
            },
            "colorscale": [
             [
              0,
              "#0d0887"
             ],
             [
              0.1111111111111111,
              "#46039f"
             ],
             [
              0.2222222222222222,
              "#7201a8"
             ],
             [
              0.3333333333333333,
              "#9c179e"
             ],
             [
              0.4444444444444444,
              "#bd3786"
             ],
             [
              0.5555555555555556,
              "#d8576b"
             ],
             [
              0.6666666666666666,
              "#ed7953"
             ],
             [
              0.7777777777777778,
              "#fb9f3a"
             ],
             [
              0.8888888888888888,
              "#fdca26"
             ],
             [
              1,
              "#f0f921"
             ]
            ],
            "type": "surface"
           }
          ],
          "table": [
           {
            "cells": {
             "fill": {
              "color": "#EBF0F8"
             },
             "line": {
              "color": "white"
             }
            },
            "header": {
             "fill": {
              "color": "#C8D4E3"
             },
             "line": {
              "color": "white"
             }
            },
            "type": "table"
           }
          ]
         },
         "layout": {
          "annotationdefaults": {
           "arrowcolor": "#2a3f5f",
           "arrowhead": 0,
           "arrowwidth": 1
          },
          "autotypenumbers": "strict",
          "coloraxis": {
           "colorbar": {
            "outlinewidth": 0,
            "ticks": ""
           }
          },
          "colorscale": {
           "diverging": [
            [
             0,
             "#8e0152"
            ],
            [
             0.1,
             "#c51b7d"
            ],
            [
             0.2,
             "#de77ae"
            ],
            [
             0.3,
             "#f1b6da"
            ],
            [
             0.4,
             "#fde0ef"
            ],
            [
             0.5,
             "#f7f7f7"
            ],
            [
             0.6,
             "#e6f5d0"
            ],
            [
             0.7,
             "#b8e186"
            ],
            [
             0.8,
             "#7fbc41"
            ],
            [
             0.9,
             "#4d9221"
            ],
            [
             1,
             "#276419"
            ]
           ],
           "sequential": [
            [
             0,
             "#0d0887"
            ],
            [
             0.1111111111111111,
             "#46039f"
            ],
            [
             0.2222222222222222,
             "#7201a8"
            ],
            [
             0.3333333333333333,
             "#9c179e"
            ],
            [
             0.4444444444444444,
             "#bd3786"
            ],
            [
             0.5555555555555556,
             "#d8576b"
            ],
            [
             0.6666666666666666,
             "#ed7953"
            ],
            [
             0.7777777777777778,
             "#fb9f3a"
            ],
            [
             0.8888888888888888,
             "#fdca26"
            ],
            [
             1,
             "#f0f921"
            ]
           ],
           "sequentialminus": [
            [
             0,
             "#0d0887"
            ],
            [
             0.1111111111111111,
             "#46039f"
            ],
            [
             0.2222222222222222,
             "#7201a8"
            ],
            [
             0.3333333333333333,
             "#9c179e"
            ],
            [
             0.4444444444444444,
             "#bd3786"
            ],
            [
             0.5555555555555556,
             "#d8576b"
            ],
            [
             0.6666666666666666,
             "#ed7953"
            ],
            [
             0.7777777777777778,
             "#fb9f3a"
            ],
            [
             0.8888888888888888,
             "#fdca26"
            ],
            [
             1,
             "#f0f921"
            ]
           ]
          },
          "colorway": [
           "#636efa",
           "#EF553B",
           "#00cc96",
           "#ab63fa",
           "#FFA15A",
           "#19d3f3",
           "#FF6692",
           "#B6E880",
           "#FF97FF",
           "#FECB52"
          ],
          "font": {
           "color": "#2a3f5f"
          },
          "geo": {
           "bgcolor": "white",
           "lakecolor": "white",
           "landcolor": "white",
           "showlakes": true,
           "showland": true,
           "subunitcolor": "#C8D4E3"
          },
          "hoverlabel": {
           "align": "left"
          },
          "hovermode": "closest",
          "mapbox": {
           "style": "light"
          },
          "paper_bgcolor": "white",
          "plot_bgcolor": "white",
          "polar": {
           "angularaxis": {
            "gridcolor": "#EBF0F8",
            "linecolor": "#EBF0F8",
            "ticks": ""
           },
           "bgcolor": "white",
           "radialaxis": {
            "gridcolor": "#EBF0F8",
            "linecolor": "#EBF0F8",
            "ticks": ""
           }
          },
          "scene": {
           "xaxis": {
            "backgroundcolor": "white",
            "gridcolor": "#DFE8F3",
            "gridwidth": 2,
            "linecolor": "#EBF0F8",
            "showbackground": true,
            "ticks": "",
            "zerolinecolor": "#EBF0F8"
           },
           "yaxis": {
            "backgroundcolor": "white",
            "gridcolor": "#DFE8F3",
            "gridwidth": 2,
            "linecolor": "#EBF0F8",
            "showbackground": true,
            "ticks": "",
            "zerolinecolor": "#EBF0F8"
           },
           "zaxis": {
            "backgroundcolor": "white",
            "gridcolor": "#DFE8F3",
            "gridwidth": 2,
            "linecolor": "#EBF0F8",
            "showbackground": true,
            "ticks": "",
            "zerolinecolor": "#EBF0F8"
           }
          },
          "shapedefaults": {
           "line": {
            "color": "#2a3f5f"
           }
          },
          "ternary": {
           "aaxis": {
            "gridcolor": "#DFE8F3",
            "linecolor": "#A2B1C6",
            "ticks": ""
           },
           "baxis": {
            "gridcolor": "#DFE8F3",
            "linecolor": "#A2B1C6",
            "ticks": ""
           },
           "bgcolor": "white",
           "caxis": {
            "gridcolor": "#DFE8F3",
            "linecolor": "#A2B1C6",
            "ticks": ""
           }
          },
          "title": {
           "x": 0.05
          },
          "xaxis": {
           "automargin": true,
           "gridcolor": "#EBF0F8",
           "linecolor": "#EBF0F8",
           "ticks": "",
           "title": {
            "standoff": 15
           },
           "zerolinecolor": "#EBF0F8",
           "zerolinewidth": 2
          },
          "yaxis": {
           "automargin": true,
           "gridcolor": "#EBF0F8",
           "linecolor": "#EBF0F8",
           "ticks": "",
           "title": {
            "standoff": 15
           },
           "zerolinecolor": "#EBF0F8",
           "zerolinewidth": 2
          }
         }
        },
        "title": {
         "font": {
          "color": "Black",
          "size": 22
         },
         "text": "Topic Word Scores",
         "x": 0.5,
         "xanchor": "center",
         "yanchor": "top"
        },
        "width": 1000,
        "xaxis": {
         "anchor": "y",
         "domain": [
          0,
          0.175
         ],
         "showgrid": true
        },
        "xaxis10": {
         "anchor": "y10",
         "domain": [
          0.275,
          0.45
         ],
         "showgrid": true
        },
        "xaxis11": {
         "anchor": "y11",
         "domain": [
          0.55,
          0.7250000000000001
         ],
         "showgrid": true
        },
        "xaxis12": {
         "anchor": "y12",
         "domain": [
          0.825,
          1
         ],
         "showgrid": true
        },
        "xaxis13": {
         "anchor": "y13",
         "domain": [
          0,
          0.175
         ],
         "showgrid": true
        },
        "xaxis14": {
         "anchor": "y14",
         "domain": [
          0.275,
          0.45
         ],
         "showgrid": true
        },
        "xaxis15": {
         "anchor": "y15",
         "domain": [
          0.55,
          0.7250000000000001
         ],
         "showgrid": true
        },
        "xaxis16": {
         "anchor": "y16",
         "domain": [
          0.825,
          1
         ],
         "showgrid": true
        },
        "xaxis17": {
         "anchor": "y17",
         "domain": [
          0,
          0.175
         ],
         "showgrid": true
        },
        "xaxis18": {
         "anchor": "y18",
         "domain": [
          0.275,
          0.45
         ],
         "showgrid": true
        },
        "xaxis19": {
         "anchor": "y19",
         "domain": [
          0.55,
          0.7250000000000001
         ],
         "showgrid": true
        },
        "xaxis2": {
         "anchor": "y2",
         "domain": [
          0.275,
          0.45
         ],
         "showgrid": true
        },
        "xaxis20": {
         "anchor": "y20",
         "domain": [
          0.825,
          1
         ],
         "showgrid": true
        },
        "xaxis3": {
         "anchor": "y3",
         "domain": [
          0.55,
          0.7250000000000001
         ],
         "showgrid": true
        },
        "xaxis4": {
         "anchor": "y4",
         "domain": [
          0.825,
          1
         ],
         "showgrid": true
        },
        "xaxis5": {
         "anchor": "y5",
         "domain": [
          0,
          0.175
         ],
         "showgrid": true
        },
        "xaxis6": {
         "anchor": "y6",
         "domain": [
          0.275,
          0.45
         ],
         "showgrid": true
        },
        "xaxis7": {
         "anchor": "y7",
         "domain": [
          0.55,
          0.7250000000000001
         ],
         "showgrid": true
        },
        "xaxis8": {
         "anchor": "y8",
         "domain": [
          0.825,
          1
         ],
         "showgrid": true
        },
        "xaxis9": {
         "anchor": "y9",
         "domain": [
          0,
          0.175
         ],
         "showgrid": true
        },
        "yaxis": {
         "anchor": "x",
         "domain": [
          0.8639999999999999,
          0.9999999999999999
         ],
         "showgrid": true
        },
        "yaxis10": {
         "anchor": "x10",
         "domain": [
          0.43199999999999994,
          0.568
         ],
         "showgrid": true
        },
        "yaxis11": {
         "anchor": "x11",
         "domain": [
          0.43199999999999994,
          0.568
         ],
         "showgrid": true
        },
        "yaxis12": {
         "anchor": "x12",
         "domain": [
          0.43199999999999994,
          0.568
         ],
         "showgrid": true
        },
        "yaxis13": {
         "anchor": "x13",
         "domain": [
          0.21599999999999997,
          0.352
         ],
         "showgrid": true
        },
        "yaxis14": {
         "anchor": "x14",
         "domain": [
          0.21599999999999997,
          0.352
         ],
         "showgrid": true
        },
        "yaxis15": {
         "anchor": "x15",
         "domain": [
          0.21599999999999997,
          0.352
         ],
         "showgrid": true
        },
        "yaxis16": {
         "anchor": "x16",
         "domain": [
          0.21599999999999997,
          0.352
         ],
         "showgrid": true
        },
        "yaxis17": {
         "anchor": "x17",
         "domain": [
          0,
          0.13599999999999998
         ],
         "showgrid": true
        },
        "yaxis18": {
         "anchor": "x18",
         "domain": [
          0,
          0.13599999999999998
         ],
         "showgrid": true
        },
        "yaxis19": {
         "anchor": "x19",
         "domain": [
          0,
          0.13599999999999998
         ],
         "showgrid": true
        },
        "yaxis2": {
         "anchor": "x2",
         "domain": [
          0.8639999999999999,
          0.9999999999999999
         ],
         "showgrid": true
        },
        "yaxis20": {
         "anchor": "x20",
         "domain": [
          0,
          0.13599999999999998
         ],
         "showgrid": true
        },
        "yaxis3": {
         "anchor": "x3",
         "domain": [
          0.8639999999999999,
          0.9999999999999999
         ],
         "showgrid": true
        },
        "yaxis4": {
         "anchor": "x4",
         "domain": [
          0.8639999999999999,
          0.9999999999999999
         ],
         "showgrid": true
        },
        "yaxis5": {
         "anchor": "x5",
         "domain": [
          0.6479999999999999,
          0.7839999999999999
         ],
         "showgrid": true
        },
        "yaxis6": {
         "anchor": "x6",
         "domain": [
          0.6479999999999999,
          0.7839999999999999
         ],
         "showgrid": true
        },
        "yaxis7": {
         "anchor": "x7",
         "domain": [
          0.6479999999999999,
          0.7839999999999999
         ],
         "showgrid": true
        },
        "yaxis8": {
         "anchor": "x8",
         "domain": [
          0.6479999999999999,
          0.7839999999999999
         ],
         "showgrid": true
        },
        "yaxis9": {
         "anchor": "x9",
         "domain": [
          0.43199999999999994,
          0.568
         ],
         "showgrid": true
        }
       }
      }
     },
     "metadata": {},
     "output_type": "display_data"
    }
   ],
   "source": [
    "# 부정 리뷰\n",
    "topic_model_negative.visualize_barchart(top_n_topics=20)"
   ]
  },
  {
   "cell_type": "code",
   "execution_count": 19,
   "metadata": {},
   "outputs": [
    {
     "data": {
      "application/vnd.plotly.v1+json": {
       "config": {
        "plotlyServerURL": "https://plot.ly"
       },
       "data": [
        {
         "coloraxis": "coloraxis",
         "hovertemplate": "x: %{x}<br>y: %{y}<br>Similarity Score: %{z}<extra></extra>",
         "name": "0",
         "type": "heatmap",
         "x": [
          "0_free_play_best",
          "1_uwu_goooo_aha",
          "2_graphics_design_beautiful",
          "3_grind_grinding_grindy",
          "4_community_friendly_helpful",
          "5_story_lore_quests",
          "6_recommend_try_would",
          "7_devs_dev_developers",
          "8_hours_played_seems",
          "9_movement_combat_satisfying",
          "10_fp_best_one",
          "11_this_game_amazing",
          "12_warframe_is_games",
          "13_pay_everything_cosmetics",
          "14_space_ninja_ninjas",
          "15_friends_with_friend",
          "16_updates_update_updating",
          "17_love_loved_had",
          "18_warframe_is_grew",
          "19_shooter_person_third",
          "20_addictive_addicting_addi...",
          "21_worth_regret_wont",
          "22_coop_co_op",
          "23_highly_recommended_recom...",
          "24_love_this_like",
          "25_received_product_free",
          "26_platinum_currency_premium",
          "27_content_polish_do",
          "28_good_pretty_its",
          "29_warframe_playing_now",
          "30_free_its_try",
          "31_weapons_frame_mods",
          "32_free_warframe_play",
          "33_weapons_modding_different",
          "34_farming_farm_simulator",
          "35_nice_cheers_amazing",
          "36_we_honey_hive",
          "37_yes_yesyesyesyesyes_yesy...",
          "38_ninja_ninjas_badass",
          "39_customization_options_pl...",
          "40_solo_friends_public",
          "41_mission_missions_variety",
          "42_destiny_than_better",
          "43_digital_extremes_their",
          "44_fun_its_damn",
          "45_review_reviews_positive",
          "46_here_reborn_brought",
          "47_destiny_than_better",
          "48_good_owo_goodgame",
          "49_played_ever_best",
          "50_pros_cons_you",
          "51_tenno_next_luck",
          "52_cool_awesome_its",
          "53_freetoplay_best_one",
          "54_fun_discovered_tf",
          "55_fair_monetization_fp",
          "56_open_fortuna_world",
          "57_fun_had_ending",
          "58_coop_or_solo",
          "59_warframe_new_developers",
          "60_beta_since_closed",
          "61_tutorial_guides_tutorials",
          "62_good_very_pretty",
          "63_de_fans_their",
          "64_okay_its_ight",
          "65_best_ever_historically",
          "66_experience_an_enhances",
          "67_received_product_free",
          "68_map_gameplay_smooth",
          "69_changed_none_better",
          "70_guess_alright_ok",
          "71_brain_stronger_joy",
          "72_gud_iz_frends",
          "73_awesome_totally_game",
          "74_great_game_wonderful",
          "75_decent_hunting_good",
          "76_grinding_warframe_think",
          "77_pve_pvp_likes",
          "78_clan_rooms_dojo",
          "79_edit_still_ok",
          "80_cross_save_playing",
          "81_loop_gameplay_core",
          "82_freetoplay_sets_example",
          "83_good_hope_",
          "84_warframes_abilities_vari...",
          "85_adding_keep_new",
          "86_learn_easy_controls"
         ],
         "xaxis": "x",
         "y": [
          "0_free_play_best",
          "1_uwu_goooo_aha",
          "2_graphics_design_beautiful",
          "3_grind_grinding_grindy",
          "4_community_friendly_helpful",
          "5_story_lore_quests",
          "6_recommend_try_would",
          "7_devs_dev_developers",
          "8_hours_played_seems",
          "9_movement_combat_satisfying",
          "10_fp_best_one",
          "11_this_game_amazing",
          "12_warframe_is_games",
          "13_pay_everything_cosmetics",
          "14_space_ninja_ninjas",
          "15_friends_with_friend",
          "16_updates_update_updating",
          "17_love_loved_had",
          "18_warframe_is_grew",
          "19_shooter_person_third",
          "20_addictive_addicting_addi...",
          "21_worth_regret_wont",
          "22_coop_co_op",
          "23_highly_recommended_recom...",
          "24_love_this_like",
          "25_received_product_free",
          "26_platinum_currency_premium",
          "27_content_polish_do",
          "28_good_pretty_its",
          "29_warframe_playing_now",
          "30_free_its_try",
          "31_weapons_frame_mods",
          "32_free_warframe_play",
          "33_weapons_modding_different",
          "34_farming_farm_simulator",
          "35_nice_cheers_amazing",
          "36_we_honey_hive",
          "37_yes_yesyesyesyesyes_yesy...",
          "38_ninja_ninjas_badass",
          "39_customization_options_pl...",
          "40_solo_friends_public",
          "41_mission_missions_variety",
          "42_destiny_than_better",
          "43_digital_extremes_their",
          "44_fun_its_damn",
          "45_review_reviews_positive",
          "46_here_reborn_brought",
          "47_destiny_than_better",
          "48_good_owo_goodgame",
          "49_played_ever_best",
          "50_pros_cons_you",
          "51_tenno_next_luck",
          "52_cool_awesome_its",
          "53_freetoplay_best_one",
          "54_fun_discovered_tf",
          "55_fair_monetization_fp",
          "56_open_fortuna_world",
          "57_fun_had_ending",
          "58_coop_or_solo",
          "59_warframe_new_developers",
          "60_beta_since_closed",
          "61_tutorial_guides_tutorials",
          "62_good_very_pretty",
          "63_de_fans_their",
          "64_okay_its_ight",
          "65_best_ever_historically",
          "66_experience_an_enhances",
          "67_received_product_free",
          "68_map_gameplay_smooth",
          "69_changed_none_better",
          "70_guess_alright_ok",
          "71_brain_stronger_joy",
          "72_gud_iz_frends",
          "73_awesome_totally_game",
          "74_great_game_wonderful",
          "75_decent_hunting_good",
          "76_grinding_warframe_think",
          "77_pve_pvp_likes",
          "78_clan_rooms_dojo",
          "79_edit_still_ok",
          "80_cross_save_playing",
          "81_loop_gameplay_core",
          "82_freetoplay_sets_example",
          "83_good_hope_",
          "84_warframes_abilities_vari...",
          "85_adding_keep_new",
          "86_learn_easy_controls"
         ],
         "yaxis": "y",
         "z": [
          [
           1.000000238418579,
           0.1909605860710144,
           0.5741029381752014,
           0.595771312713623,
           0.5411200523376465,
           0.4888954758644104,
           0.726008951663971,
           0.5730188488960266,
           0.6024181246757507,
           0.5326509475708008,
           0.6128541231155396,
           0.6776238679885864,
           0.5530883073806763,
           0.6556317806243896,
           0.4480213522911072,
           0.6228787899017334,
           0.46957892179489136,
           0.34319353103637695,
           0.37696439027786255,
           0.6106393337249756,
           0.6452007293701172,
           0.4578089416027069,
           0.569176971912384,
           0.3639727234840393,
           0.5971824526786804,
           0.8083961606025696,
           0.47652649879455566,
           0.545894980430603,
           0.3889142870903015,
           0.528016209602356,
           0.7398808002471924,
           0.3945627808570862,
           0.7767609357833862,
           0.4397352635860443,
           0.6075766086578369,
           0.22665730118751526,
           0.1806063950061798,
           0.18624459207057953,
           0.47917601466178894,
           0.3857893943786621,
           0.6183604001998901,
           0.4805867671966553,
           0.4324858784675598,
           0.5297499299049377,
           0.4846888780593872,
           0.4976276159286499,
           0.17729312181472778,
           0.696260929107666,
           0.46441394090652466,
           0.6131091117858887,
           0.6750226616859436,
           0.2706090807914734,
           0.327365517616272,
           0.7618693113327026,
           0.6079311370849609,
           0.7056678533554077,
           0.4746648073196411,
           0.39945295453071594,
           0.5494837164878845,
           0.4389714002609253,
           0.6094963550567627,
           0.37696748971939087,
           0.20625722408294678,
           0.5383777618408203,
           0.22105561196804047,
           0.6186363697052002,
           0.3503921926021576,
           0.5456897616386414,
           0.676810085773468,
           0.4235302805900574,
           0.22256475687026978,
           0.2055521309375763,
           0.30777421593666077,
           0.5104830861091614,
           0.49414801597595215,
           0.577338695526123,
           0.4966895580291748,
           0.561560869216919,
           0.4156986176967621,
           0.49744510650634766,
           0.5914566516876221,
           0.5060775279998779,
           0.6836974620819092,
           0.16858255863189697,
           0.3892212212085724,
           0.39812254905700684,
           0.6387749910354614
          ],
          [
           0.1909605860710144,
           1.0000001192092896,
           0.20166559517383575,
           0.15729185938835144,
           0.2889105975627899,
           0.12676475942134857,
           0.16345974802970886,
           0.22847232222557068,
           0.17281261086463928,
           0.18876072764396667,
           0.2023320198059082,
           0.25122418999671936,
           0.11067400872707367,
           0.16024671494960785,
           0.20529720187187195,
           0.2066650092601776,
           0.20385542511940002,
           0.3443249464035034,
           0.15304380655288696,
           0.15044602751731873,
           0.1878090649843216,
           0.1709458827972412,
           0.17000393569469452,
           0.1868334412574768,
           0.2782916724681854,
           0.2237841635942459,
           0.11005673557519913,
           0.1953260749578476,
           0.335038959980011,
           0.1359521448612213,
           0.19244396686553955,
           0.1450713574886322,
           0.12531724572181702,
           0.12236130237579346,
           0.1432075798511505,
           0.549716591835022,
           0.39839431643486023,
           0.4898509979248047,
           0.18584775924682617,
           0.1871262788772583,
           0.1223178431391716,
           0.16281145811080933,
           0.1372353583574295,
           0.16133424639701843,
           0.2260441780090332,
           0.18225613236427307,
           0.18782463669776917,
           0.13952793180942535,
           0.4000534117221832,
           0.203892782330513,
           0.14306741952896118,
           0.15285006165504456,
           0.3733453154563904,
           0.16886034607887268,
           0.27258050441741943,
           0.17518702149391174,
           0.07687390595674515,
           0.3201639652252197,
           0.1317918449640274,
           0.15976592898368835,
           0.18692366778850555,
           0.09545700252056122,
           0.3561181426048279,
           0.18798500299453735,
           0.3548211455345154,
           0.22291342914104462,
           0.25770944356918335,
           0.23633071780204773,
           0.165098637342453,
           0.14605620503425598,
           0.2687414586544037,
           0.2312198281288147,
           0.252331405878067,
           0.3500630855560303,
           0.36025822162628174,
           0.32072240114212036,
           0.08730398118495941,
           0.1541973501443863,
           0.18100114166736603,
           0.2078767716884613,
           0.2061973512172699,
           0.15108680725097656,
           0.12139281630516052,
           0.5786141753196716,
           0.10717353224754333,
           0.16303575038909912,
           0.12401598691940308
          ],
          [
           0.5741029381752014,
           0.20166559517383575,
           1,
           0.5473134517669678,
           0.48290151357650757,
           0.6396790742874146,
           0.6772474646568298,
           0.5933346748352051,
           0.5928229093551636,
           0.6946485042572021,
           0.5909982323646545,
           0.7153744697570801,
           0.6303845643997192,
           0.44407373666763306,
           0.48764675855636597,
           0.518813967704773,
           0.553227424621582,
           0.4785773754119873,
           0.5761058330535889,
           0.639644980430603,
           0.5612581968307495,
           0.45053091645240784,
           0.5349944829940796,
           0.4719204008579254,
           0.5829387307167053,
           0.4021431803703308,
           0.32918083667755127,
           0.6488007307052612,
           0.47554683685302734,
           0.5322542190551758,
           0.4026528000831604,
           0.5862215757369995,
           0.5542835593223572,
           0.5262110233306885,
           0.5375467538833618,
           0.3780590295791626,
           0.2738161087036133,
           0.21118509769439697,
           0.5033667087554932,
           0.6564421057701111,
           0.47195565700531006,
           0.5331859588623047,
           0.40049266815185547,
           0.5898922085762024,
           0.4578278958797455,
           0.5761294960975647,
           0.20637546479701996,
           0.4940173625946045,
           0.3988763988018036,
           0.5890455842018127,
           0.6400622725486755,
           0.27970290184020996,
           0.5148385763168335,
           0.5933599472045898,
           0.5034792423248291,
           0.4849023222923279,
           0.6237311363220215,
           0.4049072861671448,
           0.5207356214523315,
           0.5519846677780151,
           0.5759255290031433,
           0.4465217590332031,
           0.3894285559654236,
           0.5307403802871704,
           0.24268336594104767,
           0.5597054958343506,
           0.502470850944519,
           0.22511084377765656,
           0.8177830576896667,
           0.5206093788146973,
           0.27465417981147766,
           0.23967194557189941,
           0.3042295575141907,
           0.5300672054290771,
           0.4615609049797058,
           0.5959257483482361,
           0.5239922404289246,
           0.5055301189422607,
           0.3832433819770813,
           0.4716413915157318,
           0.5055665373802185,
           0.6131932735443115,
           0.6092497110366821,
           0.1730937659740448,
           0.5660970211029053,
           0.46130579710006714,
           0.5870980620384216
          ],
          [
           0.595771312713623,
           0.15729185938835144,
           0.5473134517669678,
           0.9999998807907104,
           0.5225976705551147,
           0.6063663959503174,
           0.6651347279548645,
           0.4886747896671295,
           0.6072948575019836,
           0.597598671913147,
           0.5140863656997681,
           0.6171724200248718,
           0.5038319826126099,
           0.5870199799537659,
           0.5172504782676697,
           0.5891507863998413,
           0.4866718649864197,
           0.3625526428222656,
           0.3870842456817627,
           0.540181040763855,
           0.6848608255386353,
           0.47935742139816284,
           0.5618640184402466,
           0.36944591999053955,
           0.5406280755996704,
           0.4764653742313385,
           0.49859100580215454,
           0.5869868993759155,
           0.4054906964302063,
           0.5119621157646179,
           0.3866560459136963,
           0.48839300870895386,
           0.5089964270591736,
           0.5860605835914612,
           0.7007595896720886,
           0.21495340764522552,
           0.2632681727409363,
           0.17382782697677612,
           0.5283693075180054,
           0.42864543199539185,
           0.6101369261741638,
           0.6212607622146606,
           0.4381343126296997,
           0.4618068337440491,
           0.548365592956543,
           0.46535733342170715,
           0.170156329870224,
           0.5444215536117554,
           0.3782409429550171,
           0.5137006044387817,
           0.5869982242584229,
           0.3121986985206604,
           0.3602529466152191,
           0.47882357239723206,
           0.5601023435592651,
           0.5502934455871582,
           0.5084831714630127,
           0.4143204689025879,
           0.5259950757026672,
           0.43467772006988525,
           0.5476930141448975,
           0.43423908948898315,
           0.24985912442207336,
           0.4869903326034546,
           0.24001559615135193,
           0.459256112575531,
           0.40910887718200684,
           0.26653340458869934,
           0.6699857711791992,
           0.44166100025177,
           0.28099268674850464,
           0.37035369873046875,
           0.3086569905281067,
           0.4367113709449768,
           0.364662230014801,
           0.48219871520996094,
           0.7413407564163208,
           0.5942240953445435,
           0.4992843568325043,
           0.3689345717430115,
           0.5411040782928467,
           0.5676406621932983,
           0.477069616317749,
           0.18842269480228424,
           0.412081241607666,
           0.4417687952518463,
           0.6298514604568481
          ],
          [
           0.5411200523376465,
           0.2889105975627899,
           0.48290151357650757,
           0.5225976705551147,
           0.9999996423721313,
           0.5051156282424927,
           0.5756710767745972,
           0.6696590781211853,
           0.502958357334137,
           0.44512873888015747,
           0.4430340826511383,
           0.5599872469902039,
           0.4049248695373535,
           0.4327614903450012,
           0.3791638910770416,
           0.6534963846206665,
           0.49157702922821045,
           0.3680385947227478,
           0.3306688964366913,
           0.46336767077445984,
           0.5551323294639587,
           0.35683414340019226,
           0.58415687084198,
           0.32299911975860596,
           0.4535156488418579,
           0.4490811824798584,
           0.36713433265686035,
           0.5558274984359741,
           0.39876478910446167,
           0.4559497833251953,
           0.37581348419189453,
           0.36673077940940857,
           0.41794079542160034,
           0.397105872631073,
           0.5166884660720825,
           0.34828981757164,
           0.40141934156417847,
           0.22920572757720947,
           0.41076338291168213,
           0.40450912714004517,
           0.6366633176803589,
           0.483151376247406,
           0.33902621269226074,
           0.46056824922561646,
           0.4754748046398163,
           0.5447205305099487,
           0.33225110173225403,
           0.44546228647232056,
           0.3544110059738159,
           0.4296228587627411,
           0.5611743927001953,
           0.3254033029079437,
           0.40777459740638733,
           0.4222286641597748,
           0.4771479368209839,
           0.4913502037525177,
           0.4802742898464203,
           0.4231299161911011,
           0.5115209817886353,
           0.45015811920166016,
           0.5531545877456665,
           0.4652372896671295,
           0.3025246858596802,
           0.5035721063613892,
           0.29878848791122437,
           0.38991910219192505,
           0.43421104550361633,
           0.2844422459602356,
           0.5378660559654236,
           0.42279136180877686,
           0.30978646874427795,
           0.419802725315094,
           0.24656954407691956,
           0.41780203580856323,
           0.36272111535072327,
           0.4427133798599243,
           0.42167750000953674,
           0.5323337316513062,
           0.6438436508178711,
           0.4228688180446625,
           0.5016251802444458,
           0.40463897585868835,
           0.4108494520187378,
           0.2540537118911743,
           0.30241096019744873,
           0.47879189252853394,
           0.5231309533119202
          ],
          [
           0.4888954758644104,
           0.12676475942134857,
           0.6396790742874146,
           0.6063663959503174,
           0.5051156282424927,
           1.000000238418579,
           0.6952232122421265,
           0.5564020872116089,
           0.5944665670394897,
           0.6121499538421631,
           0.4997164011001587,
           0.671710729598999,
           0.5588186383247375,
           0.44959187507629395,
           0.49017322063446045,
           0.5433664321899414,
           0.5280838012695312,
           0.41919171810150146,
           0.47173017263412476,
           0.6065269708633423,
           0.593954861164093,
           0.40160098671913147,
           0.5458906292915344,
           0.35228902101516724,
           0.5634585618972778,
           0.3495868444442749,
           0.3719048500061035,
           0.714264988899231,
           0.36055535078048706,
           0.5296785235404968,
           0.24385157227516174,
           0.5064645409584045,
           0.4574778974056244,
           0.5331376791000366,
           0.5681347846984863,
           0.20819473266601562,
           0.289933443069458,
           0.15808430314064026,
           0.47441762685775757,
           0.46323132514953613,
           0.4835242033004761,
           0.6885064840316772,
           0.49899822473526,
           0.5161082744598389,
           0.47545841336250305,
           0.5860996246337891,
           0.2650514841079712,
           0.56156325340271,
           0.35839951038360596,
           0.5689116716384888,
           0.5099843740463257,
           0.3198385238647461,
           0.3768240809440613,
           0.4627605676651001,
           0.5323068499565125,
           0.4204348921775818,
           0.6452953815460205,
           0.3968321681022644,
           0.49409472942352295,
           0.4956987500190735,
           0.5819576978683472,
           0.4752047061920166,
           0.19081537425518036,
           0.5260077714920044,
           0.20510712265968323,
           0.4983356297016144,
           0.4891866445541382,
           0.13420148193836212,
           0.7101143598556519,
           0.5000787377357483,
           0.20544898509979248,
           0.3501262664794922,
           0.23912039399147034,
           0.44054919481277466,
           0.39027634263038635,
           0.4690359830856323,
           0.5362294912338257,
           0.5298118591308594,
           0.4615094065666199,
           0.442369282245636,
           0.5787397027015686,
           0.5583717823028564,
           0.48730844259262085,
           0.1537163257598877,
           0.48627519607543945,
           0.4919087588787079,
           0.5758436918258667
          ],
          [
           0.726008951663971,
           0.16345974802970886,
           0.6772474646568298,
           0.6651347279548645,
           0.5756710767745972,
           0.6952232122421265,
           1.0000001192092896,
           0.5513682961463928,
           0.7401672601699829,
           0.6542249917984009,
           0.6507343649864197,
           0.850227415561676,
           0.642251193523407,
           0.5268310308456421,
           0.5335729122161865,
           0.7341543436050415,
           0.49411725997924805,
           0.49426302313804626,
           0.4434346556663513,
           0.7313016057014465,
           0.7541384696960449,
           0.6106442213058472,
           0.6665511727333069,
           0.5588934421539307,
           0.783267080783844,
           0.523969292640686,
           0.43232834339141846,
           0.5899838209152222,
           0.4855947196483612,
           0.6075789928436279,
           0.3827213644981384,
           0.4630405008792877,
           0.5949567556381226,
           0.517536997795105,
           0.6669892072677612,
           0.28711867332458496,
           0.2491043508052826,
           0.23575615882873535,
           0.575003981590271,
           0.42515861988067627,
           0.6744297742843628,
           0.6028304100036621,
           0.46594613790512085,
           0.5224777460098267,
           0.6017460823059082,
           0.6974121332168579,
           0.2476072460412979,
           0.6151371598243713,
           0.5604643821716309,
           0.7671760320663452,
           0.6163926124572754,
           0.37805986404418945,
           0.44262218475341797,
           0.5638929605484009,
           0.7398734092712402,
           0.536705493927002,
           0.5874887108802795,
           0.5093291997909546,
           0.5778353810310364,
           0.44586658477783203,
           0.6876482367515564,
           0.5554031133651733,
           0.28762227296829224,
           0.6134927272796631,
           0.27020514011383057,
           0.6967869997024536,
           0.4518621265888214,
           0.23047739267349243,
           0.769008219242096,
           0.5040241479873657,
           0.2927451729774475,
           0.2828890085220337,
           0.3454594612121582,
           0.657436728477478,
           0.5920822024345398,
           0.7040170431137085,
           0.5555164813995361,
           0.6280328035354614,
           0.4807794690132141,
           0.5211423635482788,
           0.7366894483566284,
           0.6208420991897583,
           0.5274586081504822,
           0.18622452020645142,
           0.4513048529624939,
           0.37603139877319336,
           0.7672562599182129
          ],
          [
           0.5730188488960266,
           0.22847232222557068,
           0.5933346748352051,
           0.4886747896671295,
           0.6696590781211853,
           0.5564020872116089,
           0.5513682961463928,
           1.0000001192092896,
           0.5056725740432739,
           0.4733591675758362,
           0.5138905048370361,
           0.5874103307723999,
           0.4396781921386719,
           0.4535936415195465,
           0.4000556766986847,
           0.5326191782951355,
           0.6254833340644836,
           0.3282555639743805,
           0.35906803607940674,
           0.5115584135055542,
           0.4794287085533142,
           0.26129716634750366,
           0.5321299433708191,
           0.2523459196090698,
           0.509279191493988,
           0.4857094883918762,
           0.3456864356994629,
           0.6331861019134521,
           0.29815778136253357,
           0.44061100482940674,
           0.34955358505249023,
           0.4053671956062317,
           0.4452623128890991,
           0.4422134757041931,
           0.5311223268508911,
           0.25988852977752686,
           0.33527567982673645,
           0.17519739270210266,
           0.4058472514152527,
           0.46726852655410767,
           0.5116873979568481,
           0.5038524866104126,
           0.4520580768585205,
           0.687119722366333,
           0.38638341426849365,
           0.553010106086731,
           0.19080278277397156,
           0.5566673278808594,
           0.3664436936378479,
           0.4566079378128052,
           0.5890248417854309,
           0.23607131838798523,
           0.3286066949367523,
           0.46381694078445435,
           0.46721500158309937,
           0.5254141092300415,
           0.5076963305473328,
           0.35054898262023926,
           0.4630712866783142,
           0.5851647853851318,
           0.6208558082580566,
           0.4162505269050598,
           0.21259024739265442,
           0.6716158390045166,
           0.18335752189159393,
           0.4567875862121582,
           0.366399347782135,
           0.26405683159828186,
           0.6332697868347168,
           0.5164219737052917,
           0.19441728293895721,
           0.28923892974853516,
           0.26810431480407715,
           0.43187665939331055,
           0.39374595880508423,
           0.45624130964279175,
           0.40854525566101074,
           0.49586984515190125,
           0.5066436529159546,
           0.46630799770355225,
           0.4721313714981079,
           0.4877592921257019,
           0.4618087410926819,
           0.20367568731307983,
           0.3613864779472351,
           0.6116939783096313,
           0.5144392251968384
          ],
          [
           0.6024181246757507,
           0.17281261086463928,
           0.5928229093551636,
           0.6072948575019836,
           0.502958357334137,
           0.5944665670394897,
           0.7401672601699829,
           0.5056725740432739,
           1.0000001192092896,
           0.5825507044792175,
           0.5493963360786438,
           0.7099329233169556,
           0.5234102010726929,
           0.425442636013031,
           0.4057242274284363,
           0.6506747603416443,
           0.5187402963638306,
           0.4868031144142151,
           0.40285950899124146,
           0.5582590103149414,
           0.6739168167114258,
           0.5666850805282593,
           0.554668664932251,
           0.38885605335235596,
           0.6032211780548096,
           0.43384236097335815,
           0.3440132439136505,
           0.5828433036804199,
           0.5684648752212524,
           0.6072279214859009,
           0.3148694336414337,
           0.3811711072921753,
           0.4734146296977997,
           0.4332858920097351,
           0.5991008281707764,
           0.36542296409606934,
           0.3078252375125885,
           0.23170526325702667,
           0.447271466255188,
           0.3510834276676178,
           0.6005207896232605,
           0.5221434831619263,
           0.4280761480331421,
           0.4307188391685486,
           0.5854628086090088,
           0.5896142721176147,
           0.27724239230155945,
           0.5196003913879395,
           0.5026001334190369,
           0.623199462890625,
           0.5199469327926636,
           0.35187244415283203,
           0.4454604983329773,
           0.4241288900375366,
           0.6305651068687439,
           0.437630832195282,
           0.4660899043083191,
           0.4992300271987915,
           0.4865582585334778,
           0.4340554177761078,
           0.6473205089569092,
           0.41272664070129395,
           0.41587990522384644,
           0.553076982498169,
           0.3738747835159302,
           0.5546844005584717,
           0.4742630124092102,
           0.21819700300693512,
           0.6759806275367737,
           0.5366833806037903,
           0.4226134419441223,
           0.2838909327983856,
           0.32408446073532104,
           0.5239931344985962,
           0.4986254572868347,
           0.6310031414031982,
           0.4901694059371948,
           0.5345654487609863,
           0.4304969310760498,
           0.5840215086936951,
           0.7441403865814209,
           0.5524568557739258,
           0.4206066131591797,
           0.2966705560684204,
           0.352433443069458,
           0.4364551603794098,
           0.6226329803466797
          ],
          [
           0.5326509475708008,
           0.18876072764396667,
           0.6946485042572021,
           0.597598671913147,
           0.44512873888015747,
           0.6121499538421631,
           0.6542249917984009,
           0.4733591675758362,
           0.5825507044792175,
           1.000000238418579,
           0.5548375844955444,
           0.6510978937149048,
           0.6088688373565674,
           0.39537158608436584,
           0.6560285091400146,
           0.5743581056594849,
           0.4322262406349182,
           0.4504232406616211,
           0.5801748037338257,
           0.7065544128417969,
           0.5841881036758423,
           0.39268144965171814,
           0.5732713937759399,
           0.41260993480682373,
           0.5821635723114014,
           0.39243602752685547,
           0.314362108707428,
           0.5502150058746338,
           0.404987096786499,
           0.540209949016571,
           0.30583956837654114,
           0.6460207104682922,
           0.5265786647796631,
           0.6692522764205933,
           0.5879154205322266,
           0.27378320693969727,
           0.3113533854484558,
           0.1995622217655182,
           0.642858624458313,
           0.5513062477111816,
           0.5462162494659424,
           0.6280404329299927,
           0.4298296570777893,
           0.47919201850891113,
           0.6102436184883118,
           0.4892568290233612,
           0.2259795367717743,
           0.49635547399520874,
           0.3670702576637268,
           0.5766680836677551,
           0.5632103085517883,
           0.2977103590965271,
           0.44037824869155884,
           0.4932064414024353,
           0.5797498226165771,
           0.4065847396850586,
           0.592228353023529,
           0.4671720862388611,
           0.5805940628051758,
           0.48462626338005066,
           0.5029312968254089,
           0.4261574447154999,
           0.25035738945007324,
           0.49193912744522095,
           0.2206997573375702,
           0.5208854675292969,
           0.55391925573349,
           0.19164878129959106,
           0.8156291246414185,
           0.474203884601593,
           0.21669048070907593,
           0.4412856101989746,
           0.30281656980514526,
           0.4601669907569885,
           0.39576295018196106,
           0.4941568970680237,
           0.5993995666503906,
           0.6124311089515686,
           0.4303649365901947,
           0.412614107131958,
           0.5678741335868835,
           0.6699941754341125,
           0.5381045937538147,
           0.16715939342975616,
           0.6400875449180603,
           0.3723726272583008,
           0.6120280623435974
          ],
          [
           0.6128541231155396,
           0.2023320198059082,
           0.5909982323646545,
           0.5140863656997681,
           0.4430340826511383,
           0.4997164011001587,
           0.6507343649864197,
           0.5138905048370361,
           0.5493963360786438,
           0.5548375844955444,
           1,
           0.6748205423355103,
           0.566358208656311,
           0.4079248905181885,
           0.45070600509643555,
           0.5580058097839355,
           0.4444027841091156,
           0.4099215567111969,
           0.4533436596393585,
           0.6556137204170227,
           0.5029293298721313,
           0.37363338470458984,
           0.5690115690231323,
           0.3843727111816406,
           0.5998022556304932,
           0.4607861042022705,
           0.3586151599884033,
           0.5012482404708862,
           0.40460097789764404,
           0.505016565322876,
           0.3182724118232727,
           0.4477638602256775,
           0.5303468704223633,
           0.4548453092575073,
           0.5077909231185913,
           0.2829206585884094,
           0.22182922065258026,
           0.19131600856781006,
           0.45977795124053955,
           0.3798496723175049,
           0.5241340398788452,
           0.4783581793308258,
           0.4301890730857849,
           0.47035515308380127,
           0.43970251083374023,
           0.5178356170654297,
           0.16107051074504852,
           0.5136293768882751,
           0.49122947454452515,
           0.6604273915290833,
           0.5539441108703613,
           0.26802700757980347,
           0.3615117371082306,
           0.5355017185211182,
           0.549207329750061,
           0.6263161897659302,
           0.48040148615837097,
           0.3779778480529785,
           0.5252058506011963,
           0.4494384527206421,
           0.5480964183807373,
           0.2903638482093811,
           0.26807230710983276,
           0.521343469619751,
           0.20288607478141785,
           0.6614120006561279,
           0.34902524948120117,
           0.23943613469600677,
           0.6521927118301392,
           0.48134440183639526,
           0.19909238815307617,
           0.230268195271492,
           0.33566176891326904,
           0.5495563745498657,
           0.5294750928878784,
           0.6049365401268005,
           0.47029054164886475,
           0.5349712371826172,
           0.3602347671985626,
           0.4781845211982727,
           0.546379804611206,
           0.525466799736023,
           0.5043120384216309,
           0.20827917754650116,
           0.4477804899215698,
           0.3604295253753662,
           0.5332225561141968
          ],
          [
           0.6776238679885864,
           0.25122418999671936,
           0.7153744697570801,
           0.6171724200248718,
           0.5599872469902039,
           0.671710729598999,
           0.850227415561676,
           0.5874103307723999,
           0.7099329233169556,
           0.6510978937149048,
           0.6748205423355103,
           0.9999996423721313,
           0.5928345322608948,
           0.44142839312553406,
           0.47435835003852844,
           0.6671319603919983,
           0.541300356388092,
           0.5703869462013245,
           0.4580177068710327,
           0.6747328042984009,
           0.694406270980835,
           0.4551713466644287,
           0.6141452789306641,
           0.41185837984085083,
           0.8695900440216064,
           0.5019232034683228,
           0.3407033085823059,
           0.6183395981788635,
           0.5488735437393188,
           0.5339899063110352,
           0.3364056348800659,
           0.4434051513671875,
           0.513617753982544,
           0.48071879148483276,
           0.6282734870910645,
           0.37910348176956177,
           0.3835552930831909,
           0.24402061104774475,
           0.5192839503288269,
           0.4378918409347534,
           0.5787705183029175,
           0.5657293796539307,
           0.47856825590133667,
           0.5418398976325989,
           0.602974534034729,
           0.6363369226455688,
           0.28581395745277405,
           0.5775889158248901,
           0.6788585782051086,
           0.8135941028594971,
           0.5356252193450928,
           0.3625592291355133,
           0.5502975583076477,
           0.5392038226127625,
           0.755628764629364,
           0.4857282340526581,
           0.5490015745162964,
           0.5291998982429504,
           0.4978765845298767,
           0.45624661445617676,
           0.6570513248443604,
           0.4269459545612335,
           0.35363784432411194,
           0.6322903633117676,
           0.3562090992927551,
           0.768510103225708,
           0.5126850605010986,
           0.23831593990325928,
           0.8097743988037109,
           0.553572952747345,
           0.3399047255516052,
           0.3253193497657776,
           0.3770168423652649,
           0.7710506916046143,
           0.758832573890686,
           0.8219553232192993,
           0.49053245782852173,
           0.5754407644271851,
           0.40894615650177,
           0.5303876996040344,
           0.7334760427474976,
           0.6162669062614441,
           0.46960341930389404,
           0.26213881373405457,
           0.43072396516799927,
           0.377175509929657,
           0.6592615246772766
          ],
          [
           0.5530883073806763,
           0.11067400872707367,
           0.6303845643997192,
           0.5038319826126099,
           0.4049248695373535,
           0.5588186383247375,
           0.642251193523407,
           0.4396781921386719,
           0.5234102010726929,
           0.6088688373565674,
           0.566358208656311,
           0.5928345322608948,
           0.9999998807907104,
           0.4417738914489746,
           0.5462664365768433,
           0.49922940135002136,
           0.4115297198295593,
           0.313063383102417,
           0.9280240535736084,
           0.6220607757568359,
           0.5182924866676331,
           0.3422543406486511,
           0.5141226649284363,
           0.3512159585952759,
           0.5146665573120117,
           0.4404445290565491,
           0.36913877725601196,
           0.4701116681098938,
           0.33675122261047363,
           0.9190970659255981,
           0.31459301710128784,
           0.7249960899353027,
           0.885560154914856,
           0.548122227191925,
           0.5501807332038879,
           0.18843743205070496,
           0.11787226796150208,
           0.16992372274398804,
           0.4974513649940491,
           0.3832623362541199,
           0.46716469526290894,
           0.4754064083099365,
           0.4578627645969391,
           0.47018688917160034,
           0.3770129978656769,
           0.49810898303985596,
           0.11288493871688843,
           0.5633755326271057,
           0.37097421288490295,
           0.5837697386741638,
           0.55888432264328,
           0.16675525903701782,
           0.2696498930454254,
           0.5387993454933167,
           0.4783579707145691,
           0.5393843650817871,
           0.5355360507965088,
           0.28758174180984497,
           0.8536045551300049,
           0.8215423226356506,
           0.529183030128479,
           0.32419562339782715,
           0.19802109897136688,
           0.41585439443588257,
           0.18210069835186005,
           0.5699856281280518,
           0.28992894291877747,
           0.25839149951934814,
           0.6304061412811279,
           0.42137429118156433,
           0.1866467148065567,
           0.1950882375240326,
           0.2407187670469284,
           0.44699326157569885,
           0.4002775549888611,
           0.4690220355987549,
           0.8667832612991333,
           0.5832483768463135,
           0.31690096855163574,
           0.378182977437973,
           0.495938777923584,
           0.5274430513381958,
           0.8331787586212158,
           0.13121703267097473,
           0.8525452613830566,
           0.3150028586387634,
           0.5215795040130615
          ],
          [
           0.6556317806243896,
           0.16024671494960785,
           0.44407373666763306,
           0.5870199799537659,
           0.4327614903450012,
           0.44959187507629395,
           0.5268310308456421,
           0.4535936415195465,
           0.425442636013031,
           0.39537158608436584,
           0.4079248905181885,
           0.44142839312553406,
           0.4417738914489746,
           1.0000001192092896,
           0.3808087408542633,
           0.43726372718811035,
           0.35593491792678833,
           0.1867074966430664,
           0.34773972630500793,
           0.39550602436065674,
           0.4727506637573242,
           0.45947861671447754,
           0.40415793657302856,
           0.25520017743110657,
           0.3411013185977936,
           0.661501407623291,
           0.7539044618606567,
           0.5448315143585205,
           0.2107258141040802,
           0.4557887315750122,
           0.5340423583984375,
           0.47693169116973877,
           0.6098083257675171,
           0.5534669756889343,
           0.5666089057922363,
           0.14889580011367798,
           0.16908122599124908,
           0.2048492431640625,
           0.3662877380847931,
           0.46765798330307007,
           0.43565165996551514,
           0.482046902179718,
           0.3617457151412964,
           0.41767969727516174,
           0.359144002199173,
           0.3736710250377655,
           0.11932777613401413,
           0.5580657124519348,
           0.2530512809753418,
           0.32513427734375,
           0.5759168863296509,
           0.24404746294021606,
           0.21842831373214722,
           0.5463721752166748,
           0.38257524371147156,
           0.7683597803115845,
           0.4163893163204193,
           0.2364519238471985,
           0.45975151658058167,
           0.3897284269332886,
           0.4436141848564148,
           0.335517942905426,
           0.09175251424312592,
           0.40284162759780884,
           0.191062331199646,
           0.3382580876350403,
           0.24879778921604156,
           0.4871239960193634,
           0.4925275444984436,
           0.30674630403518677,
           0.21635521948337555,
           0.2861708998680115,
           0.21311748027801514,
           0.29426753520965576,
           0.2510480284690857,
           0.3194255232810974,
           0.5427316427230835,
           0.46966034173965454,
           0.4440807104110718,
           0.31338992714881897,
           0.39794594049453735,
           0.38351893424987793,
           0.5422423481941223,
           0.12360981851816177,
           0.4205006957054138,
           0.4136852025985718,
           0.5402815341949463
          ],
          [
           0.4480213522911072,
           0.20529720187187195,
           0.48764675855636597,
           0.5172504782676697,
           0.3791638910770416,
           0.49017322063446045,
           0.5335729122161865,
           0.4000556766986847,
           0.4057242274284363,
           0.6560285091400146,
           0.45070600509643555,
           0.47435835003852844,
           0.5462664365768433,
           0.3808087408542633,
           0.9999998211860657,
           0.44502755999565125,
           0.3097819685935974,
           0.34629321098327637,
           0.505781352519989,
           0.6086699962615967,
           0.47591114044189453,
           0.3067489266395569,
           0.4270896315574646,
           0.3037998378276825,
           0.4449681341648102,
           0.33195996284484863,
           0.28030943870544434,
           0.4724671244621277,
           0.29960763454437256,
           0.48373252153396606,
           0.29839152097702026,
           0.546087384223938,
           0.49396318197250366,
           0.5656169652938843,
           0.48383867740631104,
           0.21529774367809296,
           0.22831949591636658,
           0.19096261262893677,
           0.7662586569786072,
           0.4101872146129608,
           0.39619606733322144,
           0.5437144637107849,
           0.4186673164367676,
           0.40378764271736145,
           0.43002867698669434,
           0.377757728099823,
           0.24607011675834656,
           0.462338387966156,
           0.3033178150653839,
           0.47359293699264526,
           0.4595526158809662,
           0.23582005500793457,
           0.34174734354019165,
           0.4524831771850586,
           0.451880544424057,
           0.35711872577667236,
           0.5002669095993042,
           0.34960681200027466,
           0.5014678239822388,
           0.4292900264263153,
           0.4307360053062439,
           0.3794174790382385,
           0.13724832236766815,
           0.34878039360046387,
           0.19370585680007935,
           0.4451638460159302,
           0.32484912872314453,
           0.18853631615638733,
           0.5513523817062378,
           0.30363929271698,
           0.1672343760728836,
           0.3146740198135376,
           0.2474115937948227,
           0.3666292428970337,
           0.27249953150749207,
           0.3209271728992462,
           0.5351671576499939,
           0.45325613021850586,
           0.42728036642074585,
           0.34721851348876953,
           0.37345993518829346,
           0.5090128183364868,
           0.5146100521087646,
           0.1727888286113739,
           0.5540650486946106,
           0.3125655949115753,
           0.4880322217941284
          ],
          [
           0.6228787899017334,
           0.2066650092601776,
           0.518813967704773,
           0.5891507863998413,
           0.6534963846206665,
           0.5433664321899414,
           0.7341543436050415,
           0.5326191782951355,
           0.6506747603416443,
           0.5743581056594849,
           0.5580058097839355,
           0.6671319603919983,
           0.49922940135002136,
           0.43726372718811035,
           0.44502755999565125,
           1.0000001192092896,
           0.4455612599849701,
           0.41343021392822266,
           0.36947545409202576,
           0.5975998044013977,
           0.6620080471038818,
           0.45447951555252075,
           0.6852082014083862,
           0.3789767622947693,
           0.5980919599533081,
           0.48561733961105347,
           0.36641883850097656,
           0.5361283421516418,
           0.44326257705688477,
           0.5284324884414673,
           0.33849576115608215,
           0.4065576493740082,
           0.488398015499115,
           0.48898836970329285,
           0.5741214156150818,
           0.28370848298072815,
           0.28618502616882324,
           0.20505979657173157,
           0.4801405072212219,
           0.39405494928359985,
           0.8339366912841797,
           0.5271849632263184,
           0.40390515327453613,
           0.43905317783355713,
           0.7161412835121155,
           0.5050123333930969,
           0.2170809507369995,
           0.5002956390380859,
           0.4985046982765198,
           0.5740538835525513,
           0.5658115148544312,
           0.28470805287361145,
           0.42593610286712646,
           0.4414670467376709,
           0.7303760051727295,
           0.5016798377037048,
           0.44803738594055176,
           0.5906547904014587,
           0.6043171882629395,
           0.39906007051467896,
           0.5721980929374695,
           0.4401658773422241,
           0.2735551595687866,
           0.5079031586647034,
           0.3067452311515808,
           0.5485279560089111,
           0.47631314396858215,
           0.2293901890516281,
           0.6376352906227112,
           0.3871825337409973,
           0.3410898447036743,
           0.39394131302833557,
           0.3781532049179077,
           0.5235505700111389,
           0.48386386036872864,
           0.5714279413223267,
           0.511591374874115,
           0.6549724340438843,
           0.5141562223434448,
           0.4422174096107483,
           0.578666090965271,
           0.5070409774780273,
           0.42875948548316956,
           0.22888973355293274,
           0.3823922872543335,
           0.3620416820049286,
           0.6347635984420776
          ],
          [
           0.46957892179489136,
           0.20385542511940002,
           0.553227424621582,
           0.4866718649864197,
           0.49157702922821045,
           0.5280838012695312,
           0.49411725997924805,
           0.6254833340644836,
           0.5187402963638306,
           0.4322262406349182,
           0.4444027841091156,
           0.541300356388092,
           0.4115297198295593,
           0.35593491792678833,
           0.3097819685935974,
           0.4455612599849701,
           0.9999998807907104,
           0.33978286385536194,
           0.34640851616859436,
           0.4039270281791687,
           0.5017977356910706,
           0.3533913195133209,
           0.4591897428035736,
           0.3027037978172302,
           0.437259316444397,
           0.3912067413330078,
           0.3048494756221771,
           0.6239465475082397,
           0.36771517992019653,
           0.4804648756980896,
           0.3399941027164459,
           0.4000973701477051,
           0.39870208501815796,
           0.4045621454715729,
           0.4875583350658417,
           0.3146497905254364,
           0.26768410205841064,
           0.22901007533073425,
           0.3864814043045044,
           0.47876420617103577,
           0.3845251798629761,
           0.4992375671863556,
           0.3736730217933655,
           0.5270586013793945,
           0.32801592350006104,
           0.5004333257675171,
           0.1968987137079239,
           0.4527585506439209,
           0.33880162239074707,
           0.4041506350040436,
           0.4816233217716217,
           0.25924646854400635,
           0.3552802503108978,
           0.4111977517604828,
           0.38581955432891846,
           0.3998919725418091,
           0.48256558179855347,
           0.3028537631034851,
           0.36798593401908875,
           0.7030512690544128,
           0.6810827255249023,
           0.3630850911140442,
           0.27072978019714355,
           0.631592333316803,
           0.23640692234039307,
           0.36652857065200806,
           0.3225434720516205,
           0.19463440775871277,
           0.5920003652572632,
           0.6972272396087646,
           0.2252996563911438,
           0.25803083181381226,
           0.21417653560638428,
           0.3980649709701538,
           0.34215134382247925,
           0.42123281955718994,
           0.3786223530769348,
           0.38050809502601624,
           0.36890295147895813,
           0.5276367664337158,
           0.5586678981781006,
           0.46948862075805664,
           0.4154665470123291,
           0.21873676776885986,
           0.3321031928062439,
           0.743106484413147,
           0.4441293478012085
          ],
          [
           0.34319353103637695,
           0.3443249464035034,
           0.4785773754119873,
           0.3625526428222656,
           0.3680385947227478,
           0.41919171810150146,
           0.49426302313804626,
           0.3282555639743805,
           0.4868031144142151,
           0.4504232406616211,
           0.4099215567111969,
           0.5703869462013245,
           0.313063383102417,
           0.1867074966430664,
           0.34629321098327637,
           0.41343021392822266,
           0.33978286385536194,
           0.9999998807907104,
           0.33101481199264526,
           0.4138396978378296,
           0.4777013659477234,
           0.48001253604888916,
           0.3791189193725586,
           0.5022130608558655,
           0.6629244685173035,
           0.2458522766828537,
           0.18933549523353577,
           0.35865670442581177,
           0.6691110134124756,
           0.27649959921836853,
           0.3019016981124878,
           0.2456255406141281,
           0.23993825912475586,
           0.23797933757305145,
           0.3269028663635254,
           0.5843722820281982,
           0.4913015365600586,
           0.38758036494255066,
           0.3306383788585663,
           0.3215460777282715,
           0.3343799114227295,
           0.32128918170928955,
           0.3261696696281433,
           0.2626453638076782,
           0.5171114206314087,
           0.47556614875793457,
           0.36871129274368286,
           0.3409060835838318,
           0.4585322439670563,
           0.47006839513778687,
           0.25295692682266235,
           0.35720959305763245,
           0.6950071454048157,
           0.33390215039253235,
           0.43940648436546326,
           0.19490718841552734,
           0.28100889921188354,
           0.5120378136634827,
           0.26992595195770264,
           0.23081806302070618,
           0.34043848514556885,
           0.21706944704055786,
           0.5265411138534546,
           0.3580112159252167,
           0.5046201348304749,
           0.4218203127384186,
           0.5501573085784912,
           0.24145996570587158,
           0.44929933547973633,
           0.2964884340763092,
           0.42308104038238525,
           0.371093213558197,
           0.27907150983810425,
           0.45073914527893066,
           0.4562292993068695,
           0.5084340572357178,
           0.21939510107040405,
           0.3228422701358795,
           0.25552085041999817,
           0.3718641400337219,
           0.3872685432434082,
           0.3826786279678345,
           0.23000812530517578,
           0.43078428506851196,
           0.20665065944194794,
           0.264474481344223,
           0.2913585305213928
          ],
          [
           0.37696439027786255,
           0.15304380655288696,
           0.5761058330535889,
           0.3870842456817627,
           0.3306688964366913,
           0.47173017263412476,
           0.4434346556663513,
           0.35906803607940674,
           0.40285950899124146,
           0.5801748037338257,
           0.4533436596393585,
           0.4580177068710327,
           0.9280240535736084,
           0.34773972630500793,
           0.505781352519989,
           0.36947545409202576,
           0.34640851616859436,
           0.33101481199264526,
           0.9999998807907104,
           0.511099100112915,
           0.3756706714630127,
           0.2911369204521179,
           0.3966054916381836,
           0.3229449391365051,
           0.40155959129333496,
           0.3127029538154602,
           0.2940880060195923,
           0.3985847234725952,
           0.32035762071609497,
           0.8552538156509399,
           0.2579234540462494,
           0.7624019384384155,
           0.788881778717041,
           0.5321025848388672,
           0.425184041261673,
           0.24841980636119843,
           0.18718348443508148,
           0.2050323784351349,
           0.4247218072414398,
           0.4017493426799774,
           0.329650342464447,
           0.4053237736225128,
           0.39851072430610657,
           0.3905133605003357,
           0.31335288286209106,
           0.3795066773891449,
           0.1368352621793747,
           0.44363489747047424,
           0.2784661650657654,
           0.4370487630367279,
           0.43104010820388794,
           0.14699876308441162,
           0.3099854588508606,
           0.4584804177284241,
           0.3502099812030792,
           0.4193161129951477,
           0.4618914723396301,
           0.24406136572360992,
           0.7961525321006775,
           0.8172035217285156,
           0.3980259895324707,
           0.25198477506637573,
           0.22792404890060425,
           0.3206924796104431,
           0.19943609833717346,
           0.43637263774871826,
           0.30625587701797485,
           0.23380982875823975,
           0.5192610025405884,
           0.3455604612827301,
           0.1917385458946228,
           0.23298460245132446,
           0.23011744022369385,
           0.3425534665584564,
           0.3025352656841278,
           0.3525649309158325,
           0.8187196254730225,
           0.4769401252269745,
           0.2739393711090088,
           0.29852530360221863,
           0.37275511026382446,
           0.44605615735054016,
           0.7829376459121704,
           0.14866437017917633,
           0.883415162563324,
           0.2864319682121277,
           0.37575215101242065
          ],
          [
           0.6106393337249756,
           0.15044602751731873,
           0.639644980430603,
           0.540181040763855,
           0.46336767077445984,
           0.6065269708633423,
           0.7313016057014465,
           0.5115584135055542,
           0.5582590103149414,
           0.7065544128417969,
           0.6556137204170227,
           0.6747328042984009,
           0.6220607757568359,
           0.39550602436065674,
           0.6086699962615967,
           0.5975998044013977,
           0.4039270281791687,
           0.4138396978378296,
           0.511099100112915,
           0.9999998211860657,
           0.5691682696342468,
           0.3819860517978668,
           0.6158313751220703,
           0.44591110944747925,
           0.6200418472290039,
           0.4636281132698059,
           0.31020042300224304,
           0.5188435316085815,
           0.42154496908187866,
           0.5393650531768799,
           0.33198434114456177,
           0.5458672046661377,
           0.5684230327606201,
           0.6055172681808472,
           0.5374265909194946,
           0.24398300051689148,
           0.19143790006637573,
           0.15225854516029358,
           0.5473993420600891,
           0.45984894037246704,
           0.5980898141860962,
           0.555437445640564,
           0.45250070095062256,
           0.48386695981025696,
           0.49039795994758606,
           0.542073130607605,
           0.19610869884490967,
           0.5576965808868408,
           0.4728826880455017,
           0.5967860221862793,
           0.6046666502952576,
           0.2927296757698059,
           0.40224364399909973,
           0.525526225566864,
           0.5970534086227417,
           0.4873355031013489,
           0.5308557748794556,
           0.4104219973087311,
           0.607410728931427,
           0.46545571088790894,
           0.5282852649688721,
           0.41368380188941956,
           0.2598356306552887,
           0.48268118500709534,
           0.2174142599105835,
           0.5748502016067505,
           0.3969019055366516,
           0.2185652256011963,
           0.6991948485374451,
           0.4214280843734741,
           0.21068674325942993,
           0.21200938522815704,
           0.32756099104881287,
           0.5292538404464722,
           0.4850063920021057,
           0.5892015695571899,
           0.5407848358154297,
           0.5814566612243652,
           0.3572496175765991,
           0.4428953528404236,
           0.5464159250259399,
           0.5774174928665161,
           0.5555585622787476,
           0.16419334709644318,
           0.5637366771697998,
           0.34870392084121704,
           0.6005315184593201
          ],
          [
           0.6452007293701172,
           0.1878090649843216,
           0.5612581968307495,
           0.6848608255386353,
           0.5551323294639587,
           0.593954861164093,
           0.7541384696960449,
           0.4794287085533142,
           0.6739168167114258,
           0.5841881036758423,
           0.5029293298721313,
           0.694406270980835,
           0.5182924866676331,
           0.4727506637573242,
           0.47591114044189453,
           0.6620080471038818,
           0.5017977356910706,
           0.4777013659477234,
           0.3756706714630127,
           0.5691682696342468,
           1,
           0.5074269771575928,
           0.5525534152984619,
           0.43496960401535034,
           0.6493432521820068,
           0.46614134311676025,
           0.38495075702667236,
           0.6061728596687317,
           0.41653645038604736,
           0.5415006875991821,
           0.4272676110267639,
           0.3945695161819458,
           0.508233904838562,
           0.4482067823410034,
           0.5811821818351746,
           0.2721892297267914,
           0.2679007053375244,
           0.24279546737670898,
           0.472432941198349,
           0.40421953797340393,
           0.6097594499588013,
           0.5768537521362305,
           0.3959387242794037,
           0.4800513982772827,
           0.6329086422920227,
           0.5108610987663269,
           0.27293819189071655,
           0.5457990169525146,
           0.4152432084083557,
           0.6133909225463867,
           0.567764401435852,
           0.3124938905239105,
           0.41960394382476807,
           0.5161886215209961,
           0.6348905563354492,
           0.4659443497657776,
           0.4921136796474457,
           0.5176990032196045,
           0.47978442907333374,
           0.4041954278945923,
           0.5958248376846313,
           0.4528297483921051,
           0.260188490152359,
           0.5366395711898804,
           0.2839682698249817,
           0.5342569947242737,
           0.46135419607162476,
           0.2344725877046585,
           0.6695175766944885,
           0.42464929819107056,
           0.2872607111930847,
           0.4053465723991394,
           0.30755043029785156,
           0.5048957467079163,
           0.4313960075378418,
           0.5374846458435059,
           0.5390170812606812,
           0.5509024858474731,
           0.4151688516139984,
           0.44221580028533936,
           0.6341191530227661,
           0.6015615463256836,
           0.45997586846351624,
           0.18480214476585388,
           0.3474299907684326,
           0.44263333082199097,
           0.650373101234436
          ],
          [
           0.4578089416027069,
           0.1709458827972412,
           0.45053091645240784,
           0.47935742139816284,
           0.35683414340019226,
           0.40160098671913147,
           0.6106442213058472,
           0.26129716634750366,
           0.5666850805282593,
           0.39268144965171814,
           0.37363338470458984,
           0.4551713466644287,
           0.3422543406486511,
           0.45947861671447754,
           0.3067489266395569,
           0.45447951555252075,
           0.3533913195133209,
           0.48001253604888916,
           0.2911369204521179,
           0.3819860517978668,
           0.5074269771575928,
           0.9999998807907104,
           0.38278284668922424,
           0.6027286052703857,
           0.36359071731567383,
           0.3512938618659973,
           0.43946248292922974,
           0.3395569920539856,
           0.5604462027549744,
           0.3672703802585602,
           0.4972953796386719,
           0.28274738788604736,
           0.3520466089248657,
           0.34553349018096924,
           0.411457896232605,
           0.34548959136009216,
           0.2780609726905823,
           0.2543421983718872,
           0.3291327655315399,
           0.2937721908092499,
           0.39912766218185425,
           0.36597031354904175,
           0.33851248025894165,
           0.25839149951934814,
           0.49739623069763184,
           0.48597124218940735,
           0.25658708810806274,
           0.3815593719482422,
           0.262870728969574,
           0.40348801016807556,
           0.4210825264453888,
           0.38739845156669617,
           0.4933452010154724,
           0.38376539945602417,
           0.3772629201412201,
           0.3663836121559143,
           0.2915012836456299,
           0.3738245666027069,
           0.31883931159973145,
           0.24562722444534302,
           0.3997122645378113,
           0.3913118541240692,
           0.36966943740844727,
           0.34010905027389526,
           0.3710220456123352,
           0.3282940983772278,
           0.5421018600463867,
           0.3143802583217621,
           0.4292486310005188,
           0.3018364906311035,
           0.40962445735931396,
           0.404868483543396,
           0.23930290341377258,
           0.2922925353050232,
           0.24220645427703857,
           0.37227874994277954,
           0.33836638927459717,
           0.3507964611053467,
           0.31025248765945435,
           0.38220494985580444,
           0.4554866552352905,
           0.4029318690299988,
           0.31341859698295593,
           0.24915668368339539,
           0.21143077313899994,
           0.31788504123687744,
           0.47759243845939636
          ],
          [
           0.569176971912384,
           0.17000393569469452,
           0.5349944829940796,
           0.5618640184402466,
           0.58415687084198,
           0.5458906292915344,
           0.6665511727333069,
           0.5321299433708191,
           0.554668664932251,
           0.5732713937759399,
           0.5690115690231323,
           0.6141452789306641,
           0.5141226649284363,
           0.40415793657302856,
           0.4270896315574646,
           0.6852082014083862,
           0.4591897428035736,
           0.3791189193725586,
           0.3966054916381836,
           0.6158313751220703,
           0.5525534152984619,
           0.38278284668922424,
           1,
           0.36937761306762695,
           0.5519047975540161,
           0.4330483675003052,
           0.3823224902153015,
           0.49344882369041443,
           0.4180794358253479,
           0.49082016944885254,
           0.3263857364654541,
           0.43115055561065674,
           0.49154770374298096,
           0.489035427570343,
           0.6213604211807251,
           0.25149664282798767,
           0.21911177039146423,
           0.13494814932346344,
           0.4554036855697632,
           0.4036491811275482,
           0.7302563190460205,
           0.5810624361038208,
           0.34604737162590027,
           0.46974265575408936,
           0.5413999557495117,
           0.5040677785873413,
           0.16010785102844238,
           0.4468386173248291,
           0.41403526067733765,
           0.5121731162071228,
           0.5955762267112732,
           0.3115141987800598,
           0.3667992353439331,
           0.4454580545425415,
           0.5838817358016968,
           0.4884602427482605,
           0.5580652356147766,
           0.4589969217777252,
           0.773621678352356,
           0.46090275049209595,
           0.5459754467010498,
           0.4264124929904938,
           0.26016995310783386,
           0.5395501852035522,
           0.22646933794021606,
           0.4647243618965149,
           0.386848509311676,
           0.20170366764068604,
           0.6435049772262573,
           0.41873109340667725,
           0.2468264400959015,
           0.22405825555324554,
           0.3043352961540222,
           0.48885512351989746,
           0.4330565333366394,
           0.5151423215866089,
           0.5053350925445557,
           0.6749658584594727,
           0.5433180332183838,
           0.3844691514968872,
           0.5506346225738525,
           0.5325912833213806,
           0.4720472991466522,
           0.19434568285942078,
           0.44280102849006653,
           0.40168312191963196,
           0.555917501449585
          ],
          [
           0.3639727234840393,
           0.1868334412574768,
           0.4719204008579254,
           0.36944591999053955,
           0.32299911975860596,
           0.35228902101516724,
           0.5588934421539307,
           0.2523459196090698,
           0.38885605335235596,
           0.41260993480682373,
           0.3843727111816406,
           0.41185837984085083,
           0.3512159585952759,
           0.25520017743110657,
           0.3037998378276825,
           0.3789767622947693,
           0.3027037978172302,
           0.5022130608558655,
           0.3229449391365051,
           0.44591110944747925,
           0.43496960401535034,
           0.6027286052703857,
           0.36937761306762695,
           1,
           0.359803706407547,
           0.23339615762233734,
           0.30966901779174805,
           0.327718585729599,
           0.5018221139907837,
           0.2743791341781616,
           0.4013470411300659,
           0.3238067626953125,
           0.3072245419025421,
           0.335904598236084,
           0.31387844681739807,
           0.4662061035633087,
           0.2831874191761017,
           0.27889329195022583,
           0.33685654401779175,
           0.34993645548820496,
           0.33752182126045227,
           0.29374462366104126,
           0.23402312397956848,
           0.22868743538856506,
           0.37443315982818604,
           0.457998663187027,
           0.19898352026939392,
           0.23564322292804718,
           0.3050861954689026,
           0.4023720920085907,
           0.3237355053424835,
           0.30790504813194275,
           0.47955185174942017,
           0.3359912633895874,
           0.34481948614120483,
           0.28845685720443726,
           0.31499290466308594,
           0.43033546209335327,
           0.31251946091651917,
           0.24091292917728424,
           0.29269635677337646,
           0.3828009068965912,
           0.4509980380535126,
           0.25189894437789917,
           0.2692410349845886,
           0.34858161211013794,
           0.46276527643203735,
           0.24155761301517487,
           0.39673152565956116,
           0.2392842024564743,
           0.21775540709495544,
           0.22491973638534546,
           0.2636865973472595,
           0.3337573707103729,
           0.3385668396949768,
           0.42483776807785034,
           0.27504223585128784,
           0.3008494973182678,
           0.24566984176635742,
           0.3288331627845764,
           0.3414952754974365,
           0.33936840295791626,
           0.2929343581199646,
           0.24315863847732544,
           0.2686727046966553,
           0.28763625025749207,
           0.3356934189796448
          ],
          [
           0.5971824526786804,
           0.2782916724681854,
           0.5829387307167053,
           0.5406280755996704,
           0.4535156488418579,
           0.5634585618972778,
           0.783267080783844,
           0.509279191493988,
           0.6032211780548096,
           0.5821635723114014,
           0.5998022556304932,
           0.8695900440216064,
           0.5146665573120117,
           0.3411013185977936,
           0.4449681341648102,
           0.5980919599533081,
           0.437259316444397,
           0.6629244685173035,
           0.40155959129333496,
           0.6200418472290039,
           0.6493432521820068,
           0.36359071731567383,
           0.5519047975540161,
           0.359803706407547,
           1.000000238418579,
           0.43956679105758667,
           0.26838403940200806,
           0.4900742173194885,
           0.4318097233772278,
           0.47859394550323486,
           0.2845921218395233,
           0.36480727791786194,
           0.4505308270454407,
           0.38332492113113403,
           0.5472627282142639,
           0.36147230863571167,
           0.37147262692451477,
           0.25204962491989136,
           0.45833271741867065,
           0.35548433661460876,
           0.5152882933616638,
           0.48966220021247864,
           0.4295494556427002,
           0.46039676666259766,
           0.5593464374542236,
           0.5324695110321045,
           0.2788648009300232,
           0.5313239693641663,
           0.6812582015991211,
           0.7611936330795288,
           0.427315354347229,
           0.3239397406578064,
           0.4696611762046814,
           0.482805997133255,
           0.7509382963180542,
           0.37935957312583923,
           0.4320073127746582,
           0.5176876783370972,
           0.4408891201019287,
           0.3760989010334015,
           0.5750589370727539,
           0.3497214615345001,
           0.2829589545726776,
           0.5926854014396667,
           0.2758130431175232,
           0.7161003351211548,
           0.4061551094055176,
           0.2055242955684662,
           0.6827988624572754,
           0.4441200792789459,
           0.2280145138502121,
           0.30438321828842163,
           0.3614000976085663,
           0.7359826564788818,
           0.730684757232666,
           0.759364128112793,
           0.4188489317893982,
           0.525379478931427,
           0.35371482372283936,
           0.43044644594192505,
           0.6742851138114929,
           0.539338231086731,
           0.3826231360435486,
           0.2446308434009552,
           0.36637380719184875,
           0.26057004928588867,
           0.5558173656463623
          ],
          [
           0.8083961606025696,
           0.2237841635942459,
           0.4021431803703308,
           0.4764653742313385,
           0.4490811824798584,
           0.3495868444442749,
           0.523969292640686,
           0.4857094883918762,
           0.43384236097335815,
           0.39243602752685547,
           0.4607861042022705,
           0.5019232034683228,
           0.4404445290565491,
           0.661501407623291,
           0.33195996284484863,
           0.48561733961105347,
           0.3912067413330078,
           0.2458522766828537,
           0.3127029538154602,
           0.4636281132698059,
           0.46614134311676025,
           0.3512938618659973,
           0.4330483675003052,
           0.23339615762233734,
           0.43956679105758667,
           1,
           0.48521292209625244,
           0.40004026889801025,
           0.297329306602478,
           0.4496240019798279,
           0.634797990322113,
           0.30913853645324707,
           0.702348530292511,
           0.33902010321617126,
           0.48706209659576416,
           0.24549975991249084,
           0.16161753237247467,
           0.22271102666854858,
           0.3720199465751648,
           0.31372806429862976,
           0.45034506916999817,
           0.35905107855796814,
           0.3112545609474182,
           0.4337070882320404,
           0.3403971493244171,
           0.43979090452194214,
           0.24440747499465942,
           0.5760958194732666,
           0.4052885174751282,
           0.4303828179836273,
           0.543298602104187,
           0.21780088543891907,
           0.2729448676109314,
           0.6083530187606812,
           0.47799474000930786,
           0.6461197137832642,
           0.329589307308197,
           0.29273486137390137,
           0.45917242765426636,
           0.3821663558483124,
           0.5227388143539429,
           0.31943684816360474,
           0.17279407382011414,
           0.42356741428375244,
           0.21644920110702515,
           0.4419049024581909,
           0.3008731007575989,
           0.8505321145057678,
           0.5082941651344299,
           0.3024938106536865,
           0.18524034321308136,
           0.19889172911643982,
           0.2797619700431824,
           0.43572890758514404,
           0.4126574993133545,
           0.4486619830131531,
           0.4303179383277893,
           0.46045273542404175,
           0.3286057710647583,
           0.35490185022354126,
           0.4647972583770752,
           0.40828123688697815,
           0.5715608596801758,
           0.18309226632118225,
           0.3140810430049896,
           0.3244960606098175,
           0.4688582122325897
          ],
          [
           0.47652649879455566,
           0.11005673557519913,
           0.32918083667755127,
           0.49859100580215454,
           0.36713433265686035,
           0.3719048500061035,
           0.43232834339141846,
           0.3456864356994629,
           0.3440132439136505,
           0.314362108707428,
           0.3586151599884033,
           0.3407033085823059,
           0.36913877725601196,
           0.7539044618606567,
           0.28030943870544434,
           0.36641883850097656,
           0.3048494756221771,
           0.18933549523353577,
           0.2940880060195923,
           0.31020042300224304,
           0.38495075702667236,
           0.43946248292922974,
           0.3823224902153015,
           0.30966901779174805,
           0.26838403940200806,
           0.48521292209625244,
           0.9999997615814209,
           0.3909868597984314,
           0.25109994411468506,
           0.38607093691825867,
           0.38885390758514404,
           0.35952818393707275,
           0.4701022207736969,
           0.4435734450817108,
           0.48837971687316895,
           0.14711207151412964,
           0.13183608651161194,
           0.15193331241607666,
           0.3160395920276642,
           0.3336888253688812,
           0.38019847869873047,
           0.344195693731308,
           0.31083106994628906,
           0.33406007289886475,
           0.3201673626899719,
           0.35471510887145996,
           0.11122214049100876,
           0.4305262863636017,
           0.1950739026069641,
           0.2628457546234131,
           0.503892719745636,
           0.25321900844573975,
           0.19844624400138855,
           0.4173576533794403,
           0.30362892150878906,
           0.6332815289497375,
           0.3711998462677002,
           0.2141803503036499,
           0.3995802402496338,
           0.3277783989906311,
           0.3499731719493866,
           0.25040486454963684,
           0.14875224232673645,
           0.32608842849731445,
           0.1955314576625824,
           0.2527581751346588,
           0.24321502447128296,
           0.3788396716117859,
           0.3775862455368042,
           0.2487206757068634,
           0.2206581085920334,
           0.22402650117874146,
           0.2573608458042145,
           0.2311876267194748,
           0.1781536340713501,
           0.2677389979362488,
           0.4438931345939636,
           0.43988102674484253,
           0.3926061987876892,
           0.2755287289619446,
           0.33502185344696045,
           0.29796186089515686,
           0.4071804881095886,
           0.15165747702121735,
           0.32992684841156006,
           0.32638147473335266,
           0.39554741978645325
          ],
          [
           0.545894980430603,
           0.1953260749578476,
           0.6488007307052612,
           0.5869868993759155,
           0.5558274984359741,
           0.714264988899231,
           0.5899838209152222,
           0.6331861019134521,
           0.5828433036804199,
           0.5502150058746338,
           0.5012482404708862,
           0.6183395981788635,
           0.4701116681098938,
           0.5448315143585205,
           0.4724671244621277,
           0.5361283421516418,
           0.6239465475082397,
           0.35865670442581177,
           0.3985847234725952,
           0.5188435316085815,
           0.6061728596687317,
           0.3395569920539856,
           0.49344882369041443,
           0.327718585729599,
           0.4900742173194885,
           0.40004026889801025,
           0.3909868597984314,
           0.9999998807907104,
           0.3171440064907074,
           0.466797798871994,
           0.3589664697647095,
           0.4922916889190674,
           0.43812018632888794,
           0.5213061571121216,
           0.5409964323043823,
           0.21101513504981995,
           0.3670976758003235,
           0.16465571522712708,
           0.46089106798171997,
           0.5109463930130005,
           0.4749140739440918,
           0.5957195162773132,
           0.4183156490325928,
           0.602206289768219,
           0.4879377484321594,
           0.5166488289833069,
           0.21504750847816467,
           0.520679235458374,
           0.3292301297187805,
           0.4772915840148926,
           0.5867280960083008,
           0.2635611593723297,
           0.35241591930389404,
           0.4995928406715393,
           0.5126956105232239,
           0.5113678574562073,
           0.6156761646270752,
           0.4399679899215698,
           0.4427020251750946,
           0.534081220626831,
           0.5716696977615356,
           0.40903419256210327,
           0.2011527717113495,
           0.5542726516723633,
           0.2530258893966675,
           0.47202974557876587,
           0.42043840885162354,
           0.18961304426193237,
           0.6821532249450684,
           0.5418932437896729,
           0.2189699113368988,
           0.36073756217956543,
           0.27407389879226685,
           0.3876509368419647,
           0.3611976206302643,
           0.4361640214920044,
           0.4776359796524048,
           0.48556822538375854,
           0.4405577778816223,
           0.4538342356681824,
           0.513363778591156,
           0.5172187685966492,
           0.4977867901325226,
           0.15674829483032227,
           0.42204391956329346,
           0.7029567360877991,
           0.5556206703186035
          ],
          [
           0.3889142870903015,
           0.335038959980011,
           0.47554683685302734,
           0.4054906964302063,
           0.39876478910446167,
           0.36055535078048706,
           0.4855947196483612,
           0.29815778136253357,
           0.5684648752212524,
           0.404987096786499,
           0.40460097789764404,
           0.5488735437393188,
           0.33675122261047363,
           0.2107258141040802,
           0.29960763454437256,
           0.44326257705688477,
           0.36771517992019653,
           0.6691110134124756,
           0.32035762071609497,
           0.42154496908187866,
           0.41653645038604736,
           0.5604462027549744,
           0.4180794358253479,
           0.5018221139907837,
           0.4318097233772278,
           0.297329306602478,
           0.25109994411468506,
           0.3171440064907074,
           0.9999998807907104,
           0.29475876688957214,
           0.3889380991458893,
           0.2650502026081085,
           0.2851734757423401,
           0.2686699628829956,
           0.36303478479385376,
           0.5860621333122253,
           0.381210058927536,
           0.35329240560531616,
           0.3423915505409241,
           0.27538904547691345,
           0.40240514278411865,
           0.27194422483444214,
           0.35930055379867554,
           0.22488287091255188,
           0.49688220024108887,
           0.4934902489185333,
           0.2686893939971924,
           0.3209797143936157,
           0.5032731294631958,
           0.3667140007019043,
           0.33086663484573364,
           0.3692361116409302,
           0.6880596876144409,
           0.3415212035179138,
           0.39129114151000977,
           0.2832361161708832,
           0.2865884602069855,
           0.44453540444374084,
           0.32347458600997925,
           0.2646331489086151,
           0.3672449588775635,
           0.2548063099384308,
           0.7495013475418091,
           0.3057473301887512,
           0.6638115048408508,
           0.3240889608860016,
           0.4660090208053589,
           0.31247270107269287,
           0.4507008194923401,
           0.3442869186401367,
           0.6910485029220581,
           0.28188422322273254,
           0.27813684940338135,
           0.3805539608001709,
           0.4197588264942169,
           0.5750354528427124,
           0.27161380648612976,
           0.31718915700912476,
           0.2785818576812744,
           0.3848268389701843,
           0.39947378635406494,
           0.3779045641422272,
           0.287517786026001,
           0.6292132139205933,
           0.23973163962364197,
           0.3035767674446106,
           0.35571199655532837
          ],
          [
           0.528016209602356,
           0.1359521448612213,
           0.5322542190551758,
           0.5119621157646179,
           0.4559497833251953,
           0.5296785235404968,
           0.6075789928436279,
           0.44061100482940674,
           0.6072279214859009,
           0.540209949016571,
           0.505016565322876,
           0.5339899063110352,
           0.9190970659255981,
           0.4557887315750122,
           0.48373252153396606,
           0.5284324884414673,
           0.4804648756980896,
           0.27649959921836853,
           0.8552538156509399,
           0.5393650531768799,
           0.5415006875991821,
           0.3672703802585602,
           0.49082016944885254,
           0.2743791341781616,
           0.47859394550323486,
           0.4496240019798279,
           0.38607093691825867,
           0.466797798871994,
           0.29475876688957214,
           1,
           0.28218531608581543,
           0.6773881912231445,
           0.8475165367126465,
           0.5070112943649292,
           0.5559797286987305,
           0.21317875385284424,
           0.1384795755147934,
           0.20082418620586395,
           0.45694729685783386,
           0.3523975610733032,
           0.48784539103507996,
           0.4677582085132599,
           0.4104658365249634,
           0.44687944650650024,
           0.3928018808364868,
           0.4516432285308838,
           0.20064161717891693,
           0.5439449548721313,
           0.35431981086730957,
           0.5169398784637451,
           0.530429482460022,
           0.20233765244483948,
           0.25240859389305115,
           0.4724998474121094,
           0.483588844537735,
           0.5106235146522522,
           0.4975600838661194,
           0.3026794493198395,
           0.8200607895851135,
           0.8468335866928101,
           0.6176943778991699,
           0.37305447459220886,
           0.18674510717391968,
           0.4355166554450989,
           0.1984008550643921,
           0.47658342123031616,
           0.2864883542060852,
           0.2312721163034439,
           0.5512680411338806,
           0.4764813482761383,
           0.195713073015213,
           0.24893894791603088,
           0.23649954795837402,
           0.43184709548950195,
           0.3674905002117157,
           0.4205547571182251,
           0.8432520031929016,
           0.5627706050872803,
           0.36528030037879944,
           0.41203898191452026,
           0.6075934171676636,
           0.49630412459373474,
           0.771676778793335,
           0.15655238926410675,
           0.7622363567352295,
           0.37190675735473633,
           0.5492086410522461
          ],
          [
           0.7398808002471924,
           0.19244396686553955,
           0.4026528000831604,
           0.3866560459136963,
           0.37581348419189453,
           0.24385157227516174,
           0.3827213644981384,
           0.34955358505249023,
           0.3148694336414337,
           0.30583956837654114,
           0.3182724118232727,
           0.3364056348800659,
           0.31459301710128784,
           0.5340423583984375,
           0.29839152097702026,
           0.33849576115608215,
           0.3399941027164459,
           0.3019016981124878,
           0.2579234540462494,
           0.33198434114456177,
           0.4272676110267639,
           0.4972953796386719,
           0.3263857364654541,
           0.4013470411300659,
           0.2845921218395233,
           0.634797990322113,
           0.38885390758514404,
           0.3589664697647095,
           0.3889380991458893,
           0.28218531608581543,
           0.9999997019767761,
           0.28082287311553955,
           0.5879136919975281,
           0.28787511587142944,
           0.36790040135383606,
           0.2448911815881729,
           0.12821844220161438,
           0.15488678216934204,
           0.3123144507408142,
           0.3441111743450165,
           0.37629175186157227,
           0.2973266839981079,
           0.2755976915359497,
           0.33944278955459595,
           0.334296852350235,
           0.2876114547252655,
           0.16105571389198303,
           0.49061182141304016,
           0.1410965919494629,
           0.2576185464859009,
           0.47693732380867004,
           0.2042817771434784,
           0.3528001606464386,
           0.6321816444396973,
           0.2590278089046478,
           0.5154430270195007,
           0.2913329601287842,
           0.22545126080513,
           0.3439320921897888,
           0.2959440052509308,
           0.3813856244087219,
           0.30542492866516113,
           0.1508430391550064,
           0.25786882638931274,
           0.2712419927120209,
           0.25134479999542236,
           0.2832731604576111,
           0.6113251447677612,
           0.38254186511039734,
           0.2057218849658966,
           0.22939877212047577,
           0.16418474912643433,
           0.15925700962543488,
           0.20169371366500854,
           0.17213398218154907,
           0.22038832306861877,
           0.29540348052978516,
           0.2940480709075928,
           0.2872580885887146,
           0.3264671564102173,
           0.257840096950531,
           0.287339985370636,
           0.5467063188552856,
           0.12593184411525726,
           0.21897383034229279,
           0.3617307245731354,
           0.37590813636779785
          ],
          [
           0.3945627808570862,
           0.1450713574886322,
           0.5862215757369995,
           0.48839300870895386,
           0.36673077940940857,
           0.5064645409584045,
           0.4630405008792877,
           0.4053671956062317,
           0.3811711072921753,
           0.6460207104682922,
           0.4477638602256775,
           0.4434051513671875,
           0.7249960899353027,
           0.47693169116973877,
           0.546087384223938,
           0.4065576493740082,
           0.4000973701477051,
           0.2456255406141281,
           0.7624019384384155,
           0.5458672046661377,
           0.3945695161819458,
           0.28274738788604736,
           0.43115055561065674,
           0.3238067626953125,
           0.36480727791786194,
           0.30913853645324707,
           0.35952818393707275,
           0.4922916889190674,
           0.2650502026081085,
           0.6773881912231445,
           0.28082287311553955,
           0.9999998807907104,
           0.6483039855957031,
           0.8165851831436157,
           0.5058611035346985,
           0.2177015095949173,
           0.14419904351234436,
           0.20909126102924347,
           0.5342572927474976,
           0.6697821617126465,
           0.410190224647522,
           0.5013278722763062,
           0.37827450037002563,
           0.4099518358707428,
           0.3392794728279114,
           0.33976298570632935,
           0.06745696812868118,
           0.46962273120880127,
           0.2608456611633301,
           0.3388062119483948,
           0.5338063836097717,
           0.15616294741630554,
           0.30936482548713684,
           0.4501705765724182,
           0.36317139863967896,
           0.46167469024658203,
           0.49697795510292053,
           0.2604028582572937,
           0.6896262764930725,
           0.697938084602356,
           0.41782698035240173,
           0.40564993023872375,
           0.16987204551696777,
           0.3592802584171295,
           0.17159178853034973,
           0.33065420389175415,
           0.29346197843551636,
           0.16162368655204773,
           0.5565376281738281,
           0.38799944519996643,
           0.19021405279636383,
           0.25422120094299316,
           0.25374987721443176,
           0.3451116681098938,
           0.27353429794311523,
           0.3287719488143921,
           0.7411190271377563,
           0.5187793970108032,
           0.3930191993713379,
           0.31595638394355774,
           0.3763641119003296,
           0.5198553800582886,
           0.6807200908660889,
           0.1258404403924942,
           0.871390700340271,
           0.3708525002002716,
           0.49064648151397705
          ],
          [
           0.7767609357833862,
           0.12531724572181702,
           0.5542835593223572,
           0.5089964270591736,
           0.41794079542160034,
           0.4574778974056244,
           0.5949567556381226,
           0.4452623128890991,
           0.4734146296977997,
           0.5265786647796631,
           0.5303468704223633,
           0.513617753982544,
           0.885560154914856,
           0.6098083257675171,
           0.49396318197250366,
           0.488398015499115,
           0.39870208501815796,
           0.23993825912475586,
           0.788881778717041,
           0.5684230327606201,
           0.508233904838562,
           0.3520466089248657,
           0.49154770374298096,
           0.3072245419025421,
           0.4505308270454407,
           0.702348530292511,
           0.4701022207736969,
           0.43812018632888794,
           0.2851734757423401,
           0.8475165367126465,
           0.5879136919975281,
           0.6483039855957031,
           1.0000001192092896,
           0.509011447429657,
           0.5639635920524597,
           0.1643378883600235,
           0.04975157976150513,
           0.1706487387418747,
           0.46788927912712097,
           0.37742751836776733,
           0.48633304238319397,
           0.43487387895584106,
           0.41064900159835815,
           0.4566781520843506,
           0.35298678278923035,
           0.4221113622188568,
           0.10556310415267944,
           0.6441007852554321,
           0.3308003842830658,
           0.4960050582885742,
           0.6210224628448486,
           0.14260761439800262,
           0.23233069479465485,
           0.6849051713943481,
           0.45766252279281616,
           0.6727133393287659,
           0.4810377359390259,
           0.26083868741989136,
           0.8090949654579163,
           0.7474402189254761,
           0.5337241888046265,
           0.3234404921531677,
           0.13572433590888977,
           0.39263078570365906,
           0.15365897119045258,
           0.4916655421257019,
           0.24091802537441254,
           0.510700523853302,
           0.5774778127670288,
           0.3590613901615143,
           0.14589077234268188,
           0.13872233033180237,
           0.22760862112045288,
           0.4036967158317566,
           0.35487499833106995,
           0.4113345146179199,
           0.7983304262161255,
           0.5620536804199219,
           0.34257328510284424,
           0.3668100833892822,
           0.4685528874397278,
           0.46616798639297485,
           0.9012398719787598,
           0.10428251326084137,
           0.7489327192306519,
           0.3341214060783386,
           0.5296006202697754
          ],
          [
           0.4397352635860443,
           0.12236130237579346,
           0.5262110233306885,
           0.5860605835914612,
           0.397105872631073,
           0.5331376791000366,
           0.517536997795105,
           0.4422134757041931,
           0.4332858920097351,
           0.6692522764205933,
           0.4548453092575073,
           0.48071879148483276,
           0.548122227191925,
           0.5534669756889343,
           0.5656169652938843,
           0.48898836970329285,
           0.4045621454715729,
           0.23797933757305145,
           0.5321025848388672,
           0.6055172681808472,
           0.4482067823410034,
           0.34553349018096924,
           0.489035427570343,
           0.335904598236084,
           0.38332492113113403,
           0.33902010321617126,
           0.4435734450817108,
           0.5213061571121216,
           0.2686699628829956,
           0.5070112943649292,
           0.28787511587142944,
           0.8165851831436157,
           0.509011447429657,
           1,
           0.5883017778396606,
           0.18898551166057587,
           0.17415766417980194,
           0.16546273231506348,
           0.5752716064453125,
           0.6289947032928467,
           0.5133560299873352,
           0.6133127212524414,
           0.45933565497398376,
           0.407482385635376,
           0.4214879274368286,
           0.38774198293685913,
           0.08496489375829697,
           0.5361381769180298,
           0.3149511218070984,
           0.38363566994667053,
           0.5518760681152344,
           0.2229870855808258,
           0.3021676540374756,
           0.37696391344070435,
           0.4383580982685089,
           0.4824511408805847,
           0.48710668087005615,
           0.3202965259552002,
           0.5776773691177368,
           0.4990501403808594,
           0.4512633979320526,
           0.39275822043418884,
           0.1611047089099884,
           0.39129939675331116,
           0.16779059171676636,
           0.3432413935661316,
           0.33207324147224426,
           0.17206653952598572,
           0.5741791129112244,
           0.3896307945251465,
           0.19357255101203918,
           0.3423881530761719,
           0.29036757349967957,
           0.35505440831184387,
           0.3008687496185303,
           0.37278231978416443,
           0.646774172782898,
           0.5919995307922363,
           0.5121328234672546,
           0.3331390619277954,
           0.41964319348335266,
           0.4966767430305481,
           0.4905319809913635,
           0.14103132486343384,
           0.7043843269348145,
           0.40108004212379456,
           0.5345133543014526
          ],
          [
           0.6075766086578369,
           0.1432075798511505,
           0.5375467538833618,
           0.7007595896720886,
           0.5166884660720825,
           0.5681347846984863,
           0.6669892072677612,
           0.5311223268508911,
           0.5991008281707764,
           0.5879154205322266,
           0.5077909231185913,
           0.6282734870910645,
           0.5501807332038879,
           0.5666089057922363,
           0.48383867740631104,
           0.5741214156150818,
           0.4875583350658417,
           0.3269028663635254,
           0.425184041261673,
           0.5374265909194946,
           0.5811821818351746,
           0.411457896232605,
           0.6213604211807251,
           0.31387844681739807,
           0.5472627282142639,
           0.48706209659576416,
           0.48837971687316895,
           0.5409964323043823,
           0.36303478479385376,
           0.5559797286987305,
           0.36790040135383606,
           0.5058611035346985,
           0.5639635920524597,
           0.5883017778396606,
           1,
           0.20927390456199646,
           0.27357399463653564,
           0.16161327064037323,
           0.5162323117256165,
           0.4325210452079773,
           0.5659705400466919,
           0.5843428373336792,
           0.3710806369781494,
           0.4165300130844116,
           0.5154181718826294,
           0.4572838544845581,
           0.21678617596626282,
           0.5096148252487183,
           0.42568257451057434,
           0.5257787704467773,
           0.573708176612854,
           0.3034188151359558,
           0.3579224944114685,
           0.49428653717041016,
           0.5827757120132446,
           0.5414186120033264,
           0.5729835033416748,
           0.40543580055236816,
           0.5985358953475952,
           0.4873194396495819,
           0.5511250495910645,
           0.44982874393463135,
           0.19355539977550507,
           0.4992189407348633,
           0.22218725085258484,
           0.48068225383758545,
           0.3567303419113159,
           0.271187424659729,
           0.6506181955337524,
           0.43165159225463867,
           0.2326795756816864,
           0.29586461186408997,
           0.33641117811203003,
           0.494114488363266,
           0.43169644474983215,
           0.5068051218986511,
           0.6118179559707642,
           0.626043438911438,
           0.5458217859268188,
           0.38585782051086426,
           0.5565711259841919,
           0.5170812606811523,
           0.5358613133430481,
           0.1553187072277069,
           0.4763713777065277,
           0.3951515555381775,
           0.62223219871521
          ],
          [
           0.22665730118751526,
           0.549716591835022,
           0.3780590295791626,
           0.21495340764522552,
           0.34828981757164,
           0.20819473266601562,
           0.28711867332458496,
           0.25988852977752686,
           0.36542296409606934,
           0.27378320693969727,
           0.2829206585884094,
           0.37910348176956177,
           0.18843743205070496,
           0.14889580011367798,
           0.21529774367809296,
           0.28370848298072815,
           0.3146497905254364,
           0.5843722820281982,
           0.24841980636119843,
           0.24398300051689148,
           0.2721892297267914,
           0.34548959136009216,
           0.25149664282798767,
           0.4662061035633087,
           0.36147230863571167,
           0.24549975991249084,
           0.14711207151412964,
           0.21101513504981995,
           0.5860621333122253,
           0.21317875385284424,
           0.2448911815881729,
           0.2177015095949173,
           0.1643378883600235,
           0.18898551166057587,
           0.20927390456199646,
           0.9999998807907104,
           0.4995662271976471,
           0.48070186376571655,
           0.2360749989748001,
           0.3063155710697174,
           0.20348912477493286,
           0.19364981353282928,
           0.18289805948734283,
           0.20176295936107635,
           0.30769529938697815,
           0.33292338252067566,
           0.2995593249797821,
           0.16719874739646912,
           0.510704755783081,
           0.29477280378341675,
           0.13391843438148499,
           0.3561776280403137,
           0.7122058868408203,
           0.20954445004463196,
           0.34546083211898804,
           0.15873520076274872,
           0.19522342085838318,
           0.5232877731323242,
           0.1814795881509781,
           0.19321686029434204,
           0.28903377056121826,
           0.2790735960006714,
           0.7344260811805725,
           0.240145742893219,
           0.4733385145664215,
           0.24917873740196228,
           0.42767786979675293,
           0.28806668519973755,
           0.26070794463157654,
           0.20865514874458313,
           0.3623286485671997,
           0.2732446491718292,
           0.3360424339771271,
           0.5325230956077576,
           0.5133131146430969,
           0.5154656171798706,
           0.11986467987298965,
           0.217361718416214,
           0.2250843346118927,
           0.33705079555511475,
           0.3143463432788849,
           0.2638314366340637,
           0.14673954248428345,
           0.6931296586990356,
           0.18484103679656982,
           0.1885763704776764,
           0.20632481575012207
          ],
          [
           0.1806063950061798,
           0.39839431643486023,
           0.2738161087036133,
           0.2632681727409363,
           0.40141934156417847,
           0.289933443069458,
           0.2491043508052826,
           0.33527567982673645,
           0.3078252375125885,
           0.3113533854484558,
           0.22182922065258026,
           0.3835552930831909,
           0.11787226796150208,
           0.16908122599124908,
           0.22831949591636658,
           0.28618502616882324,
           0.26768410205841064,
           0.4913015365600586,
           0.18718348443508148,
           0.19143790006637573,
           0.2679007053375244,
           0.2780609726905823,
           0.21911177039146423,
           0.2831874191761017,
           0.37147262692451477,
           0.16161753237247467,
           0.13183608651161194,
           0.3670976758003235,
           0.381210058927536,
           0.1384795755147934,
           0.12821844220161438,
           0.14419904351234436,
           0.04975157976150513,
           0.17415766417980194,
           0.27357399463653564,
           0.4995662271976471,
           1.0000001192092896,
           0.3631877899169922,
           0.15791305899620056,
           0.17594587802886963,
           0.18901795148849487,
           0.26071834564208984,
           0.26753702759742737,
           0.22233349084854126,
           0.32665055990219116,
           0.27843815088272095,
           0.38159269094467163,
           0.18730279803276062,
           0.38845062255859375,
           0.29348474740982056,
           0.11586294323205948,
           0.34396645426750183,
           0.44799694418907166,
           0.11211111396551132,
           0.3570404648780823,
           0.07521466910839081,
           0.18826299905776978,
           0.43254053592681885,
           0.12144701182842255,
           0.1589551568031311,
           0.24953274428844452,
           0.167904332280159,
           0.427712619304657,
           0.270954430103302,
           0.3355550169944763,
           0.32507073879241943,
           0.41784733533859253,
           0.1737532913684845,
           0.27110862731933594,
           0.23735414445400238,
           0.2534486651420593,
           0.5435870885848999,
           0.2746579647064209,
           0.34410327672958374,
           0.36400797963142395,
           0.38362953066825867,
           0.10770390927791595,
           0.19656336307525635,
           0.27996373176574707,
           0.26976752281188965,
           0.2902272641658783,
           0.19081443548202515,
           0.05890943109989166,
           0.4012690484523773,
           0.1464274823665619,
           0.24955213069915771,
           0.19347453117370605
          ],
          [
           0.18624459207057953,
           0.4898509979248047,
           0.21118509769439697,
           0.17382782697677612,
           0.22920572757720947,
           0.15808430314064026,
           0.23575615882873535,
           0.17519739270210266,
           0.23170526325702667,
           0.1995622217655182,
           0.19131600856781006,
           0.24402061104774475,
           0.16992372274398804,
           0.2048492431640625,
           0.19096261262893677,
           0.20505979657173157,
           0.22901007533073425,
           0.38758036494255066,
           0.2050323784351349,
           0.15225854516029358,
           0.24279546737670898,
           0.2543421983718872,
           0.13494814932346344,
           0.27889329195022583,
           0.25204962491989136,
           0.22271102666854858,
           0.15193331241607666,
           0.16465571522712708,
           0.35329240560531616,
           0.20082418620586395,
           0.15488678216934204,
           0.20909126102924347,
           0.1706487387418747,
           0.16546273231506348,
           0.16161327064037323,
           0.48070186376571655,
           0.3631877899169922,
           1.0000001192092896,
           0.19179397821426392,
           0.2000131607055664,
           0.13258957862854004,
           0.1517893522977829,
           0.14065033197402954,
           0.14103010296821594,
           0.19829434156417847,
           0.20896181464195251,
           0.15359213948249817,
           0.14577433466911316,
           0.26722338795661926,
           0.22579438984394073,
           0.11173635721206665,
           0.22768262028694153,
           0.36625936627388,
           0.16224798560142517,
           0.22222529351711273,
           0.16488195955753326,
           0.16022805869579315,
           0.21736109256744385,
           0.15458689630031586,
           0.19012564420700073,
           0.21954482793807983,
           0.1488216519355774,
           0.3931453824043274,
           0.18878141045570374,
           0.3087543845176697,
           0.23636499047279358,
           0.1970122754573822,
           0.22245091199874878,
           0.16358742117881775,
           0.16800355911254883,
           0.32764166593551636,
           0.2247181087732315,
           0.2706603407859802,
           0.31027472019195557,
           0.2403595894575119,
           0.2711380422115326,
           0.1495036780834198,
           0.13803914189338684,
           0.16870415210723877,
           0.2236873060464859,
           0.23700165748596191,
           0.22694286704063416,
           0.13722355663776398,
           0.39170145988464355,
           0.18556348979473114,
           0.1569366753101349,
           0.17575213313102722
          ],
          [
           0.47917601466178894,
           0.18584775924682617,
           0.5033667087554932,
           0.5283693075180054,
           0.41076338291168213,
           0.47441762685775757,
           0.575003981590271,
           0.4058472514152527,
           0.447271466255188,
           0.642858624458313,
           0.45977795124053955,
           0.5192839503288269,
           0.4974513649940491,
           0.3662877380847931,
           0.7662586569786072,
           0.4801405072212219,
           0.3864814043045044,
           0.3306383788585663,
           0.4247218072414398,
           0.5473993420600891,
           0.472432941198349,
           0.3291327655315399,
           0.4554036855697632,
           0.33685654401779175,
           0.45833271741867065,
           0.3720199465751648,
           0.3160395920276642,
           0.46089106798171997,
           0.3423915505409241,
           0.45694729685783386,
           0.3123144507408142,
           0.5342572927474976,
           0.46788927912712097,
           0.5752716064453125,
           0.5162323117256165,
           0.2360749989748001,
           0.15791305899620056,
           0.19179397821426392,
           0.9999998211860657,
           0.4491892457008362,
           0.44488728046417236,
           0.4561305046081543,
           0.3131049871444702,
           0.398935467004776,
           0.4526691138744354,
           0.4296289086341858,
           0.2063048928976059,
           0.3788679838180542,
           0.31777316331863403,
           0.5106122493743896,
           0.44817715883255005,
           0.26298877596855164,
           0.3404831886291504,
           0.46404731273651123,
           0.47014468908309937,
           0.38243648409843445,
           0.4271213412284851,
           0.36109378933906555,
           0.4567856192588806,
           0.3977683186531067,
           0.4778599143028259,
           0.43484610319137573,
           0.19210781157016754,
           0.39882147312164307,
           0.2003907710313797,
           0.45147550106048584,
           0.3372567296028137,
           0.18146447837352753,
           0.5754227042198181,
           0.3544832468032837,
           0.17148765921592712,
           0.2718939483165741,
           0.29632747173309326,
           0.3864902853965759,
           0.3139684796333313,
           0.3826001286506653,
           0.4856416583061218,
           0.4472086727619171,
           0.453873872756958,
           0.3750224709510803,
           0.4392659664154053,
           0.5194773077964783,
           0.475736528635025,
           0.17861399054527283,
           0.48672762513160706,
           0.3077908158302307,
           0.5520088076591492
          ],
          [
           0.3857893943786621,
           0.1871262788772583,
           0.6564421057701111,
           0.42864543199539185,
           0.40450912714004517,
           0.46323132514953613,
           0.42515861988067627,
           0.46726852655410767,
           0.3510834276676178,
           0.5513062477111816,
           0.3798496723175049,
           0.4378918409347534,
           0.3832623362541199,
           0.46765798330307007,
           0.4101872146129608,
           0.39405494928359985,
           0.47876420617103577,
           0.3215460777282715,
           0.4017493426799774,
           0.45984894037246704,
           0.40421953797340393,
           0.2937721908092499,
           0.4036491811275482,
           0.34993645548820496,
           0.35548433661460876,
           0.31372806429862976,
           0.3336888253688812,
           0.5109463930130005,
           0.27538904547691345,
           0.3523975610733032,
           0.3441111743450165,
           0.6697821617126465,
           0.37742751836776733,
           0.6289947032928467,
           0.4325210452079773,
           0.3063155710697174,
           0.17594587802886963,
           0.2000131607055664,
           0.4491892457008362,
           1.0000001192092896,
           0.3747144639492035,
           0.505674421787262,
           0.28372228145599365,
           0.44598260521888733,
           0.3653171956539154,
           0.36047255992889404,
           0.1245240643620491,
           0.3702929615974426,
           0.2385403960943222,
           0.282566636800766,
           0.5378617644309998,
           0.21629010140895844,
           0.42891597747802734,
           0.4414585828781128,
           0.35939955711364746,
           0.41317230463027954,
           0.48325252532958984,
           0.30893296003341675,
           0.3970549404621124,
           0.45671290159225464,
           0.44955646991729736,
           0.438547819852829,
           0.21300260722637177,
           0.41208070516586304,
           0.2168060839176178,
           0.25501692295074463,
           0.3686192035675049,
           0.18212546408176422,
           0.5713602304458618,
           0.4786650240421295,
           0.2572544813156128,
           0.22942571341991425,
           0.21873459219932556,
           0.3566107451915741,
           0.27038291096687317,
           0.31279540061950684,
           0.41111043095588684,
           0.43209606409072876,
           0.4051938056945801,
           0.4386240839958191,
           0.35028472542762756,
           0.4665977358818054,
           0.45270323753356934,
           0.11282016336917877,
           0.5212386846542358,
           0.47383224964141846,
           0.4731336236000061
          ],
          [
           0.6183604001998901,
           0.1223178431391716,
           0.47195565700531006,
           0.6101369261741638,
           0.6366633176803589,
           0.4835242033004761,
           0.6744297742843628,
           0.5116873979568481,
           0.6005207896232605,
           0.5462162494659424,
           0.5241340398788452,
           0.5787705183029175,
           0.46716469526290894,
           0.43565165996551514,
           0.39619606733322144,
           0.8339366912841797,
           0.3845251798629761,
           0.3343799114227295,
           0.329650342464447,
           0.5980898141860962,
           0.6097594499588013,
           0.39912766218185425,
           0.7302563190460205,
           0.33752182126045227,
           0.5152882933616638,
           0.45034506916999817,
           0.38019847869873047,
           0.4749140739440918,
           0.40240514278411865,
           0.48784539103507996,
           0.37629175186157227,
           0.410190224647522,
           0.48633304238319397,
           0.5133560299873352,
           0.5659705400466919,
           0.20348912477493286,
           0.18901795148849487,
           0.13258957862854004,
           0.44488728046417236,
           0.3747144639492035,
           0.9999998807907104,
           0.5297677516937256,
           0.39484742283821106,
           0.4072921872138977,
           0.595285177230835,
           0.4441409111022949,
           0.17708256840705872,
           0.5175483822822571,
           0.3745132088661194,
           0.4765908122062683,
           0.5822802782058716,
           0.26767227053642273,
           0.3320024013519287,
           0.4269631505012512,
           0.5693826675415039,
           0.49456971883773804,
           0.45276767015457153,
           0.4336417615413666,
           0.6583054661750793,
           0.36241352558135986,
           0.5480173826217651,
           0.4336618483066559,
           0.23344889283180237,
           0.5051692724227905,
           0.2469782829284668,
           0.45026636123657227,
           0.390462726354599,
           0.18878106772899628,
           0.6078128218650818,
           0.32707926630973816,
           0.30914226174354553,
           0.3162260949611664,
           0.3030875325202942,
           0.4272860288619995,
           0.382853627204895,
           0.4743863344192505,
           0.5214158296585083,
           0.6487252712249756,
           0.538154125213623,
           0.364743709564209,
           0.5520627498626709,
           0.4890907406806946,
           0.42880988121032715,
           0.14745277166366577,
           0.37626296281814575,
           0.3171343207359314,
           0.6254352927207947
          ],
          [
           0.4805867671966553,
           0.16281145811080933,
           0.5331859588623047,
           0.6212607622146606,
           0.483151376247406,
           0.6885064840316772,
           0.6028304100036621,
           0.5038524866104126,
           0.5221434831619263,
           0.6280404329299927,
           0.4783581793308258,
           0.5657293796539307,
           0.4754064083099365,
           0.482046902179718,
           0.5437144637107849,
           0.5271849632263184,
           0.4992375671863556,
           0.32128918170928955,
           0.4053237736225128,
           0.555437445640564,
           0.5768537521362305,
           0.36597031354904175,
           0.5810624361038208,
           0.29374462366104126,
           0.48966220021247864,
           0.35905107855796814,
           0.344195693731308,
           0.5957195162773132,
           0.27194422483444214,
           0.4677582085132599,
           0.2973266839981079,
           0.5013278722763062,
           0.43487387895584106,
           0.6133127212524414,
           0.5843428373336792,
           0.19364981353282928,
           0.26071834564208984,
           0.1517893522977829,
           0.4561305046081543,
           0.505674421787262,
           0.5297677516937256,
           1.0000003576278687,
           0.4322962164878845,
           0.46009427309036255,
           0.48423588275909424,
           0.44790661334991455,
           0.1817496418952942,
           0.5390454530715942,
           0.3202587366104126,
           0.47073787450790405,
           0.5153712034225464,
           0.29056838154792786,
           0.3106550872325897,
           0.4436369836330414,
           0.5104679465293884,
           0.42017078399658203,
           0.6353516578674316,
           0.3874882459640503,
           0.536532998085022,
           0.4467586278915405,
           0.5848286747932434,
           0.44325268268585205,
           0.15164272487163544,
           0.4825037717819214,
           0.13853737711906433,
           0.3913035988807678,
           0.43000584840774536,
           0.16447556018829346,
           0.6573444604873657,
           0.40986207127571106,
           0.14986971020698547,
           0.3668261766433716,
           0.180637925863266,
           0.3832974433898926,
           0.33967334032058716,
           0.39585214853286743,
           0.5500591993331909,
           0.5339996218681335,
           0.49057579040527344,
           0.34822458028793335,
           0.5257658958435059,
           0.5538104772567749,
           0.4683600962162018,
           0.13264299929141998,
           0.4757537245750427,
           0.44148093461990356,
           0.5495715141296387
          ],
          [
           0.4324858784675598,
           0.1372353583574295,
           0.40049266815185547,
           0.4381343126296997,
           0.33902621269226074,
           0.49899822473526,
           0.46594613790512085,
           0.4520580768585205,
           0.4280761480331421,
           0.4298296570777893,
           0.4301890730857849,
           0.47856825590133667,
           0.4578627645969391,
           0.3617457151412964,
           0.4186673164367676,
           0.40390515327453613,
           0.3736730217933655,
           0.3261696696281433,
           0.39851072430610657,
           0.45250070095062256,
           0.3959387242794037,
           0.33851248025894165,
           0.34604737162590027,
           0.23402312397956848,
           0.4295494556427002,
           0.3112545609474182,
           0.31083106994628906,
           0.4183156490325928,
           0.35930055379867554,
           0.4104658365249634,
           0.2755976915359497,
           0.37827450037002563,
           0.41064900159835815,
           0.45933565497398376,
           0.3710806369781494,
           0.18289805948734283,
           0.26753702759742737,
           0.14065033197402954,
           0.3131049871444702,
           0.28372228145599365,
           0.39484742283821106,
           0.4322962164878845,
           1,
           0.39319464564323425,
           0.32364803552627563,
           0.39915555715560913,
           0.18739071488380432,
           0.8566253185272217,
           0.3824818730354309,
           0.44056272506713867,
           0.4300177991390228,
           0.22911038994789124,
           0.2833777666091919,
           0.3641089200973511,
           0.3570350706577301,
           0.38783252239227295,
           0.3876316547393799,
           0.2534017264842987,
           0.3900178074836731,
           0.39892542362213135,
           0.4389567971229553,
           0.20019623637199402,
           0.2505478858947754,
           0.4128948748111725,
           0.22950443625450134,
           0.4882068932056427,
           0.27221864461898804,
           0.17868807911872864,
           0.49538925290107727,
           0.4165889620780945,
           0.26481303572654724,
           0.2892029881477356,
           0.18982252478599548,
           0.33931541442871094,
           0.30950915813446045,
           0.42349326610565186,
           0.433566689491272,
           0.47081422805786133,
           0.29280054569244385,
           0.3930714428424835,
           0.38135284185409546,
           0.37473195791244507,
           0.3713929057121277,
           0.24162274599075317,
           0.37963441014289856,
           0.34530049562454224,
           0.3721177577972412
          ],
          [
           0.5297499299049377,
           0.16133424639701843,
           0.5898922085762024,
           0.4618068337440491,
           0.46056824922561646,
           0.5161082744598389,
           0.5224777460098267,
           0.687119722366333,
           0.4307188391685486,
           0.47919201850891113,
           0.47035515308380127,
           0.5418398976325989,
           0.47018688917160034,
           0.41767969727516174,
           0.40378764271736145,
           0.43905317783355713,
           0.5270586013793945,
           0.2626453638076782,
           0.3905133605003357,
           0.48386695981025696,
           0.4800513982772827,
           0.25839149951934814,
           0.46974265575408936,
           0.22868743538856506,
           0.46039676666259766,
           0.4337070882320404,
           0.33406007289886475,
           0.602206289768219,
           0.22488287091255188,
           0.44687944650650024,
           0.33944278955459595,
           0.4099518358707428,
           0.4566781520843506,
           0.407482385635376,
           0.4165300130844116,
           0.20176295936107635,
           0.22233349084854126,
           0.14103010296821594,
           0.398935467004776,
           0.44598260521888733,
           0.4072921872138977,
           0.46009427309036255,
           0.39319464564323425,
           0.9999998807907104,
           0.3432823419570923,
           0.4360644221305847,
           0.17550882697105408,
           0.49598389863967896,
           0.2862253487110138,
           0.4660550355911255,
           0.5277585983276367,
           0.21954545378684998,
           0.29249274730682373,
           0.48505502939224243,
           0.42822498083114624,
           0.5053544044494629,
           0.5246180295944214,
           0.2872035503387451,
           0.4530611038208008,
           0.5352928638458252,
           0.5335174202919006,
           0.3594014644622803,
           0.12953722476959229,
           0.5996898412704468,
           0.12539835274219513,
           0.46014437079429626,
           0.3457261323928833,
           0.19508281350135803,
           0.6081602573394775,
           0.5154591798782349,
           0.12278668582439423,
           0.2530064284801483,
           0.2177278846502304,
           0.4405607581138611,
           0.36545246839523315,
           0.3965603709220886,
           0.4211690127849579,
           0.45086583495140076,
           0.32442307472229004,
           0.377799391746521,
           0.45051026344299316,
           0.43309515714645386,
           0.48909491300582886,
           0.1144861951470375,
           0.40351083874702454,
           0.5314750075340271,
           0.511318564414978
          ],
          [
           0.4846888780593872,
           0.2260441780090332,
           0.4578278958797455,
           0.548365592956543,
           0.4754748046398163,
           0.47545841336250305,
           0.6017460823059082,
           0.38638341426849365,
           0.5854628086090088,
           0.6102436184883118,
           0.43970251083374023,
           0.602974534034729,
           0.3770129978656769,
           0.359144002199173,
           0.43002867698669434,
           0.7161412835121155,
           0.32801592350006104,
           0.5171114206314087,
           0.31335288286209106,
           0.49039795994758606,
           0.6329086422920227,
           0.49739623069763184,
           0.5413999557495117,
           0.37443315982818604,
           0.5593464374542236,
           0.3403971493244171,
           0.3201673626899719,
           0.4879377484321594,
           0.49688220024108887,
           0.3928018808364868,
           0.334296852350235,
           0.3392794728279114,
           0.35298678278923035,
           0.4214879274368286,
           0.5154181718826294,
           0.30769529938697815,
           0.32665055990219116,
           0.19829434156417847,
           0.4526691138744354,
           0.3653171956539154,
           0.595285177230835,
           0.48423588275909424,
           0.32364803552627563,
           0.3432823419570923,
           1,
           0.408294677734375,
           0.2358648180961609,
           0.3895511031150818,
           0.4103941321372986,
           0.4672602117061615,
           0.47446587681770325,
           0.2490086406469345,
           0.5656043291091919,
           0.36239537596702576,
           0.7841857075691223,
           0.3343246579170227,
           0.40200984477996826,
           0.8132197856903076,
           0.43714195489883423,
           0.2738511562347412,
           0.4486698508262634,
           0.3723715543746948,
           0.29289084672927856,
           0.3714253008365631,
           0.4029567837715149,
           0.4221092462539673,
           0.5898792743682861,
           0.19680878520011902,
           0.608381986618042,
           0.2812005281448364,
           0.42390429973602295,
           0.3805973529815674,
           0.2837368845939636,
           0.424485981464386,
           0.39218950271606445,
           0.4639781713485718,
           0.4245288074016571,
           0.5606483221054077,
           0.4234920144081116,
           0.3413533568382263,
           0.4601854681968689,
           0.4988330006599426,
           0.3312262296676636,
           0.26783838868141174,
           0.32715803384780884,
           0.3127877116203308,
           0.5393692255020142
          ],
          [
           0.4976276159286499,
           0.18225613236427307,
           0.5761294960975647,
           0.46535733342170715,
           0.5447205305099487,
           0.5860996246337891,
           0.6974121332168579,
           0.553010106086731,
           0.5896142721176147,
           0.4892568290233612,
           0.5178356170654297,
           0.6363369226455688,
           0.49810898303985596,
           0.3736710250377655,
           0.377757728099823,
           0.5050123333930969,
           0.5004333257675171,
           0.47556614875793457,
           0.3795066773891449,
           0.542073130607605,
           0.5108610987663269,
           0.48597124218940735,
           0.5040677785873413,
           0.457998663187027,
           0.5324695110321045,
           0.43979090452194214,
           0.35471510887145996,
           0.5166488289833069,
           0.4934902489185333,
           0.4516432285308838,
           0.2876114547252655,
           0.33976298570632935,
           0.4221113622188568,
           0.38774198293685913,
           0.4572838544845581,
           0.33292338252067566,
           0.27843815088272095,
           0.20896181464195251,
           0.4296289086341858,
           0.36047255992889404,
           0.4441409111022949,
           0.44790661334991455,
           0.39915555715560913,
           0.4360644221305847,
           0.408294677734375,
           1,
           0.22411003708839417,
           0.4776213765144348,
           0.43217676877975464,
           0.5356565713882446,
           0.5127794146537781,
           0.4155237078666687,
           0.4080907106399536,
           0.40914368629455566,
           0.49019405245780945,
           0.4538237452507019,
           0.45572981238365173,
           0.397255003452301,
           0.4142117500305176,
           0.41352522373199463,
           0.570480465888977,
           0.41729527711868286,
           0.36534327268600464,
           0.5434434413909912,
           0.3441580533981323,
           0.4687255918979645,
           0.4343717098236084,
           0.3284490704536438,
           0.5958210229873657,
           0.4817533493041992,
           0.3334603011608124,
           0.26607581973075867,
           0.25926512479782104,
           0.4195272922515869,
           0.42509645223617554,
           0.5186185240745544,
           0.383296936750412,
           0.46875,
           0.38128817081451416,
           0.5088706016540527,
           0.5624788999557495,
           0.47192373871803284,
           0.393655002117157,
           0.27861911058425903,
           0.3247321546077728,
           0.42369139194488525,
           0.5049943923950195
          ],
          [
           0.17729312181472778,
           0.18782463669776917,
           0.20637546479701996,
           0.170156329870224,
           0.33225110173225403,
           0.2650514841079712,
           0.2476072460412979,
           0.19080278277397156,
           0.27724239230155945,
           0.2259795367717743,
           0.16107051074504852,
           0.28581395745277405,
           0.11288493871688843,
           0.11932777613401413,
           0.24607011675834656,
           0.2170809507369995,
           0.1968987137079239,
           0.36871129274368286,
           0.1368352621793747,
           0.19610869884490967,
           0.27293819189071655,
           0.25658708810806274,
           0.16010785102844238,
           0.19898352026939392,
           0.2788648009300232,
           0.24440747499465942,
           0.11122214049100876,
           0.21504750847816467,
           0.2686893939971924,
           0.20064161717891693,
           0.16105571389198303,
           0.06745696812868118,
           0.10556310415267944,
           0.08496489375829697,
           0.21678617596626282,
           0.2995593249797821,
           0.38159269094467163,
           0.15359213948249817,
           0.2063048928976059,
           0.1245240643620491,
           0.17708256840705872,
           0.1817496418952942,
           0.18739071488380432,
           0.17550882697105408,
           0.2358648180961609,
           0.22411003708839417,
           0.9999997615814209,
           0.2037927210330963,
           0.18790487945079803,
           0.31233468651771545,
           0.11742585152387619,
           0.2833632826805115,
           0.3603771924972534,
           0.17794252932071686,
           0.2117794305086136,
           0.030869729816913605,
           0.19468745589256287,
           0.26611244678497314,
           0.10051380842924118,
           0.1023394837975502,
           0.33390408754348755,
           0.1867443174123764,
           0.1827813982963562,
           0.18918561935424805,
           0.14576275646686554,
           0.21310262382030487,
           0.43611520528793335,
           0.22907385230064392,
           0.2339237928390503,
           0.20355872809886932,
           0.1173689067363739,
           0.40512755513191223,
           0.13559231162071228,
           0.23079697787761688,
           0.2095329910516739,
           0.19432905316352844,
           0.05121537297964096,
           0.17215606570243835,
           0.19264093041419983,
           0.22794555127620697,
           0.3099101185798645,
           0.1567356288433075,
           0.09831391274929047,
           0.1770728975534439,
           0.046228740364313126,
           0.15868017077445984,
           0.14901266992092133
          ],
          [
           0.696260929107666,
           0.13952793180942535,
           0.4940173625946045,
           0.5444215536117554,
           0.44546228647232056,
           0.56156325340271,
           0.6151371598243713,
           0.5566673278808594,
           0.5196003913879395,
           0.49635547399520874,
           0.5136293768882751,
           0.5775889158248901,
           0.5633755326271057,
           0.5580657124519348,
           0.462338387966156,
           0.5002956390380859,
           0.4527585506439209,
           0.3409060835838318,
           0.44363489747047424,
           0.5576965808868408,
           0.5457990169525146,
           0.3815593719482422,
           0.4468386173248291,
           0.23564322292804718,
           0.5313239693641663,
           0.5760958194732666,
           0.4305262863636017,
           0.520679235458374,
           0.3209797143936157,
           0.5439449548721313,
           0.49061182141304016,
           0.46962273120880127,
           0.6441007852554321,
           0.5361381769180298,
           0.5096148252487183,
           0.16719874739646912,
           0.18730279803276062,
           0.14577433466911316,
           0.3788679838180542,
           0.3702929615974426,
           0.5175483822822571,
           0.5390454530715942,
           0.8566253185272217,
           0.49598389863967896,
           0.3895511031150818,
           0.4776213765144348,
           0.2037927210330963,
           1,
           0.3809792399406433,
           0.5081877112388611,
           0.6029335260391235,
           0.23832406103610992,
           0.3141794502735138,
           0.5694338083267212,
           0.4565867781639099,
           0.568932831287384,
           0.48797091841697693,
           0.29105547070503235,
           0.5158631205558777,
           0.4904860854148865,
           0.580666184425354,
           0.3014952838420868,
           0.17226073145866394,
           0.5153270959854126,
           0.21224331855773926,
           0.505200982093811,
           0.2962043583393097,
           0.36458805203437805,
           0.592901349067688,
           0.4242229461669922,
           0.21854421496391296,
           0.23337724804878235,
           0.20226773619651794,
           0.4283919930458069,
           0.36430466175079346,
           0.4565751850605011,
           0.5399960279464722,
           0.5732200145721436,
           0.39697712659835815,
           0.44128769636154175,
           0.4977946877479553,
           0.4603675603866577,
           0.5762284994125366,
           0.17149683833122253,
           0.4524500370025635,
           0.4092445373535156,
           0.507798969745636
          ],
          [
           0.46441394090652466,
           0.4000534117221832,
           0.3988763988018036,
           0.3782409429550171,
           0.3544110059738159,
           0.35839951038360596,
           0.5604643821716309,
           0.3664436936378479,
           0.5026001334190369,
           0.3670702576637268,
           0.49122947454452515,
           0.6788585782051086,
           0.37097421288490295,
           0.2530512809753418,
           0.3033178150653839,
           0.4985046982765198,
           0.33880162239074707,
           0.4585322439670563,
           0.2784661650657654,
           0.4728826880455017,
           0.4152432084083557,
           0.262870728969574,
           0.41403526067733765,
           0.3050861954689026,
           0.6812582015991211,
           0.4052885174751282,
           0.1950739026069641,
           0.3292301297187805,
           0.5032731294631958,
           0.35431981086730957,
           0.1410965919494629,
           0.2608456611633301,
           0.3308003842830658,
           0.3149511218070984,
           0.42568257451057434,
           0.510704755783081,
           0.38845062255859375,
           0.26722338795661926,
           0.31777316331863403,
           0.2385403960943222,
           0.3745132088661194,
           0.3202587366104126,
           0.3824818730354309,
           0.2862253487110138,
           0.4103941321372986,
           0.43217676877975464,
           0.18790487945079803,
           0.3809792399406433,
           1,
           0.5628761053085327,
           0.29848602414131165,
           0.2756688594818115,
           0.3702557384967804,
           0.32549235224723816,
           0.7122126817703247,
           0.32527464628219604,
           0.27256977558135986,
           0.5631388425827026,
           0.3152780532836914,
           0.26874589920043945,
           0.4312381148338318,
           0.20914605259895325,
           0.5185657739639282,
           0.40897589921951294,
           0.34225553274154663,
           0.5863906741142273,
           0.32785558700561523,
           0.2476801574230194,
           0.4668254256248474,
           0.34926044940948486,
           0.29549333453178406,
           0.23000502586364746,
           0.4089663624763489,
           0.7235761880874634,
           0.8781642913818359,
           0.8765711784362793,
           0.28262412548065186,
           0.4031452536582947,
           0.22601622343063354,
           0.39084792137145996,
           0.5323488116264343,
           0.3900485038757324,
           0.260810911655426,
           0.5953582525253296,
           0.2606823742389679,
           0.19093739986419678,
           0.39448094367980957
          ],
          [
           0.6131091117858887,
           0.203892782330513,
           0.5890455842018127,
           0.5137006044387817,
           0.4296228587627411,
           0.5689116716384888,
           0.7671760320663452,
           0.4566079378128052,
           0.623199462890625,
           0.5766680836677551,
           0.6604273915290833,
           0.8135941028594971,
           0.5837697386741638,
           0.32513427734375,
           0.47359293699264526,
           0.5740538835525513,
           0.4041506350040436,
           0.47006839513778687,
           0.4370487630367279,
           0.5967860221862793,
           0.6133909225463867,
           0.40348801016807556,
           0.5121731162071228,
           0.4023720920085907,
           0.7611936330795288,
           0.4303828179836273,
           0.2628457546234131,
           0.4772915840148926,
           0.3667140007019043,
           0.5169398784637451,
           0.2576185464859009,
           0.3388062119483948,
           0.4960050582885742,
           0.38363566994667053,
           0.5257787704467773,
           0.29477280378341675,
           0.29348474740982056,
           0.22579438984394073,
           0.5106122493743896,
           0.282566636800766,
           0.4765908122062683,
           0.47073787450790405,
           0.44056272506713867,
           0.4660550355911255,
           0.4672602117061615,
           0.5356565713882446,
           0.31233468651771545,
           0.5081877112388611,
           0.5628761053085327,
           0.9999999403953552,
           0.4334995448589325,
           0.30307334661483765,
           0.3699764013290405,
           0.5174926519393921,
           0.6402866840362549,
           0.39906248450279236,
           0.4742540717124939,
           0.4290544390678406,
           0.44584617018699646,
           0.3718494772911072,
           0.5778448581695557,
           0.29378432035446167,
           0.23998892307281494,
           0.5393672585487366,
           0.1653929203748703,
           0.8784160614013672,
           0.45843565464019775,
           0.1911148726940155,
           0.6704461574554443,
           0.48069363832473755,
           0.15140894055366516,
           0.2811889350414276,
           0.3335564136505127,
           0.643210768699646,
           0.6480427980422974,
           0.6903891563415527,
           0.4312325716018677,
           0.5107614994049072,
           0.32381319999694824,
           0.4769899249076843,
           0.6920790672302246,
           0.5344971418380737,
           0.42832180857658386,
           0.1746247261762619,
           0.38245075941085815,
           0.24585098028182983,
           0.5234597325325012
          ],
          [
           0.6750226616859436,
           0.14306741952896118,
           0.6400622725486755,
           0.5869982242584229,
           0.5611743927001953,
           0.5099843740463257,
           0.6163926124572754,
           0.5890248417854309,
           0.5199469327926636,
           0.5632103085517883,
           0.5539441108703613,
           0.5356252193450928,
           0.55888432264328,
           0.5759168863296509,
           0.4595526158809662,
           0.5658115148544312,
           0.4816233217716217,
           0.25295692682266235,
           0.43104010820388794,
           0.6046666502952576,
           0.567764401435852,
           0.4210825264453888,
           0.5955762267112732,
           0.3237355053424835,
           0.427315354347229,
           0.543298602104187,
           0.503892719745636,
           0.5867280960083008,
           0.33086663484573364,
           0.530429482460022,
           0.47693732380867004,
           0.5338063836097717,
           0.6210224628448486,
           0.5518760681152344,
           0.573708176612854,
           0.13391843438148499,
           0.11586294323205948,
           0.11173635721206665,
           0.44817715883255005,
           0.5378617644309998,
           0.5822802782058716,
           0.5153712034225464,
           0.4300177991390228,
           0.5277585983276367,
           0.47446587681770325,
           0.5127794146537781,
           0.11742585152387619,
           0.6029335260391235,
           0.29848602414131165,
           0.4334995448589325,
           0.9999998807907104,
           0.17185698449611664,
           0.25905609130859375,
           0.5811660289764404,
           0.4730498194694519,
           0.6488549709320068,
           0.544331431388855,
           0.35687580704689026,
           0.6036708354949951,
           0.5366564989089966,
           0.5454763174057007,
           0.3847801685333252,
           0.18645212054252625,
           0.528261661529541,
           0.16867037117481232,
           0.4237821698188782,
           0.33346229791641235,
           0.32641398906707764,
           0.6676709651947021,
           0.4727102518081665,
           0.20283499360084534,
           0.19951453804969788,
           0.23453882336616516,
           0.3613702654838562,
           0.2934427857398987,
           0.4079549312591553,
           0.5704794526100159,
           0.6183518767356873,
           0.43261587619781494,
           0.41644924879074097,
           0.45315495133399963,
           0.5358513593673706,
           0.6342142820358276,
           0.12939727306365967,
           0.49663740396499634,
           0.5023910999298096,
           0.5660568475723267
          ],
          [
           0.2706090807914734,
           0.15285006165504456,
           0.27970290184020996,
           0.3121986985206604,
           0.3254033029079437,
           0.3198385238647461,
           0.37805986404418945,
           0.23607131838798523,
           0.35187244415283203,
           0.2977103590965271,
           0.26802700757980347,
           0.3625592291355133,
           0.16675525903701782,
           0.24404746294021606,
           0.23582005500793457,
           0.28470805287361145,
           0.25924646854400635,
           0.35720959305763245,
           0.14699876308441162,
           0.2927296757698059,
           0.3124938905239105,
           0.38739845156669617,
           0.3115141987800598,
           0.30790504813194275,
           0.3239397406578064,
           0.21780088543891907,
           0.25321900844573975,
           0.2635611593723297,
           0.3692361116409302,
           0.20233765244483948,
           0.2042817771434784,
           0.15616294741630554,
           0.14260761439800262,
           0.2229870855808258,
           0.3034188151359558,
           0.3561776280403137,
           0.34396645426750183,
           0.22768262028694153,
           0.26298877596855164,
           0.21629010140895844,
           0.26767227053642273,
           0.29056838154792786,
           0.22911038994789124,
           0.21954545378684998,
           0.2490086406469345,
           0.4155237078666687,
           0.2833632826805115,
           0.23832406103610992,
           0.2756688594818115,
           0.30307334661483765,
           0.17185698449611664,
           1.0000001192092896,
           0.363147109746933,
           0.21223875880241394,
           0.28071916103363037,
           0.18507283926010132,
           0.3332061171531677,
           0.2860766649246216,
           0.18375885486602783,
           0.1253686249256134,
           0.3237900137901306,
           0.2903091311454773,
           0.3350129723548889,
           0.2814974784851074,
           0.280714750289917,
           0.23063358664512634,
           0.3056386113166809,
           0.16370493173599243,
           0.2992395758628845,
           0.27633893489837646,
           0.2667093276977539,
           0.3190259337425232,
           0.27465033531188965,
           0.23557743430137634,
           0.24629446864128113,
           0.3215484619140625,
           0.1590057760477066,
           0.28347718715667725,
           0.3650623559951782,
           0.2848997116088867,
           0.3473513722419739,
           0.268343061208725,
           0.11399682611227036,
           0.25204184651374817,
           0.1280830204486847,
           0.1986238956451416,
           0.31992679834365845
          ],
          [
           0.327365517616272,
           0.3733453154563904,
           0.5148385763168335,
           0.3602529466152191,
           0.40777459740638733,
           0.3768240809440613,
           0.44262218475341797,
           0.3286066949367523,
           0.4454604983329773,
           0.44037824869155884,
           0.3615117371082306,
           0.5502975583076477,
           0.2696498930454254,
           0.21842831373214722,
           0.34174734354019165,
           0.42593610286712646,
           0.3552802503108978,
           0.6950071454048157,
           0.3099854588508606,
           0.40224364399909973,
           0.41960394382476807,
           0.4933452010154724,
           0.3667992353439331,
           0.47955185174942017,
           0.4696611762046814,
           0.2729448676109314,
           0.19844624400138855,
           0.35241591930389404,
           0.6880596876144409,
           0.25240859389305115,
           0.3528001606464386,
           0.30936482548713684,
           0.23233069479465485,
           0.3021676540374756,
           0.3579224944114685,
           0.7122058868408203,
           0.44799694418907166,
           0.36625936627388,
           0.3404831886291504,
           0.42891597747802734,
           0.3320024013519287,
           0.3106550872325897,
           0.2833777666091919,
           0.29249274730682373,
           0.5656043291091919,
           0.4080907106399536,
           0.3603771924972534,
           0.3141794502735138,
           0.3702557384967804,
           0.3699764013290405,
           0.25905609130859375,
           0.363147109746933,
           1.000000238418579,
           0.3503151535987854,
           0.43046659231185913,
           0.23907101154327393,
           0.3441358208656311,
           0.5447639226913452,
           0.26816505193710327,
           0.24183350801467896,
           0.3723788261413574,
           0.3672768175601959,
           0.5550180673599243,
           0.3228873014450073,
           0.558106541633606,
           0.3076467514038086,
           0.5668531656265259,
           0.253333181142807,
           0.4484420716762543,
           0.28448307514190674,
           0.47324633598327637,
           0.30501246452331543,
           0.3133973181247711,
           0.547391951084137,
           0.4148405194282532,
           0.4612579345703125,
           0.22742104530334473,
           0.3300357758998871,
           0.3103815019130707,
           0.3692704439163208,
           0.35194849967956543,
           0.37113428115844727,
           0.2631632387638092,
           0.417177677154541,
           0.23902420699596405,
           0.27603548765182495,
           0.3551871180534363
          ],
          [
           0.7618693113327026,
           0.16886034607887268,
           0.5933599472045898,
           0.47882357239723206,
           0.4222286641597748,
           0.4627605676651001,
           0.5638929605484009,
           0.46381694078445435,
           0.4241288900375366,
           0.4932064414024353,
           0.5355017185211182,
           0.5392038226127625,
           0.5387993454933167,
           0.5463721752166748,
           0.4524831771850586,
           0.4414670467376709,
           0.4111977517604828,
           0.33390215039253235,
           0.4584804177284241,
           0.525526225566864,
           0.5161886215209961,
           0.38376539945602417,
           0.4454580545425415,
           0.3359912633895874,
           0.482805997133255,
           0.6083530187606812,
           0.4173576533794403,
           0.4995928406715393,
           0.3415212035179138,
           0.4724998474121094,
           0.6321816444396973,
           0.4501705765724182,
           0.6849051713943481,
           0.37696391344070435,
           0.49428653717041016,
           0.20954445004463196,
           0.11211111396551132,
           0.16224798560142517,
           0.46404731273651123,
           0.4414585828781128,
           0.4269631505012512,
           0.4436369836330414,
           0.3641089200973511,
           0.48505502939224243,
           0.36239537596702576,
           0.40914368629455566,
           0.17794252932071686,
           0.5694338083267212,
           0.32549235224723816,
           0.5174926519393921,
           0.5811660289764404,
           0.21223875880241394,
           0.3503151535987854,
           0.9999996423721313,
           0.42500168085098267,
           0.6094169020652771,
           0.49117255210876465,
           0.25300127267837524,
           0.4893055260181427,
           0.45609360933303833,
           0.5288491249084473,
           0.3150366544723511,
           0.18035785853862762,
           0.39674967527389526,
           0.16650310158729553,
           0.5150299072265625,
           0.3179348111152649,
           0.43289631605148315,
           0.5956820249557495,
           0.36271756887435913,
           0.1582433581352234,
           0.16986632347106934,
           0.20287108421325684,
           0.41399434208869934,
           0.3430095314979553,
           0.4244738221168518,
           0.4667258858680725,
           0.44537755846977234,
           0.37714487314224243,
           0.38106560707092285,
           0.4512609839439392,
           0.47621285915374756,
           0.8226837515830994,
           0.11361426115036011,
           0.42470788955688477,
           0.40048879384994507,
           0.4850356876850128
          ],
          [
           0.6079311370849609,
           0.27258050441741943,
           0.5034792423248291,
           0.5601023435592651,
           0.4771479368209839,
           0.5323068499565125,
           0.7398734092712402,
           0.46721500158309937,
           0.6305651068687439,
           0.5797498226165771,
           0.549207329750061,
           0.755628764629364,
           0.4783579707145691,
           0.38257524371147156,
           0.451880544424057,
           0.7303760051727295,
           0.38581955432891846,
           0.43940648436546326,
           0.3502099812030792,
           0.5970534086227417,
           0.6348905563354492,
           0.3772629201412201,
           0.5838817358016968,
           0.34481948614120483,
           0.7509382963180542,
           0.47799474000930786,
           0.30362892150878906,
           0.5126956105232239,
           0.39129114151000977,
           0.483588844537735,
           0.2590278089046478,
           0.36317139863967896,
           0.45766252279281616,
           0.4383580982685089,
           0.5827757120132446,
           0.34546083211898804,
           0.3570404648780823,
           0.22222529351711273,
           0.47014468908309937,
           0.35939955711364746,
           0.5693826675415039,
           0.5104679465293884,
           0.3570350706577301,
           0.42822498083114624,
           0.7841857075691223,
           0.49019405245780945,
           0.2117794305086136,
           0.4565867781639099,
           0.7122126817703247,
           0.6402866840362549,
           0.4730498194694519,
           0.28071916103363037,
           0.43046659231185913,
           0.42500168085098267,
           1,
           0.41097158193588257,
           0.4209306836128235,
           0.8067934513092041,
           0.4733014702796936,
           0.3347000479698181,
           0.557746410369873,
           0.4136907458305359,
           0.2979781925678253,
           0.48823630809783936,
           0.27720919251441956,
           0.6222789883613586,
           0.42985111474990845,
           0.22704124450683594,
           0.6589939594268799,
           0.3663780391216278,
           0.26654955744743347,
           0.3042376637458801,
           0.41462719440460205,
           0.7004997134208679,
           0.6944825649261475,
           0.7327840328216553,
           0.4579314589500427,
           0.600677490234375,
           0.4018964171409607,
           0.43792223930358887,
           0.605432391166687,
           0.5269515514373779,
           0.38179120421409607,
           0.2890828847885132,
           0.38377681374549866,
           0.2634480893611908,
           0.6094924211502075
          ],
          [
           0.7056678533554077,
           0.17518702149391174,
           0.4849023222923279,
           0.5502934455871582,
           0.4913502037525177,
           0.4204348921775818,
           0.536705493927002,
           0.5254141092300415,
           0.437630832195282,
           0.4065847396850586,
           0.6263161897659302,
           0.4857282340526581,
           0.5393843650817871,
           0.7683597803115845,
           0.35711872577667236,
           0.5016798377037048,
           0.3998919725418091,
           0.19490718841552734,
           0.4193161129951477,
           0.4873355031013489,
           0.4659443497657776,
           0.3663836121559143,
           0.4884602427482605,
           0.28845685720443726,
           0.37935957312583923,
           0.6461197137832642,
           0.6332815289497375,
           0.5113678574562073,
           0.2832361161708832,
           0.5106235146522522,
           0.5154430270195007,
           0.46167469024658203,
           0.6727133393287659,
           0.4824511408805847,
           0.5414186120033264,
           0.15873520076274872,
           0.07521466910839081,
           0.16488195955753326,
           0.38243648409843445,
           0.41317230463027954,
           0.49456971883773804,
           0.42017078399658203,
           0.38783252239227295,
           0.5053544044494629,
           0.3343246579170227,
           0.4538237452507019,
           0.030869729816913605,
           0.568932831287384,
           0.32527464628219604,
           0.39906248450279236,
           0.6488549709320068,
           0.18507283926010132,
           0.23907101154327393,
           0.6094169020652771,
           0.41097158193588257,
           1.0000001192092896,
           0.4350687861442566,
           0.2373378574848175,
           0.5651463270187378,
           0.4964854121208191,
           0.47635334730148315,
           0.27484357357025146,
           0.1641063392162323,
           0.46426743268966675,
           0.1928349882364273,
           0.42087268829345703,
           0.2382946014404297,
           0.4450387954711914,
           0.5311052203178406,
           0.38856083154678345,
           0.21936845779418945,
           0.14750368893146515,
           0.2228793203830719,
           0.36851766705513,
           0.33584290742874146,
           0.40636178851127625,
           0.5596796870231628,
           0.5101147294044495,
           0.39759838581085205,
           0.3565579652786255,
           0.4021345376968384,
           0.37643885612487793,
           0.6158174872398376,
           0.15620288252830505,
           0.43970078229904175,
           0.4306062161922455,
           0.5013892650604248
          ],
          [
           0.4746648073196411,
           0.07687390595674515,
           0.6237311363220215,
           0.5084831714630127,
           0.4802742898464203,
           0.6452953815460205,
           0.5874887108802795,
           0.5076963305473328,
           0.4660899043083191,
           0.592228353023529,
           0.48040148615837097,
           0.5490015745162964,
           0.5355360507965088,
           0.4163893163204193,
           0.5002669095993042,
           0.44803738594055176,
           0.48256558179855347,
           0.28100889921188354,
           0.4618914723396301,
           0.5308557748794556,
           0.4921136796474457,
           0.2915012836456299,
           0.5580652356147766,
           0.31499290466308594,
           0.4320073127746582,
           0.329589307308197,
           0.3711998462677002,
           0.6156761646270752,
           0.2865884602069855,
           0.4975600838661194,
           0.2913329601287842,
           0.49697795510292053,
           0.4810377359390259,
           0.48710668087005615,
           0.5729835033416748,
           0.19522342085838318,
           0.18826299905776978,
           0.16022805869579315,
           0.4271213412284851,
           0.48325252532958984,
           0.45276767015457153,
           0.6353516578674316,
           0.3876316547393799,
           0.5246180295944214,
           0.40200984477996826,
           0.45572981238365173,
           0.19468745589256287,
           0.48797091841697693,
           0.27256977558135986,
           0.4742540717124939,
           0.544331431388855,
           0.3332061171531677,
           0.3441358208656311,
           0.49117255210876465,
           0.4209306836128235,
           0.4350687861442566,
           0.9999999403953552,
           0.3052358627319336,
           0.5533672571182251,
           0.5165060758590698,
           0.5315324664115906,
           0.39353299140930176,
           0.14435991644859314,
           0.4539449214935303,
           0.13509860634803772,
           0.4259417653083801,
           0.40619587898254395,
           0.12842516601085663,
           0.6595357656478882,
           0.4920981526374817,
           0.14487549662590027,
           0.24308079481124878,
           0.24926182627677917,
           0.3876190185546875,
           0.3073002099990845,
           0.37095996737480164,
           0.5030872225761414,
           0.48834213614463806,
           0.48681461811065674,
           0.39948463439941406,
           0.47077488899230957,
           0.4985830783843994,
           0.5390108823776245,
           0.1118825227022171,
           0.5127756595611572,
           0.46198469400405884,
           0.5057998299598694
          ],
          [
           0.39945295453071594,
           0.3201639652252197,
           0.4049072861671448,
           0.4143204689025879,
           0.4231299161911011,
           0.3968321681022644,
           0.5093291997909546,
           0.35054898262023926,
           0.4992300271987915,
           0.4671720862388611,
           0.3779778480529785,
           0.5291998982429504,
           0.28758174180984497,
           0.2364519238471985,
           0.34960681200027466,
           0.5906547904014587,
           0.3028537631034851,
           0.5120378136634827,
           0.24406136572360992,
           0.4104219973087311,
           0.5176990032196045,
           0.3738245666027069,
           0.4589969217777252,
           0.43033546209335327,
           0.5176876783370972,
           0.29273486137390137,
           0.2141803503036499,
           0.4399679899215698,
           0.44453540444374084,
           0.3026794493198395,
           0.22545126080513,
           0.2604028582572937,
           0.26083868741989136,
           0.3202965259552002,
           0.40543580055236816,
           0.5232877731323242,
           0.43254053592681885,
           0.21736109256744385,
           0.36109378933906555,
           0.30893296003341675,
           0.4336417615413666,
           0.3874882459640503,
           0.2534017264842987,
           0.2872035503387451,
           0.8132197856903076,
           0.397255003452301,
           0.26611244678497314,
           0.29105547070503235,
           0.5631388425827026,
           0.4290544390678406,
           0.35687580704689026,
           0.2860766649246216,
           0.5447639226913452,
           0.25300127267837524,
           0.8067934513092041,
           0.2373378574848175,
           0.3052358627319336,
           1,
           0.32151639461517334,
           0.2088547796010971,
           0.37122753262519836,
           0.34605544805526733,
           0.4704023003578186,
           0.34530067443847656,
           0.3656955361366272,
           0.3734670877456665,
           0.5333060026168823,
           0.1984752118587494,
           0.466150164604187,
           0.2356257140636444,
           0.2967303991317749,
           0.3185024857521057,
           0.32169976830482483,
           0.51735520362854,
           0.5416954755783081,
           0.5626915693283081,
           0.28304338455200195,
           0.46256253123283386,
           0.3386395275592804,
           0.34313029050827026,
           0.39009904861450195,
           0.40857696533203125,
           0.2185133397579193,
           0.42844516038894653,
           0.26588374376296997,
           0.24478432536125183,
           0.4036342203617096
          ],
          [
           0.5494837164878845,
           0.1317918449640274,
           0.5207356214523315,
           0.5259950757026672,
           0.5115209817886353,
           0.49409472942352295,
           0.5778353810310364,
           0.4630712866783142,
           0.4865582585334778,
           0.5805940628051758,
           0.5252058506011963,
           0.4978765845298767,
           0.8536045551300049,
           0.45975151658058167,
           0.5014678239822388,
           0.6043171882629395,
           0.36798593401908875,
           0.26992595195770264,
           0.7961525321006775,
           0.607410728931427,
           0.47978442907333374,
           0.31883931159973145,
           0.773621678352356,
           0.31251946091651917,
           0.4408891201019287,
           0.45917242765426636,
           0.3995802402496338,
           0.4427020251750946,
           0.32347458600997925,
           0.8200607895851135,
           0.3439320921897888,
           0.6896262764930725,
           0.8090949654579163,
           0.5776773691177368,
           0.5985358953475952,
           0.1814795881509781,
           0.12144701182842255,
           0.15458689630031586,
           0.4567856192588806,
           0.3970549404621124,
           0.6583054661750793,
           0.536532998085022,
           0.3900178074836731,
           0.4530611038208008,
           0.43714195489883423,
           0.4142117500305176,
           0.10051380842924118,
           0.5158631205558777,
           0.3152780532836914,
           0.44584617018699646,
           0.6036708354949951,
           0.18375885486602783,
           0.26816505193710327,
           0.4893055260181427,
           0.4733014702796936,
           0.5651463270187378,
           0.5533672571182251,
           0.32151639461517334,
           1,
           0.7471834421157837,
           0.4913911819458008,
           0.3619827926158905,
           0.1847010999917984,
           0.41456854343414307,
           0.18083500862121582,
           0.42500442266464233,
           0.3050635755062103,
           0.2665126323699951,
           0.5764912366867065,
           0.3398571014404297,
           0.1999361366033554,
           0.1941956877708435,
           0.26947712898254395,
           0.39695191383361816,
           0.3315983712673187,
           0.38938194513320923,
           0.8302148580551147,
           0.6965617537498474,
           0.47039496898651123,
           0.31501615047454834,
           0.45156651735305786,
           0.49412572383880615,
           0.7687864303588867,
           0.13119736313819885,
           0.7936004400253296,
           0.3250574767589569,
           0.5083664655685425
          ],
          [
           0.4389714002609253,
           0.15976592898368835,
           0.5519846677780151,
           0.43467772006988525,
           0.45015811920166016,
           0.4956987500190735,
           0.44586658477783203,
           0.5851647853851318,
           0.4340554177761078,
           0.48462626338005066,
           0.4494384527206421,
           0.45624661445617676,
           0.8215423226356506,
           0.3897284269332886,
           0.4292900264263153,
           0.39906007051467896,
           0.7030512690544128,
           0.23081806302070618,
           0.8172035217285156,
           0.46545571088790894,
           0.4041954278945923,
           0.24562722444534302,
           0.46090275049209595,
           0.24091292917728424,
           0.3760989010334015,
           0.3821663558483124,
           0.3277783989906311,
           0.534081220626831,
           0.2646331489086151,
           0.8468335866928101,
           0.2959440052509308,
           0.697938084602356,
           0.7474402189254761,
           0.4990501403808594,
           0.4873194396495819,
           0.19321686029434204,
           0.1589551568031311,
           0.19012564420700073,
           0.3977683186531067,
           0.45671290159225464,
           0.36241352558135986,
           0.4467586278915405,
           0.39892542362213135,
           0.5352928638458252,
           0.2738511562347412,
           0.41352522373199463,
           0.1023394837975502,
           0.4904860854148865,
           0.26874589920043945,
           0.3718494772911072,
           0.5366564989089966,
           0.1253686249256134,
           0.24183350801467896,
           0.45609360933303833,
           0.3347000479698181,
           0.4964854121208191,
           0.5165060758590698,
           0.2088547796010971,
           0.7471834421157837,
           1,
           0.5809611082077026,
           0.2996077239513397,
           0.17060741782188416,
           0.5109378099441528,
           0.16484804451465607,
           0.3687188923358917,
           0.24390260875225067,
           0.21213442087173462,
           0.5399781465530396,
           0.5967845916748047,
           0.1592944860458374,
           0.18543535470962524,
           0.1985713541507721,
           0.3462674021720886,
           0.2944563627243042,
           0.3323548436164856,
           0.7456907033920288,
           0.45939695835113525,
           0.34173476696014404,
           0.411064088344574,
           0.46094977855682373,
           0.44508713483810425,
           0.7548141479492188,
           0.13753469288349152,
           0.7509788274765015,
           0.6068549156188965,
           0.4098341464996338
          ],
          [
           0.6094963550567627,
           0.18692366778850555,
           0.5759255290031433,
           0.5476930141448975,
           0.5531545877456665,
           0.5819576978683472,
           0.6876482367515564,
           0.6208558082580566,
           0.6473205089569092,
           0.5029312968254089,
           0.5480964183807373,
           0.6570513248443604,
           0.529183030128479,
           0.4436141848564148,
           0.4307360053062439,
           0.5721980929374695,
           0.6810827255249023,
           0.34043848514556885,
           0.3980259895324707,
           0.5282852649688721,
           0.5958248376846313,
           0.3997122645378113,
           0.5459754467010498,
           0.29269635677337646,
           0.5750589370727539,
           0.5227388143539429,
           0.3499731719493866,
           0.5716696977615356,
           0.3672449588775635,
           0.6176943778991699,
           0.3813856244087219,
           0.41782698035240173,
           0.5337241888046265,
           0.4512633979320526,
           0.5511250495910645,
           0.28903377056121826,
           0.24953274428844452,
           0.21954482793807983,
           0.4778599143028259,
           0.44955646991729736,
           0.5480173826217651,
           0.5848286747932434,
           0.4389567971229553,
           0.5335174202919006,
           0.4486698508262634,
           0.570480465888977,
           0.33390408754348755,
           0.580666184425354,
           0.4312381148338318,
           0.5778448581695557,
           0.5454763174057007,
           0.3237900137901306,
           0.3723788261413574,
           0.5288491249084473,
           0.557746410369873,
           0.47635334730148315,
           0.5315324664115906,
           0.37122753262519836,
           0.4913911819458008,
           0.5809611082077026,
           0.9999997615814209,
           0.5036653280258179,
           0.23240995407104492,
           0.581450879573822,
           0.22676272690296173,
           0.49965542554855347,
           0.3686464726924896,
           0.25767576694488525,
           0.6569281220436096,
           0.6182858943939209,
           0.2501961588859558,
           0.2704123258590698,
           0.21025563776493073,
           0.5344527959823608,
           0.4563610553741455,
           0.5097300410270691,
           0.47597169876098633,
           0.5376309156417847,
           0.4696410000324249,
           0.48498910665512085,
           0.6950823068618774,
           0.5400060415267944,
           0.5146797895431519,
           0.20488041639328003,
           0.3901351988315582,
           0.5458330512046814,
           0.6100630760192871
          ],
          [
           0.37696748971939087,
           0.09545700252056122,
           0.4465217590332031,
           0.43423908948898315,
           0.4652372896671295,
           0.4752047061920166,
           0.5554031133651733,
           0.4162505269050598,
           0.41272664070129395,
           0.4261574447154999,
           0.2903638482093811,
           0.4269459545612335,
           0.32419562339782715,
           0.335517942905426,
           0.3794174790382385,
           0.4401658773422241,
           0.3630850911140442,
           0.21706944704055786,
           0.25198477506637573,
           0.41368380188941956,
           0.4528297483921051,
           0.3913118541240692,
           0.4264124929904938,
           0.3828009068965912,
           0.3497214615345001,
           0.31943684816360474,
           0.25040486454963684,
           0.40903419256210327,
           0.2548063099384308,
           0.37305447459220886,
           0.30542492866516113,
           0.40564993023872375,
           0.3234404921531677,
           0.39275822043418884,
           0.44982874393463135,
           0.2790735960006714,
           0.167904332280159,
           0.1488216519355774,
           0.43484610319137573,
           0.438547819852829,
           0.4336618483066559,
           0.44325268268585205,
           0.20019623637199402,
           0.3594014644622803,
           0.3723715543746948,
           0.41729527711868286,
           0.1867443174123764,
           0.3014952838420868,
           0.20914605259895325,
           0.29378432035446167,
           0.3847801685333252,
           0.2903091311454773,
           0.3672768175601959,
           0.3150366544723511,
           0.4136907458305359,
           0.27484357357025146,
           0.39353299140930176,
           0.34605544805526733,
           0.3619827926158905,
           0.2996077239513397,
           0.5036653280258179,
           1,
           0.19257822632789612,
           0.3535032272338867,
           0.14833177626132965,
           0.20395007729530334,
           0.33742237091064453,
           0.13935205340385437,
           0.4551146924495697,
           0.2878405749797821,
           0.14545051753520966,
           0.22501318156719208,
           0.18249759078025818,
           0.3697137236595154,
           0.2533333897590637,
           0.306318998336792,
           0.3733667731285095,
           0.39568671584129333,
           0.37771517038345337,
           0.3594628572463989,
           0.4258252680301666,
           0.42572021484375,
           0.3322564959526062,
           0.08204770088195801,
           0.2865891754627228,
           0.33076179027557373,
           0.7275272607803345
          ],
          [
           0.20625722408294678,
           0.3561181426048279,
           0.3894285559654236,
           0.24985912442207336,
           0.3025246858596802,
           0.19081537425518036,
           0.28762227296829224,
           0.21259024739265442,
           0.41587990522384644,
           0.25035738945007324,
           0.26807230710983276,
           0.35363784432411194,
           0.19802109897136688,
           0.09175251424312592,
           0.13724832236766815,
           0.2735551595687866,
           0.27072978019714355,
           0.5265411138534546,
           0.22792404890060425,
           0.2598356306552887,
           0.260188490152359,
           0.36966943740844727,
           0.26016995310783386,
           0.4509980380535126,
           0.2829589545726776,
           0.17279407382011414,
           0.14875224232673645,
           0.2011527717113495,
           0.7495013475418091,
           0.18674510717391968,
           0.1508430391550064,
           0.16987204551696777,
           0.13572433590888977,
           0.1611047089099884,
           0.19355539977550507,
           0.7344260811805725,
           0.427712619304657,
           0.3931453824043274,
           0.19210781157016754,
           0.21300260722637177,
           0.23344889283180237,
           0.15164272487163544,
           0.2505478858947754,
           0.12953722476959229,
           0.29289084672927856,
           0.36534327268600464,
           0.1827813982963562,
           0.17226073145866394,
           0.5185657739639282,
           0.23998892307281494,
           0.18645212054252625,
           0.3350129723548889,
           0.5550180673599243,
           0.18035785853862762,
           0.2979781925678253,
           0.1641063392162323,
           0.14435991644859314,
           0.4704023003578186,
           0.1847010999917984,
           0.17060741782188416,
           0.23240995407104492,
           0.19257822632789612,
           1,
           0.18798409402370453,
           0.44593310356140137,
           0.20844046771526337,
           0.38704174757003784,
           0.21708908677101135,
           0.2620168924331665,
           0.22929257154464722,
           0.4688569903373718,
           0.18025465309619904,
           0.24753901362419128,
           0.3821830749511719,
           0.4418324828147888,
           0.5965096950531006,
           0.1457425206899643,
           0.18471619486808777,
           0.1962720900774002,
           0.28532326221466064,
           0.26823461055755615,
           0.2209758311510086,
           0.14552374184131622,
           0.7006533145904541,
           0.1711311936378479,
           0.1873934268951416,
           0.19410857558250427
          ],
          [
           0.5383777618408203,
           0.18798500299453735,
           0.5307403802871704,
           0.4869903326034546,
           0.5035721063613892,
           0.5260077714920044,
           0.6134927272796631,
           0.6716158390045166,
           0.553076982498169,
           0.49193912744522095,
           0.521343469619751,
           0.6322903633117676,
           0.41585439443588257,
           0.40284162759780884,
           0.34878039360046387,
           0.5079031586647034,
           0.631592333316803,
           0.3580112159252167,
           0.3206924796104431,
           0.48268118500709534,
           0.5366395711898804,
           0.34010905027389526,
           0.5395501852035522,
           0.25189894437789917,
           0.5926854014396667,
           0.42356741428375244,
           0.32608842849731445,
           0.5542726516723633,
           0.3057473301887512,
           0.4355166554450989,
           0.25786882638931274,
           0.3592802584171295,
           0.39263078570365906,
           0.39129939675331116,
           0.4992189407348633,
           0.240145742893219,
           0.270954430103302,
           0.18878141045570374,
           0.39882147312164307,
           0.41208070516586304,
           0.5051692724227905,
           0.4825037717819214,
           0.4128948748111725,
           0.5996898412704468,
           0.3714253008365631,
           0.5434434413909912,
           0.18918561935424805,
           0.5153270959854126,
           0.40897589921951294,
           0.5393672585487366,
           0.528261661529541,
           0.2814974784851074,
           0.3228873014450073,
           0.39674967527389526,
           0.48823630809783936,
           0.46426743268966675,
           0.4539449214935303,
           0.34530067443847656,
           0.41456854343414307,
           0.5109378099441528,
           0.581450879573822,
           0.3535032272338867,
           0.18798409402370453,
           0.9999999403953552,
           0.18875354528427124,
           0.5050753355026245,
           0.3450847566127777,
           0.17432653903961182,
           0.620535671710968,
           0.5871669054031372,
           0.19988536834716797,
           0.2975049614906311,
           0.3240742087364197,
           0.476799339056015,
           0.4548182487487793,
           0.5118986368179321,
           0.37613534927368164,
           0.5047802329063416,
           0.37452495098114014,
           0.4977133274078369,
           0.634958028793335,
           0.498442679643631,
           0.3605704605579376,
           0.17129617929458618,
           0.3145953416824341,
           0.5281558036804199,
           0.522318422794342
          ],
          [
           0.22105561196804047,
           0.3548211455345154,
           0.24268336594104767,
           0.24001559615135193,
           0.29878848791122437,
           0.20510712265968323,
           0.27020514011383057,
           0.18335752189159393,
           0.3738747835159302,
           0.2206997573375702,
           0.20288607478141785,
           0.3562090992927551,
           0.18210069835186005,
           0.191062331199646,
           0.19370585680007935,
           0.3067452311515808,
           0.23640692234039307,
           0.5046201348304749,
           0.19943609833717346,
           0.2174142599105835,
           0.2839682698249817,
           0.3710220456123352,
           0.22646933794021606,
           0.2692410349845886,
           0.2758130431175232,
           0.21644920110702515,
           0.1955314576625824,
           0.2530258893966675,
           0.6638115048408508,
           0.1984008550643921,
           0.2712419927120209,
           0.17159178853034973,
           0.15365897119045258,
           0.16779059171676636,
           0.22218725085258484,
           0.4733385145664215,
           0.3355550169944763,
           0.3087543845176697,
           0.2003907710313797,
           0.2168060839176178,
           0.2469782829284668,
           0.13853737711906433,
           0.22950443625450134,
           0.12539835274219513,
           0.4029567837715149,
           0.3441580533981323,
           0.14576275646686554,
           0.21224331855773926,
           0.34225553274154663,
           0.1653929203748703,
           0.16867037117481232,
           0.280714750289917,
           0.558106541633606,
           0.16650310158729553,
           0.27720919251441956,
           0.1928349882364273,
           0.13509860634803772,
           0.3656955361366272,
           0.18083500862121582,
           0.16484804451465607,
           0.22676272690296173,
           0.14833177626132965,
           0.44593310356140137,
           0.18875354528427124,
           0.9999997019767761,
           0.21049878001213074,
           0.31165003776550293,
           0.2842147946357727,
           0.21671172976493835,
           0.20557615160942078,
           0.8036907911300659,
           0.2236993908882141,
           0.20421016216278076,
           0.24290552735328674,
           0.27858585119247437,
           0.32811129093170166,
           0.15867725014686584,
           0.2023661732673645,
           0.12843452394008636,
           0.34142038226127625,
           0.2566002309322357,
           0.20975440740585327,
           0.15666356682777405,
           0.5057891607284546,
           0.11765538901090622,
           0.17242586612701416,
           0.23918139934539795
          ],
          [
           0.6186363697052002,
           0.22291342914104462,
           0.5597054958343506,
           0.459256112575531,
           0.38991910219192505,
           0.4983356297016144,
           0.6967869997024536,
           0.4567875862121582,
           0.5546844005584717,
           0.5208854675292969,
           0.6614120006561279,
           0.768510103225708,
           0.5699856281280518,
           0.3382580876350403,
           0.4451638460159302,
           0.5485279560089111,
           0.36652857065200806,
           0.4218203127384186,
           0.43637263774871826,
           0.5748502016067505,
           0.5342569947242737,
           0.3282940983772278,
           0.4647243618965149,
           0.34858161211013794,
           0.7161003351211548,
           0.4419049024581909,
           0.2527581751346588,
           0.47202974557876587,
           0.3240889608860016,
           0.47658342123031616,
           0.25134479999542236,
           0.33065420389175415,
           0.4916655421257019,
           0.3432413935661316,
           0.48068225383758545,
           0.24917873740196228,
           0.32507073879241943,
           0.23636499047279358,
           0.45147550106048584,
           0.25501692295074463,
           0.45026636123657227,
           0.3913035988807678,
           0.4882068932056427,
           0.46014437079429626,
           0.4221092462539673,
           0.4687255918979645,
           0.21310262382030487,
           0.505200982093811,
           0.5863906741142273,
           0.8784160614013672,
           0.4237821698188782,
           0.23063358664512634,
           0.3076467514038086,
           0.5150299072265625,
           0.6222789883613586,
           0.42087268829345703,
           0.4259417653083801,
           0.3734670877456665,
           0.42500442266464233,
           0.3687188923358917,
           0.49965542554855347,
           0.20395007729530334,
           0.20844046771526337,
           0.5050753355026245,
           0.21049878001213074,
           1.000000238418579,
           0.3448821008205414,
           0.20283463597297668,
           0.636894941329956,
           0.4462471604347229,
           0.1795416921377182,
           0.23721247911453247,
           0.38631483912467957,
           0.6406350135803223,
           0.6535139083862305,
           0.6958626508712769,
           0.4125344455242157,
           0.47146469354629517,
           0.27320873737335205,
           0.47979825735092163,
           0.6024888753890991,
           0.49155765771865845,
           0.4361298084259033,
           0.15091028809547424,
           0.37965306639671326,
           0.23429745435714722,
           0.4716912508010864
          ],
          [
           0.3503921926021576,
           0.25770944356918335,
           0.502470850944519,
           0.40910887718200684,
           0.43421104550361633,
           0.4891866445541382,
           0.4518621265888214,
           0.366399347782135,
           0.4742630124092102,
           0.55391925573349,
           0.34902524948120117,
           0.5126850605010986,
           0.28992894291877747,
           0.24879778921604156,
           0.32484912872314453,
           0.47631314396858215,
           0.3225434720516205,
           0.5501573085784912,
           0.30625587701797485,
           0.3969019055366516,
           0.46135419607162476,
           0.5421018600463867,
           0.386848509311676,
           0.46276527643203735,
           0.4061551094055176,
           0.3008731007575989,
           0.24321502447128296,
           0.42043840885162354,
           0.4660090208053589,
           0.2864883542060852,
           0.2832731604576111,
           0.29346197843551636,
           0.24091802537441254,
           0.33207324147224426,
           0.3567303419113159,
           0.42767786979675293,
           0.41784733533859253,
           0.1970122754573822,
           0.3372567296028137,
           0.3686192035675049,
           0.390462726354599,
           0.43000584840774536,
           0.27221864461898804,
           0.3457261323928833,
           0.5898792743682861,
           0.4343717098236084,
           0.43611520528793335,
           0.2962043583393097,
           0.32785558700561523,
           0.45843565464019775,
           0.33346229791641235,
           0.3056386113166809,
           0.5668531656265259,
           0.3179348111152649,
           0.42985111474990845,
           0.2382946014404297,
           0.40619587898254395,
           0.5333060026168823,
           0.3050635755062103,
           0.24390260875225067,
           0.3686464726924896,
           0.33742237091064453,
           0.38704174757003784,
           0.3450847566127777,
           0.31165003776550293,
           0.3448821008205414,
           1.000000238418579,
           0.2546049952507019,
           0.5341869592666626,
           0.31274014711380005,
           0.3016456365585327,
           0.511369526386261,
           0.23167219758033752,
           0.36125659942626953,
           0.3676866292953491,
           0.4163022041320801,
           0.2701718211174011,
           0.3711127042770386,
           0.3179680109024048,
           0.3309888243675232,
           0.4243585467338562,
           0.42217886447906494,
           0.2640473246574402,
           0.309673011302948,
           0.2482261061668396,
           0.3225535750389099,
           0.3738763928413391
          ],
          [
           0.5456897616386414,
           0.23633071780204773,
           0.22511084377765656,
           0.26653340458869934,
           0.2844422459602356,
           0.13420148193836212,
           0.23047739267349243,
           0.26405683159828186,
           0.21819700300693512,
           0.19164878129959106,
           0.23943613469600677,
           0.23831593990325928,
           0.25839149951934814,
           0.4871239960193634,
           0.18853631615638733,
           0.2293901890516281,
           0.19463440775871277,
           0.24145996570587158,
           0.23380982875823975,
           0.2185652256011963,
           0.2344725877046585,
           0.3143802583217621,
           0.20170366764068604,
           0.24155761301517487,
           0.2055242955684662,
           0.8505321145057678,
           0.3788396716117859,
           0.18961304426193237,
           0.31247270107269287,
           0.2312721163034439,
           0.6113251447677612,
           0.16162368655204773,
           0.510700523853302,
           0.17206653952598572,
           0.271187424659729,
           0.28806668519973755,
           0.1737532913684845,
           0.22245091199874878,
           0.18146447837352753,
           0.18212546408176422,
           0.18878106772899628,
           0.16447556018829346,
           0.17868807911872864,
           0.19508281350135803,
           0.19680878520011902,
           0.3284490704536438,
           0.22907385230064392,
           0.36458805203437805,
           0.2476801574230194,
           0.1911148726940155,
           0.32641398906707764,
           0.16370493173599243,
           0.253333181142807,
           0.43289631605148315,
           0.22704124450683594,
           0.4450387954711914,
           0.12842516601085663,
           0.1984752118587494,
           0.2665126323699951,
           0.21213442087173462,
           0.25767576694488525,
           0.13935205340385437,
           0.21708908677101135,
           0.17432653903961182,
           0.2842147946357727,
           0.20283463597297668,
           0.2546049952507019,
           1.0000001192092896,
           0.24961920082569122,
           0.08398648351430893,
           0.23957905173301697,
           0.15881037712097168,
           0.20583638548851013,
           0.20949146151542664,
           0.23152829706668854,
           0.2474776804447174,
           0.2535098195075989,
           0.25204357504844666,
           0.1668904423713684,
           0.195082426071167,
           0.18253743648529053,
           0.19925054907798767,
           0.40644288063049316,
           0.22475281357765198,
           0.17352625727653503,
           0.1815197467803955,
           0.16059347987174988
          ],
          [
           0.676810085773468,
           0.165098637342453,
           0.8177830576896667,
           0.6699857711791992,
           0.5378660559654236,
           0.7101143598556519,
           0.769008219242096,
           0.6332697868347168,
           0.6759806275367737,
           0.8156291246414185,
           0.6521927118301392,
           0.8097743988037109,
           0.6304061412811279,
           0.4925275444984436,
           0.5513523817062378,
           0.6376352906227112,
           0.5920003652572632,
           0.44929933547973633,
           0.5192610025405884,
           0.6991948485374451,
           0.6695175766944885,
           0.4292486310005188,
           0.6435049772262573,
           0.39673152565956116,
           0.6827988624572754,
           0.5082941651344299,
           0.3775862455368042,
           0.6821532249450684,
           0.4507008194923401,
           0.5512680411338806,
           0.38254186511039734,
           0.5565376281738281,
           0.5774778127670288,
           0.5741791129112244,
           0.6506181955337524,
           0.26070794463157654,
           0.27110862731933594,
           0.16358742117881775,
           0.5754227042198181,
           0.5713602304458618,
           0.6078128218650818,
           0.6573444604873657,
           0.49538925290107727,
           0.6081602573394775,
           0.608381986618042,
           0.5958210229873657,
           0.2339237928390503,
           0.592901349067688,
           0.4668254256248474,
           0.6704461574554443,
           0.6676709651947021,
           0.2992395758628845,
           0.4484420716762543,
           0.5956820249557495,
           0.6589939594268799,
           0.5311052203178406,
           0.6595357656478882,
           0.466150164604187,
           0.5764912366867065,
           0.5399781465530396,
           0.6569281220436096,
           0.4551146924495697,
           0.2620168924331665,
           0.620535671710968,
           0.21671172976493835,
           0.636894941329956,
           0.5341869592666626,
           0.24961920082569122,
           1.0000001192092896,
           0.5792932510375977,
           0.24349534511566162,
           0.32316163182258606,
           0.29981571435928345,
           0.5680182576179504,
           0.5136004686355591,
           0.6332735419273376,
           0.5837191343307495,
           0.6347140073776245,
           0.45836395025253296,
           0.48681211471557617,
           0.626396894454956,
           0.7205498218536377,
           0.5841884613037109,
           0.15880995988845825,
           0.5512930154800415,
           0.48826080560684204,
           0.6754822731018066
          ],
          [
           0.4235302805900574,
           0.14605620503425598,
           0.5206093788146973,
           0.44166100025177,
           0.42279136180877686,
           0.5000787377357483,
           0.5040241479873657,
           0.5164219737052917,
           0.5366833806037903,
           0.474203884601593,
           0.48134440183639526,
           0.553572952747345,
           0.42137429118156433,
           0.30674630403518677,
           0.30363929271698,
           0.3871825337409973,
           0.6972272396087646,
           0.2964884340763092,
           0.3455604612827301,
           0.4214280843734741,
           0.42464929819107056,
           0.3018364906311035,
           0.41873109340667725,
           0.2392842024564743,
           0.4441200792789459,
           0.3024938106536865,
           0.2487206757068634,
           0.5418932437896729,
           0.3442869186401367,
           0.4764813482761383,
           0.2057218849658966,
           0.38799944519996643,
           0.3590613901615143,
           0.3896307945251465,
           0.43165159225463867,
           0.20865514874458313,
           0.23735414445400238,
           0.16800355911254883,
           0.3544832468032837,
           0.4786650240421295,
           0.32707926630973816,
           0.40986207127571106,
           0.4165889620780945,
           0.5154591798782349,
           0.2812005281448364,
           0.4817533493041992,
           0.20355872809886932,
           0.4242229461669922,
           0.34926044940948486,
           0.48069363832473755,
           0.4727102518081665,
           0.27633893489837646,
           0.28448307514190674,
           0.36271756887435913,
           0.3663780391216278,
           0.38856083154678345,
           0.4920981526374817,
           0.2356257140636444,
           0.3398571014404297,
           0.5967845916748047,
           0.6182858943939209,
           0.2878405749797821,
           0.22929257154464722,
           0.5871669054031372,
           0.20557615160942078,
           0.4462471604347229,
           0.31274014711380005,
           0.08398648351430893,
           0.5792932510375977,
           0.9999998211860657,
           0.2093164324760437,
           0.2756366729736328,
           0.2070065140724182,
           0.3613108992576599,
           0.36904245615005493,
           0.4304421544075012,
           0.35857319831848145,
           0.3603506088256836,
           0.28866875171661377,
           0.5545902252197266,
           0.6288334131240845,
           0.42337119579315186,
           0.3604275584220886,
           0.19626961648464203,
           0.3363272249698639,
           0.6635271310806274,
           0.4711726903915405
          ],
          [
           0.22256475687026978,
           0.2687414586544037,
           0.27465417981147766,
           0.28099268674850464,
           0.30978646874427795,
           0.20544898509979248,
           0.2927451729774475,
           0.19441728293895721,
           0.4226134419441223,
           0.21669048070907593,
           0.19909238815307617,
           0.3399047255516052,
           0.1866467148065567,
           0.21635521948337555,
           0.1672343760728836,
           0.3410898447036743,
           0.2252996563911438,
           0.42308104038238525,
           0.1917385458946228,
           0.21068674325942993,
           0.2872607111930847,
           0.40962445735931396,
           0.2468264400959015,
           0.21775540709495544,
           0.2280145138502121,
           0.18524034321308136,
           0.2206581085920334,
           0.2189699113368988,
           0.6910485029220581,
           0.195713073015213,
           0.22939877212047577,
           0.19021405279636383,
           0.14589077234268188,
           0.19357255101203918,
           0.2326795756816864,
           0.3623286485671997,
           0.2534486651420593,
           0.32764166593551636,
           0.17148765921592712,
           0.2572544813156128,
           0.30914226174354553,
           0.14986971020698547,
           0.26481303572654724,
           0.12278668582439423,
           0.42390429973602295,
           0.3334603011608124,
           0.1173689067363739,
           0.21854421496391296,
           0.29549333453178406,
           0.15140894055366516,
           0.20283499360084534,
           0.2667093276977539,
           0.47324633598327637,
           0.1582433581352234,
           0.26654955744743347,
           0.21936845779418945,
           0.14487549662590027,
           0.2967303991317749,
           0.1999361366033554,
           0.1592944860458374,
           0.2501961588859558,
           0.14545051753520966,
           0.4688569903373718,
           0.19988536834716797,
           0.8036907911300659,
           0.1795416921377182,
           0.3016456365585327,
           0.23957905173301697,
           0.24349534511566162,
           0.2093164324760437,
           1,
           0.22585046291351318,
           0.1960250735282898,
           0.184114009141922,
           0.20226049423217773,
           0.3219095468521118,
           0.19587144255638123,
           0.23048053681850433,
           0.18252426385879517,
           0.35110536217689514,
           0.2684648036956787,
           0.21294383704662323,
           0.14953672885894775,
           0.44717836380004883,
           0.1230737566947937,
           0.16739918291568756,
           0.28284916281700134
          ],
          [
           0.2055521309375763,
           0.2312198281288147,
           0.23967194557189941,
           0.37035369873046875,
           0.419802725315094,
           0.3501262664794922,
           0.2828890085220337,
           0.28923892974853516,
           0.2838909327983856,
           0.4412856101989746,
           0.230268195271492,
           0.3253193497657776,
           0.1950882375240326,
           0.2861708998680115,
           0.3146740198135376,
           0.39394131302833557,
           0.25803083181381226,
           0.371093213558197,
           0.23298460245132446,
           0.21200938522815704,
           0.4053465723991394,
           0.404868483543396,
           0.22405825555324554,
           0.22491973638534546,
           0.30438321828842163,
           0.19889172911643982,
           0.22402650117874146,
           0.36073756217956543,
           0.28188422322273254,
           0.24893894791603088,
           0.16418474912643433,
           0.25422120094299316,
           0.13872233033180237,
           0.3423881530761719,
           0.29586461186408997,
           0.2732446491718292,
           0.5435870885848999,
           0.2247181087732315,
           0.2718939483165741,
           0.22942571341991425,
           0.3162260949611664,
           0.3668261766433716,
           0.2892029881477356,
           0.2530064284801483,
           0.3805973529815674,
           0.26607581973075867,
           0.40512755513191223,
           0.23337724804878235,
           0.23000502586364746,
           0.2811889350414276,
           0.19951453804969788,
           0.3190259337425232,
           0.30501246452331543,
           0.16986632347106934,
           0.3042376637458801,
           0.14750368893146515,
           0.24308079481124878,
           0.3185024857521057,
           0.1941956877708435,
           0.18543535470962524,
           0.2704123258590698,
           0.22501318156719208,
           0.18025465309619904,
           0.2975049614906311,
           0.2236993908882141,
           0.23721247911453247,
           0.511369526386261,
           0.15881037712097168,
           0.32316163182258606,
           0.2756366729736328,
           0.22585046291351318,
           1.000000238418579,
           0.20540016889572144,
           0.198851078748703,
           0.20885056257247925,
           0.2226209193468094,
           0.27106234431266785,
           0.3161590099334717,
           0.2937938868999481,
           0.19500428438186646,
           0.36649417877197266,
           0.3102647066116333,
           0.121784508228302,
           0.24680690467357635,
           0.1856098622083664,
           0.2801077365875244,
           0.32823240756988525
          ],
          [
           0.30777421593666077,
           0.252331405878067,
           0.3042295575141907,
           0.3086569905281067,
           0.24656954407691956,
           0.23912039399147034,
           0.3454594612121582,
           0.26810431480407715,
           0.32408446073532104,
           0.30281656980514526,
           0.33566176891326904,
           0.3770168423652649,
           0.2407187670469284,
           0.21311748027801514,
           0.2474115937948227,
           0.3781532049179077,
           0.21417653560638428,
           0.27907150983810425,
           0.23011744022369385,
           0.32756099104881287,
           0.30755043029785156,
           0.23930290341377258,
           0.3043352961540222,
           0.2636865973472595,
           0.3614000976085663,
           0.2797619700431824,
           0.2573608458042145,
           0.27407389879226685,
           0.27813684940338135,
           0.23649954795837402,
           0.15925700962543488,
           0.25374987721443176,
           0.22760862112045288,
           0.29036757349967957,
           0.33641117811203003,
           0.3360424339771271,
           0.2746579647064209,
           0.2706603407859802,
           0.29632747173309326,
           0.21873459219932556,
           0.3030875325202942,
           0.180637925863266,
           0.18982252478599548,
           0.2177278846502304,
           0.2837368845939636,
           0.25926512479782104,
           0.13559231162071228,
           0.20226773619651794,
           0.4089663624763489,
           0.3335564136505127,
           0.23453882336616516,
           0.27465033531188965,
           0.3133973181247711,
           0.20287108421325684,
           0.41462719440460205,
           0.2228793203830719,
           0.24926182627677917,
           0.32169976830482483,
           0.26947712898254395,
           0.1985713541507721,
           0.21025563776493073,
           0.18249759078025818,
           0.24753901362419128,
           0.3240742087364197,
           0.20421016216278076,
           0.38631483912467957,
           0.23167219758033752,
           0.20583638548851013,
           0.29981571435928345,
           0.2070065140724182,
           0.1960250735282898,
           0.20540016889572144,
           1,
           0.39826449751853943,
           0.3895226716995239,
           0.4259600043296814,
           0.24187296628952026,
           0.3849097490310669,
           0.23764295876026154,
           0.341874897480011,
           0.3063057065010071,
           0.2574329376220703,
           0.1888420581817627,
           0.24535275995731354,
           0.21629828214645386,
           0.17296907305717468,
           0.2796993851661682
          ],
          [
           0.5104830861091614,
           0.3500630855560303,
           0.5300672054290771,
           0.4367113709449768,
           0.41780203580856323,
           0.44054919481277466,
           0.657436728477478,
           0.43187665939331055,
           0.5239931344985962,
           0.4601669907569885,
           0.5495563745498657,
           0.7710506916046143,
           0.44699326157569885,
           0.29426753520965576,
           0.3666292428970337,
           0.5235505700111389,
           0.3980649709701538,
           0.45073914527893066,
           0.3425534665584564,
           0.5292538404464722,
           0.5048957467079163,
           0.2922925353050232,
           0.48885512351989746,
           0.3337573707103729,
           0.7359826564788818,
           0.43572890758514404,
           0.2311876267194748,
           0.3876509368419647,
           0.3805539608001709,
           0.43184709548950195,
           0.20169371366500854,
           0.3451116681098938,
           0.4036967158317566,
           0.35505440831184387,
           0.494114488363266,
           0.5325230956077576,
           0.34410327672958374,
           0.31027472019195557,
           0.3864902853965759,
           0.3566107451915741,
           0.4272860288619995,
           0.3832974433898926,
           0.33931541442871094,
           0.4405607581138611,
           0.424485981464386,
           0.4195272922515869,
           0.23079697787761688,
           0.4283919930458069,
           0.7235761880874634,
           0.643210768699646,
           0.3613702654838562,
           0.23557743430137634,
           0.547391951084137,
           0.41399434208869934,
           0.7004997134208679,
           0.36851766705513,
           0.3876190185546875,
           0.51735520362854,
           0.39695191383361816,
           0.3462674021720886,
           0.5344527959823608,
           0.3697137236595154,
           0.3821830749511719,
           0.476799339056015,
           0.24290552735328674,
           0.6406350135803223,
           0.36125659942626953,
           0.20949146151542664,
           0.5680182576179504,
           0.3613108992576599,
           0.184114009141922,
           0.198851078748703,
           0.39826449751853943,
           1,
           0.8401966094970703,
           0.7977920770645142,
           0.3629721403121948,
           0.4696083068847656,
           0.3218333125114441,
           0.421728253364563,
           0.5789160132408142,
           0.45946550369262695,
           0.3528808653354645,
           0.305762380361557,
           0.33964359760284424,
           0.22361916303634644,
           0.4775528013706207
          ],
          [
           0.49414801597595215,
           0.36025822162628174,
           0.4615609049797058,
           0.364662230014801,
           0.36272111535072327,
           0.39027634263038635,
           0.5920822024345398,
           0.39374595880508423,
           0.4986254572868347,
           0.39576295018196106,
           0.5294750928878784,
           0.758832573890686,
           0.4002775549888611,
           0.2510480284690857,
           0.27249953150749207,
           0.48386386036872864,
           0.34215134382247925,
           0.4562292993068695,
           0.3025352656841278,
           0.4850063920021057,
           0.4313960075378418,
           0.24220645427703857,
           0.4330565333366394,
           0.3385668396949768,
           0.730684757232666,
           0.4126574993133545,
           0.1781536340713501,
           0.3611976206302643,
           0.4197588264942169,
           0.3674905002117157,
           0.17213398218154907,
           0.27353429794311523,
           0.35487499833106995,
           0.3008687496185303,
           0.43169644474983215,
           0.5133131146430969,
           0.36400797963142395,
           0.2403595894575119,
           0.3139684796333313,
           0.27038291096687317,
           0.382853627204895,
           0.33967334032058716,
           0.30950915813446045,
           0.36545246839523315,
           0.39218950271606445,
           0.42509645223617554,
           0.2095329910516739,
           0.36430466175079346,
           0.8781642913818359,
           0.6480427980422974,
           0.2934427857398987,
           0.24629446864128113,
           0.4148405194282532,
           0.3430095314979553,
           0.6944825649261475,
           0.33584290742874146,
           0.3073002099990845,
           0.5416954755783081,
           0.3315983712673187,
           0.2944563627243042,
           0.4563610553741455,
           0.2533333897590637,
           0.4418324828147888,
           0.4548182487487793,
           0.27858585119247437,
           0.6535139083862305,
           0.3676866292953491,
           0.23152829706668854,
           0.5136004686355591,
           0.36904245615005493,
           0.20226049423217773,
           0.20885056257247925,
           0.3895226716995239,
           0.8401966094970703,
           0.9999998807907104,
           0.8971942663192749,
           0.2870146632194519,
           0.38500916957855225,
           0.21406856179237366,
           0.3831298351287842,
           0.5703701972961426,
           0.4036136269569397,
           0.28183192014694214,
           0.40084582567214966,
           0.278910368680954,
           0.21433183550834656,
           0.4109650254249573
          ],
          [
           0.577338695526123,
           0.32072240114212036,
           0.5959257483482361,
           0.48219871520996094,
           0.4427133798599243,
           0.4690359830856323,
           0.7040170431137085,
           0.45624130964279175,
           0.6310031414031982,
           0.4941568970680237,
           0.6049365401268005,
           0.8219553232192993,
           0.4690220355987549,
           0.3194255232810974,
           0.3209271728992462,
           0.5714279413223267,
           0.42123281955718994,
           0.5084340572357178,
           0.3525649309158325,
           0.5892015695571899,
           0.5374846458435059,
           0.37227874994277954,
           0.5151423215866089,
           0.42483776807785034,
           0.759364128112793,
           0.4486619830131531,
           0.2677389979362488,
           0.4361640214920044,
           0.5750354528427124,
           0.4205547571182251,
           0.22038832306861877,
           0.3287719488143921,
           0.4113345146179199,
           0.37278231978416443,
           0.5068051218986511,
           0.5154656171798706,
           0.38362953066825867,
           0.2711380422115326,
           0.3826001286506653,
           0.31279540061950684,
           0.4743863344192505,
           0.39585214853286743,
           0.42349326610565186,
           0.3965603709220886,
           0.4639781713485718,
           0.5186185240745544,
           0.19432905316352844,
           0.4565751850605011,
           0.8765711784362793,
           0.6903891563415527,
           0.4079549312591553,
           0.3215484619140625,
           0.4612579345703125,
           0.4244738221168518,
           0.7327840328216553,
           0.40636178851127625,
           0.37095996737480164,
           0.5626915693283081,
           0.38938194513320923,
           0.3323548436164856,
           0.5097300410270691,
           0.306318998336792,
           0.5965096950531006,
           0.5118986368179321,
           0.32811129093170166,
           0.6958626508712769,
           0.4163022041320801,
           0.2474776804447174,
           0.6332735419273376,
           0.4304421544075012,
           0.3219095468521118,
           0.2226209193468094,
           0.4259600043296814,
           0.7977920770645142,
           0.8971942663192749,
           0.9999998807907104,
           0.3631630837917328,
           0.4589273929595947,
           0.2985461354255676,
           0.4515775740146637,
           0.6319411993026733,
           0.48883718252182007,
           0.34801679849624634,
           0.44614842534065247,
           0.33578091859817505,
           0.27032139897346497,
           0.5079526901245117
          ],
          [
           0.4966895580291748,
           0.08730398118495941,
           0.5239922404289246,
           0.7413407564163208,
           0.42167750000953674,
           0.5362294912338257,
           0.5555164813995361,
           0.40854525566101074,
           0.4901694059371948,
           0.5993995666503906,
           0.47029054164886475,
           0.49053245782852173,
           0.8667832612991333,
           0.5427316427230835,
           0.5351671576499939,
           0.511591374874115,
           0.3786223530769348,
           0.21939510107040405,
           0.8187196254730225,
           0.5407848358154297,
           0.5390170812606812,
           0.33836638927459717,
           0.5053350925445557,
           0.27504223585128784,
           0.4188489317893982,
           0.4303179383277893,
           0.4438931345939636,
           0.4776359796524048,
           0.27161380648612976,
           0.8432520031929016,
           0.29540348052978516,
           0.7411190271377563,
           0.7983304262161255,
           0.646774172782898,
           0.6118179559707642,
           0.11986467987298965,
           0.10770390927791595,
           0.1495036780834198,
           0.4856416583061218,
           0.41111043095588684,
           0.5214158296585083,
           0.5500591993331909,
           0.433566689491272,
           0.4211690127849579,
           0.4245288074016571,
           0.383296936750412,
           0.05121537297964096,
           0.5399960279464722,
           0.28262412548065186,
           0.4312325716018677,
           0.5704794526100159,
           0.1590057760477066,
           0.22742104530334473,
           0.4667258858680725,
           0.4579314589500427,
           0.5596796870231628,
           0.5030872225761414,
           0.28304338455200195,
           0.8302148580551147,
           0.7456907033920288,
           0.47597169876098633,
           0.3733667731285095,
           0.1457425206899643,
           0.37613534927368164,
           0.15867725014686584,
           0.4125344455242157,
           0.2701718211174011,
           0.2535098195075989,
           0.5837191343307495,
           0.35857319831848145,
           0.19587144255638123,
           0.27106234431266785,
           0.24187296628952026,
           0.3629721403121948,
           0.2870146632194519,
           0.3631630837917328,
           1.0000001192092896,
           0.6372325420379639,
           0.41282153129577637,
           0.29691895842552185,
           0.4390188455581665,
           0.5230497121810913,
           0.757828950881958,
           0.09352341294288635,
           0.7990885972976685,
           0.3335033655166626,
           0.546684741973877
          ],
          [
           0.561560869216919,
           0.1541973501443863,
           0.5055301189422607,
           0.5942240953445435,
           0.5323337316513062,
           0.5298118591308594,
           0.6280328035354614,
           0.49586984515190125,
           0.5345654487609863,
           0.6124311089515686,
           0.5349712371826172,
           0.5754407644271851,
           0.5832483768463135,
           0.46966034173965454,
           0.45325613021850586,
           0.6549724340438843,
           0.38050809502601624,
           0.3228422701358795,
           0.4769401252269745,
           0.5814566612243652,
           0.5509024858474731,
           0.3507964611053467,
           0.6749658584594727,
           0.3008494973182678,
           0.525379478931427,
           0.46045273542404175,
           0.43988102674484253,
           0.48556822538375854,
           0.31718915700912476,
           0.5627706050872803,
           0.2940480709075928,
           0.5187793970108032,
           0.5620536804199219,
           0.5919995307922363,
           0.626043438911438,
           0.217361718416214,
           0.19656336307525635,
           0.13803914189338684,
           0.4472086727619171,
           0.43209606409072876,
           0.6487252712249756,
           0.5339996218681335,
           0.47081422805786133,
           0.45086583495140076,
           0.5606483221054077,
           0.46875,
           0.17215606570243835,
           0.5732200145721436,
           0.4031452536582947,
           0.5107614994049072,
           0.6183518767356873,
           0.28347718715667725,
           0.3300357758998871,
           0.44537755846977234,
           0.600677490234375,
           0.5101147294044495,
           0.48834213614463806,
           0.46256253123283386,
           0.6965617537498474,
           0.45939695835113525,
           0.5376309156417847,
           0.39568671584129333,
           0.18471619486808777,
           0.5047802329063416,
           0.2023661732673645,
           0.47146469354629517,
           0.3711127042770386,
           0.25204357504844666,
           0.6347140073776245,
           0.3603506088256836,
           0.23048053681850433,
           0.3161590099334717,
           0.3849097490310669,
           0.4696083068847656,
           0.38500916957855225,
           0.4589273929595947,
           0.6372325420379639,
           1.0000001192092896,
           0.470978319644928,
           0.3994118571281433,
           0.5114877820014954,
           0.517410397529602,
           0.5041419267654419,
           0.1708158552646637,
           0.5267448425292969,
           0.3267698287963867,
           0.5543516278266907
          ],
          [
           0.4156986176967621,
           0.18100114166736603,
           0.3832433819770813,
           0.4992843568325043,
           0.6438436508178711,
           0.4615094065666199,
           0.4807794690132141,
           0.5066436529159546,
           0.4304969310760498,
           0.4303649365901947,
           0.3602347671985626,
           0.40894615650177,
           0.31690096855163574,
           0.4440807104110718,
           0.42728036642074585,
           0.5141562223434448,
           0.36890295147895813,
           0.25552085041999817,
           0.2739393711090088,
           0.3572496175765991,
           0.4151688516139984,
           0.31025248765945435,
           0.5433180332183838,
           0.24566984176635742,
           0.35371482372283936,
           0.3286057710647583,
           0.3926061987876892,
           0.4405577778816223,
           0.2785818576812744,
           0.36528030037879944,
           0.2872580885887146,
           0.3930191993713379,
           0.34257328510284424,
           0.5121328234672546,
           0.5458217859268188,
           0.2250843346118927,
           0.27996373176574707,
           0.16870415210723877,
           0.453873872756958,
           0.4051938056945801,
           0.538154125213623,
           0.49057579040527344,
           0.29280054569244385,
           0.32442307472229004,
           0.4234920144081116,
           0.38128817081451416,
           0.19264093041419983,
           0.39697712659835815,
           0.22601622343063354,
           0.32381319999694824,
           0.43261587619781494,
           0.3650623559951782,
           0.3103815019130707,
           0.37714487314224243,
           0.4018964171409607,
           0.39759838581085205,
           0.48681461811065674,
           0.3386395275592804,
           0.47039496898651123,
           0.34173476696014404,
           0.4696410000324249,
           0.37771517038345337,
           0.1962720900774002,
           0.37452495098114014,
           0.12843452394008636,
           0.27320873737335205,
           0.3179680109024048,
           0.1668904423713684,
           0.45836395025253296,
           0.28866875171661377,
           0.18252426385879517,
           0.2937938868999481,
           0.23764295876026154,
           0.3218333125114441,
           0.21406856179237366,
           0.2985461354255676,
           0.41282153129577637,
           0.470978319644928,
           0.9999997019767761,
           0.2796016037464142,
           0.4158809781074524,
           0.3723665475845337,
           0.3551406264305115,
           0.16988156735897064,
           0.3594028949737549,
           0.38384050130844116,
           0.4666770398616791
          ],
          [
           0.49744510650634766,
           0.2078767716884613,
           0.4716413915157318,
           0.3689345717430115,
           0.4228688180446625,
           0.442369282245636,
           0.5211423635482788,
           0.46630799770355225,
           0.5840215086936951,
           0.412614107131958,
           0.4781845211982727,
           0.5303876996040344,
           0.378182977437973,
           0.31338992714881897,
           0.34721851348876953,
           0.4422174096107483,
           0.5276367664337158,
           0.3718641400337219,
           0.29852530360221863,
           0.4428953528404236,
           0.44221580028533936,
           0.38220494985580444,
           0.3844691514968872,
           0.3288331627845764,
           0.43044644594192505,
           0.35490185022354126,
           0.2755287289619446,
           0.4538342356681824,
           0.3848268389701843,
           0.41203898191452026,
           0.3264671564102173,
           0.31595638394355774,
           0.3668100833892822,
           0.3331390619277954,
           0.38585782051086426,
           0.33705079555511475,
           0.26976752281188965,
           0.2236873060464859,
           0.3750224709510803,
           0.4386240839958191,
           0.364743709564209,
           0.34822458028793335,
           0.3930714428424835,
           0.377799391746521,
           0.3413533568382263,
           0.5088706016540527,
           0.22794555127620697,
           0.44128769636154175,
           0.39084792137145996,
           0.4769899249076843,
           0.41644924879074097,
           0.2848997116088867,
           0.3692704439163208,
           0.38106560707092285,
           0.43792223930358887,
           0.3565579652786255,
           0.39948463439941406,
           0.34313029050827026,
           0.31501615047454834,
           0.411064088344574,
           0.48498910665512085,
           0.3594628572463989,
           0.28532326221466064,
           0.4977133274078369,
           0.34142038226127625,
           0.47979825735092163,
           0.3309888243675232,
           0.195082426071167,
           0.48681211471557617,
           0.5545902252197266,
           0.35110536217689514,
           0.19500428438186646,
           0.341874897480011,
           0.421728253364563,
           0.3831298351287842,
           0.4515775740146637,
           0.29691895842552185,
           0.3994118571281433,
           0.2796016037464142,
           1,
           0.5300562381744385,
           0.3747860789299011,
           0.3635329008102417,
           0.25643014907836914,
           0.25412338972091675,
           0.43579721450805664,
           0.48889750242233276
          ],
          [
           0.5914566516876221,
           0.2061973512172699,
           0.5055665373802185,
           0.5411040782928467,
           0.5016251802444458,
           0.5787397027015686,
           0.7366894483566284,
           0.4721313714981079,
           0.7441403865814209,
           0.5678741335868835,
           0.546379804611206,
           0.7334760427474976,
           0.495938777923584,
           0.39794594049453735,
           0.37345993518829346,
           0.578666090965271,
           0.5586678981781006,
           0.3872685432434082,
           0.37275511026382446,
           0.5464159250259399,
           0.6341191530227661,
           0.4554866552352905,
           0.5506346225738525,
           0.3414952754974365,
           0.6742851138114929,
           0.4647972583770752,
           0.33502185344696045,
           0.513363778591156,
           0.39947378635406494,
           0.6075934171676636,
           0.257840096950531,
           0.3763641119003296,
           0.4685528874397278,
           0.41964319348335266,
           0.5565711259841919,
           0.3143463432788849,
           0.2902272641658783,
           0.23700165748596191,
           0.4392659664154053,
           0.35028472542762756,
           0.5520627498626709,
           0.5257658958435059,
           0.38135284185409546,
           0.45051026344299316,
           0.4601854681968689,
           0.5624788999557495,
           0.3099101185798645,
           0.4977946877479553,
           0.5323488116264343,
           0.6920790672302246,
           0.45315495133399963,
           0.3473513722419739,
           0.35194849967956543,
           0.4512609839439392,
           0.605432391166687,
           0.4021345376968384,
           0.47077488899230957,
           0.39009904861450195,
           0.45156651735305786,
           0.46094977855682373,
           0.6950823068618774,
           0.4258252680301666,
           0.26823461055755615,
           0.634958028793335,
           0.2566002309322357,
           0.6024888753890991,
           0.4243585467338562,
           0.18253743648529053,
           0.626396894454956,
           0.6288334131240845,
           0.2684648036956787,
           0.36649417877197266,
           0.3063057065010071,
           0.5789160132408142,
           0.5703701972961426,
           0.6319411993026733,
           0.4390188455581665,
           0.5114877820014954,
           0.4158809781074524,
           0.5300562381744385,
           1.000000238418579,
           0.578770637512207,
           0.4037148356437683,
           0.23157410323619843,
           0.33124545216560364,
           0.42197185754776,
           0.6172791719436646
          ],
          [
           0.5060775279998779,
           0.15108680725097656,
           0.6131932735443115,
           0.5676406621932983,
           0.40463897585868835,
           0.5583717823028564,
           0.6208420991897583,
           0.4877592921257019,
           0.5524568557739258,
           0.6699941754341125,
           0.525466799736023,
           0.6162669062614441,
           0.5274430513381958,
           0.38351893424987793,
           0.5090128183364868,
           0.5070409774780273,
           0.46948862075805664,
           0.3826786279678345,
           0.44605615735054016,
           0.5774174928665161,
           0.6015615463256836,
           0.4029318690299988,
           0.5325912833213806,
           0.33936840295791626,
           0.539338231086731,
           0.40828123688697815,
           0.29796186089515686,
           0.5172187685966492,
           0.3779045641422272,
           0.49630412459373474,
           0.287339985370636,
           0.5198553800582886,
           0.46616798639297485,
           0.4966767430305481,
           0.5170812606811523,
           0.2638314366340637,
           0.19081443548202515,
           0.22694286704063416,
           0.5194773077964783,
           0.4665977358818054,
           0.4890907406806946,
           0.5538104772567749,
           0.37473195791244507,
           0.43309515714645386,
           0.4988330006599426,
           0.47192373871803284,
           0.1567356288433075,
           0.4603675603866577,
           0.3900485038757324,
           0.5344971418380737,
           0.5358513593673706,
           0.268343061208725,
           0.37113428115844727,
           0.47621285915374756,
           0.5269515514373779,
           0.37643885612487793,
           0.4985830783843994,
           0.40857696533203125,
           0.49412572383880615,
           0.44508713483810425,
           0.5400060415267944,
           0.42572021484375,
           0.2209758311510086,
           0.498442679643631,
           0.20975440740585327,
           0.49155765771865845,
           0.42217886447906494,
           0.19925054907798767,
           0.7205498218536377,
           0.42337119579315186,
           0.21294383704662323,
           0.3102647066116333,
           0.2574329376220703,
           0.45946550369262695,
           0.4036136269569397,
           0.48883718252182007,
           0.5230497121810913,
           0.517410397529602,
           0.3723665475845337,
           0.3747860789299011,
           0.578770637512207,
           1.0000001192092896,
           0.47341418266296387,
           0.17148441076278687,
           0.4751373529434204,
           0.3686266839504242,
           0.5493244528770447
          ],
          [
           0.6836974620819092,
           0.12139281630516052,
           0.6092497110366821,
           0.477069616317749,
           0.4108494520187378,
           0.48730844259262085,
           0.5274586081504822,
           0.4618087410926819,
           0.4206066131591797,
           0.5381045937538147,
           0.5043120384216309,
           0.46960341930389404,
           0.8331787586212158,
           0.5422423481941223,
           0.5146100521087646,
           0.42875948548316956,
           0.4154665470123291,
           0.23000812530517578,
           0.7829376459121704,
           0.5555585622787476,
           0.45997586846351624,
           0.31341859698295593,
           0.4720472991466522,
           0.2929343581199646,
           0.3826231360435486,
           0.5715608596801758,
           0.4071804881095886,
           0.4977867901325226,
           0.287517786026001,
           0.771676778793335,
           0.5467063188552856,
           0.6807200908660889,
           0.9012398719787598,
           0.4905319809913635,
           0.5358613133430481,
           0.14673954248428345,
           0.05890943109989166,
           0.13722355663776398,
           0.475736528635025,
           0.45270323753356934,
           0.42880988121032715,
           0.4683600962162018,
           0.3713929057121277,
           0.48909491300582886,
           0.3312262296676636,
           0.393655002117157,
           0.09831391274929047,
           0.5762284994125366,
           0.260810911655426,
           0.42832180857658386,
           0.6342142820358276,
           0.11399682611227036,
           0.2631632387638092,
           0.8226837515830994,
           0.38179120421409607,
           0.6158174872398376,
           0.5390108823776245,
           0.2185133397579193,
           0.7687864303588867,
           0.7548141479492188,
           0.5146797895431519,
           0.3322564959526062,
           0.14552374184131622,
           0.3605704605579376,
           0.15666356682777405,
           0.4361298084259033,
           0.2640473246574402,
           0.40644288063049316,
           0.5841884613037109,
           0.3604275584220886,
           0.14953672885894775,
           0.121784508228302,
           0.1888420581817627,
           0.3528808653354645,
           0.28183192014694214,
           0.34801679849624634,
           0.757828950881958,
           0.5041419267654419,
           0.3551406264305115,
           0.3635329008102417,
           0.4037148356437683,
           0.47341418266296387,
           0.9999998807907104,
           0.08268045634031296,
           0.7410008907318115,
           0.399854838848114,
           0.4899069666862488
          ],
          [
           0.16858255863189697,
           0.5786141753196716,
           0.1730937659740448,
           0.18842269480228424,
           0.2540537118911743,
           0.1537163257598877,
           0.18622452020645142,
           0.20367568731307983,
           0.2966705560684204,
           0.16715939342975616,
           0.20827917754650116,
           0.26213881373405457,
           0.13121703267097473,
           0.12360981851816177,
           0.1727888286113739,
           0.22888973355293274,
           0.21873676776885986,
           0.43078428506851196,
           0.14866437017917633,
           0.16419334709644318,
           0.18480214476585388,
           0.24915668368339539,
           0.19434568285942078,
           0.24315863847732544,
           0.2446308434009552,
           0.18309226632118225,
           0.15165747702121735,
           0.15674829483032227,
           0.6292132139205933,
           0.15655238926410675,
           0.12593184411525726,
           0.1258404403924942,
           0.10428251326084137,
           0.14103132486343384,
           0.1553187072277069,
           0.6931296586990356,
           0.4012690484523773,
           0.39170145988464355,
           0.17861399054527283,
           0.11282016336917877,
           0.14745277166366577,
           0.13264299929141998,
           0.24162274599075317,
           0.1144861951470375,
           0.26783838868141174,
           0.27861911058425903,
           0.1770728975534439,
           0.17149683833122253,
           0.5953582525253296,
           0.1746247261762619,
           0.12939727306365967,
           0.25204184651374817,
           0.417177677154541,
           0.11361426115036011,
           0.2890828847885132,
           0.15620288252830505,
           0.1118825227022171,
           0.42844516038894653,
           0.13119736313819885,
           0.13753469288349152,
           0.20488041639328003,
           0.08204770088195801,
           0.7006533145904541,
           0.17129617929458618,
           0.5057891607284546,
           0.15091028809547424,
           0.309673011302948,
           0.22475281357765198,
           0.15880995988845825,
           0.19626961648464203,
           0.44717836380004883,
           0.24680690467357635,
           0.24535275995731354,
           0.305762380361557,
           0.40084582567214966,
           0.44614842534065247,
           0.09352341294288635,
           0.1708158552646637,
           0.16988156735897064,
           0.25643014907836914,
           0.23157410323619843,
           0.17148441076278687,
           0.08268045634031296,
           0.9999998211860657,
           0.11510193347930908,
           0.157076895236969,
           0.12888383865356445
          ],
          [
           0.3892212212085724,
           0.10717353224754333,
           0.5660970211029053,
           0.412081241607666,
           0.30241096019744873,
           0.48627519607543945,
           0.4513048529624939,
           0.3613864779472351,
           0.352433443069458,
           0.6400875449180603,
           0.4477804899215698,
           0.43072396516799927,
           0.8525452613830566,
           0.4205006957054138,
           0.5540650486946106,
           0.3823922872543335,
           0.3321031928062439,
           0.20665065944194794,
           0.883415162563324,
           0.5637366771697998,
           0.3474299907684326,
           0.21143077313899994,
           0.44280102849006653,
           0.2686727046966553,
           0.36637380719184875,
           0.3140810430049896,
           0.32992684841156006,
           0.42204391956329346,
           0.23973163962364197,
           0.7622363567352295,
           0.21897383034229279,
           0.871390700340271,
           0.7489327192306519,
           0.7043843269348145,
           0.4763713777065277,
           0.18484103679656982,
           0.1464274823665619,
           0.18556348979473114,
           0.48672762513160706,
           0.5212386846542358,
           0.37626296281814575,
           0.4757537245750427,
           0.37963441014289856,
           0.40351083874702454,
           0.32715803384780884,
           0.3247321546077728,
           0.046228740364313126,
           0.4524500370025635,
           0.2606823742389679,
           0.38245075941085815,
           0.49663740396499634,
           0.1280830204486847,
           0.23902420699596405,
           0.42470788955688477,
           0.38377681374549866,
           0.43970078229904175,
           0.5127756595611572,
           0.26588374376296997,
           0.7936004400253296,
           0.7509788274765015,
           0.3901351988315582,
           0.2865891754627228,
           0.1711311936378479,
           0.3145953416824341,
           0.11765538901090622,
           0.37965306639671326,
           0.2482261061668396,
           0.17352625727653503,
           0.5512930154800415,
           0.3363272249698639,
           0.1230737566947937,
           0.1856098622083664,
           0.21629828214645386,
           0.33964359760284424,
           0.278910368680954,
           0.33578091859817505,
           0.7990885972976685,
           0.5267448425292969,
           0.3594028949737549,
           0.25412338972091675,
           0.33124545216560364,
           0.4751373529434204,
           0.7410008907318115,
           0.11510193347930908,
           0.9999999403953552,
           0.2740376591682434,
           0.41779783368110657
          ],
          [
           0.39812254905700684,
           0.16303575038909912,
           0.46130579710006714,
           0.4417687952518463,
           0.47879189252853394,
           0.4919087588787079,
           0.37603139877319336,
           0.6116939783096313,
           0.4364551603794098,
           0.3723726272583008,
           0.3604295253753662,
           0.377175509929657,
           0.3150028586387634,
           0.4136852025985718,
           0.3125655949115753,
           0.3620416820049286,
           0.743106484413147,
           0.264474481344223,
           0.2864319682121277,
           0.34870392084121704,
           0.44263333082199097,
           0.31788504123687744,
           0.40168312191963196,
           0.28763625025749207,
           0.26057004928588867,
           0.3244960606098175,
           0.32638147473335266,
           0.7029567360877991,
           0.3035767674446106,
           0.37190675735473633,
           0.3617307245731354,
           0.3708525002002716,
           0.3341214060783386,
           0.40108004212379456,
           0.3951515555381775,
           0.1885763704776764,
           0.24955213069915771,
           0.1569366753101349,
           0.3077908158302307,
           0.47383224964141846,
           0.3171343207359314,
           0.44148093461990356,
           0.34530049562454224,
           0.5314750075340271,
           0.3127877116203308,
           0.42369139194488525,
           0.15868017077445984,
           0.4092445373535156,
           0.19093739986419678,
           0.24585098028182983,
           0.5023910999298096,
           0.1986238956451416,
           0.27603548765182495,
           0.40048879384994507,
           0.2634480893611908,
           0.4306062161922455,
           0.46198469400405884,
           0.24478432536125183,
           0.3250574767589569,
           0.6068549156188965,
           0.5458330512046814,
           0.33076179027557373,
           0.1873934268951416,
           0.5281558036804199,
           0.17242586612701416,
           0.23429745435714722,
           0.3225535750389099,
           0.1815197467803955,
           0.48826080560684204,
           0.6635271310806274,
           0.16739918291568756,
           0.2801077365875244,
           0.17296907305717468,
           0.22361916303634644,
           0.21433183550834656,
           0.27032139897346497,
           0.3335033655166626,
           0.3267698287963867,
           0.38384050130844116,
           0.43579721450805664,
           0.42197185754776,
           0.3686266839504242,
           0.399854838848114,
           0.157076895236969,
           0.2740376591682434,
           0.9999999403953552,
           0.36480793356895447
          ],
          [
           0.6387749910354614,
           0.12401598691940308,
           0.5870980620384216,
           0.6298514604568481,
           0.5231309533119202,
           0.5758436918258667,
           0.7672562599182129,
           0.5144392251968384,
           0.6226329803466797,
           0.6120280623435974,
           0.5332225561141968,
           0.6592615246772766,
           0.5215795040130615,
           0.5402815341949463,
           0.4880322217941284,
           0.6347635984420776,
           0.4441293478012085,
           0.2913585305213928,
           0.37575215101242065,
           0.6005315184593201,
           0.650373101234436,
           0.47759243845939636,
           0.555917501449585,
           0.3356934189796448,
           0.5558173656463623,
           0.4688582122325897,
           0.39554741978645325,
           0.5556206703186035,
           0.35571199655532837,
           0.5492086410522461,
           0.37590813636779785,
           0.49064648151397705,
           0.5296006202697754,
           0.5345133543014526,
           0.62223219871521,
           0.20632481575012207,
           0.19347453117370605,
           0.17575213313102722,
           0.5520088076591492,
           0.4731336236000061,
           0.6254352927207947,
           0.5495715141296387,
           0.3721177577972412,
           0.511318564414978,
           0.5393692255020142,
           0.5049943923950195,
           0.14901266992092133,
           0.507798969745636,
           0.39448094367980957,
           0.5234597325325012,
           0.5660568475723267,
           0.31992679834365845,
           0.3551871180534363,
           0.4850356876850128,
           0.6094924211502075,
           0.5013892650604248,
           0.5057998299598694,
           0.4036342203617096,
           0.5083664655685425,
           0.4098341464996338,
           0.6100630760192871,
           0.7275272607803345,
           0.19410857558250427,
           0.522318422794342,
           0.23918139934539795,
           0.4716912508010864,
           0.3738763928413391,
           0.16059347987174988,
           0.6754822731018066,
           0.4711726903915405,
           0.28284916281700134,
           0.32823240756988525,
           0.2796993851661682,
           0.4775528013706207,
           0.4109650254249573,
           0.5079526901245117,
           0.546684741973877,
           0.5543516278266907,
           0.4666770398616791,
           0.48889750242233276,
           0.6172791719436646,
           0.5493244528770447,
           0.4899069666862488,
           0.12888383865356445,
           0.41779783368110657,
           0.36480793356895447,
           1.000000238418579
          ]
         ]
        }
       ],
       "layout": {
        "coloraxis": {
         "colorbar": {
          "title": {
           "text": "Similarity Score"
          }
         },
         "colorscale": [
          [
           0,
           "rgb(247,252,240)"
          ],
          [
           0.125,
           "rgb(224,243,219)"
          ],
          [
           0.25,
           "rgb(204,235,197)"
          ],
          [
           0.375,
           "rgb(168,221,181)"
          ],
          [
           0.5,
           "rgb(123,204,196)"
          ],
          [
           0.625,
           "rgb(78,179,211)"
          ],
          [
           0.75,
           "rgb(43,140,190)"
          ],
          [
           0.875,
           "rgb(8,104,172)"
          ],
          [
           1,
           "rgb(8,64,129)"
          ]
         ]
        },
        "height": 800,
        "hoverlabel": {
         "bgcolor": "white",
         "font": {
          "family": "Rockwell",
          "size": 16
         }
        },
        "legend": {
         "title": {
          "text": "Trend"
         }
        },
        "margin": {
         "t": 60
        },
        "showlegend": true,
        "template": {
         "data": {
          "bar": [
           {
            "error_x": {
             "color": "#2a3f5f"
            },
            "error_y": {
             "color": "#2a3f5f"
            },
            "marker": {
             "line": {
              "color": "#E5ECF6",
              "width": 0.5
             },
             "pattern": {
              "fillmode": "overlay",
              "size": 10,
              "solidity": 0.2
             }
            },
            "type": "bar"
           }
          ],
          "barpolar": [
           {
            "marker": {
             "line": {
              "color": "#E5ECF6",
              "width": 0.5
             },
             "pattern": {
              "fillmode": "overlay",
              "size": 10,
              "solidity": 0.2
             }
            },
            "type": "barpolar"
           }
          ],
          "carpet": [
           {
            "aaxis": {
             "endlinecolor": "#2a3f5f",
             "gridcolor": "white",
             "linecolor": "white",
             "minorgridcolor": "white",
             "startlinecolor": "#2a3f5f"
            },
            "baxis": {
             "endlinecolor": "#2a3f5f",
             "gridcolor": "white",
             "linecolor": "white",
             "minorgridcolor": "white",
             "startlinecolor": "#2a3f5f"
            },
            "type": "carpet"
           }
          ],
          "choropleth": [
           {
            "colorbar": {
             "outlinewidth": 0,
             "ticks": ""
            },
            "type": "choropleth"
           }
          ],
          "contour": [
           {
            "colorbar": {
             "outlinewidth": 0,
             "ticks": ""
            },
            "colorscale": [
             [
              0,
              "#0d0887"
             ],
             [
              0.1111111111111111,
              "#46039f"
             ],
             [
              0.2222222222222222,
              "#7201a8"
             ],
             [
              0.3333333333333333,
              "#9c179e"
             ],
             [
              0.4444444444444444,
              "#bd3786"
             ],
             [
              0.5555555555555556,
              "#d8576b"
             ],
             [
              0.6666666666666666,
              "#ed7953"
             ],
             [
              0.7777777777777778,
              "#fb9f3a"
             ],
             [
              0.8888888888888888,
              "#fdca26"
             ],
             [
              1,
              "#f0f921"
             ]
            ],
            "type": "contour"
           }
          ],
          "contourcarpet": [
           {
            "colorbar": {
             "outlinewidth": 0,
             "ticks": ""
            },
            "type": "contourcarpet"
           }
          ],
          "heatmap": [
           {
            "colorbar": {
             "outlinewidth": 0,
             "ticks": ""
            },
            "colorscale": [
             [
              0,
              "#0d0887"
             ],
             [
              0.1111111111111111,
              "#46039f"
             ],
             [
              0.2222222222222222,
              "#7201a8"
             ],
             [
              0.3333333333333333,
              "#9c179e"
             ],
             [
              0.4444444444444444,
              "#bd3786"
             ],
             [
              0.5555555555555556,
              "#d8576b"
             ],
             [
              0.6666666666666666,
              "#ed7953"
             ],
             [
              0.7777777777777778,
              "#fb9f3a"
             ],
             [
              0.8888888888888888,
              "#fdca26"
             ],
             [
              1,
              "#f0f921"
             ]
            ],
            "type": "heatmap"
           }
          ],
          "heatmapgl": [
           {
            "colorbar": {
             "outlinewidth": 0,
             "ticks": ""
            },
            "colorscale": [
             [
              0,
              "#0d0887"
             ],
             [
              0.1111111111111111,
              "#46039f"
             ],
             [
              0.2222222222222222,
              "#7201a8"
             ],
             [
              0.3333333333333333,
              "#9c179e"
             ],
             [
              0.4444444444444444,
              "#bd3786"
             ],
             [
              0.5555555555555556,
              "#d8576b"
             ],
             [
              0.6666666666666666,
              "#ed7953"
             ],
             [
              0.7777777777777778,
              "#fb9f3a"
             ],
             [
              0.8888888888888888,
              "#fdca26"
             ],
             [
              1,
              "#f0f921"
             ]
            ],
            "type": "heatmapgl"
           }
          ],
          "histogram": [
           {
            "marker": {
             "pattern": {
              "fillmode": "overlay",
              "size": 10,
              "solidity": 0.2
             }
            },
            "type": "histogram"
           }
          ],
          "histogram2d": [
           {
            "colorbar": {
             "outlinewidth": 0,
             "ticks": ""
            },
            "colorscale": [
             [
              0,
              "#0d0887"
             ],
             [
              0.1111111111111111,
              "#46039f"
             ],
             [
              0.2222222222222222,
              "#7201a8"
             ],
             [
              0.3333333333333333,
              "#9c179e"
             ],
             [
              0.4444444444444444,
              "#bd3786"
             ],
             [
              0.5555555555555556,
              "#d8576b"
             ],
             [
              0.6666666666666666,
              "#ed7953"
             ],
             [
              0.7777777777777778,
              "#fb9f3a"
             ],
             [
              0.8888888888888888,
              "#fdca26"
             ],
             [
              1,
              "#f0f921"
             ]
            ],
            "type": "histogram2d"
           }
          ],
          "histogram2dcontour": [
           {
            "colorbar": {
             "outlinewidth": 0,
             "ticks": ""
            },
            "colorscale": [
             [
              0,
              "#0d0887"
             ],
             [
              0.1111111111111111,
              "#46039f"
             ],
             [
              0.2222222222222222,
              "#7201a8"
             ],
             [
              0.3333333333333333,
              "#9c179e"
             ],
             [
              0.4444444444444444,
              "#bd3786"
             ],
             [
              0.5555555555555556,
              "#d8576b"
             ],
             [
              0.6666666666666666,
              "#ed7953"
             ],
             [
              0.7777777777777778,
              "#fb9f3a"
             ],
             [
              0.8888888888888888,
              "#fdca26"
             ],
             [
              1,
              "#f0f921"
             ]
            ],
            "type": "histogram2dcontour"
           }
          ],
          "mesh3d": [
           {
            "colorbar": {
             "outlinewidth": 0,
             "ticks": ""
            },
            "type": "mesh3d"
           }
          ],
          "parcoords": [
           {
            "line": {
             "colorbar": {
              "outlinewidth": 0,
              "ticks": ""
             }
            },
            "type": "parcoords"
           }
          ],
          "pie": [
           {
            "automargin": true,
            "type": "pie"
           }
          ],
          "scatter": [
           {
            "fillpattern": {
             "fillmode": "overlay",
             "size": 10,
             "solidity": 0.2
            },
            "type": "scatter"
           }
          ],
          "scatter3d": [
           {
            "line": {
             "colorbar": {
              "outlinewidth": 0,
              "ticks": ""
             }
            },
            "marker": {
             "colorbar": {
              "outlinewidth": 0,
              "ticks": ""
             }
            },
            "type": "scatter3d"
           }
          ],
          "scattercarpet": [
           {
            "marker": {
             "colorbar": {
              "outlinewidth": 0,
              "ticks": ""
             }
            },
            "type": "scattercarpet"
           }
          ],
          "scattergeo": [
           {
            "marker": {
             "colorbar": {
              "outlinewidth": 0,
              "ticks": ""
             }
            },
            "type": "scattergeo"
           }
          ],
          "scattergl": [
           {
            "marker": {
             "colorbar": {
              "outlinewidth": 0,
              "ticks": ""
             }
            },
            "type": "scattergl"
           }
          ],
          "scattermapbox": [
           {
            "marker": {
             "colorbar": {
              "outlinewidth": 0,
              "ticks": ""
             }
            },
            "type": "scattermapbox"
           }
          ],
          "scatterpolar": [
           {
            "marker": {
             "colorbar": {
              "outlinewidth": 0,
              "ticks": ""
             }
            },
            "type": "scatterpolar"
           }
          ],
          "scatterpolargl": [
           {
            "marker": {
             "colorbar": {
              "outlinewidth": 0,
              "ticks": ""
             }
            },
            "type": "scatterpolargl"
           }
          ],
          "scatterternary": [
           {
            "marker": {
             "colorbar": {
              "outlinewidth": 0,
              "ticks": ""
             }
            },
            "type": "scatterternary"
           }
          ],
          "surface": [
           {
            "colorbar": {
             "outlinewidth": 0,
             "ticks": ""
            },
            "colorscale": [
             [
              0,
              "#0d0887"
             ],
             [
              0.1111111111111111,
              "#46039f"
             ],
             [
              0.2222222222222222,
              "#7201a8"
             ],
             [
              0.3333333333333333,
              "#9c179e"
             ],
             [
              0.4444444444444444,
              "#bd3786"
             ],
             [
              0.5555555555555556,
              "#d8576b"
             ],
             [
              0.6666666666666666,
              "#ed7953"
             ],
             [
              0.7777777777777778,
              "#fb9f3a"
             ],
             [
              0.8888888888888888,
              "#fdca26"
             ],
             [
              1,
              "#f0f921"
             ]
            ],
            "type": "surface"
           }
          ],
          "table": [
           {
            "cells": {
             "fill": {
              "color": "#EBF0F8"
             },
             "line": {
              "color": "white"
             }
            },
            "header": {
             "fill": {
              "color": "#C8D4E3"
             },
             "line": {
              "color": "white"
             }
            },
            "type": "table"
           }
          ]
         },
         "layout": {
          "annotationdefaults": {
           "arrowcolor": "#2a3f5f",
           "arrowhead": 0,
           "arrowwidth": 1
          },
          "autotypenumbers": "strict",
          "coloraxis": {
           "colorbar": {
            "outlinewidth": 0,
            "ticks": ""
           }
          },
          "colorscale": {
           "diverging": [
            [
             0,
             "#8e0152"
            ],
            [
             0.1,
             "#c51b7d"
            ],
            [
             0.2,
             "#de77ae"
            ],
            [
             0.3,
             "#f1b6da"
            ],
            [
             0.4,
             "#fde0ef"
            ],
            [
             0.5,
             "#f7f7f7"
            ],
            [
             0.6,
             "#e6f5d0"
            ],
            [
             0.7,
             "#b8e186"
            ],
            [
             0.8,
             "#7fbc41"
            ],
            [
             0.9,
             "#4d9221"
            ],
            [
             1,
             "#276419"
            ]
           ],
           "sequential": [
            [
             0,
             "#0d0887"
            ],
            [
             0.1111111111111111,
             "#46039f"
            ],
            [
             0.2222222222222222,
             "#7201a8"
            ],
            [
             0.3333333333333333,
             "#9c179e"
            ],
            [
             0.4444444444444444,
             "#bd3786"
            ],
            [
             0.5555555555555556,
             "#d8576b"
            ],
            [
             0.6666666666666666,
             "#ed7953"
            ],
            [
             0.7777777777777778,
             "#fb9f3a"
            ],
            [
             0.8888888888888888,
             "#fdca26"
            ],
            [
             1,
             "#f0f921"
            ]
           ],
           "sequentialminus": [
            [
             0,
             "#0d0887"
            ],
            [
             0.1111111111111111,
             "#46039f"
            ],
            [
             0.2222222222222222,
             "#7201a8"
            ],
            [
             0.3333333333333333,
             "#9c179e"
            ],
            [
             0.4444444444444444,
             "#bd3786"
            ],
            [
             0.5555555555555556,
             "#d8576b"
            ],
            [
             0.6666666666666666,
             "#ed7953"
            ],
            [
             0.7777777777777778,
             "#fb9f3a"
            ],
            [
             0.8888888888888888,
             "#fdca26"
            ],
            [
             1,
             "#f0f921"
            ]
           ]
          },
          "colorway": [
           "#636efa",
           "#EF553B",
           "#00cc96",
           "#ab63fa",
           "#FFA15A",
           "#19d3f3",
           "#FF6692",
           "#B6E880",
           "#FF97FF",
           "#FECB52"
          ],
          "font": {
           "color": "#2a3f5f"
          },
          "geo": {
           "bgcolor": "white",
           "lakecolor": "white",
           "landcolor": "#E5ECF6",
           "showlakes": true,
           "showland": true,
           "subunitcolor": "white"
          },
          "hoverlabel": {
           "align": "left"
          },
          "hovermode": "closest",
          "mapbox": {
           "style": "light"
          },
          "paper_bgcolor": "white",
          "plot_bgcolor": "#E5ECF6",
          "polar": {
           "angularaxis": {
            "gridcolor": "white",
            "linecolor": "white",
            "ticks": ""
           },
           "bgcolor": "#E5ECF6",
           "radialaxis": {
            "gridcolor": "white",
            "linecolor": "white",
            "ticks": ""
           }
          },
          "scene": {
           "xaxis": {
            "backgroundcolor": "#E5ECF6",
            "gridcolor": "white",
            "gridwidth": 2,
            "linecolor": "white",
            "showbackground": true,
            "ticks": "",
            "zerolinecolor": "white"
           },
           "yaxis": {
            "backgroundcolor": "#E5ECF6",
            "gridcolor": "white",
            "gridwidth": 2,
            "linecolor": "white",
            "showbackground": true,
            "ticks": "",
            "zerolinecolor": "white"
           },
           "zaxis": {
            "backgroundcolor": "#E5ECF6",
            "gridcolor": "white",
            "gridwidth": 2,
            "linecolor": "white",
            "showbackground": true,
            "ticks": "",
            "zerolinecolor": "white"
           }
          },
          "shapedefaults": {
           "line": {
            "color": "#2a3f5f"
           }
          },
          "ternary": {
           "aaxis": {
            "gridcolor": "white",
            "linecolor": "white",
            "ticks": ""
           },
           "baxis": {
            "gridcolor": "white",
            "linecolor": "white",
            "ticks": ""
           },
           "bgcolor": "#E5ECF6",
           "caxis": {
            "gridcolor": "white",
            "linecolor": "white",
            "ticks": ""
           }
          },
          "title": {
           "x": 0.05
          },
          "xaxis": {
           "automargin": true,
           "gridcolor": "white",
           "linecolor": "white",
           "ticks": "",
           "title": {
            "standoff": 15
           },
           "zerolinecolor": "white",
           "zerolinewidth": 2
          },
          "yaxis": {
           "automargin": true,
           "gridcolor": "white",
           "linecolor": "white",
           "ticks": "",
           "title": {
            "standoff": 15
           },
           "zerolinecolor": "white",
           "zerolinewidth": 2
          }
         }
        },
        "title": {
         "font": {
          "color": "Black",
          "size": 22
         },
         "text": "<b>Similarity Matrix</b>",
         "x": 0.55,
         "xanchor": "center",
         "y": 0.95,
         "yanchor": "top"
        },
        "width": 800,
        "xaxis": {
         "anchor": "y",
         "constrain": "domain",
         "domain": [
          0,
          1
         ],
         "scaleanchor": "y"
        },
        "yaxis": {
         "anchor": "x",
         "autorange": "reversed",
         "constrain": "domain",
         "domain": [
          0,
          1
         ]
        }
       }
      }
     },
     "metadata": {},
     "output_type": "display_data"
    }
   ],
   "source": [
    "topic_model_positive.visualize_heatmap()"
   ]
  },
  {
   "cell_type": "code",
   "execution_count": 20,
   "metadata": {},
   "outputs": [
    {
     "data": {
      "application/vnd.plotly.v1+json": {
       "config": {
        "plotlyServerURL": "https://plot.ly"
       },
       "data": [
        {
         "coloraxis": "coloraxis",
         "hovertemplate": "x: %{x}<br>y: %{y}<br>Similarity Score: %{z}<extra></extra>",
         "name": "0",
         "type": "heatmap",
         "x": [
          "0_this_game_my",
          "1_warframe_and_to",
          "2_bugs_the_devs",
          "3_grind_grindy_grinding",
          "4_new_player_the",
          "5_review_reviews_people",
          "6_money_spent_real",
          "7_enemies_sent_disciple",
          "8_free_game_is",
          "9_missions_mission_the",
          "10_cocaine_addictive_heroin",
          "11_knows_secrets_false",
          "12_space_ninja_ninjas",
          "13_farming_farm_simulator",
          "14_trespassers_keys_mere",
          "15_cleanse_impurity_vor",
          "16_they_pure_know",
          "17_bound_forever_void",
          "18_quest_quests_story",
          "19_scavenge_sacred_realm",
          "20_resist_lost_tenno",
          "21_destroyed_janus_key",
          "22_product_received_free",
          "23_stalker_his_murderer",
          "24_pay_win_not",
          "25_pvp_in_hordes",
          "26_platinum_currency_buy"
         ],
         "xaxis": "x",
         "y": [
          "0_this_game_my",
          "1_warframe_and_to",
          "2_bugs_the_devs",
          "3_grind_grindy_grinding",
          "4_new_player_the",
          "5_review_reviews_people",
          "6_money_spent_real",
          "7_enemies_sent_disciple",
          "8_free_game_is",
          "9_missions_mission_the",
          "10_cocaine_addictive_heroin",
          "11_knows_secrets_false",
          "12_space_ninja_ninjas",
          "13_farming_farm_simulator",
          "14_trespassers_keys_mere",
          "15_cleanse_impurity_vor",
          "16_they_pure_know",
          "17_bound_forever_void",
          "18_quest_quests_story",
          "19_scavenge_sacred_realm",
          "20_resist_lost_tenno",
          "21_destroyed_janus_key",
          "22_product_received_free",
          "23_stalker_his_murderer",
          "24_pay_win_not",
          "25_pvp_in_hordes",
          "26_platinum_currency_buy"
         ],
         "yaxis": "y",
         "z": [
          [
           0.9999997615814209,
           0.4971897006034851,
           0.5982165336608887,
           0.6019218564033508,
           0.6165896654129028,
           0.5885787606239319,
           0.5441693067550659,
           0.47915929555892944,
           0.542124330997467,
           0.5257697105407715,
           0.6774313449859619,
           0.24597010016441345,
           0.472308874130249,
           0.5674450993537903,
           0.269143283367157,
           0.3437516689300537,
           0.19124482572078705,
           0.25812527537345886,
           0.5338799357414246,
           0.20857606828212738,
           0.29323267936706543,
           0.3564002513885498,
           0.41342073678970337,
           0.4266306757926941,
           0.4999985098838806,
           0.4477749466896057,
           0.37769562005996704
          ],
          [
           0.4971897006034851,
           0.9999998211860657,
           0.5602039694786072,
           0.5179939866065979,
           0.5064259767532349,
           0.4674633741378784,
           0.4705165922641754,
           0.5312091708183289,
           0.44153860211372375,
           0.5528817176818848,
           0.3558464050292969,
           0.05287879705429077,
           0.43771517276763916,
           0.501490592956543,
           0.05116523429751396,
           0.05088842660188675,
           -0.023857466876506805,
           0.09866306185722351,
           0.47811418771743774,
           0.07564500719308853,
           0.04422011226415634,
           0.17356042563915253,
           0.42476314306259155,
           0.19220799207687378,
           0.3189920485019684,
           0.5338326692581177,
           0.41571545600891113
          ],
          [
           0.5982165336608887,
           0.5602039694786072,
           1,
           0.5557664632797241,
           0.7181310653686523,
           0.6681272983551025,
           0.48535409569740295,
           0.3599050045013428,
           0.5813319087028503,
           0.6442624926567078,
           0.424352765083313,
           0.22079016268253326,
           0.29472148418426514,
           0.5204691886901855,
           0.17302948236465454,
           0.18273773789405823,
           0.08951470255851746,
           0.1204141229391098,
           0.5736421942710876,
           0.1113864928483963,
           0.19824129343032837,
           0.1728738248348236,
           0.49843740463256836,
           0.16001638770103455,
           0.41646870970726013,
           0.5392580032348633,
           0.39620161056518555
          ],
          [
           0.6019218564033508,
           0.5179939866065979,
           0.5557664632797241,
           1.000000238418579,
           0.6037563681602478,
           0.44911688566207886,
           0.5313175916671753,
           0.42937976121902466,
           0.5067006349563599,
           0.6151950359344482,
           0.5994951725006104,
           0.015850499272346497,
           0.3431905508041382,
           0.6454418301582336,
           0.16358421742916107,
           0.15984617173671722,
           0.16300565004348755,
           0.07124564796686172,
           0.48154574632644653,
           0.14601239562034607,
           0.16998355090618134,
           0.16551336646080017,
           0.3481053113937378,
           0.18575409054756165,
           0.3777250051498413,
           0.4853542447090149,
           0.4606732726097107
          ],
          [
           0.6165896654129028,
           0.5064259767532349,
           0.7181310653686523,
           0.6037563681602478,
           1.0000003576278687,
           0.567113995552063,
           0.49504196643829346,
           0.41937774419784546,
           0.5523995161056519,
           0.5688508749008179,
           0.4880703389644623,
           0.10594264417886734,
           0.2893790602684021,
           0.5331780910491943,
           0.24003109335899353,
           0.156209334731102,
           0.08764748275279999,
           0.0662241205573082,
           0.5598731637001038,
           0.12917707860469818,
           0.16839244961738586,
           0.16523641347885132,
           0.38085973262786865,
           0.18522366881370544,
           0.3971196413040161,
           0.49185240268707275,
           0.40231621265411377
          ],
          [
           0.5885787606239319,
           0.4674633741378784,
           0.6681272983551025,
           0.44911688566207886,
           0.567113995552063,
           0.9999998807907104,
           0.4258737564086914,
           0.3300989270210266,
           0.4591578245162964,
           0.40435636043548584,
           0.3750537037849426,
           0.20373259484767914,
           0.29555854201316833,
           0.408729612827301,
           0.13750050961971283,
           0.21461221575737,
           0.15702256560325623,
           0.11872100085020065,
           0.44383370876312256,
           0.12171237170696259,
           0.2558276653289795,
           0.1985849291086197,
           0.4188005030155182,
           0.16142332553863525,
           0.43511176109313965,
           0.4393000602722168,
           0.3884955644607544
          ],
          [
           0.5441693067550659,
           0.4705165922641754,
           0.48535409569740295,
           0.5313175916671753,
           0.49504196643829346,
           0.4258737564086914,
           0.9999998807907104,
           0.2924010157585144,
           0.6588636636734009,
           0.4221915900707245,
           0.45786482095718384,
           0.04021071270108223,
           0.24547526240348816,
           0.5023654699325562,
           0.2036045491695404,
           0.16982890665531158,
           0.035086970776319504,
           0.1031847670674324,
           0.38229039311408997,
           0.08056295663118362,
           0.10268803685903549,
           0.17323410511016846,
           0.5923575758934021,
           0.06731867790222168,
           0.6993020176887512,
           0.39980342984199524,
           0.6552932262420654
          ],
          [
           0.47915929555892944,
           0.5312091708183289,
           0.3599050045013428,
           0.42937976121902466,
           0.41937774419784546,
           0.3300989270210266,
           0.2924010157585144,
           1.0000001192092896,
           0.2673931419849396,
           0.4175580143928528,
           0.34517788887023926,
           0.22681179642677307,
           0.550849199295044,
           0.4732733368873596,
           0.28781408071517944,
           0.24258604645729065,
           0.11929814517498016,
           0.14039388298988342,
           0.33118653297424316,
           0.2018495798110962,
           0.2616317868232727,
           0.23418910801410675,
           0.20792046189308167,
           0.470691442489624,
           0.2274976670742035,
           0.39801329374313354,
           0.293753445148468
          ],
          [
           0.542124330997467,
           0.44153860211372375,
           0.5813319087028503,
           0.5067006349563599,
           0.5523995161056519,
           0.4591578245162964,
           0.6588636636734009,
           0.2673931419849396,
           1.000000238418579,
           0.43459874391555786,
           0.46229565143585205,
           0.07404719293117523,
           0.26301953196525574,
           0.49285611510276794,
           0.19456574320793152,
           0.14112797379493713,
           0.0727117732167244,
           0.12419558316469193,
           0.355149507522583,
           0.11460569500923157,
           0.11043775081634521,
           0.10483113676309586,
           0.7682881355285645,
           0.04985697939991951,
           0.6353482007980347,
           0.43976718187332153,
           0.4584214389324188
          ],
          [
           0.5257697105407715,
           0.5528817176818848,
           0.6442624926567078,
           0.6151950359344482,
           0.5688508749008179,
           0.40435636043548584,
           0.4221915900707245,
           0.4175580143928528,
           0.43459874391555786,
           1.000000238418579,
           0.4420684576034546,
           0.192215234041214,
           0.4308326244354248,
           0.5428866147994995,
           0.1622137576341629,
           0.10071854293346405,
           0.04498288035392761,
           0.14077109098434448,
           0.6428424715995789,
           0.15446606278419495,
           0.16953086853027344,
           0.20754581689834595,
           0.3437116742134094,
           0.19223062694072723,
           0.2734861671924591,
           0.42916569113731384,
           0.3535084128379822
          ],
          [
           0.6774313449859619,
           0.3558464050292969,
           0.424352765083313,
           0.5994951725006104,
           0.4880703389644623,
           0.3750537037849426,
           0.45786482095718384,
           0.34517788887023926,
           0.46229565143585205,
           0.4420684576034546,
           1,
           0.10360068082809448,
           0.3320554792881012,
           0.4637393355369568,
           0.2533392310142517,
           0.22475358843803406,
           0.1778593510389328,
           0.15039603412151337,
           0.39769208431243896,
           0.1649121195077896,
           0.16239331662654877,
           0.17650002241134644,
           0.3321146070957184,
           0.2338375747203827,
           0.3254990577697754,
           0.32696112990379333,
           0.35400837659835815
          ],
          [
           0.24597010016441345,
           0.05287879705429077,
           0.22079016268253326,
           0.015850499272346497,
           0.10594264417886734,
           0.20373259484767914,
           0.04021071270108223,
           0.22681179642677307,
           0.07404719293117523,
           0.192215234041214,
           0.10360068082809448,
           1,
           0.24512115120887756,
           0.14267495274543762,
           0.1533176451921463,
           0.38127297163009644,
           0.4001718759536743,
           0.31631070375442505,
           0.3222864270210266,
           0.2604227066040039,
           0.3084896504878998,
           0.2574518620967865,
           0.06950566172599792,
           0.23970134556293488,
           0.15160775184631348,
           0.09330323338508606,
           0.02496456354856491
          ],
          [
           0.472308874130249,
           0.43771517276763916,
           0.29472148418426514,
           0.3431905508041382,
           0.2893790602684021,
           0.29555854201316833,
           0.24547526240348816,
           0.550849199295044,
           0.26301953196525574,
           0.4308326244354248,
           0.3320554792881012,
           0.24512115120887756,
           0.9999997615814209,
           0.3739580810070038,
           0.21133755147457123,
           0.259086936712265,
           0.18632587790489197,
           0.18556061387062073,
           0.3345993161201477,
           0.18572449684143066,
           0.20121923089027405,
           0.15794429183006287,
           0.1849353164434433,
           0.34167057275772095,
           0.18462330102920532,
           0.2422543466091156,
           0.1885720193386078
          ],
          [
           0.5674450993537903,
           0.501490592956543,
           0.5204691886901855,
           0.6454418301582336,
           0.5331780910491943,
           0.408729612827301,
           0.5023654699325562,
           0.4732733368873596,
           0.49285611510276794,
           0.5428866147994995,
           0.4637393355369568,
           0.14267495274543762,
           0.3739580810070038,
           1,
           0.16658000648021698,
           0.2241615504026413,
           0.21832996606826782,
           0.07501431554555893,
           0.4465336203575134,
           0.2013086974620819,
           0.15535880625247955,
           0.19034534692764282,
           0.38144105672836304,
           0.2134256362915039,
           0.37633949518203735,
           0.48728013038635254,
           0.4049532413482666
          ],
          [
           0.269143283367157,
           0.05116523429751396,
           0.17302948236465454,
           0.16358421742916107,
           0.24003109335899353,
           0.13750050961971283,
           0.2036045491695404,
           0.28781408071517944,
           0.19456574320793152,
           0.1622137576341629,
           0.2533392310142517,
           0.1533176451921463,
           0.21133755147457123,
           0.16658000648021698,
           0.9999997019767761,
           0.3265836834907532,
           0.17151015996932983,
           0.06136738881468773,
           0.09515567868947983,
           0.30913621187210083,
           0.48448437452316284,
           0.22285102307796478,
           0.13404256105422974,
           0.19873538613319397,
           0.210747629404068,
           0.07253198325634003,
           0.15354084968566895
          ],
          [
           0.3437516689300537,
           0.05088842660188675,
           0.18273773789405823,
           0.15984617173671722,
           0.156209334731102,
           0.21461221575737,
           0.16982890665531158,
           0.24258604645729065,
           0.14112797379493713,
           0.10071854293346405,
           0.22475358843803406,
           0.38127297163009644,
           0.259086936712265,
           0.2241615504026413,
           0.3265836834907532,
           1,
           0.4039390981197357,
           0.1567886471748352,
           0.07924856245517731,
           0.25394120812416077,
           0.2712911069393158,
           0.2260366827249527,
           0.12636233866214752,
           0.21802252531051636,
           0.15887245535850525,
           0.15622469782829285,
           0.1850886046886444
          ],
          [
           0.19124482572078705,
           -0.023857466876506805,
           0.08951470255851746,
           0.16300565004348755,
           0.08764748275279999,
           0.15702256560325623,
           0.035086970776319504,
           0.11929814517498016,
           0.0727117732167244,
           0.04498288035392761,
           0.1778593510389328,
           0.4001718759536743,
           0.18632587790489197,
           0.21832996606826782,
           0.17151015996932983,
           0.4039390981197357,
           0.9999999403953552,
           0.09274400770664215,
           0.13018040359020233,
           0.23745977878570557,
           0.1665283888578415,
           0.06434442847967148,
           0.03788604587316513,
           0.11053252220153809,
           0.08497608453035355,
           0.07603184878826141,
           0.09802260249853134
          ],
          [
           0.25812527537345886,
           0.09866306185722351,
           0.1204141229391098,
           0.07124564796686172,
           0.0662241205573082,
           0.11872100085020065,
           0.1031847670674324,
           0.14039388298988342,
           0.12419558316469193,
           0.14077109098434448,
           0.15039603412151337,
           0.31631070375442505,
           0.18556061387062073,
           0.07501431554555893,
           0.06136738881468773,
           0.1567886471748352,
           0.09274400770664215,
           0.9999998807907104,
           0.2215692400932312,
           0.1630355417728424,
           0.1551491916179657,
           0.41903156042099,
           0.08484423160552979,
           0.16068719327449799,
           0.09800928831100464,
           0.0805898979306221,
           0.05666732043027878
          ],
          [
           0.5338799357414246,
           0.47811418771743774,
           0.5736421942710876,
           0.48154574632644653,
           0.5598731637001038,
           0.44383370876312256,
           0.38229039311408997,
           0.33118653297424316,
           0.355149507522583,
           0.6428424715995789,
           0.39769208431243896,
           0.3222864270210266,
           0.3345993161201477,
           0.4465336203575134,
           0.09515567868947983,
           0.07924856245517731,
           0.13018040359020233,
           0.2215692400932312,
           0.9999998807907104,
           0.24464112520217896,
           0.19575470685958862,
           0.3174411952495575,
           0.280740886926651,
           0.2764958441257477,
           0.31702011823654175,
           0.3776528239250183,
           0.3300769031047821
          ],
          [
           0.20857606828212738,
           0.07564500719308853,
           0.1113864928483963,
           0.14601239562034607,
           0.12917707860469818,
           0.12171237170696259,
           0.08056295663118362,
           0.2018495798110962,
           0.11460569500923157,
           0.15446606278419495,
           0.1649121195077896,
           0.2604227066040039,
           0.18572449684143066,
           0.2013086974620819,
           0.30913621187210083,
           0.25394120812416077,
           0.23745977878570557,
           0.1630355417728424,
           0.24464112520217896,
           1.000000238418579,
           0.4519035220146179,
           0.22244590520858765,
           0.05126824602484703,
           0.1516571193933487,
           0.12485800683498383,
           0.17451085150241852,
           0.1467900574207306
          ],
          [
           0.29323267936706543,
           0.04422011226415634,
           0.19824129343032837,
           0.16998355090618134,
           0.16839244961738586,
           0.2558276653289795,
           0.10268803685903549,
           0.2616317868232727,
           0.11043775081634521,
           0.16953086853027344,
           0.16239331662654877,
           0.3084896504878998,
           0.20121923089027405,
           0.15535880625247955,
           0.48448437452316284,
           0.2712911069393158,
           0.1665283888578415,
           0.1551491916179657,
           0.19575470685958862,
           0.4519035220146179,
           1,
           0.18774951994419098,
           0.04718971252441406,
           0.12286972254514694,
           0.25446459650993347,
           0.14170634746551514,
           0.15368762612342834
          ],
          [
           0.3564002513885498,
           0.17356042563915253,
           0.1728738248348236,
           0.16551336646080017,
           0.16523641347885132,
           0.1985849291086197,
           0.17323410511016846,
           0.23418910801410675,
           0.10483113676309586,
           0.20754581689834595,
           0.17650002241134644,
           0.2574518620967865,
           0.15794429183006287,
           0.19034534692764282,
           0.22285102307796478,
           0.2260366827249527,
           0.06434442847967148,
           0.41903156042099,
           0.3174411952495575,
           0.22244590520858765,
           0.18774951994419098,
           1,
           0.18922191858291626,
           0.2923958897590637,
           0.12572301924228668,
           0.13302277028560638,
           0.14699207246303558
          ],
          [
           0.41342073678970337,
           0.42476314306259155,
           0.49843740463256836,
           0.3481053113937378,
           0.38085973262786865,
           0.4188005030155182,
           0.5923575758934021,
           0.20792046189308167,
           0.7682881355285645,
           0.3437116742134094,
           0.3321146070957184,
           0.06950566172599792,
           0.1849353164434433,
           0.38144105672836304,
           0.13404256105422974,
           0.12636233866214752,
           0.03788604587316513,
           0.08484423160552979,
           0.280740886926651,
           0.05126824602484703,
           0.04718971252441406,
           0.18922191858291626,
           1,
           0.10234418511390686,
           0.5198896527290344,
           0.3391389548778534,
           0.42484983801841736
          ],
          [
           0.4266306757926941,
           0.19220799207687378,
           0.16001638770103455,
           0.18575409054756165,
           0.18522366881370544,
           0.16142332553863525,
           0.06731867790222168,
           0.470691442489624,
           0.04985697939991951,
           0.19223062694072723,
           0.2338375747203827,
           0.23970134556293488,
           0.34167057275772095,
           0.2134256362915039,
           0.19873538613319397,
           0.21802252531051636,
           0.11053252220153809,
           0.16068719327449799,
           0.2764958441257477,
           0.1516571193933487,
           0.12286972254514694,
           0.2923958897590637,
           0.10234418511390686,
           1,
           0.08945398032665253,
           0.09587360918521881,
           0.10997169464826584
          ],
          [
           0.4999985098838806,
           0.3189920485019684,
           0.41646870970726013,
           0.3777250051498413,
           0.3971196413040161,
           0.43511176109313965,
           0.6993020176887512,
           0.2274976670742035,
           0.6353482007980347,
           0.2734861671924591,
           0.3254990577697754,
           0.15160775184631348,
           0.18462330102920532,
           0.37633949518203735,
           0.210747629404068,
           0.15887245535850525,
           0.08497608453035355,
           0.09800928831100464,
           0.31702011823654175,
           0.12485800683498383,
           0.25446459650993347,
           0.12572301924228668,
           0.5198896527290344,
           0.08945398032665253,
           0.9999999403953552,
           0.3980252742767334,
           0.4148600101470947
          ],
          [
           0.4477749466896057,
           0.5338326692581177,
           0.5392580032348633,
           0.4853542447090149,
           0.49185240268707275,
           0.4393000602722168,
           0.39980342984199524,
           0.39801329374313354,
           0.43976718187332153,
           0.42916569113731384,
           0.32696112990379333,
           0.09330323338508606,
           0.2422543466091156,
           0.48728013038635254,
           0.07253198325634003,
           0.15622469782829285,
           0.07603184878826141,
           0.0805898979306221,
           0.3776528239250183,
           0.17451085150241852,
           0.14170634746551514,
           0.13302277028560638,
           0.3391389548778534,
           0.09587360918521881,
           0.3980252742767334,
           1.000000238418579,
           0.4288586974143982
          ],
          [
           0.37769562005996704,
           0.41571545600891113,
           0.39620161056518555,
           0.4606732726097107,
           0.40231621265411377,
           0.3884955644607544,
           0.6552932262420654,
           0.293753445148468,
           0.4584214389324188,
           0.3535084128379822,
           0.35400837659835815,
           0.02496456354856491,
           0.1885720193386078,
           0.4049532413482666,
           0.15354084968566895,
           0.1850886046886444,
           0.09802260249853134,
           0.05666732043027878,
           0.3300769031047821,
           0.1467900574207306,
           0.15368762612342834,
           0.14699207246303558,
           0.42484983801841736,
           0.10997169464826584,
           0.4148600101470947,
           0.4288586974143982,
           1
          ]
         ]
        }
       ],
       "layout": {
        "coloraxis": {
         "colorbar": {
          "title": {
           "text": "Similarity Score"
          }
         },
         "colorscale": [
          [
           0,
           "rgb(247,252,240)"
          ],
          [
           0.125,
           "rgb(224,243,219)"
          ],
          [
           0.25,
           "rgb(204,235,197)"
          ],
          [
           0.375,
           "rgb(168,221,181)"
          ],
          [
           0.5,
           "rgb(123,204,196)"
          ],
          [
           0.625,
           "rgb(78,179,211)"
          ],
          [
           0.75,
           "rgb(43,140,190)"
          ],
          [
           0.875,
           "rgb(8,104,172)"
          ],
          [
           1,
           "rgb(8,64,129)"
          ]
         ]
        },
        "height": 800,
        "hoverlabel": {
         "bgcolor": "white",
         "font": {
          "family": "Rockwell",
          "size": 16
         }
        },
        "legend": {
         "title": {
          "text": "Trend"
         }
        },
        "margin": {
         "t": 60
        },
        "showlegend": true,
        "template": {
         "data": {
          "bar": [
           {
            "error_x": {
             "color": "#2a3f5f"
            },
            "error_y": {
             "color": "#2a3f5f"
            },
            "marker": {
             "line": {
              "color": "#E5ECF6",
              "width": 0.5
             },
             "pattern": {
              "fillmode": "overlay",
              "size": 10,
              "solidity": 0.2
             }
            },
            "type": "bar"
           }
          ],
          "barpolar": [
           {
            "marker": {
             "line": {
              "color": "#E5ECF6",
              "width": 0.5
             },
             "pattern": {
              "fillmode": "overlay",
              "size": 10,
              "solidity": 0.2
             }
            },
            "type": "barpolar"
           }
          ],
          "carpet": [
           {
            "aaxis": {
             "endlinecolor": "#2a3f5f",
             "gridcolor": "white",
             "linecolor": "white",
             "minorgridcolor": "white",
             "startlinecolor": "#2a3f5f"
            },
            "baxis": {
             "endlinecolor": "#2a3f5f",
             "gridcolor": "white",
             "linecolor": "white",
             "minorgridcolor": "white",
             "startlinecolor": "#2a3f5f"
            },
            "type": "carpet"
           }
          ],
          "choropleth": [
           {
            "colorbar": {
             "outlinewidth": 0,
             "ticks": ""
            },
            "type": "choropleth"
           }
          ],
          "contour": [
           {
            "colorbar": {
             "outlinewidth": 0,
             "ticks": ""
            },
            "colorscale": [
             [
              0,
              "#0d0887"
             ],
             [
              0.1111111111111111,
              "#46039f"
             ],
             [
              0.2222222222222222,
              "#7201a8"
             ],
             [
              0.3333333333333333,
              "#9c179e"
             ],
             [
              0.4444444444444444,
              "#bd3786"
             ],
             [
              0.5555555555555556,
              "#d8576b"
             ],
             [
              0.6666666666666666,
              "#ed7953"
             ],
             [
              0.7777777777777778,
              "#fb9f3a"
             ],
             [
              0.8888888888888888,
              "#fdca26"
             ],
             [
              1,
              "#f0f921"
             ]
            ],
            "type": "contour"
           }
          ],
          "contourcarpet": [
           {
            "colorbar": {
             "outlinewidth": 0,
             "ticks": ""
            },
            "type": "contourcarpet"
           }
          ],
          "heatmap": [
           {
            "colorbar": {
             "outlinewidth": 0,
             "ticks": ""
            },
            "colorscale": [
             [
              0,
              "#0d0887"
             ],
             [
              0.1111111111111111,
              "#46039f"
             ],
             [
              0.2222222222222222,
              "#7201a8"
             ],
             [
              0.3333333333333333,
              "#9c179e"
             ],
             [
              0.4444444444444444,
              "#bd3786"
             ],
             [
              0.5555555555555556,
              "#d8576b"
             ],
             [
              0.6666666666666666,
              "#ed7953"
             ],
             [
              0.7777777777777778,
              "#fb9f3a"
             ],
             [
              0.8888888888888888,
              "#fdca26"
             ],
             [
              1,
              "#f0f921"
             ]
            ],
            "type": "heatmap"
           }
          ],
          "heatmapgl": [
           {
            "colorbar": {
             "outlinewidth": 0,
             "ticks": ""
            },
            "colorscale": [
             [
              0,
              "#0d0887"
             ],
             [
              0.1111111111111111,
              "#46039f"
             ],
             [
              0.2222222222222222,
              "#7201a8"
             ],
             [
              0.3333333333333333,
              "#9c179e"
             ],
             [
              0.4444444444444444,
              "#bd3786"
             ],
             [
              0.5555555555555556,
              "#d8576b"
             ],
             [
              0.6666666666666666,
              "#ed7953"
             ],
             [
              0.7777777777777778,
              "#fb9f3a"
             ],
             [
              0.8888888888888888,
              "#fdca26"
             ],
             [
              1,
              "#f0f921"
             ]
            ],
            "type": "heatmapgl"
           }
          ],
          "histogram": [
           {
            "marker": {
             "pattern": {
              "fillmode": "overlay",
              "size": 10,
              "solidity": 0.2
             }
            },
            "type": "histogram"
           }
          ],
          "histogram2d": [
           {
            "colorbar": {
             "outlinewidth": 0,
             "ticks": ""
            },
            "colorscale": [
             [
              0,
              "#0d0887"
             ],
             [
              0.1111111111111111,
              "#46039f"
             ],
             [
              0.2222222222222222,
              "#7201a8"
             ],
             [
              0.3333333333333333,
              "#9c179e"
             ],
             [
              0.4444444444444444,
              "#bd3786"
             ],
             [
              0.5555555555555556,
              "#d8576b"
             ],
             [
              0.6666666666666666,
              "#ed7953"
             ],
             [
              0.7777777777777778,
              "#fb9f3a"
             ],
             [
              0.8888888888888888,
              "#fdca26"
             ],
             [
              1,
              "#f0f921"
             ]
            ],
            "type": "histogram2d"
           }
          ],
          "histogram2dcontour": [
           {
            "colorbar": {
             "outlinewidth": 0,
             "ticks": ""
            },
            "colorscale": [
             [
              0,
              "#0d0887"
             ],
             [
              0.1111111111111111,
              "#46039f"
             ],
             [
              0.2222222222222222,
              "#7201a8"
             ],
             [
              0.3333333333333333,
              "#9c179e"
             ],
             [
              0.4444444444444444,
              "#bd3786"
             ],
             [
              0.5555555555555556,
              "#d8576b"
             ],
             [
              0.6666666666666666,
              "#ed7953"
             ],
             [
              0.7777777777777778,
              "#fb9f3a"
             ],
             [
              0.8888888888888888,
              "#fdca26"
             ],
             [
              1,
              "#f0f921"
             ]
            ],
            "type": "histogram2dcontour"
           }
          ],
          "mesh3d": [
           {
            "colorbar": {
             "outlinewidth": 0,
             "ticks": ""
            },
            "type": "mesh3d"
           }
          ],
          "parcoords": [
           {
            "line": {
             "colorbar": {
              "outlinewidth": 0,
              "ticks": ""
             }
            },
            "type": "parcoords"
           }
          ],
          "pie": [
           {
            "automargin": true,
            "type": "pie"
           }
          ],
          "scatter": [
           {
            "fillpattern": {
             "fillmode": "overlay",
             "size": 10,
             "solidity": 0.2
            },
            "type": "scatter"
           }
          ],
          "scatter3d": [
           {
            "line": {
             "colorbar": {
              "outlinewidth": 0,
              "ticks": ""
             }
            },
            "marker": {
             "colorbar": {
              "outlinewidth": 0,
              "ticks": ""
             }
            },
            "type": "scatter3d"
           }
          ],
          "scattercarpet": [
           {
            "marker": {
             "colorbar": {
              "outlinewidth": 0,
              "ticks": ""
             }
            },
            "type": "scattercarpet"
           }
          ],
          "scattergeo": [
           {
            "marker": {
             "colorbar": {
              "outlinewidth": 0,
              "ticks": ""
             }
            },
            "type": "scattergeo"
           }
          ],
          "scattergl": [
           {
            "marker": {
             "colorbar": {
              "outlinewidth": 0,
              "ticks": ""
             }
            },
            "type": "scattergl"
           }
          ],
          "scattermapbox": [
           {
            "marker": {
             "colorbar": {
              "outlinewidth": 0,
              "ticks": ""
             }
            },
            "type": "scattermapbox"
           }
          ],
          "scatterpolar": [
           {
            "marker": {
             "colorbar": {
              "outlinewidth": 0,
              "ticks": ""
             }
            },
            "type": "scatterpolar"
           }
          ],
          "scatterpolargl": [
           {
            "marker": {
             "colorbar": {
              "outlinewidth": 0,
              "ticks": ""
             }
            },
            "type": "scatterpolargl"
           }
          ],
          "scatterternary": [
           {
            "marker": {
             "colorbar": {
              "outlinewidth": 0,
              "ticks": ""
             }
            },
            "type": "scatterternary"
           }
          ],
          "surface": [
           {
            "colorbar": {
             "outlinewidth": 0,
             "ticks": ""
            },
            "colorscale": [
             [
              0,
              "#0d0887"
             ],
             [
              0.1111111111111111,
              "#46039f"
             ],
             [
              0.2222222222222222,
              "#7201a8"
             ],
             [
              0.3333333333333333,
              "#9c179e"
             ],
             [
              0.4444444444444444,
              "#bd3786"
             ],
             [
              0.5555555555555556,
              "#d8576b"
             ],
             [
              0.6666666666666666,
              "#ed7953"
             ],
             [
              0.7777777777777778,
              "#fb9f3a"
             ],
             [
              0.8888888888888888,
              "#fdca26"
             ],
             [
              1,
              "#f0f921"
             ]
            ],
            "type": "surface"
           }
          ],
          "table": [
           {
            "cells": {
             "fill": {
              "color": "#EBF0F8"
             },
             "line": {
              "color": "white"
             }
            },
            "header": {
             "fill": {
              "color": "#C8D4E3"
             },
             "line": {
              "color": "white"
             }
            },
            "type": "table"
           }
          ]
         },
         "layout": {
          "annotationdefaults": {
           "arrowcolor": "#2a3f5f",
           "arrowhead": 0,
           "arrowwidth": 1
          },
          "autotypenumbers": "strict",
          "coloraxis": {
           "colorbar": {
            "outlinewidth": 0,
            "ticks": ""
           }
          },
          "colorscale": {
           "diverging": [
            [
             0,
             "#8e0152"
            ],
            [
             0.1,
             "#c51b7d"
            ],
            [
             0.2,
             "#de77ae"
            ],
            [
             0.3,
             "#f1b6da"
            ],
            [
             0.4,
             "#fde0ef"
            ],
            [
             0.5,
             "#f7f7f7"
            ],
            [
             0.6,
             "#e6f5d0"
            ],
            [
             0.7,
             "#b8e186"
            ],
            [
             0.8,
             "#7fbc41"
            ],
            [
             0.9,
             "#4d9221"
            ],
            [
             1,
             "#276419"
            ]
           ],
           "sequential": [
            [
             0,
             "#0d0887"
            ],
            [
             0.1111111111111111,
             "#46039f"
            ],
            [
             0.2222222222222222,
             "#7201a8"
            ],
            [
             0.3333333333333333,
             "#9c179e"
            ],
            [
             0.4444444444444444,
             "#bd3786"
            ],
            [
             0.5555555555555556,
             "#d8576b"
            ],
            [
             0.6666666666666666,
             "#ed7953"
            ],
            [
             0.7777777777777778,
             "#fb9f3a"
            ],
            [
             0.8888888888888888,
             "#fdca26"
            ],
            [
             1,
             "#f0f921"
            ]
           ],
           "sequentialminus": [
            [
             0,
             "#0d0887"
            ],
            [
             0.1111111111111111,
             "#46039f"
            ],
            [
             0.2222222222222222,
             "#7201a8"
            ],
            [
             0.3333333333333333,
             "#9c179e"
            ],
            [
             0.4444444444444444,
             "#bd3786"
            ],
            [
             0.5555555555555556,
             "#d8576b"
            ],
            [
             0.6666666666666666,
             "#ed7953"
            ],
            [
             0.7777777777777778,
             "#fb9f3a"
            ],
            [
             0.8888888888888888,
             "#fdca26"
            ],
            [
             1,
             "#f0f921"
            ]
           ]
          },
          "colorway": [
           "#636efa",
           "#EF553B",
           "#00cc96",
           "#ab63fa",
           "#FFA15A",
           "#19d3f3",
           "#FF6692",
           "#B6E880",
           "#FF97FF",
           "#FECB52"
          ],
          "font": {
           "color": "#2a3f5f"
          },
          "geo": {
           "bgcolor": "white",
           "lakecolor": "white",
           "landcolor": "#E5ECF6",
           "showlakes": true,
           "showland": true,
           "subunitcolor": "white"
          },
          "hoverlabel": {
           "align": "left"
          },
          "hovermode": "closest",
          "mapbox": {
           "style": "light"
          },
          "paper_bgcolor": "white",
          "plot_bgcolor": "#E5ECF6",
          "polar": {
           "angularaxis": {
            "gridcolor": "white",
            "linecolor": "white",
            "ticks": ""
           },
           "bgcolor": "#E5ECF6",
           "radialaxis": {
            "gridcolor": "white",
            "linecolor": "white",
            "ticks": ""
           }
          },
          "scene": {
           "xaxis": {
            "backgroundcolor": "#E5ECF6",
            "gridcolor": "white",
            "gridwidth": 2,
            "linecolor": "white",
            "showbackground": true,
            "ticks": "",
            "zerolinecolor": "white"
           },
           "yaxis": {
            "backgroundcolor": "#E5ECF6",
            "gridcolor": "white",
            "gridwidth": 2,
            "linecolor": "white",
            "showbackground": true,
            "ticks": "",
            "zerolinecolor": "white"
           },
           "zaxis": {
            "backgroundcolor": "#E5ECF6",
            "gridcolor": "white",
            "gridwidth": 2,
            "linecolor": "white",
            "showbackground": true,
            "ticks": "",
            "zerolinecolor": "white"
           }
          },
          "shapedefaults": {
           "line": {
            "color": "#2a3f5f"
           }
          },
          "ternary": {
           "aaxis": {
            "gridcolor": "white",
            "linecolor": "white",
            "ticks": ""
           },
           "baxis": {
            "gridcolor": "white",
            "linecolor": "white",
            "ticks": ""
           },
           "bgcolor": "#E5ECF6",
           "caxis": {
            "gridcolor": "white",
            "linecolor": "white",
            "ticks": ""
           }
          },
          "title": {
           "x": 0.05
          },
          "xaxis": {
           "automargin": true,
           "gridcolor": "white",
           "linecolor": "white",
           "ticks": "",
           "title": {
            "standoff": 15
           },
           "zerolinecolor": "white",
           "zerolinewidth": 2
          },
          "yaxis": {
           "automargin": true,
           "gridcolor": "white",
           "linecolor": "white",
           "ticks": "",
           "title": {
            "standoff": 15
           },
           "zerolinecolor": "white",
           "zerolinewidth": 2
          }
         }
        },
        "title": {
         "font": {
          "color": "Black",
          "size": 22
         },
         "text": "<b>Similarity Matrix</b>",
         "x": 0.55,
         "xanchor": "center",
         "y": 0.95,
         "yanchor": "top"
        },
        "width": 800,
        "xaxis": {
         "anchor": "y",
         "constrain": "domain",
         "domain": [
          0,
          1
         ],
         "scaleanchor": "y"
        },
        "yaxis": {
         "anchor": "x",
         "autorange": "reversed",
         "constrain": "domain",
         "domain": [
          0,
          1
         ]
        }
       }
      }
     },
     "metadata": {},
     "output_type": "display_data"
    }
   ],
   "source": [
    "topic_model_negative.visualize_heatmap()"
   ]
  }
 ],
 "metadata": {
  "kernelspec": {
   "display_name": "sesac",
   "language": "python",
   "name": "python3"
  },
  "language_info": {
   "codemirror_mode": {
    "name": "ipython",
    "version": 3
   },
   "file_extension": ".py",
   "mimetype": "text/x-python",
   "name": "python",
   "nbconvert_exporter": "python",
   "pygments_lexer": "ipython3",
   "version": "3.10.16"
  }
 },
 "nbformat": 4,
 "nbformat_minor": 2
}
